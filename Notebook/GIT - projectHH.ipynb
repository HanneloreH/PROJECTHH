{
 "cells": [
  {
   "cell_type": "markdown",
   "metadata": {},
   "source": [
    "# All about the GIT for PROJECTHH"
   ]
  },
  {
   "cell_type": "markdown",
   "metadata": {},
   "source": [
    "## 15/11/2019: Making repository and pushing first files"
   ]
  },
  {
   "cell_type": "markdown",
   "metadata": {},
   "source": [
    "Username: HanneloreH\n",
    "Email: hannelore.hamerlinck@student.howest.be\n",
    "Pswd: \"gekende\""
   ]
  },
  {
   "cell_type": "code",
   "execution_count": 1,
   "metadata": {},
   "outputs": [
    {
     "name": "stdout",
     "output_type": "stream",
     "text": [
      "Untitled.ipynb\n",
      "Initialized empty Git repository in /home/hannelore/PROJECTHH/.git/\n",
      "[master (root-commit) 87dace5] readme\n",
      " Committer: Hannelore <hannelore@localhost.localdomain>\n",
      "Your name and email address were configured automatically based\n",
      "on your username and hostname. Please check that they are accurate.\n",
      "You can suppress this message by setting them explicitly. Run the\n",
      "following command and follow the instructions in your editor to edit\n",
      "your configuration file:\n",
      "\n",
      "    git config --global --edit\n",
      "\n",
      "After doing this, you may fix the identity used for this commit with:\n",
      "\n",
      "    git commit --amend --reset-author\n",
      "\n",
      " 1 file changed, 1 insertion(+)\n",
      " create mode 100644 readme.txt\n"
     ]
    }
   ],
   "source": [
    "ls\n",
    "gedit readme.txt\n",
    "git init #only to create\n",
    "git add readme.txt\n",
    "git commit -m readme"
   ]
  },
  {
   "cell_type": "code",
   "execution_count": 2,
   "metadata": {},
   "outputs": [
    {
     "name": "stdout",
     "output_type": "stream",
     "text": [
      "On branch master\n",
      "Untracked files:\n",
      "  (use \"git add <file>...\" to include in what will be committed)\n",
      "\n",
      "\t\u001b[31m.ipynb_checkpoints/\u001b[m\n",
      "\t\u001b[31mUntitled.ipynb\u001b[m\n",
      "\n",
      "nothing added to commit but untracked files present (use \"git add\" to track)\n"
     ]
    }
   ],
   "source": [
    "git status"
   ]
  },
  {
   "cell_type": "code",
   "execution_count": 4,
   "metadata": {},
   "outputs": [
    {
     "name": "stdout",
     "output_type": "stream",
     "text": [
      "fatal: remote origin already exists.\n",
      "Username for 'https://github.com': \n"
     ]
    }
   ],
   "source": [
    "git remote add origin https://github.com/HanneloreH/PROJECTHH.git\n",
    "#doesn't work in jupyter? omdat je username en paswoord moet ingeven, doen in terminal zelf?"
   ]
  },
  {
   "cell_type": "code",
   "execution_count": null,
   "metadata": {},
   "outputs": [],
   "source": [
    "git push -u origin master "
   ]
  },
  {
   "cell_type": "markdown",
   "metadata": {},
   "source": [
    "REMARK: \n",
    "Because of troubles, tried in terminal:\n",
    "same with readme2.txt -> now ok\n",
    "RETRY: jupyter"
   ]
  },
  {
   "cell_type": "code",
   "execution_count": 5,
   "metadata": {},
   "outputs": [
    {
     "name": "stdout",
     "output_type": "stream",
     "text": [
      "[master bd97c57] test\n",
      " Committer: Hannelore <hannelore@localhost.localdomain>\n",
      "Your name and email address were configured automatically based\n",
      "on your username and hostname. Please check that they are accurate.\n",
      "You can suppress this message by setting them explicitly. Run the\n",
      "following command and follow the instructions in your editor to edit\n",
      "your configuration file:\n",
      "\n",
      "    git config --global --edit\n",
      "\n",
      "After doing this, you may fix the identity used for this commit with:\n",
      "\n",
      "    git commit --amend --reset-author\n",
      "\n",
      " 1 file changed, 1 insertion(+)\n",
      " create mode 100644 test.txt\n",
      "Username for 'https://github.com': \n"
     ]
    }
   ],
   "source": [
    "gedit test.txt\n",
    "git add test.txt\n",
    "git commit -m test\n",
    "git push -u origin master "
   ]
  },
  {
   "cell_type": "code",
   "execution_count": null,
   "metadata": {},
   "outputs": [
    {
     "name": "stdout",
     "output_type": "stream",
     "text": [
      "hint: Waiting for your editor to close the file... \u001b[?1049h\u001b[22;0;0t\u001b[>4;2m\u001b[?1h\u001b=\u001b[?2004h\u001b[1;24r\u001b[?12h\u001b[?12l\u001b[27m\u001b[23m\u001b[29m\u001b[m\u001b[H\u001b[2J\u001b[?25l\u001b[24;1H\"~/.gitconfig\" 5L, 163C\u001b[2;1H▽\u001b[6n\u001b[2;1H  \u001b[1;1H\u001b[>c\u001b]11;?\u0007\u001b[1;1H# This is Git's per-user configuration file.\n",
      "[user]\n",
      "# Please adapt and uncomment the following lines:\n",
      "#\u001b[7Cname = Hannelore\n",
      "#\u001b[7Cemail = hannelore@localhost.localdomain\n"
     ]
    }
   ],
   "source": [
    "#do this in the terminal! -> only gives local username\n",
    "git config --global --edit"
   ]
  },
  {
   "cell_type": "code",
   "execution_count": 1,
   "metadata": {},
   "outputs": [],
   "source": [
    "#create a gitignore file\n",
    "gedit .gitignore  #put paths in here you DON'T want to include in the github"
   ]
  },
  {
   "cell_type": "code",
   "execution_count": 5,
   "metadata": {},
   "outputs": [
    {
     "name": "stdout",
     "output_type": "stream",
     "text": [
      "On branch master\n",
      "Your branch is ahead of 'origin/master' by 1 commit.\n",
      "  (use \"git push\" to publish your local commits)\n",
      "\n",
      "Changes to be committed:\n",
      "  (use \"git reset HEAD <file>...\" to unstage)\n",
      "\n",
      "\t\u001b[32mnew file:   .gitignore\u001b[m\n",
      "\t\u001b[32mnew file:   .ipynb_checkpoints/GIT - projectHH-checkpoint.ipynb\u001b[m\n",
      "\t\u001b[32mnew file:   GIT - projectHH.ipynb\u001b[m\n",
      "\n",
      "On branch master\n",
      "Your branch is ahead of 'origin/master' by 1 commit.\n",
      "  (use \"git push\" to publish your local commits)\n",
      "\n",
      "Changes to be committed:\n",
      "  (use \"git reset HEAD <file>...\" to unstage)\n",
      "\n",
      "\t\u001b[32mnew file:   .gitignore\u001b[m\n",
      "\t\u001b[32mnew file:   .ipynb_checkpoints/GIT - projectHH-checkpoint.ipynb\u001b[m\n",
      "\t\u001b[32mnew file:   GIT - projectHH.ipynb\u001b[m\n",
      "\n",
      "[master f9ab496] test\n",
      " Committer: Hannelore <hannelore@localhost.localdomain>\n",
      "Your name and email address were configured automatically based\n",
      "on your username and hostname. Please check that they are accurate.\n",
      "You can suppress this message by setting them explicitly:\n",
      "\n",
      "    git config --global user.name \"Your Name\"\n",
      "    git config --global user.email you@example.com\n",
      "\n",
      "After doing this, you may fix the identity used for this commit with:\n",
      "\n",
      "    git commit --amend --reset-author\n",
      "\n",
      " 3 files changed, 243 insertions(+)\n",
      " create mode 100644 .gitignore\n",
      " create mode 100644 .ipynb_checkpoints/GIT - projectHH-checkpoint.ipynb\n",
      " create mode 100644 GIT - projectHH.ipynb\n",
      "\u001b[33mcommit f9ab496127a327b249942a8efe4181bf59b61a62\u001b[m\u001b[33m (\u001b[m\u001b[1;36mHEAD -> \u001b[m\u001b[1;32mmaster\u001b[m\u001b[33m)\u001b[m\n",
      "Author: Hannelore <hannelore@localhost.localdomain>\n",
      "Date:   Fri Nov 15 13:27:55 2019 +0100\n",
      "\n",
      "    test\n",
      "\n",
      "\u001b[33mcommit bd97c57a4dcf2d688b9ffb0b80b06f2e65c78ac6\u001b[m\n",
      "Author: Hannelore <hannelore@localhost.localdomain>\n",
      "Date:   Fri Nov 15 13:19:44 2019 +0100\n",
      "\n",
      "    test\n",
      "\n",
      "\u001b[33mcommit b7734e7d76841e7788114577ea9f713ba7a47149\u001b[m\u001b[33m (\u001b[m\u001b[1;31morigin/master\u001b[m\u001b[33m)\u001b[m\n",
      "Author: Hannelore <hannelore@localhost.localdomain>\n",
      "Date:   Fri Nov 15 13:15:55 2019 +0100\n",
      "\n",
      "    readme2\n",
      "\n",
      "\u001b[33mcommit 87dace5c16cc4e46c4e5b0bd9d8df25b050e19b6\u001b[m\n",
      "Author: Hannelore <hannelore@localhost.localdomain>\n",
      "Date:   Fri Nov 15 13:10:48 2019 +0100\n",
      "\n",
      "    readme\n"
     ]
    }
   ],
   "source": [
    "git status\n",
    "git add . #everythin in the directory\n",
    "git status\n",
    "git commit -m \"test\"\n",
    "git log #log van alles wat er gebeurd"
   ]
  },
  {
   "cell_type": "markdown",
   "metadata": {},
   "source": [
    "Search your key (see github page > Your profile > edit profile > SSH and GPG keys)\n",
    "-> generate a key\n",
    "( With SSH keys, you can connect to GitHub without supplying your username or password at each visit.)\n",
    "\n",
    "NOT IN JUPYTER, in terminal itself because you need to fill in text:\n",
    "ssh-keygen -t rsa -b 4096 -C \"hannelore.hamerlinck@hotmail.com\"\n",
    "\n",
    "Website for information: https://help.github.com/en/github/authenticating-to-github/generating-a-new-ssh-key-and-adding-it-to-the-ssh-agent\n",
    "\n",
    "Further:\n",
    "$ ssh-add ~/.ssh/id_rsa\n",
    "$ cd ~/.ssh\n",
    "$ gedit id_rsa.pub \n",
    "\n",
    "Then copy that key into the github key-page as new ssh key\n",
    "BUT needs to connect(?) Still aking for username/password..."
   ]
  },
  {
   "cell_type": "markdown",
   "metadata": {},
   "source": [
    "## 22/11/2019"
   ]
  },
  {
   "cell_type": "code",
   "execution_count": null,
   "metadata": {},
   "outputs": [],
   "source": [
    "## New GIT ADD 22/11/2019\n",
    "#BASH: git add .\n",
    "#BASH: git commit -m \"22/11 Defining input-output-tools + getting raw data\"\n",
    "#BASH: git push -u origin master "
   ]
  },
  {
   "cell_type": "markdown",
   "metadata": {},
   "source": [
    "## 15/01/2020"
   ]
  },
  {
   "cell_type": "code",
   "execution_count": null,
   "metadata": {},
   "outputs": [],
   "source": [
    "## New GIT ADD 15/01/2020\n",
    "#BASH: git add .\n",
    "#BASH: git commit -m \"15/01 Chewbbaca tutorial and problems\"\n",
    "#BASH: git push -u origin master "
   ]
  },
  {
   "cell_type": "markdown",
   "metadata": {},
   "source": [
    "## 11/03/2020\n"
   ]
  },
  {
   "cell_type": "code",
   "execution_count": null,
   "metadata": {},
   "outputs": [],
   "source": [
    "## New GIT ADD 11/03/2020\n",
    "#BASH: git add .\n",
    "#BASH: git commit -m \"11/03 Chewbbaca real data p1\"\n",
    "#BASH: git push -u origin master \n"
   ]
  },
  {
   "cell_type": "markdown",
   "metadata": {},
   "source": [
    "PROBLEM\n",
    "remote: Permission to mickaelsilva/prodigal_training_files.git denied to HanneloreH.\n",
    "fatal: unable to access 'https://github.com/mickaelsilva/prodigal_training_files/': The requested URL returned error: 403\n",
    "\n",
    "edited .gitignore with path to the files"
   ]
  },
  {
   "cell_type": "code",
   "execution_count": null,
   "metadata": {},
   "outputs": [],
   "source": [
    "### 12/03/2020"
   ]
  },
  {
   "cell_type": "code",
   "execution_count": null,
   "metadata": {},
   "outputs": [],
   "source": [
    "## New GIT ADD 12/03/2020\n",
    "#BASH: git add .\n",
    "#BASH: git commit -m \"12/03 wgMLST\"\n",
    "#BASH: git push -u origin master \n",
    "#PROBLEMS with files in temp folder of chewBBACA run1, tried to put this in gitignore, but did not work -> removed the files"
   ]
  },
  {
   "cell_type": "markdown",
   "metadata": {},
   "source": [
    "### 23/03/2020\n",
    "If you want to ignore a file that is already checked in, you must untrack the file before you add a rule to ignore it. From your terminal, untrack the file.\n",
    "\n",
    "$ git rm --cached FILENAME\n",
    "\n",
    "https://help.github.com/en/github/using-git/ignoring-files\n",
    "\n",
    "\n"
   ]
  },
  {
   "cell_type": "code",
   "execution_count": null,
   "metadata": {},
   "outputs": [],
   "source": [
    "#BASH: git rm --cached *.fna #OK\n",
    "#BASH: git rm --cached *.fastq.gz #no files\n",
    "#RETRY fail: same file \n",
    "\n",
    "#BASH git rm --cached chewBBACA_run1/temp/protogenome18/proteins.xml\n",
    "#FAILED: no such file... \n",
    "\n",
    "#https://github.community/t5/How-to-use-Git-and-GitHub/Push-exceeding-the-100mb-limit/td-p/21505\n",
    "#git reset --soft HEAD^^^^^^\n",
    "#was not enoguh -> problems pushing\n",
    "\n",
    "\n",
    "#did hard reset\n",
    "#BASH: git reset --hard @{u}"
   ]
  }
 ],
 "metadata": {
  "kernelspec": {
   "display_name": "Bash",
   "language": "bash",
   "name": "bash"
  },
  "language_info": {
   "codemirror_mode": "shell",
   "file_extension": ".sh",
   "mimetype": "text/x-sh",
   "name": "bash"
  }
 },
 "nbformat": 4,
 "nbformat_minor": 2
}
