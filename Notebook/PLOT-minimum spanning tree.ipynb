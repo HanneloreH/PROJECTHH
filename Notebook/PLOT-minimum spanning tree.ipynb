{
 "cells": [
  {
   "cell_type": "markdown",
   "metadata": {},
   "source": [
    "# PLOT: minmium spanning tree\n",
    "####  Data analysis of cgMLST result table in order to make diagnostic conclusions\n",
    "Final script: \"MST.r\""
   ]
  },
  {
   "cell_type": "code",
   "execution_count": null,
   "metadata": {},
   "outputs": [],
   "source": [
    "#Adding R kernel to Jupyter\n",
    "#install.packages('IRkernel') \n",
    "#IRkernel::installspec()"
   ]
  },
  {
   "cell_type": "markdown",
   "metadata": {},
   "source": [
    "## Getting the data\n",
    "### 1) Practise data\n",
    "anomysed available data to run some tests"
   ]
  },
  {
   "cell_type": "code",
   "execution_count": null,
   "metadata": {},
   "outputs": [],
   "source": [
    "getwd()"
   ]
  },
  {
   "cell_type": "code",
   "execution_count": 32,
   "metadata": {},
   "outputs": [
    {
     "data": {
      "text/html": [
       "<style>\n",
       ".list-inline {list-style: none; margin:0; padding: 0}\n",
       ".list-inline>li {display: inline-block}\n",
       ".list-inline>li:not(:last-child)::after {content: \"\\00b7\"; padding: 0 .5ex}\n",
       "</style>\n",
       "<ol class=list-inline><li>7</li><li>3199</li></ol>\n"
      ],
      "text/latex": [
       "\\begin{enumerate*}\n",
       "\\item 7\n",
       "\\item 3199\n",
       "\\end{enumerate*}\n"
      ],
      "text/markdown": [
       "1. 7\n",
       "2. 3199\n",
       "\n",
       "\n"
      ],
      "text/plain": [
       "[1]    7 3199"
      ]
     },
     "metadata": {},
     "output_type": "display_data"
    },
    {
     "data": {
      "text/html": [
       "<table>\n",
       "<caption>A data.frame: 7 × 5</caption>\n",
       "<thead>\n",
       "\t<tr><th scope=col>FILE</th><th scope=col>GCF.001022015.protein114.fasta</th><th scope=col>GCF.001022015.protein195.fasta</th><th scope=col>GCF.001022015.protein2345.fasta</th><th scope=col>GCF.001022015.protein281.fasta</th></tr>\n",
       "\t<tr><th scope=col>&lt;chr&gt;</th><th scope=col>&lt;int&gt;</th><th scope=col>&lt;int&gt;</th><th scope=col>&lt;int&gt;</th><th scope=col>&lt;int&gt;</th></tr>\n",
       "</thead>\n",
       "<tbody>\n",
       "\t<tr><td>1-382865710.fa</td><td>27</td><td>27</td><td>26</td><td>28</td></tr>\n",
       "\t<tr><td>2-381153211.fa</td><td> 3</td><td> 3</td><td> 3</td><td>29</td></tr>\n",
       "\t<tr><td>3-385551709.fa</td><td> 3</td><td> 3</td><td> 3</td><td>29</td></tr>\n",
       "\t<tr><td>4-382034907.fa</td><td>17</td><td> 8</td><td>17</td><td>20</td></tr>\n",
       "\t<tr><td>5-389898211.fa</td><td>28</td><td>28</td><td>15</td><td>26</td></tr>\n",
       "\t<tr><td>7-381935911.fa</td><td>17</td><td> 8</td><td>17</td><td>20</td></tr>\n",
       "\t<tr><td>8-381927309.fa</td><td>27</td><td>27</td><td>26</td><td>28</td></tr>\n",
       "</tbody>\n",
       "</table>\n"
      ],
      "text/latex": [
       "A data.frame: 7 × 5\n",
       "\\begin{tabular}{lllll}\n",
       " FILE & GCF.001022015.protein114.fasta & GCF.001022015.protein195.fasta & GCF.001022015.protein2345.fasta & GCF.001022015.protein281.fasta\\\\\n",
       " <chr> & <int> & <int> & <int> & <int>\\\\\n",
       "\\hline\n",
       "\t 1-382865710.fa & 27 & 27 & 26 & 28\\\\\n",
       "\t 2-381153211.fa &  3 &  3 &  3 & 29\\\\\n",
       "\t 3-385551709.fa &  3 &  3 &  3 & 29\\\\\n",
       "\t 4-382034907.fa & 17 &  8 & 17 & 20\\\\\n",
       "\t 5-389898211.fa & 28 & 28 & 15 & 26\\\\\n",
       "\t 7-381935911.fa & 17 &  8 & 17 & 20\\\\\n",
       "\t 8-381927309.fa & 27 & 27 & 26 & 28\\\\\n",
       "\\end{tabular}\n"
      ],
      "text/markdown": [
       "\n",
       "A data.frame: 7 × 5\n",
       "\n",
       "| FILE &lt;chr&gt; | GCF.001022015.protein114.fasta &lt;int&gt; | GCF.001022015.protein195.fasta &lt;int&gt; | GCF.001022015.protein2345.fasta &lt;int&gt; | GCF.001022015.protein281.fasta &lt;int&gt; |\n",
       "|---|---|---|---|---|\n",
       "| 1-382865710.fa | 27 | 27 | 26 | 28 |\n",
       "| 2-381153211.fa |  3 |  3 |  3 | 29 |\n",
       "| 3-385551709.fa |  3 |  3 |  3 | 29 |\n",
       "| 4-382034907.fa | 17 |  8 | 17 | 20 |\n",
       "| 5-389898211.fa | 28 | 28 | 15 | 26 |\n",
       "| 7-381935911.fa | 17 |  8 | 17 | 20 |\n",
       "| 8-381927309.fa | 27 | 27 | 26 | 28 |\n",
       "\n"
      ],
      "text/plain": [
       "  FILE           GCF.001022015.protein114.fasta GCF.001022015.protein195.fasta\n",
       "1 1-382865710.fa 27                             27                            \n",
       "2 2-381153211.fa  3                              3                            \n",
       "3 3-385551709.fa  3                              3                            \n",
       "4 4-382034907.fa 17                              8                            \n",
       "5 5-389898211.fa 28                             28                            \n",
       "6 7-381935911.fa 17                              8                            \n",
       "7 8-381927309.fa 27                             27                            \n",
       "  GCF.001022015.protein2345.fasta GCF.001022015.protein281.fasta\n",
       "1 26                              28                            \n",
       "2  3                              29                            \n",
       "3  3                              29                            \n",
       "4 17                              20                            \n",
       "5 15                              26                            \n",
       "6 17                              20                            \n",
       "7 26                              28                            "
      ]
     },
     "metadata": {},
     "output_type": "display_data"
    },
    {
     "data": {
      "text/html": [
       "<style>\n",
       ".list-inline {list-style: none; margin:0; padding: 0}\n",
       ".list-inline>li {display: inline-block}\n",
       ".list-inline>li:not(:last-child)::after {content: \"\\00b7\"; padding: 0 .5ex}\n",
       "</style>\n",
       "<ol class=list-inline><li>7</li><li>7</li></ol>\n"
      ],
      "text/latex": [
       "\\begin{enumerate*}\n",
       "\\item 7\n",
       "\\item 7\n",
       "\\end{enumerate*}\n"
      ],
      "text/markdown": [
       "1. 7\n",
       "2. 7\n",
       "\n",
       "\n"
      ],
      "text/plain": [
       "[1] 7 7"
      ]
     },
     "metadata": {},
     "output_type": "display_data"
    },
    {
     "data": {
      "text/html": [
       "<table>\n",
       "<caption>A data.frame: 7 × 7</caption>\n",
       "<thead>\n",
       "\t<tr><th scope=col>Exact.name</th><th scope=col>Nr</th><th scope=col>Run.nr</th><th scope=col>Date</th><th scope=col>ST.type</th><th scope=col>txid</th><th scope=col>intials</th></tr>\n",
       "\t<tr><th scope=col>&lt;chr&gt;</th><th scope=col>&lt;int&gt;</th><th scope=col>&lt;chr&gt;</th><th scope=col>&lt;dbl&gt;</th><th scope=col>&lt;int&gt;</th><th scope=col>&lt;int&gt;</th><th scope=col>&lt;chr&gt;</th></tr>\n",
       "</thead>\n",
       "<tbody>\n",
       "\t<tr><td>1-382865710.fa</td><td>1</td><td>S56</td><td>200612</td><td>108</td><td>158836</td><td>DVL </td></tr>\n",
       "\t<tr><td>2-381153211.fa</td><td>2</td><td>S57</td><td>200612</td><td>145</td><td>158836</td><td>OL  </td></tr>\n",
       "\t<tr><td>3-385551709.fa</td><td>3</td><td>S58</td><td>200612</td><td>145</td><td>158836</td><td>OL  </td></tr>\n",
       "\t<tr><td>4-382034907.fa</td><td>4</td><td>S59</td><td>200612</td><td>133</td><td>158836</td><td>VDPA</td></tr>\n",
       "\t<tr><td>5-389898211.fa</td><td>5</td><td>S60</td><td>200613</td><td> 45</td><td>158836</td><td>VD  </td></tr>\n",
       "\t<tr><td>7-381935911.fa</td><td>7</td><td>S62</td><td>200613</td><td>133</td><td>158836</td><td>PA  </td></tr>\n",
       "\t<tr><td>8-381927309.fa</td><td>8</td><td>S63</td><td>200613</td><td>108</td><td>158836</td><td>VIC </td></tr>\n",
       "</tbody>\n",
       "</table>\n"
      ],
      "text/latex": [
       "A data.frame: 7 × 7\n",
       "\\begin{tabular}{lllllll}\n",
       " Exact.name & Nr & Run.nr & Date & ST.type & txid & intials\\\\\n",
       " <chr> & <int> & <chr> & <dbl> & <int> & <int> & <chr>\\\\\n",
       "\\hline\n",
       "\t 1-382865710.fa & 1 & S56 & 200612 & 108 & 158836 & DVL \\\\\n",
       "\t 2-381153211.fa & 2 & S57 & 200612 & 145 & 158836 & OL  \\\\\n",
       "\t 3-385551709.fa & 3 & S58 & 200612 & 145 & 158836 & OL  \\\\\n",
       "\t 4-382034907.fa & 4 & S59 & 200612 & 133 & 158836 & VDPA\\\\\n",
       "\t 5-389898211.fa & 5 & S60 & 200613 &  45 & 158836 & VD  \\\\\n",
       "\t 7-381935911.fa & 7 & S62 & 200613 & 133 & 158836 & PA  \\\\\n",
       "\t 8-381927309.fa & 8 & S63 & 200613 & 108 & 158836 & VIC \\\\\n",
       "\\end{tabular}\n"
      ],
      "text/markdown": [
       "\n",
       "A data.frame: 7 × 7\n",
       "\n",
       "| Exact.name &lt;chr&gt; | Nr &lt;int&gt; | Run.nr &lt;chr&gt; | Date &lt;dbl&gt; | ST.type &lt;int&gt; | txid &lt;int&gt; | intials &lt;chr&gt; |\n",
       "|---|---|---|---|---|---|---|\n",
       "| 1-382865710.fa | 1 | S56 | 200612 | 108 | 158836 | DVL  |\n",
       "| 2-381153211.fa | 2 | S57 | 200612 | 145 | 158836 | OL   |\n",
       "| 3-385551709.fa | 3 | S58 | 200612 | 145 | 158836 | OL   |\n",
       "| 4-382034907.fa | 4 | S59 | 200612 | 133 | 158836 | VDPA |\n",
       "| 5-389898211.fa | 5 | S60 | 200613 |  45 | 158836 | VD   |\n",
       "| 7-381935911.fa | 7 | S62 | 200613 | 133 | 158836 | PA   |\n",
       "| 8-381927309.fa | 8 | S63 | 200613 | 108 | 158836 | VIC  |\n",
       "\n"
      ],
      "text/plain": [
       "  Exact.name     Nr Run.nr Date   ST.type txid   intials\n",
       "1 1-382865710.fa 1  S56    200612 108     158836 DVL    \n",
       "2 2-381153211.fa 2  S57    200612 145     158836 OL     \n",
       "3 3-385551709.fa 3  S58    200612 145     158836 OL     \n",
       "4 4-382034907.fa 4  S59    200612 133     158836 VDPA   \n",
       "5 5-389898211.fa 5  S60    200613  45     158836 VD     \n",
       "6 7-381935911.fa 7  S62    200613 133     158836 PA     \n",
       "7 8-381927309.fa 8  S63    200613 108     158836 VIC    "
      ]
     },
     "metadata": {},
     "output_type": "display_data"
    }
   ],
   "source": [
    "setwd(\"/home/hannelore/PROJECTHH/Tools/MST\")\n",
    "cgtable <- read.csv(file = \"results_alleles-test.tsv\",\n",
    "                        sep = \"\\t\", \n",
    "                        header = TRUE, \n",
    "                        stringsAsFactors = FALSE)\n",
    "metadata <- read.csv(file = \"Metadata-test.csv\",\n",
    "                     header = TRUE, \n",
    "                     stringsAsFactors = FALSE)\n",
    "dim(cgtable)\n",
    "cgtable[,1:5]\n",
    "dim(metadata)\n",
    "metadata\n"
   ]
  },
  {
   "cell_type": "code",
   "execution_count": 36,
   "metadata": {},
   "outputs": [
    {
     "data": {
      "text/html": [
       "<table>\n",
       "<caption>A data.frame: 7 × 3</caption>\n",
       "<thead>\n",
       "\t<tr><th></th><th scope=col>GCF.001022015.protein114.fasta</th><th scope=col>GCF.001022015.protein195.fasta</th><th scope=col>GCF.001022015.protein2345.fasta</th></tr>\n",
       "\t<tr><th></th><th scope=col>&lt;int&gt;</th><th scope=col>&lt;int&gt;</th><th scope=col>&lt;int&gt;</th></tr>\n",
       "</thead>\n",
       "<tbody>\n",
       "\t<tr><th scope=row>1-382865710.fa</th><td>27</td><td>27</td><td>26</td></tr>\n",
       "\t<tr><th scope=row>2-381153211.fa</th><td> 3</td><td> 3</td><td> 3</td></tr>\n",
       "\t<tr><th scope=row>3-385551709.fa</th><td> 3</td><td> 3</td><td> 3</td></tr>\n",
       "\t<tr><th scope=row>4-382034907.fa</th><td>17</td><td> 8</td><td>17</td></tr>\n",
       "\t<tr><th scope=row>5-389898211.fa</th><td>28</td><td>28</td><td>15</td></tr>\n",
       "\t<tr><th scope=row>7-381935911.fa</th><td>17</td><td> 8</td><td>17</td></tr>\n",
       "\t<tr><th scope=row>8-381927309.fa</th><td>27</td><td>27</td><td>26</td></tr>\n",
       "</tbody>\n",
       "</table>\n"
      ],
      "text/latex": [
       "A data.frame: 7 × 3\n",
       "\\begin{tabular}{r|lll}\n",
       "  & GCF.001022015.protein114.fasta & GCF.001022015.protein195.fasta & GCF.001022015.protein2345.fasta\\\\\n",
       "  & <int> & <int> & <int>\\\\\n",
       "\\hline\n",
       "\t1-382865710.fa & 27 & 27 & 26\\\\\n",
       "\t2-381153211.fa &  3 &  3 &  3\\\\\n",
       "\t3-385551709.fa &  3 &  3 &  3\\\\\n",
       "\t4-382034907.fa & 17 &  8 & 17\\\\\n",
       "\t5-389898211.fa & 28 & 28 & 15\\\\\n",
       "\t7-381935911.fa & 17 &  8 & 17\\\\\n",
       "\t8-381927309.fa & 27 & 27 & 26\\\\\n",
       "\\end{tabular}\n"
      ],
      "text/markdown": [
       "\n",
       "A data.frame: 7 × 3\n",
       "\n",
       "| <!--/--> | GCF.001022015.protein114.fasta &lt;int&gt; | GCF.001022015.protein195.fasta &lt;int&gt; | GCF.001022015.protein2345.fasta &lt;int&gt; |\n",
       "|---|---|---|---|\n",
       "| 1-382865710.fa | 27 | 27 | 26 |\n",
       "| 2-381153211.fa |  3 |  3 |  3 |\n",
       "| 3-385551709.fa |  3 |  3 |  3 |\n",
       "| 4-382034907.fa | 17 |  8 | 17 |\n",
       "| 5-389898211.fa | 28 | 28 | 15 |\n",
       "| 7-381935911.fa | 17 |  8 | 17 |\n",
       "| 8-381927309.fa | 27 | 27 | 26 |\n",
       "\n"
      ],
      "text/plain": [
       "               GCF.001022015.protein114.fasta GCF.001022015.protein195.fasta\n",
       "1-382865710.fa 27                             27                            \n",
       "2-381153211.fa  3                              3                            \n",
       "3-385551709.fa  3                              3                            \n",
       "4-382034907.fa 17                              8                            \n",
       "5-389898211.fa 28                             28                            \n",
       "7-381935911.fa 17                              8                            \n",
       "8-381927309.fa 27                             27                            \n",
       "               GCF.001022015.protein2345.fasta\n",
       "1-382865710.fa 26                             \n",
       "2-381153211.fa  3                             \n",
       "3-385551709.fa  3                             \n",
       "4-382034907.fa 17                             \n",
       "5-389898211.fa 15                             \n",
       "7-381935911.fa 17                             \n",
       "8-381927309.fa 26                             "
      ]
     },
     "metadata": {},
     "output_type": "display_data"
    }
   ],
   "source": [
    "#Cleaning DAta\n",
    "\n",
    "#change rownames (from numbers to actual sample names)\n",
    "row.names(cgtable)<-cgtable$FILE\n",
    "#remove first column (with samples names)\n",
    "cgtable<-cgtable[,-1]\n",
    "#watch result\n",
    "cgtable[,1:3]\n"
   ]
  },
  {
   "cell_type": "markdown",
   "metadata": {},
   "source": [
    "### 2) Getting data from script"
   ]
  },
  {
   "cell_type": "code",
   "execution_count": null,
   "metadata": {},
   "outputs": [],
   "source": [
    "TODOOOOOOOOOOOOOOOOOOO"
   ]
  },
  {
   "cell_type": "markdown",
   "metadata": {},
   "source": [
    "## INTRO: Testing findings online search to make MST (minimum spanning tree) in R\n",
    "I looked into these packages and tried some commands (summary not complete)"
   ]
  },
  {
   "cell_type": "markdown",
   "metadata": {},
   "source": [
    "* 1) igraph: https://igraph.org/r/doc/graph_from_data_frame.html - problems with installing (see further)\n",
    "* 2) SIT: https://github.com/systematicinvestor/SIT - problems with installing and using SIT\n",
    "* 3) with Genind object https://grunwaldlab.github.io/poppr/reference/poppr.msn.htm - is specific for genotypes, not compatible with our analysis\n",
    "* 4) outreaktools https://sites.google.com/site/therepiproject/r-pac/about - problems installing removed from CRAN repo, because no longer maintained...\n",
    "* 5) outbreaker https://www.rdocumentation.org/packages/outbreaker/versions/1.1-8/topics/outbreaker - problems installing removed from CRAN repo, because no longer maintained...\n",
    "* 6) Minimal spanning tree http://www.smartana.co.uk/mst-tutorial/MST.html\n",
    "* ..."
   ]
  },
  {
   "cell_type": "code",
   "execution_count": 38,
   "metadata": {},
   "outputs": [
    {
     "ename": "ERROR",
     "evalue": "Error in parse(text = x, srcfile = src): <text>:11:72: unexpected symbol\n10: cgDist2<-as.matrix(dist(as.matrix(cgtable)))\n11: cgGraph <- graph_from_data_frame(cgDist2, directed=TRUE, vertices=NULL)gtable\n                                                                           ^\n",
     "output_type": "error",
     "traceback": [
      "Error in parse(text = x, srcfile = src): <text>:11:72: unexpected symbol\n10: cgDist2<-as.matrix(dist(as.matrix(cgtable)))\n11: cgGraph <- graph_from_data_frame(cgDist2, directed=TRUE, vertices=NULL)gtable\n                                                                           ^\nTraceback:\n"
     ]
    }
   ],
   "source": [
    "###GRASP OF TESTINGS\n",
    "\n",
    "#installing edgeR\n",
    "if (!requireNamespace(\"BiocManager\", quietly = TRUE))\n",
    "  install.packages(\"BiocManager\")\n",
    "BiocManager::install(\"edgeR\")\n",
    "library(edgeR)\n",
    "\n",
    "## MAKE DISTANCE MATRIX -> FOUT: neemt in rekening het nummer van de type van de loci, maar is niet nodig, moet gewoon verschil aanduiden...\n",
    "cgDist2<-as.matrix(dist(as.matrix(cgtable)))\n",
    "cgGraph <- graph_from_data_frame(cgDist2, directed=TRUE, vertices=NULL)gtable))\n",
    "dim(cgDist2)\n",
    "#creating an igraph graph from a data frame\n",
    "class (cgGraph)\n",
    "#do mst\n",
    "mst(cgGraph, weights=NULL, algorithm=NULL)\n",
    "#only text??\n",
    "\n",
    "#INSTALL SIT\n",
    "library(curl)\n",
    "library(quantmod)\n",
    "library(devtools)\n",
    "library(zoo)\n",
    "\n",
    "devtools::install_github('systematicinvestor/SIT.date')\n",
    "#tried to install manually\n",
    "curl_download('https://github.com/systematicinvestor/SIT/raw/master/SIT.tar.gz', 'sit',mode = 'wb',quiet=T)\n",
    "install.packages('sit', repos = NULL, type='source')\n",
    "\n",
    "#outbreaktools INSTALL: fail\n",
    "install.packages(\"OutbreakTools\", dependencies=TRUE)\n",
    "\n",
    "#outbreaker: fail\n",
    "g <- transGraph(cgtable, thres=0)\n",
    "\n",
    "##... many more\n"
   ]
  },
  {
   "cell_type": "markdown",
   "metadata": {},
   "source": [
    "## THE PLAN\n",
    "\n",
    "Goal: minimum spanning tree\n",
    "- undirected (no arrows)\n",
    "- weighted (edges: sizes must be known)\n",
    "- depending on distance (not adjacency)\n",
    "\n",
    "Steps:\n",
    "- input: cgMLST table\n",
    "- A. distance matrix\n",
    "- B. MST object\n",
    "\n",
    "- plotting the tree\n",
    " * weighted edgelist\n",
    " * coordinates\n",
    " * colors\n",
    "\n",
    "\n",
    "\n",
    "\n",
    "\n"
   ]
  },
  {
   "cell_type": "markdown",
   "metadata": {},
   "source": [
    "### A. DISTANCE MATRIX"
   ]
  },
  {
   "cell_type": "code",
   "execution_count": 40,
   "metadata": {},
   "outputs": [
    {
     "name": "stderr",
     "output_type": "stream",
     "text": [
      "Warning message in dist(cgtable):\n",
      "“NAs introduced by coercion”\n",
      "Warning message in dist(cgtableMAT):\n",
      "“NAs introduced by coercion”\n"
     ]
    }
   ],
   "source": [
    "## DISTANCE MATRIX (pairwise, alleles)\n",
    "cgdist1<-dist(cgtable)\n",
    "#problems because of non-compatibility\n",
    "#not fixed with converting to matrix\n",
    "cgtableMAT<-as.matrix(cgtable)\n",
    "cgdist2<-dist(cgtableMAT)"
   ]
  },
  {
   "cell_type": "code",
   "execution_count": 37,
   "metadata": {},
   "outputs": [
    {
     "data": {
      "text/html": [
       "<table>\n",
       "<caption>A matrix: 7 × 7 of type dbl</caption>\n",
       "<thead>\n",
       "\t<tr><th></th><th scope=col>1-382865710.fa</th><th scope=col>2-381153211.fa</th><th scope=col>3-385551709.fa</th><th scope=col>4-382034907.fa</th><th scope=col>5-389898211.fa</th><th scope=col>7-381935911.fa</th><th scope=col>8-381927309.fa</th></tr>\n",
       "</thead>\n",
       "<tbody>\n",
       "\t<tr><th scope=row>1-382865710.fa</th><td>   0</td><td>3163</td><td>3162</td><td>3113</td><td>3112</td><td>3114</td><td>   7</td></tr>\n",
       "\t<tr><th scope=row>2-381153211.fa</th><td>3163</td><td>   0</td><td>   6</td><td>3161</td><td>3161</td><td>3162</td><td>3163</td></tr>\n",
       "\t<tr><th scope=row>3-385551709.fa</th><td>3162</td><td>   6</td><td>   0</td><td>3161</td><td>3161</td><td>3162</td><td>3162</td></tr>\n",
       "\t<tr><th scope=row>4-382034907.fa</th><td>3113</td><td>3161</td><td>3161</td><td>   0</td><td>2874</td><td>   4</td><td>3112</td></tr>\n",
       "\t<tr><th scope=row>5-389898211.fa</th><td>3112</td><td>3161</td><td>3161</td><td>2874</td><td>   0</td><td>2875</td><td>3113</td></tr>\n",
       "\t<tr><th scope=row>7-381935911.fa</th><td>3114</td><td>3162</td><td>3162</td><td>   4</td><td>2875</td><td>   0</td><td>3114</td></tr>\n",
       "\t<tr><th scope=row>8-381927309.fa</th><td>   7</td><td>3163</td><td>3162</td><td>3112</td><td>3113</td><td>3114</td><td>   0</td></tr>\n",
       "</tbody>\n",
       "</table>\n"
      ],
      "text/latex": [
       "A matrix: 7 × 7 of type dbl\n",
       "\\begin{tabular}{r|lllllll}\n",
       "  & 1-382865710.fa & 2-381153211.fa & 3-385551709.fa & 4-382034907.fa & 5-389898211.fa & 7-381935911.fa & 8-381927309.fa\\\\\n",
       "\\hline\n",
       "\t1-382865710.fa &    0 & 3163 & 3162 & 3113 & 3112 & 3114 &    7\\\\\n",
       "\t2-381153211.fa & 3163 &    0 &    6 & 3161 & 3161 & 3162 & 3163\\\\\n",
       "\t3-385551709.fa & 3162 &    6 &    0 & 3161 & 3161 & 3162 & 3162\\\\\n",
       "\t4-382034907.fa & 3113 & 3161 & 3161 &    0 & 2874 &    4 & 3112\\\\\n",
       "\t5-389898211.fa & 3112 & 3161 & 3161 & 2874 &    0 & 2875 & 3113\\\\\n",
       "\t7-381935911.fa & 3114 & 3162 & 3162 &    4 & 2875 &    0 & 3114\\\\\n",
       "\t8-381927309.fa &    7 & 3163 & 3162 & 3112 & 3113 & 3114 &    0\\\\\n",
       "\\end{tabular}\n"
      ],
      "text/markdown": [
       "\n",
       "A matrix: 7 × 7 of type dbl\n",
       "\n",
       "| <!--/--> | 1-382865710.fa | 2-381153211.fa | 3-385551709.fa | 4-382034907.fa | 5-389898211.fa | 7-381935911.fa | 8-381927309.fa |\n",
       "|---|---|---|---|---|---|---|---|\n",
       "| 1-382865710.fa |    0 | 3163 | 3162 | 3113 | 3112 | 3114 |    7 |\n",
       "| 2-381153211.fa | 3163 |    0 |    6 | 3161 | 3161 | 3162 | 3163 |\n",
       "| 3-385551709.fa | 3162 |    6 |    0 | 3161 | 3161 | 3162 | 3162 |\n",
       "| 4-382034907.fa | 3113 | 3161 | 3161 |    0 | 2874 |    4 | 3112 |\n",
       "| 5-389898211.fa | 3112 | 3161 | 3161 | 2874 |    0 | 2875 | 3113 |\n",
       "| 7-381935911.fa | 3114 | 3162 | 3162 |    4 | 2875 |    0 | 3114 |\n",
       "| 8-381927309.fa |    7 | 3163 | 3162 | 3112 | 3113 | 3114 |    0 |\n",
       "\n"
      ],
      "text/plain": [
       "               1-382865710.fa 2-381153211.fa 3-385551709.fa 4-382034907.fa\n",
       "1-382865710.fa    0           3163           3162           3113          \n",
       "2-381153211.fa 3163              0              6           3161          \n",
       "3-385551709.fa 3162              6              0           3161          \n",
       "4-382034907.fa 3113           3161           3161              0          \n",
       "5-389898211.fa 3112           3161           3161           2874          \n",
       "7-381935911.fa 3114           3162           3162              4          \n",
       "8-381927309.fa    7           3163           3162           3112          \n",
       "               5-389898211.fa 7-381935911.fa 8-381927309.fa\n",
       "1-382865710.fa 3112           3114              7          \n",
       "2-381153211.fa 3161           3162           3163          \n",
       "3-385551709.fa 3161           3162           3162          \n",
       "4-382034907.fa 2874              4           3112          \n",
       "5-389898211.fa    0           2875           3113          \n",
       "7-381935911.fa 2875              0           3114          \n",
       "8-381927309.fa 3113           3114              0          "
      ]
     },
     "metadata": {},
     "output_type": "display_data"
    }
   ],
   "source": [
    "#! Can't use normal distance matrix because you want absolute numbers of alleles -> use dist.gene from ape-package\n",
    "library(ape)\n",
    "cgmatrix <- as.matrix(cgtable)\n",
    "cgdist <-dist.gene(cgmatrix, method= \"pairwise\", pairwise.deletion=FALSE)\n",
    "cgdistMAT<-as.matrix(cgdist)\n",
    "cgdistMAT\n",
    "\n",
    "#remakr some tools for mst analysis require adjacency matrix !! Make sure you get the distance based tool \n",
    "#-> has reversed effect on plot#"
   ]
  },
  {
   "cell_type": "markdown",
   "metadata": {},
   "source": [
    "### B. MST object"
   ]
  },
  {
   "cell_type": "code",
   "execution_count": null,
   "metadata": {},
   "outputs": [],
   "source": [
    "#with igraph (1) installing\n",
    "\n",
    "#but problems installing in centos (no problem in windows)\n",
    "library(igraph) #only for windows/MAC not linux...!!\n",
    "\n",
    "#FIX: https://github.com/igraph/rigraph/issues/213\n",
    "#This is because my CentOS system does not contain libiconv.so.2 shared library.\n",
    "--- BASH\n",
    "wget https://ftp.gnu.org/pub/gnu/libiconv/libiconv-1.15.tar.gz\n",
    "tar -zxvf libiconv-1.15.tar.gz\n",
    "cd libiconv-1.15\n",
    "./configure --prefix=/usr/local\n",
    "make\n",
    "make install\n",
    "export LD_LIBRARY_PATH=/usr/local/lib:$LD_LIBRARY_PATH\n",
    "---\n",
    "#fail...\n",
    "\n",
    "#FIX2\n",
    "--- BASH\n",
    "yum install libxml2-devel\n",
    "---\n",
    "#fail...\n",
    "\n",
    "#FIX3\n",
    "--- BASH\n",
    "yum install gcc-gfortran\n",
    "---\n",
    "#fail (was reeds geïnstalleerd)\n",
    "\n",
    "\n",
    "#FIX4\n",
    "#install binary\n",
    "install.packages(\"igraph\", type = \"binary\")\n",
    "#doesn't work on this system(?)\n",
    "\n",
    "\n",
    "#FIX5: error names libiconv.so.2\n",
    "#install\n",
    "---BASH\n",
    "cd /usr/local/src\n",
    "wget http://ftp.gnu.org/pub/gnu/libiconv/libiconv-1.14.tar.gz\n",
    "tar -zxvf libiconv-1.14.tar.gz\n",
    "cd libiconv-1.14\n",
    "Configuration\n",
    "./configure --prefix=/usr/local/libiconv\n",
    " Compile\n",
    "make\n",
    " Install\n",
    "make install\n",
    " Establish flexible connections\n",
    "ln -s /usr/local/lib/libiconv.so /usr/lib\n",
    "ln -s /usr/local/lib/libiconv.so.2 /usr/lib\n",
    "---\n",
    "\n",
    "#FIX6: error names libicui18n.so\n",
    "#install\n",
    "sudo yum isntall libicu\n",
    "#already installed\n",
    "\n",
    "--- \n",
    "\n",
    "#FIX7: openssl\n",
    "sudo yum install openssl-devel\n",
    "\n",
    "#FIX8: curl\n",
    "sudo yum install curl\n",
    "#was installed, nu upgraded\n",
    "R: install.packages(\"RCurl)\")\n",
    "\n",
    "#FIX9:https://thecoatlessprofessor.com/programming/r/r-and-rstudio-in-a-secured-environment-on-centos-7/\n",
    "\n",
    "..\n",
    "\n",
    "#FIX: ICU4c\n",
    "#https://github.com/r-lib/xml2/issues/219\n",
    "\n",
    "# wget https://github.com/unicode-org/icu/releases/download/release-64-2/icu4c-64_2-src.tgz\n",
    "# tar xvfz icu4c-64_2-src.tgz\n",
    "# cd icu/source\n",
    "# ./configure --prefix=/usr/local/icu4c/64_2 --enable-icu-config\n",
    "# make\n",
    "# make install\n",
    "\n",
    "---------------------------------------------------------------------\n",
    "\n",
    "#ŗemark wanted to install igraph via github with devtools but also can not install devtools package...\n"
   ]
  },
  {
   "cell_type": "code",
   "execution_count": null,
   "metadata": {},
   "outputs": [],
   "source": [
    "#with igraph (2) executing\n",
    "\n",
    "#code (DONE IN WINDOWS)\n",
    "\n",
    "#you need an edgelist:\n",
    "#WEIGHTED EDGELIST\n",
    "library(reshape2)\n",
    "arcs<-as.matrix(melt(cgdistMAT))\n",
    "arcs[1:5,]\n",
    "#3 columns, third = weights\n",
    "\n",
    "#create graph\n",
    "G = graph.data.frame(arcs[,1:2], directed=FALSE) #make graph from edges, not weights\n",
    "cgmst1 <- minimum.spanning.tree(G)\n",
    "cgmst1\n",
    "cgmst1MAT <- as.matrix(cgmst1)"
   ]
  },
  {
   "cell_type": "code",
   "execution_count": 5,
   "metadata": {},
   "outputs": [
    {
     "data": {
      "text/plain": [
       "  1 2 3 4 5 6 7\n",
       "1 0 0 0 0 1 0 1\n",
       "2 0 0 1 0 1 0 0\n",
       "3 0 1 0 0 0 0 0\n",
       "4 0 0 0 0 1 1 0\n",
       "5 1 1 0 1 0 0 0\n",
       "6 0 0 0 1 0 0 0\n",
       "7 1 0 0 0 0 0 0\n",
       "attr(,\"class\")\n",
       "[1] \"mst\""
      ]
     },
     "metadata": {},
     "output_type": "display_data"
    }
   ],
   "source": [
    "#with ape>mst\n",
    "library(ape)\n",
    "cgmst2 <- mst(as.matrix(cgdist))\n",
    "#options: graph = circle of graph =nsca (non-symmetrix)\n",
    "cgmst2\n",
    "cgmst2MAT <- as.matrix(cgmst2)"
   ]
  },
  {
   "cell_type": "code",
   "execution_count": 38,
   "metadata": {},
   "outputs": [
    {
     "name": "stdout",
     "output_type": "stream",
     "text": [
      "4 edges found so far.\n",
      "42 cumulative base cases.\n",
      "0 cumulative node combinations scored.\n",
      "6 edges found so far.\n",
      "74 cumulative base cases.\n",
      "0 cumulative node combinations scored.\n",
      "Total spanning tree length: 15885.4\n"
     ]
    },
    {
     "data": {
      "text/html": [
       "<table>\n",
       "<caption>A MST: 7 × 10</caption>\n",
       "<thead>\n",
       "\t<tr><th scope=col>X1.382865710.fa</th><th scope=col>X2.381153211.fa</th><th scope=col>X3.385551709.fa</th><th scope=col>X4.382034907.fa</th><th scope=col>X5.389898211.fa</th><th scope=col>X7.381935911.fa</th><th scope=col>X8.381927309.fa</th><th scope=col>from</th><th scope=col>to</th><th scope=col>distance</th></tr>\n",
       "\t<tr><th scope=col>&lt;dbl&gt;</th><th scope=col>&lt;dbl&gt;</th><th scope=col>&lt;dbl&gt;</th><th scope=col>&lt;dbl&gt;</th><th scope=col>&lt;dbl&gt;</th><th scope=col>&lt;dbl&gt;</th><th scope=col>&lt;dbl&gt;</th><th scope=col>&lt;dbl&gt;</th><th scope=col>&lt;dbl&gt;</th><th scope=col>&lt;dbl&gt;</th></tr>\n",
       "</thead>\n",
       "<tbody>\n",
       "\t<tr><td>   0</td><td>3163</td><td>3162</td><td>3113</td><td>3112</td><td>3114</td><td>   7</td><td>4</td><td>6</td><td>   6.324555</td></tr>\n",
       "\t<tr><td>3163</td><td>   0</td><td>   6</td><td>3161</td><td>3161</td><td>3162</td><td>3163</td><td>2</td><td>3</td><td>   8.602325</td></tr>\n",
       "\t<tr><td>3162</td><td>   6</td><td>   0</td><td>3161</td><td>3161</td><td>3162</td><td>3162</td><td>1</td><td>7</td><td>  10.000000</td></tr>\n",
       "\t<tr><td>3113</td><td>3161</td><td>3161</td><td>   0</td><td>2874</td><td>   4</td><td>3112</td><td>4</td><td>5</td><td>4976.182774</td></tr>\n",
       "\t<tr><td>3112</td><td>3161</td><td>3161</td><td>2874</td><td>   0</td><td>2875</td><td>3113</td><td>1</td><td>5</td><td>5397.274405</td></tr>\n",
       "\t<tr><td>3114</td><td>3162</td><td>3162</td><td>   4</td><td>2875</td><td>   0</td><td>3114</td><td>3</td><td>5</td><td>5487.030709</td></tr>\n",
       "\t<tr><td>   7</td><td>3163</td><td>3162</td><td>3112</td><td>3113</td><td>3114</td><td>   0</td><td>1</td><td>1</td><td>   0.000000</td></tr>\n",
       "</tbody>\n",
       "</table>\n"
      ],
      "text/latex": [
       "A MST: 7 × 10\n",
       "\\begin{tabular}{llllllllll}\n",
       " X1.382865710.fa & X2.381153211.fa & X3.385551709.fa & X4.382034907.fa & X5.389898211.fa & X7.381935911.fa & X8.381927309.fa & from & to & distance\\\\\n",
       " <dbl> & <dbl> & <dbl> & <dbl> & <dbl> & <dbl> & <dbl> & <dbl> & <dbl> & <dbl>\\\\\n",
       "\\hline\n",
       "\t    0 & 3163 & 3162 & 3113 & 3112 & 3114 &    7 & 4 & 6 &    6.324555\\\\\n",
       "\t 3163 &    0 &    6 & 3161 & 3161 & 3162 & 3163 & 2 & 3 &    8.602325\\\\\n",
       "\t 3162 &    6 &    0 & 3161 & 3161 & 3162 & 3162 & 1 & 7 &   10.000000\\\\\n",
       "\t 3113 & 3161 & 3161 &    0 & 2874 &    4 & 3112 & 4 & 5 & 4976.182774\\\\\n",
       "\t 3112 & 3161 & 3161 & 2874 &    0 & 2875 & 3113 & 1 & 5 & 5397.274405\\\\\n",
       "\t 3114 & 3162 & 3162 &    4 & 2875 &    0 & 3114 & 3 & 5 & 5487.030709\\\\\n",
       "\t    7 & 3163 & 3162 & 3112 & 3113 & 3114 &    0 & 1 & 1 &    0.000000\\\\\n",
       "\\end{tabular}\n"
      ],
      "text/markdown": [
       "\n",
       "A MST: 7 × 10\n",
       "\n",
       "| X1.382865710.fa &lt;dbl&gt; | X2.381153211.fa &lt;dbl&gt; | X3.385551709.fa &lt;dbl&gt; | X4.382034907.fa &lt;dbl&gt; | X5.389898211.fa &lt;dbl&gt; | X7.381935911.fa &lt;dbl&gt; | X8.381927309.fa &lt;dbl&gt; | from &lt;dbl&gt; | to &lt;dbl&gt; | distance &lt;dbl&gt; |\n",
       "|---|---|---|---|---|---|---|---|---|---|\n",
       "|    0 | 3163 | 3162 | 3113 | 3112 | 3114 |    7 | 4 | 6 |    6.324555 |\n",
       "| 3163 |    0 |    6 | 3161 | 3161 | 3162 | 3163 | 2 | 3 |    8.602325 |\n",
       "| 3162 |    6 |    0 | 3161 | 3161 | 3162 | 3162 | 1 | 7 |   10.000000 |\n",
       "| 3113 | 3161 | 3161 |    0 | 2874 |    4 | 3112 | 4 | 5 | 4976.182774 |\n",
       "| 3112 | 3161 | 3161 | 2874 |    0 | 2875 | 3113 | 1 | 5 | 5397.274405 |\n",
       "| 3114 | 3162 | 3162 |    4 | 2875 |    0 | 3114 | 3 | 5 | 5487.030709 |\n",
       "|    7 | 3163 | 3162 | 3112 | 3113 | 3114 |    0 | 1 | 1 |    0.000000 |\n",
       "\n"
      ],
      "text/plain": [
       "  X1.382865710.fa X2.381153211.fa X3.385551709.fa X4.382034907.fa\n",
       "1    0            3163            3162            3113           \n",
       "2 3163               0               6            3161           \n",
       "3 3162               6               0            3161           \n",
       "4 3113            3161            3161               0           \n",
       "5 3112            3161            3161            2874           \n",
       "6 3114            3162            3162               4           \n",
       "7    7            3163            3162            3112           \n",
       "  X5.389898211.fa X7.381935911.fa X8.381927309.fa from to distance   \n",
       "1 3112            3114               7            4    6     6.324555\n",
       "2 3161            3162            3163            2    3     8.602325\n",
       "3 3161            3162            3162            1    7    10.000000\n",
       "4 2874               4            3112            4    5  4976.182774\n",
       "5    0            2875            3113            1    5  5397.274405\n",
       "6 2875               0            3114            3    5  5487.030709\n",
       "7 3113            3114               0            1    1     0.000000"
      ]
     },
     "metadata": {},
     "output_type": "display_data"
    }
   ],
   "source": [
    "#with emstree\n",
    "library(emstreeR)\n",
    "#compute mst\n",
    "cgmst3<-ComputeMST(as.matrix(cgdist))\n",
    "cgmst3\n",
    "cgmst3MAT <- as.matrix(cgmst3)\n",
    "#also includes edgelist\n"
   ]
  },
  {
   "cell_type": "code",
   "execution_count": 8,
   "metadata": {},
   "outputs": [
    {
     "data": {
      "text/html": [
       "<table>\n",
       "<caption>A matrix: 7 × 7 of type dbl</caption>\n",
       "<thead>\n",
       "\t<tr><th></th><th scope=col>1</th><th scope=col>2</th><th scope=col>3</th><th scope=col>4</th><th scope=col>5</th><th scope=col>6</th><th scope=col>7</th></tr>\n",
       "</thead>\n",
       "<tbody>\n",
       "\t<tr><th scope=row>1</th><td>0</td><td>0</td><td>0</td><td>0</td><td>0</td><td>0</td><td>1</td></tr>\n",
       "\t<tr><th scope=row>2</th><td>0</td><td>0</td><td>1</td><td>0</td><td>0</td><td>0</td><td>0</td></tr>\n",
       "\t<tr><th scope=row>3</th><td>0</td><td>1</td><td>0</td><td>1</td><td>0</td><td>0</td><td>0</td></tr>\n",
       "\t<tr><th scope=row>4</th><td>0</td><td>0</td><td>1</td><td>0</td><td>1</td><td>1</td><td>1</td></tr>\n",
       "\t<tr><th scope=row>5</th><td>0</td><td>0</td><td>0</td><td>1</td><td>0</td><td>0</td><td>0</td></tr>\n",
       "\t<tr><th scope=row>6</th><td>0</td><td>0</td><td>0</td><td>1</td><td>0</td><td>0</td><td>0</td></tr>\n",
       "\t<tr><th scope=row>7</th><td>1</td><td>0</td><td>0</td><td>1</td><td>0</td><td>0</td><td>0</td></tr>\n",
       "</tbody>\n",
       "</table>\n"
      ],
      "text/latex": [
       "A matrix: 7 × 7 of type dbl\n",
       "\\begin{tabular}{r|lllllll}\n",
       "  & 1 & 2 & 3 & 4 & 5 & 6 & 7\\\\\n",
       "\\hline\n",
       "\t1 & 0 & 0 & 0 & 0 & 0 & 0 & 1\\\\\n",
       "\t2 & 0 & 0 & 1 & 0 & 0 & 0 & 0\\\\\n",
       "\t3 & 0 & 1 & 0 & 1 & 0 & 0 & 0\\\\\n",
       "\t4 & 0 & 0 & 1 & 0 & 1 & 1 & 1\\\\\n",
       "\t5 & 0 & 0 & 0 & 1 & 0 & 0 & 0\\\\\n",
       "\t6 & 0 & 0 & 0 & 1 & 0 & 0 & 0\\\\\n",
       "\t7 & 1 & 0 & 0 & 1 & 0 & 0 & 0\\\\\n",
       "\\end{tabular}\n"
      ],
      "text/markdown": [
       "\n",
       "A matrix: 7 × 7 of type dbl\n",
       "\n",
       "| <!--/--> | 1 | 2 | 3 | 4 | 5 | 6 | 7 |\n",
       "|---|---|---|---|---|---|---|---|\n",
       "| 1 | 0 | 0 | 0 | 0 | 0 | 0 | 1 |\n",
       "| 2 | 0 | 0 | 1 | 0 | 0 | 0 | 0 |\n",
       "| 3 | 0 | 1 | 0 | 1 | 0 | 0 | 0 |\n",
       "| 4 | 0 | 0 | 1 | 0 | 1 | 1 | 1 |\n",
       "| 5 | 0 | 0 | 0 | 1 | 0 | 0 | 0 |\n",
       "| 6 | 0 | 0 | 0 | 1 | 0 | 0 | 0 |\n",
       "| 7 | 1 | 0 | 0 | 1 | 0 | 0 | 0 |\n",
       "\n"
      ],
      "text/plain": [
       "  1 2 3 4 5 6 7\n",
       "1 0 0 0 0 0 0 1\n",
       "2 0 0 1 0 0 0 0\n",
       "3 0 1 0 1 0 0 0\n",
       "4 0 0 1 0 1 1 1\n",
       "5 0 0 0 1 0 0 0\n",
       "6 0 0 0 1 0 0 0\n",
       "7 1 0 0 1 0 0 0"
      ]
     },
     "metadata": {},
     "output_type": "display_data"
    }
   ],
   "source": [
    "#with dino.mst \n",
    "#https://www.biostars.org/p/165341/\n",
    "library(fossil)\n",
    "\n",
    "cgmst4 <- dino.mst(cgdist)  \n",
    "cgmst4\n",
    "cgmst4MAT <-as.matrix(cgmst4)\n",
    "#dino-mst more realistic results but how to get this in nice plot\n"
   ]
  },
  {
   "cell_type": "code",
   "execution_count": 10,
   "metadata": {
    "scrolled": true
   },
   "outputs": [
    {
     "ename": "ERROR",
     "evalue": "Error in library(optrees): there is no package called ‘optrees’\n",
     "output_type": "error",
     "traceback": [
      "Error in library(optrees): there is no package called ‘optrees’\nTraceback:\n",
      "1. library(optrees)"
     ]
    }
   ],
   "source": [
    "#getMinimumSpanningTree\n",
    "#https://www.rdocumentation.org/packages/optrees/versions/1.0/topics/getMinimumSpanningTree\n",
    "library(optrees)\n",
    "#problem needs igraph for installmen !!! -> problem installing\n",
    "\n",
    "# Minimum cost spanning tree with several algorithms\n",
    "#WEIGHTED EDGELIST\n",
    "library(reshape2)\n",
    "arcs<-as.matrix(melt(cgdistMAT))\n",
    "#nodes = samples BUT must be labeled with number!\n",
    "nodes=1:nrow(cgtable) #then you must know number of samples\n",
    "\n",
    "cgmst5<-getMinimumSpanningTree(nodes, arcs, algorithm = \"Prim\")"
   ]
  },
  {
   "cell_type": "markdown",
   "metadata": {},
   "source": [
    "### C. PLOTTING"
   ]
  },
  {
   "cell_type": "code",
   "execution_count": 13,
   "metadata": {},
   "outputs": [
    {
     "data": {
      "text/html": [
       "<table>\n",
       "<caption>A matrix: 5 × 3 of type dbl</caption>\n",
       "<thead>\n",
       "\t<tr><th scope=col>Var1</th><th scope=col>Var2</th><th scope=col>value</th></tr>\n",
       "</thead>\n",
       "<tbody>\n",
       "\t<tr><td>1</td><td>1</td><td>   0</td></tr>\n",
       "\t<tr><td>2</td><td>1</td><td>3164</td></tr>\n",
       "\t<tr><td>3</td><td>1</td><td>3163</td></tr>\n",
       "\t<tr><td>4</td><td>1</td><td>3114</td></tr>\n",
       "\t<tr><td>5</td><td>1</td><td>3113</td></tr>\n",
       "</tbody>\n",
       "</table>\n"
      ],
      "text/latex": [
       "A matrix: 5 × 3 of type dbl\n",
       "\\begin{tabular}{lll}\n",
       " Var1 & Var2 & value\\\\\n",
       "\\hline\n",
       "\t 1 & 1 &    0\\\\\n",
       "\t 2 & 1 & 3164\\\\\n",
       "\t 3 & 1 & 3163\\\\\n",
       "\t 4 & 1 & 3114\\\\\n",
       "\t 5 & 1 & 3113\\\\\n",
       "\\end{tabular}\n"
      ],
      "text/markdown": [
       "\n",
       "A matrix: 5 × 3 of type dbl\n",
       "\n",
       "| Var1 | Var2 | value |\n",
       "|---|---|---|\n",
       "| 1 | 1 |    0 |\n",
       "| 2 | 1 | 3164 |\n",
       "| 3 | 1 | 3163 |\n",
       "| 4 | 1 | 3114 |\n",
       "| 5 | 1 | 3113 |\n",
       "\n"
      ],
      "text/plain": [
       "     Var1 Var2 value\n",
       "[1,] 1    1       0 \n",
       "[2,] 2    1    3164 \n",
       "[3,] 3    1    3163 \n",
       "[4,] 4    1    3114 \n",
       "[5,] 5    1    3113 "
      ]
     },
     "metadata": {},
     "output_type": "display_data"
    }
   ],
   "source": [
    "#WEIGHTED EDGELIST (see earlier) -> if you want to have number for the edges\n",
    "library(reshape2)\n",
    "arcs<-as.matrix(melt(cgdistMAT))\n",
    "arcs[1:5,]\n",
    "#3 columns, third = weights"
   ]
  },
  {
   "cell_type": "code",
   "execution_count": 21,
   "metadata": {},
   "outputs": [
    {
     "data": {
      "text/html": [
       "<table>\n",
       "<caption>A matrix: 7 × 2 of type dbl</caption>\n",
       "<thead>\n",
       "\t<tr><th></th><th scope=col>X</th><th scope=col>Y</th></tr>\n",
       "</thead>\n",
       "<tbody>\n",
       "\t<tr><th scope=row>1</th><td> 1460.7856</td><td> 3344.5264</td></tr>\n",
       "\t<tr><th scope=row>2</th><td>-3708.4669</td><td> -292.4584</td></tr>\n",
       "\t<tr><th scope=row>3</th><td>-3707.9993</td><td> -291.3865</td></tr>\n",
       "\t<tr><th scope=row>4</th><td> 2071.2183</td><td>-2845.5408</td></tr>\n",
       "\t<tr><th scope=row>5</th><td>  351.7918</td><td> -412.2909</td></tr>\n",
       "\t<tr><th scope=row>6</th><td> 2071.6155</td><td>-2846.9858</td></tr>\n",
       "\t<tr><th scope=row>7</th><td> 1461.0551</td><td> 3344.1361</td></tr>\n",
       "</tbody>\n",
       "</table>\n"
      ],
      "text/latex": [
       "A matrix: 7 × 2 of type dbl\n",
       "\\begin{tabular}{r|ll}\n",
       "  & X & Y\\\\\n",
       "\\hline\n",
       "\t1 &  1460.7856 &  3344.5264\\\\\n",
       "\t2 & -3708.4669 &  -292.4584\\\\\n",
       "\t3 & -3707.9993 &  -291.3865\\\\\n",
       "\t4 &  2071.2183 & -2845.5408\\\\\n",
       "\t5 &   351.7918 &  -412.2909\\\\\n",
       "\t6 &  2071.6155 & -2846.9858\\\\\n",
       "\t7 &  1461.0551 &  3344.1361\\\\\n",
       "\\end{tabular}\n"
      ],
      "text/markdown": [
       "\n",
       "A matrix: 7 × 2 of type dbl\n",
       "\n",
       "| <!--/--> | X | Y |\n",
       "|---|---|---|\n",
       "| 1 |  1460.7856 |  3344.5264 |\n",
       "| 2 | -3708.4669 |  -292.4584 |\n",
       "| 3 | -3707.9993 |  -291.3865 |\n",
       "| 4 |  2071.2183 | -2845.5408 |\n",
       "| 5 |   351.7918 |  -412.2909 |\n",
       "| 6 |  2071.6155 | -2846.9858 |\n",
       "| 7 |  1461.0551 |  3344.1361 |\n",
       "\n"
      ],
      "text/plain": [
       "  X          Y         \n",
       "1  1460.7856  3344.5264\n",
       "2 -3708.4669  -292.4584\n",
       "3 -3707.9993  -291.3865\n",
       "4  2071.2183 -2845.5408\n",
       "5   351.7918  -412.2909\n",
       "6  2071.6155 -2846.9858\n",
       "7  1461.0551  3344.1361"
      ]
     },
     "metadata": {},
     "output_type": "display_data"
    }
   ],
   "source": [
    "#PRINC. COMP analysis for coordinates\n",
    "PrinC <- prcomp(cgdistMAT)\n",
    "X= PrinC$x[, 1]\n",
    "Y= PrinC$x[, 2]\n",
    "coords = cbind(X,Y) #2D\n",
    "coords"
   ]
  },
  {
   "cell_type": "code",
   "execution_count": 9,
   "metadata": {
    "scrolled": true
   },
   "outputs": [
    {
     "data": {
      "image/png": "[encoded data removed]",
      "text/plain": [
       "plot without title"
      ]
     },
     "metadata": {
      "image/png": {
       "height": 420,
       "width": 420
      }
     },
     "output_type": "display_data"
    },
    {
     "data": {
      "image/png": "[encoded data removed]",
      "text/plain": [
       "plot without title"
      ]
     },
     "metadata": {
      "image/png": {
       "height": 420,
       "width": 420
      }
     },
     "output_type": "display_data"
    },
    {
     "data": {
      "image/png": "[encoded data removed]",
      "text/plain": [
       "plot without title"
      ]
     },
     "metadata": {
      "image/png": {
       "height": 420,
       "width": 420
      }
     },
     "output_type": "display_data"
    }
   ],
   "source": [
    "#simple plot\n",
    "#plot(cgmst1)\n",
    "plot(cgmst2)\n",
    "plot(cgmst3)\n",
    "plot(cgmst4)\n",
    "#plot(cgmst5)"
   ]
  },
  {
   "cell_type": "code",
   "execution_count": 19,
   "metadata": {},
   "outputs": [
    {
     "ename": "ERROR",
     "evalue": "Error: `data` must be a data frame, or other object coercible by `fortify()`, not an S3 object with class mst\n",
     "output_type": "error",
     "traceback": [
      "Error: `data` must be a data frame, or other object coercible by `fortify()`, not an S3 object with class mst\nTraceback:\n",
      "1. ggplot(data = cgmst2, aes(x = PrinC$x[, 1], y = PrinC$x[, 2], \n .     from = from, to = to))",
      "2. ggplot.default(data = cgmst2, aes(x = PrinC$x[, 1], y = PrinC$x[, \n .     2], from = from, to = to))",
      "3. fortify(data, ...)",
      "4. fortify.default(data, ...)",
      "5. abort(msg)",
      "6. signal_abort(cnd)"
     ]
    }
   ],
   "source": [
    "library(ggplot2)\n",
    "library(ggrepel)\n",
    "\n",
    "#PROBLEMS WITH COMPATIBILITY with ggplot: data must me data frame -> not mst-object!\n",
    "\n",
    "#cgmst2 = with ape\n",
    "ggplot(data = cgmst2, \n",
    "        #plot based on principel coordinate points\n",
    "        aes(x = PrinC$x[, 1], y = PrinC$x[, 2], \n",
    "        from = from, to = to))+ \n",
    "    geom_point()\n",
    "ggplot(data = cgmst2MAT, \n",
    "        #plot based on principel coordinate points\n",
    "        aes(x = PrinC$x[, 1], y = PrinC$x[, 2], \n",
    "        from = from, to = to))+ \n",
    "    geom_point()\n",
    "\n",
    "\n"
   ]
  },
  {
   "cell_type": "code",
   "execution_count": 24,
   "metadata": {},
   "outputs": [
    {
     "data": {
      "image/png": "[encoded data removed]",
      "text/plain": [
       "plot without title"
      ]
     },
     "metadata": {
      "image/png": {
       "height": 420,
       "width": 420
      }
     },
     "output_type": "display_data"
    }
   ],
   "source": [
    "#cgmst3 = with emstree\n",
    "ggplot(data = cgmst3, \n",
    "        #plot based on principel coordinate points\n",
    "        aes(x = PrinC$x[, 1], y = PrinC$x[, 2], \n",
    "        from = from, to = to))+ \n",
    "    geom_point()\n"
   ]
  },
  {
   "cell_type": "code",
   "execution_count": 46,
   "metadata": {},
   "outputs": [
    {
     "data": {
      "image/png": "[encoded data removed]",
      "text/plain": [
       "plot without title"
      ]
     },
     "metadata": {
      "image/png": {
       "height": 420,
       "width": 420
      }
     },
     "output_type": "display_data"
    }
   ],
   "source": [
    "#extended plot in ggplot\n",
    "library(ggplot2)\n",
    "library(ggrepel)\n",
    "\n",
    "\n",
    "Names = row.names(cgtable)\n",
    "\n",
    "    #set colours for metadata column 7\n",
    "    cgmst3$coloring <-as.factor(metadata[,7])\n",
    "    title <-colnames(metadata)[7]\n",
    "\n",
    "    ggplot(data = cgmst3, \n",
    "             #plot based on principel coordinate points\n",
    "             aes(x = PrinC$x[, 1], y = PrinC$x[, 2], \n",
    "                 from = from, to = to, color=coloring))+ \n",
    "        labs(color=title)+\n",
    "        #make sure data points are not overlapping with position_dodge2\n",
    "        geom_point(size=3,position= position_dodge2(width=100))+\n",
    "        stat_MST(colour = \"black\", linetype = 1)+ \n",
    "        geom_label_repel(aes(label = Names),\n",
    "                         box.padding   = 0.35, \n",
    "                         point.padding = 0.5,\n",
    "                         segment.color = 'grey50')+\n",
    "        labs(title=\"Minimum Spanning Tree cgMLST data\", subtitle=\"OUTB8\", \n",
    "             x=\"absolute number of allele differences\", y=\"absolute number of allele differences\")\n",
    "\n",
    "  "
   ]
  },
  {
   "cell_type": "code",
   "execution_count": null,
   "metadata": {},
   "outputs": [],
   "source": [
    "#extended plot in ggplot for every metadata column\n",
    "library(ggplot2)\n",
    "library(ggrepel)\n",
    "\n",
    "\n",
    "Names = row.names(cgtable)\n",
    "\n",
    "for (i in 1:ncol(metadata)){\n",
    "    #set colours\n",
    "    cgmst3$coloring <-as.factor(metadata[,i])\n",
    "    title <-colnames(metadata)[i]\n",
    "\n",
    "    ggplot(data = cgmst3, \n",
    "             #plot based on principel coordinate points\n",
    "             aes(x = PrinC$x[, 1], y = PrinC$x[, 2], \n",
    "                 from = from, to = to, color=coloring))+ \n",
    "        labs(color=title)+\n",
    "        #make sure data points are not overlapping with position_dodge2\n",
    "        geom_point(size=3,position= position_dodge2(width=100))+\n",
    "        stat_MST(colour = \"black\", linetype = 1)+ \n",
    "        geom_label_repel(aes(label = Names),\n",
    "                         box.padding   = 0.35, \n",
    "                         point.padding = 0.5,\n",
    "                         segment.color = 'grey50')+\n",
    "        labs(title=\"Minimum Spanning Tree cgMLST data\", subtitle=\"OUTB8\", \n",
    "             x=\"absolute number of allele differences\", y=\"absolute number of allele differences\")\n",
    "}\n",
    "\n",
    "#not visible here"
   ]
  }
 ],
 "metadata": {
  "kernelspec": {
   "display_name": "R",
   "language": "R",
   "name": "ir"
  },
  "language_info": {
   "codemirror_mode": "r",
   "file_extension": ".r",
   "mimetype": "text/x-r-source",
   "name": "R",
   "pygments_lexer": "r",
   "version": "3.6.3"
  }
 },
 "nbformat": 4,
 "nbformat_minor": 4
}
