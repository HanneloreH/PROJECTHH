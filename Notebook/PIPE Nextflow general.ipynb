{
 "cells": [
  {
   "cell_type": "markdown",
   "metadata": {},
   "source": [
    "# PIPE: Nextflow general\n",
    "\n",
    "## 12/03/2020 & 23/03 & 24/03\n",
    "\n",
    "### Installing \n",
    "Instructions from PPT BIT09-10-workflow-managers-cloud\n"
   ]
  },
  {
   "cell_type": "code",
   "execution_count": null,
   "metadata": {},
   "outputs": [],
   "source": [
    "#download https://code.visualstudio.com/download: .rpm\n",
    "#BASH: sudo yum localinstall code-1.43.0-1583783294.el7.x86_64.rpm \n"
   ]
  },
  {
   "cell_type": "code",
   "execution_count": null,
   "metadata": {},
   "outputs": [],
   "source": [
    "#BASH: cd /opt/\n",
    "#BASH: wget -qO- https://get.nextflow.io | bash\n"
   ]
  },
  {
   "cell_type": "markdown",
   "metadata": {},
   "source": [
    "ERROR: Cannot download nextflow required file -- make sure you can connect to the internet\n",
    "\n",
    "Alternatively you can try to download this file:\n",
    "    https://www.nextflow.io/releases/v20.01.0/nextflow?a=install\n",
    "\n",
    "and save it as:\n",
    "    /opt/nextflow"
   ]
  },
  {
   "cell_type": "code",
   "execution_count": null,
   "metadata": {},
   "outputs": [],
   "source": [
    "# Move nextflow file to directory accessible by $PATH variable or symbolic link (optional) \n",
    "#BASH: cd /usr/local/bin\n",
    "#BASH: sudo ln -s /opt/nextflow nextflow\n"
   ]
  },
  {
   "cell_type": "markdown",
   "metadata": {},
   "source": [
    "Get already exisint pipeline:\n",
    "MAG: https://github.com/nf-core/mag"
   ]
  },
  {
   "cell_type": "code",
   "execution_count": null,
   "metadata": {},
   "outputs": [],
   "source": [
    "#GITHUB: fork the code and download it (zip)\n",
    "#download necessary software OR work in docker/...: DOCKER:https://docs.docker.com/install/linux/docker-ce/fedora/#prerequisites\n",
    "#BASH: sudo dnf -y install dnf-plugins-core\n",
    "#BASH: sudo dnf config-manager \\--add-repo \\https://download.docker.com/linux/fedora/docker-ce.repo\n",
    "#BASH: sudo dnf install docker-ce docker-ce-cli containerd.io\n",
    "#STOP: uninstall om convience script te gebruiken\n",
    "#BASH: sudo dnf remove docker docker-client docker-client-latest \n",
    "#       docker-common docker-latest docker-latest-logrotate docker-logrotate \n",
    "#       docker-selinux docker-engine-selinux docker-engine\n",
    "\n",
    "#BASH: curl -fsSL https://get.docker.com -o get-docker.sh\n",
    "#BASH: sudo sh get-docker.sh\n",
    "#BASH: sudo usermod -aG docker hannelore \n",
    "#in en uitloggen\n",
    "#BASH: sudo docker version\n",
    "#does not work anymore restart with\n",
    "#BASH: sudo service docker start\n",
    "\n",
    "#Trial\n",
    "#BASH: sudo docker run docker/whalesay cowsay boo \n",
    "#very SLOW!"
   ]
  }
 ],
 "metadata": {
  "kernelspec": {
   "display_name": "Bash",
   "language": "bash",
   "name": "bash"
  },
  "language_info": {
   "codemirror_mode": "shell",
   "file_extension": ".sh",
   "mimetype": "text/x-sh",
   "name": "bash"
  }
 },
 "nbformat": 4,
 "nbformat_minor": 2
}
