{
 "cells": [
  {
   "cell_type": "markdown",
   "metadata": {},
   "source": [
    "# Getting assembled data\n",
    "Try to download complete assembled genomes Klebsiella Pneumoniae from NCBI genome"
   ]
  },
  {
   "cell_type": "markdown",
   "metadata": {},
   "source": [
    "# REFERENCE DATA"
   ]
  },
  {
   "cell_type": "markdown",
   "metadata": {},
   "source": [
    "## 1) Get genomes with NCBI eutils : FAIL\n",
    "Tried to get the genomes with NCBI eutils but this failed because the database genome is not supported by eutils\n"
   ]
  },
  {
   "cell_type": "markdown",
   "metadata": {},
   "source": [
    "IN TERMINAL:\n",
    "\n",
    "#install eutils\n",
    "python3 --version\n",
    "\n",
    "#first get miniconda:\n",
    "#download from https://conda.io/miniconda.html  \n",
    "cd ~/Downloads/\n",
    "bash Miniconda3-latest...\n",
    "#add channels\n",
    "conda config --add channels defaults\n",
    "conda config --add channels bioconda\n",
    "conda config --add channels conda-forge\n",
    "\n",
    "\n",
    "pip3 install eutils\n",
    "#does not work\n",
    "conda install -c bioconda eutils #looking for package eutils in channel bioconda\n",
    "#no packages found\n",
    "\n",
    "sudo pip3 install eutils\n",
    "#worked :)"
   ]
  },
  {
   "cell_type": "code",
   "execution_count": 2,
   "metadata": {},
   "outputs": [],
   "source": [
    "#!/usr/bin/python\n",
    "from eutils import Client\n",
    "\n",
    "#set API\n",
    "eclient = Client(api_key=\"bccfde389fa10feecea94b5b64ef7028f309\")\n",
    "#search genomes\n",
    "genome_esearch = eclient.esearch(db='genome',term='Klebsiella pneumoniae')"
   ]
  },
  {
   "cell_type": "code",
   "execution_count": 13,
   "metadata": {},
   "outputs": [
    {
     "name": "stdout",
     "output_type": "stream",
     "text": [
      "\n",
      "\n",
      "Results of gene esearch:\n",
      "<eutils._internal.xmlfacades.esearchresult.ESearchResult object at 0x7fc7f5b1fd50>\n",
      "['__class__', '__delattr__', '__dict__', '__dir__', '__doc__', '__eq__', '__format__', '__ge__', '__getattribute__', '__gt__', '__hash__', '__init__', '__init_subclass__', '__le__', '__lt__', '__module__', '__ne__', '__new__', '__reduce__', '__reduce_ex__', '__repr__', '__setattr__', '__sizeof__', '__str__', '__subclasshook__', '__weakref__', '_root_tag', '_xml_root', 'count', 'ids', 'retmax', 'retstart', 'webenv']\n",
      "total list= [24383, 815]\n"
     ]
    }
   ],
   "source": [
    "print(\"\\n\\nResults of gene esearch:\\n{}\".format(genome_esearch))\n",
    "obj_summary_list = dir(genome_esearch)\n",
    "print(obj_summary_list)\n",
    "\n",
    "print(\"total list=\",genome_esearch.ids)\n",
    "#genome 815"
   ]
  },
  {
   "cell_type": "code",
   "execution_count": 18,
   "metadata": {},
   "outputs": [
    {
     "ename": "EutilsError",
     "evalue": "database genome is not currently supported by eutils",
     "output_type": "error",
     "traceback": [
      "\u001b[0;31m---------------------------------------------------------------------------\u001b[0m",
      "\u001b[0;31mEutilsError\u001b[0m                               Traceback (most recent call last)",
      "\u001b[0;32m<ipython-input-18-a16f3f10f64a>\u001b[0m in \u001b[0;36m<module>\u001b[0;34m\u001b[0m\n\u001b[0;32m----> 1\u001b[0;31m \u001b[0mgenome_efetch\u001b[0m \u001b[0;34m=\u001b[0m \u001b[0meclient\u001b[0m\u001b[0;34m.\u001b[0m\u001b[0mefetch\u001b[0m\u001b[0;34m(\u001b[0m\u001b[0mdb\u001b[0m\u001b[0;34m=\u001b[0m\u001b[0;34m'genome'\u001b[0m\u001b[0;34m,\u001b[0m \u001b[0mid\u001b[0m\u001b[0;34m=\u001b[0m\u001b[0mgenome_esearch\u001b[0m\u001b[0;34m.\u001b[0m\u001b[0mids\u001b[0m\u001b[0;34m[\u001b[0m\u001b[0;36m1\u001b[0m\u001b[0;34m]\u001b[0m\u001b[0;34m)\u001b[0m\u001b[0;34m\u001b[0m\u001b[0;34m\u001b[0m\u001b[0m\n\u001b[0m\u001b[1;32m      2\u001b[0m \u001b[0mprint\u001b[0m\u001b[0;34m(\u001b[0m\u001b[0mgenome_efetch\u001b[0m\u001b[0;34m)\u001b[0m\u001b[0;34m\u001b[0m\u001b[0;34m\u001b[0m\u001b[0m\n",
      "\u001b[0;32m/usr/local/lib/python3.7/site-packages/eutils/_internal/client.py\u001b[0m in \u001b[0;36mefetch\u001b[0;34m(self, db, id)\u001b[0m\n\u001b[1;32m     94\u001b[0m         \u001b[0;32mif\u001b[0m \u001b[0mdb\u001b[0m \u001b[0;32min\u001b[0m \u001b[0;34m[\u001b[0m\u001b[0;34m'pmc'\u001b[0m\u001b[0;34m]\u001b[0m\u001b[0;34m:\u001b[0m\u001b[0;34m\u001b[0m\u001b[0;34m\u001b[0m\u001b[0m\n\u001b[1;32m     95\u001b[0m             \u001b[0;32mreturn\u001b[0m \u001b[0mPubmedCentralArticleSet\u001b[0m\u001b[0;34m(\u001b[0m\u001b[0mdoc\u001b[0m\u001b[0;34m)\u001b[0m\u001b[0;34m\u001b[0m\u001b[0;34m\u001b[0m\u001b[0m\n\u001b[0;32m---> 96\u001b[0;31m         \u001b[0;32mraise\u001b[0m \u001b[0mEutilsError\u001b[0m\u001b[0;34m(\u001b[0m\u001b[0;34m'database {db} is not currently supported by eutils'\u001b[0m\u001b[0;34m.\u001b[0m\u001b[0mformat\u001b[0m\u001b[0;34m(\u001b[0m\u001b[0mdb\u001b[0m\u001b[0;34m=\u001b[0m\u001b[0mdb\u001b[0m\u001b[0;34m)\u001b[0m\u001b[0;34m)\u001b[0m\u001b[0;34m\u001b[0m\u001b[0;34m\u001b[0m\u001b[0m\n\u001b[0m\u001b[1;32m     97\u001b[0m \u001b[0;34m\u001b[0m\u001b[0m\n\u001b[1;32m     98\u001b[0m \u001b[0;34m\u001b[0m\u001b[0m\n",
      "\u001b[0;31mEutilsError\u001b[0m: database genome is not currently supported by eutils"
     ]
    }
   ],
   "source": [
    "genome_efetch = eclient.efetch(db='genome', id=genome_esearch.ids[1])\n",
    "print(genome_efetch)\n",
    "#database genome is not supported by eutils -> search new method"
   ]
  },
  {
   "cell_type": "markdown",
   "metadata": {},
   "source": [
    "\n",
    "\n",
    "## 2) Ncbi-genome-download: fail\n",
    "Used already developed tool to download all complete genomes of a species on NCBI, see github: https://github.com/kblin/ncbi-genome-download  \n",
    "\n"
   ]
  },
  {
   "cell_type": "code",
   "execution_count": null,
   "metadata": {},
   "outputs": [],
   "source": [
    "#in terminal: successfully installed\n",
    "sudo pip3 install ncbi-genome-download"
   ]
  },
  {
   "cell_type": "code",
   "execution_count": null,
   "metadata": {},
   "outputs": [],
   "source": [
    "#in terminal\n",
    "ncbi-genome-download --assembly-level complete --format fasta --genus \"Klebsiella pneumoniae\" bacteria\n",
    "#1172 complete genomen"
   ]
  },
  {
   "cell_type": "markdown",
   "metadata": {},
   "source": [
    "Resultaat 1172 complete genomen: fasta files (fna.gz)\n",
    "import os\n",
    "os.listdir(\"/home/hannelore/PROJECTHH/dataKP-assembly/bacteria\")\n",
    "\n",
    "For unknown reason only 390 genomes downloaded, enough for the trials\n",
    "\n",
    "REMARK: zijn MD5SUMS files en nog niet de echte fasta's..."
   ]
  },
  {
   "cell_type": "code",
   "execution_count": null,
   "metadata": {},
   "outputs": [],
   "source": [
    "#een specifiek tax ID:\n",
    "ncbi-genome-download --taxid 511145 bacteria"
   ]
  },
  {
   "cell_type": "code",
   "execution_count": null,
   "metadata": {},
   "outputs": [],
   "source": [
    "#RETRY/SUMMARY\n",
    "#download via ncbi-genome-download: see get assembled data\n",
    "sudo pip3 install ncbi-genome-download #install\n",
    "ncbi-genome-download --taxid 573 bacteria\n",
    "#remark downloads ALL refs: adjust:\n",
    "ncbi-genome-download --assembly-level complete bacteria --taxid 573 --format fasta\n",
    "#gives format in MD5SUM (can not use this, search fornew tool)"
   ]
  },
  {
   "cell_type": "markdown",
   "metadata": {},
   "source": [
    "## 3) in the browser : OK\n",
    "works but not good for automatic script"
   ]
  },
  {
   "cell_type": "markdown",
   "metadata": {},
   "source": [
    "download all assemblies on NCBI > Assembly\n",
    "* go to https://www.ncbi.nlm.nih.gov/assembly/\n",
    "* type txid ... in search box\n",
    "* indicate \"complete genome\" at assembly level\n",
    "* \"download assemblies\" (fasta)\n",
    "\n",
    "Entrez query: 573[txid] AND \"complete genome\"[filter] AND \"latest refseq\"[filter]"
   ]
  },
  {
   "cell_type": "markdown",
   "metadata": {},
   "source": [
    "## 4) EDirect\n",
    "\n",
    "#### E-utilities \n",
    "is an API that can be used to access PubMed and other NCBI data.\n",
    "#### EDirect \n",
    "is a set of tools that allow you to more easily use the E-utilities API in a Unix environment. (for command line!)"
   ]
  },
  {
   "cell_type": "code",
   "execution_count": null,
   "metadata": {},
   "outputs": [],
   "source": [
    "#install eutils-1\n",
    "pip3 install --user eutils\n",
    "#installation works but can not import in python script :s\n",
    "\n",
    "#install eutils-2\n",
    "pip install eutils\n",
    "#does work, also with python3 :s\n"
   ]
  },
  {
   "cell_type": "code",
   "execution_count": null,
   "metadata": {},
   "outputs": [],
   "source": [
    "#!/usr/bin/python3\n",
    "\n",
    "from eutils import Client\n",
    "\n",
    "eclient = Client(api_key=\"f7bba41c57271397bbc91985bce382bf6***\")\n",
    "print(\"\\nUsing NCBI E-utilities in Python\\n\")\n",
    "\n",
    "#does work\n",
    "gene_esearch = eclient.esearch(db='gene',term='TNF')\n",
    "#does not work\n",
    "assembly_esearch = eclient.esearch(db='assembly',term='klebsiella pneumoniae')\n",
    "#does not work\n",
    "assembly_esearch = eclient.esearch(db='assembly',term='573[txid] AND \"complete genome\"[filter] AND \"latest refseq\"[filter]')\n",
    "#does not work\n",
    "esearch -db assembly -query '573[txid] AND \"complete genome\"[filter] AND \"latest refseq\"[filter]'"
   ]
  },
  {
   "cell_type": "code",
   "execution_count": null,
   "metadata": {},
   "outputs": [],
   "source": [
    "%%bash\n",
    "#install EDirect\n",
    "#https://astrobiomike.github.io/unix/ncbi_eutils\n",
    "conda install -y -c conda-forge -c bioconda -c defaults entrez-direct\n",
    "\n",
    "#getting the accession numbers:\n",
    "cd /home/hannelore/PROJECTHH/Data/dataKP-assembly/edirect\n",
    "esearch -db assembly -query '573[txid] AND \"complete genome\"[filter] AND \"latest refseq\"[filter]' \\\n",
    "| esummary | xtract -pattern DocumentSummary -element AssemblyAccession > accessions573.txt\n",
    "\n",
    "#get 1 assembly (RefSeq)\n",
    "esearch -db assembly -query GCF_006538345.1 | elink -target nucleotide -name \\\n",
    "        assembly_nuccore_refseq | efetch -format fasta > GCF_006538345.1.fa\n",
    "        \n",
    "#get 1 assembly (genbank)\n",
    "esearch -db assembly -query GCA_006538345.1 | elink -target nucleotide -name \\\n",
    "        assembly_nuccore_insdc | efetch -format fasta > GCA_006538345.1.fa\n",
    "        \n",
    "#alternative to fetch them all:\n",
    "#Bioinf Tools: bit-dl-ncbi-assemblies\n",
    "#install\n",
    "conda install -c conda-forge -c bioconda -c astrobiomike bit python=3.7\n",
    "#get all data from file\n",
    "bit-dl-ncbi-assemblies -w accessions573.txt -f fasta -j 10\n",
    "#-j = number of donwloads in parallel\n",
    "#takes +/- 15min because a lot of references, if used in script maybe store some in database"
   ]
  },
  {
   "cell_type": "markdown",
   "metadata": {},
   "source": [
    "# TEST DATA"
   ]
  },
  {
   "cell_type": "code",
   "execution_count": null,
   "metadata": {},
   "outputs": [],
   "source": []
  }
 ],
 "metadata": {
  "kernelspec": {
   "display_name": "Python 3",
   "language": "python",
   "name": "python3"
  },
  "language_info": {
   "codemirror_mode": {
    "name": "ipython",
    "version": 3
   },
   "file_extension": ".py",
   "mimetype": "text/x-python",
   "name": "python",
   "nbconvert_exporter": "python",
   "pygments_lexer": "ipython3",
   "version": "3.6.8"
  }
 },
 "nbformat": 4,
 "nbformat_minor": 2
}
