{
 "cells": [
  {
   "cell_type": "markdown",
   "metadata": {},
   "source": [
    "# ChewBBACA tests\n",
    "\n",
    "Uitvoeren van ChewBBACA op test-data (niet- tutorial)\n",
    "https://github.com/B-UMMI/chewBBACA\n",
    "\n",
    "\n",
    "### SUMMARY of steps\n",
    "1) if necessary: create training file with prodigal\n",
    "2) Scheme creation\n",
    "    - do wgMLST on reference assemblies\n",
    "    - allele calling on the >> loci selected (with reference assemblies)\n",
    "    - Remove paralogs\n",
    "    - test quality\n",
    "    - Select loci for 95% in reference assembly (cgMLST) = CORE\n",
    "3) Allele calling assemblies of interest\n",
    "4) Optional: include "
   ]
  },
  {
   "cell_type": "markdown",
   "metadata": {},
   "source": [
    "### 1) Make sure everything is installed correctly"
   ]
  },
  {
   "cell_type": "code",
   "execution_count": null,
   "metadata": {},
   "outputs": [],
   "source": [
    "#isntall chewbbaca\n",
    "\n",
    "sudo pip3 install --user chewbbaca\n",
    "#not complete?\n",
    "\n",
    "pip install chewbbaca"
   ]
  },
  {
   "cell_type": "code",
   "execution_count": null,
   "metadata": {},
   "outputs": [],
   "source": [
    "#INSTALLING (only once) python modules\n",
    "pip3 install --user numpy\n",
    "pip3 install --user scipy\n",
    "pip3 install --user  biopython\n",
    "pip3 install --user plotly\n",
    "pip3 install --user SPARQLWrapper"
   ]
  },
  {
   "cell_type": "code",
   "execution_count": null,
   "metadata": {},
   "outputs": [],
   "source": [
    "#installing dependancies:\n",
    "#blastp\n",
    "sudo rpm -Uhv ncbi-blast-2.10.0+-4.x86_64.rpm\n",
    "\n",
    "#prodigal\n",
    "conda install -c bioconda prodigal\n",
    "\n",
    "#extra\n",
    "\n",
    "#clustalW2\n",
    "#get install tar.file: http://www.clustal.org/download/current/\n",
    "tar zvxf clustalw-2.1-linux-x86_64-libcppstatic.tar.gz \n",
    "rm clustalw-2.1-linux-x86_64-libcppstatic.tar.gz \n",
    "sudo mv clustalw-2.1-linux-x86_64-libcppstatic/ /opt/\n",
    "sudo ln -s /opt/clustalw-2.1-linux-x86_64-libcppstatic/ /usr/local/bin/clustalw\n",
    "\n",
    "#mafft\n",
    "#get rpm file: https://mafft.cbrc.jp/alignment/software/linux.html\n",
    "sudo rpm -Uvh mafft-7.464-gcc_fc6.x86_64.rpm\n"
   ]
  },
  {
   "cell_type": "code",
   "execution_count": 13,
   "metadata": {},
   "outputs": [
    {
     "name": "stdout",
     "output_type": "stream",
     "text": [
      "2.0.17.2\n",
      "\n",
      "Prodigal V2.6.3: February, 2016\n",
      "\n",
      "blastp: 2.9.0+\n",
      " Package: blast 2.9.0, build Sep 28 2019 00:38:34\n",
      "Python 3.7.4\n",
      "1.18.1\n",
      "1.4.1\n",
      "1.76\n",
      "4.5.3\n",
      "1.8.5\n"
     ]
    }
   ],
   "source": [
    "#Checking versions\n",
    "\n",
    "#chewBBACA \n",
    "chewBBACA.py --version\n",
    "#prodigal >=2.6.0\n",
    "prodigal -v\n",
    "#blast+\n",
    "blastp -version\n",
    "#python\n",
    "python --version\n",
    "\n",
    "#numpy >=1.14.0\n",
    "python -c \"import numpy; print(numpy.__version__)\"\n",
    "#scipy >=0.13.3\n",
    "python -c \"import scipy; print(scipy.__version__)\"\n",
    "#biopython >=1.7\n",
    "python -c \"import Bio; print(Bio.__version__)\"\n",
    "#plotly >=1.12.9\n",
    "python -c \"import plotly; print(plotly.__version__)\"\n",
    "#SPARQLWrapper >=1.8.0\n",
    "python -c \"import SPARQLWrapper; print(SPARQLWrapper.__version__)\"\n"
   ]
  },
  {
   "cell_type": "markdown",
   "metadata": {},
   "source": [
    "-> Ok, all installations complete"
   ]
  },
  {
   "cell_type": "markdown",
   "metadata": {},
   "source": [
    "## 2) Get species specific training files (with prodigal)\n",
    "This is needed as optional parameters for scheme creation\n",
    "\n",
    "First look if the files are available for the species your looking at"
   ]
  },
  {
   "cell_type": "code",
   "execution_count": 15,
   "metadata": {},
   "outputs": [
    {
     "name": "stdout",
     "output_type": "stream",
     "text": [
      "Cloning into 'prodigal_training_files'...\n",
      "remote: Enumerating objects: 27, done.\u001b[K\n",
      "remote: Total 27 (delta 0), reused 0 (delta 0), pack-reused 27\u001b[K\n",
      "Unpacking objects: 100% (27/27), done.\n"
     ]
    }
   ],
   "source": [
    "cd ~/PROJECTHH\n",
    "#git clone https://github.com/mickaelsilva/prodigal_training_files\n",
    "#folder created in PROJECTHH \"prodigal_training_files\"\n",
    "cd prodigal_training_files\n",
    "mkdir mickaelsilva_training_files\n",
    "mv *.trn README.md mickaelsilva_training_files"
   ]
  },
  {
   "cell_type": "markdown",
   "metadata": {},
   "source": [
    "\n",
    "OR create a new training file"
   ]
  },
  {
   "cell_type": "code",
   "execution_count": null,
   "metadata": {},
   "outputs": [],
   "source": [
    "#OUTDATED: reference genome see getting assembled data\n",
    "\n",
    "#get a reference genome\n",
    "mkdir referenceGenomes\n",
    "#BASH: pip install ncbi-genome-download\n",
    "#get all bacteria refseq genomes:\n",
    "ncbi-genome-download bacteria\n",
    "#or download it yourself e.g. https://www.ncbi.nlm.nih.gov/genome/815?genome_assembly_id=168877\n",
    "\n",
    "# create your own training file based on the refseq genome you want\n",
    "# possibility: script to search for this RefSEq number (?)\n",
    "#e.g. K. pneumoniae = https://www.genome.jp/dbget-bin/www_bget?refseq+NC_009653 = GCF_000016305.1\n",
    "#BASH: prodigal -i ~/PROJECTHH/prodigal_training_files/k-pneumoniae.fasta -t Klebsiella_pneumoniae.trn -p single"
   ]
  },
  {
   "cell_type": "code",
   "execution_count": null,
   "metadata": {},
   "outputs": [],
   "source": [
    "#Create training file in prodigal trianing mode\n",
    "\n",
    "cd /home/PROJECTHH/Tools/prodigal\n",
    "\n",
    "#example with 1 input file: prodigal -i genome1.fna -p train -t genome1.trn\n",
    "prodigal -i refDB/GCF_000364385.3.fa.gz -p train -t txid573.trn\n",
    "#invalid meta/singe genome type specified : unzip!\n",
    "gunzip refDB/GCF_000364385.3.fa.gz\n",
    "#retry1:\n",
    "prodigal -i refDB/GCF_000364385.3.fa -p train -t txid573.trn\n",
    "#Fail: input should be multiple fasta\n",
    "\n",
    "#make multifasta with 5 ref genomes\n",
    "#manually selected 5 but can be done with head/...\n",
    "gunzip *.fa.gz #unzip them\n",
    "cat GCF*.fa > multi5-txid573.fa #concatenate them\n",
    "\n",
    "#retry2\n",
    "prodigal -i refDB/multi5-txid573.fa -p train -t txid573.trn\n",
    "#still doesn't work, the train mode is written down in online communication\n",
    "#but not if doing prodigal -h -> only choices are meta and single\n",
    "\n",
    "#retry3\n",
    "prodigal -i refDB/multi5-txid573.fa -p meta -t txid573.trn\n",
    "#starts but cannot continue because not TRAINING mode \n",
    "\n",
    "#retry4 SUCCES\n",
    "prodigal -i refDB/multi5-txid573.fa -p single -t txid573.trn\n",
    "#starts and finishes :)\n"
   ]
  },
  {
   "cell_type": "markdown",
   "metadata": {},
   "source": [
    "Remark: here were 5 full genoms used to create the training file (.trn) is not nearly enogh: should use >100!\n",
    "\n",
    "OUTPUT:\n",
    "- txid573.trn"
   ]
  },
  {
   "cell_type": "markdown",
   "metadata": {},
   "source": [
    "### 3) Set up folder\n"
   ]
  },
  {
   "cell_type": "code",
   "execution_count": null,
   "metadata": {},
   "outputs": [],
   "source": [
    "cd ~/PROJECTHH\n",
    "mkdir chewBBACA_run1\n",
    "cd chewBBACA_run1\n",
    "mkdir Genomes\n",
    "mkdir schema #remove"
   ]
  },
  {
   "cell_type": "markdown",
   "metadata": {},
   "source": [
    "FOUT!! map schema mag nog niet bestaan!!!"
   ]
  },
  {
   "cell_type": "markdown",
   "metadata": {},
   "source": [
    "### 4) Check if fasta-files are in unix format\n"
   ]
  },
  {
   "cell_type": "markdown",
   "metadata": {},
   "source": [
    "Not necessary because no problem in practice"
   ]
  },
  {
   "cell_type": "markdown",
   "metadata": {},
   "source": [
    "### 5)ALTERNATIVE: external schema\n",
    "e.g. https://www.cgmlst.org/ncs/schema/2187931/ -> he FASTA files with the allele sequences for each gene of the schema have to be in a single directory."
   ]
  },
  {
   "cell_type": "code",
   "execution_count": null,
   "metadata": {},
   "outputs": [],
   "source": [
    "#convert the external schema \n",
    "#BASH: mkdir cgMLST-KP\n",
    "#BASH: cd cgMLST-KP\n",
    "#BASH: unzip ~/Downloads/wfx_mks_1.0.8.1.zip \n",
    "#BASH: chewBBACA.py PrepExternalSchema -i ~/PROJECTHH -o ~/PROJECTHH/chewBBACA_run1/schema/existingSchema"
   ]
  },
  {
   "cell_type": "markdown",
   "metadata": {},
   "source": [
    "### X Getting Full genomes for scheme creation\n",
    "### OUTDATED: see getting assembly data\n",
    "\n",
    "use first 20 of downloaded assemblies but for better results go up to 500!!!"
   ]
  },
  {
   "cell_type": "code",
   "execution_count": 2,
   "metadata": {
    "scrolled": true
   },
   "outputs": [
    {
     "name": "stdout",
     "output_type": "stream",
     "text": [
      "find: ‘standard output’: Broken pipe\n",
      "find: schrijffout\n"
     ]
    }
   ],
   "source": [
    "mkdir ~/PROJECTHH/dataKP-assembly/KP-testset20\n",
    "cd ~/PROJECTHH/dataKP-assembly/390KP_assem_fasta\n",
    "find *.fna.gz |head -20| xargs cp -t ~/PROJECTHH/dataKP-assembly/KP-testset20"
   ]
  },
  {
   "cell_type": "code",
   "execution_count": null,
   "metadata": {},
   "outputs": [],
   "source": [
    "#unzip the fasta files\n",
    "#BASH: gunzip *"
   ]
  },
  {
   "cell_type": "markdown",
   "metadata": {},
   "source": [
    "### 6) wgMLST scheme creation\n",
    "To find all loci in the defined genomes (all: this means many loci are defined)\n",
    "-> output = fasta files van alle loci (bvb 500bp lang, of 800bp lang) per proteine en per genoom (bvb. +/- 400 files per genoom)\n",
    "\n",
    "Time for 20 KP genomes:+/- 55min"
   ]
  },
  {
   "cell_type": "code",
   "execution_count": null,
   "metadata": {},
   "outputs": [],
   "source": [
    "%%bash\n",
    "\n",
    "#first try with custum trn file\n",
    "chewBBACA.py CreateSchema -i ~/PROJECTHH/dataKP-assembly/KP-testset20/ \\\n",
    "-o ~/PROJECTHH/chewBBACA_run1/schema --cpu 3 --ptf ~/PROJECTHH/prodigal_training_files/Klebsiella_pneumoniae.trn"
   ]
  },
  {
   "cell_type": "markdown",
   "metadata": {},
   "source": [
    "remark first try: error after running 40min : [Errno 17] File exists: '/home/hannelore/PROJECTHH/chewBBACA_run1/schema'\n"
   ]
  },
  {
   "cell_type": "code",
   "execution_count": null,
   "metadata": {},
   "outputs": [],
   "source": [
    "#retry1 (with own .trn file):\n",
    "chewBBACA.py CreateSchema -i Genomes-20/ -o schema --cpu 2 --ptf txid573.trn\n",
    "#finished too quickly (?) -> gunzip the reference genomes\n",
    "gunzip Genomes-20/GCF*\n",
    "\n",
    "#retry2\n",
    "chewBBACA.py CreateSchema -i Genomes-20/ -o schema --cpu 2 --ptf txid573.trn\n",
    "#succes\n"
   ]
  },
  {
   "cell_type": "markdown",
   "metadata": {},
   "source": [
    "Starting Script at : 11:35:09-26/04/2020\n",
    "Finished Script at : 12:31:04-26/04/2020\n",
    "\n",
    "\n",
    "OUTPUT:\n",
    "- defined folder (e.g. schema) with >> fasta files (the loci)\n",
    "- proteinID_Genome.tsv (= list of protein 1-... and the position in the genome)"
   ]
  },
  {
   "cell_type": "markdown",
   "metadata": {},
   "source": [
    "### 8) Allele calling for scheme optimalisation\n",
    "on the full genomes (not your data of analysis) -> to find the alleles that are present in all the genomes for the loci defined"
   ]
  },
  {
   "cell_type": "code",
   "execution_count": null,
   "metadata": {},
   "outputs": [],
   "source": [
    "%%bash\n",
    "\n",
    "chewBBACA.py AlleleCall -i Genomes-20/ -g schema/ -o allelecalling/ --cpu 3 --ptf txid573.trn"
   ]
  },
  {
   "cell_type": "markdown",
   "metadata": {},
   "source": [
    "+/- 1 hour for 20 genomes KP\n",
    "\n",
    "OUTPUT:\n",
    "seperate folder in defined output folder with:\n",
    "- logging_info.txt\n",
    "- RepeatedLoci.txt\n",
    "- results_alleles.tsv\n",
    "- results_contigsInfo.tsv\n",
    "- results_statistics.tsv"
   ]
  },
  {
   "cell_type": "code",
   "execution_count": null,
   "metadata": {},
   "outputs": [],
   "source": [
    "#to look at files install libreoffice\n",
    "#download\n",
    "#extract\n",
    "#go into folder -> untill RPMS\n",
    "sudo dnf install *.rpm\n"
   ]
  },
  {
   "cell_type": "markdown",
   "metadata": {},
   "source": [
    "### 9) Paralog detection for scheme optimalisation -> cgMLST scheme\n",
    "check if some of the loci can be considered paralogs and get loci that can be found in 95% of the analysed genomes (= cgMLST)"
   ]
  },
  {
   "cell_type": "code",
   "execution_count": null,
   "metadata": {},
   "outputs": [],
   "source": [
    "#removegenes\n",
    "chewBBACA.py RemoveGenes -i allelecalling/results_20200427T144805/results_alleles.tsv \\\n",
    "-g allelecalling/results_20200427T144805/RepeatedLoci.txt -o alleleCallMatrix_cg\n",
    "\n",
    "\n",
    "#testgenomequality\n",
    "chewBBACA.py TestGenomeQuality -i alleleCallMatrix_cg.tsv -n 13 -t 200 -s 5\n",
    "\n",
    "\n",
    "#take loci only if present in 95% for cgMLST"
   ]
  },
  {
   "cell_type": "markdown",
   "metadata": {},
   "source": [
    "OUTPUT removegenes:\n",
    "- alleleCallMatrix_cg.tsv (de matrix met verwijderde paralogen)\n",
    "\n",
    "OUTPUT testgenomequality\n",
    "- file:///home/hannelore/PROJECTHH/Tools/chewBBACA_run1/GenomeQualityPlot.html\n",
    "- Genes_95%.txt (list of all the genes)\n",
    "- RemovedGenomes.txt\n",
    "    \n",
    "->  3859 loci present in 95% of genomes  (+/-19/20)"
   ]
  },
  {
   "cell_type": "markdown",
   "metadata": {},
   "source": [
    "### 10) Remove auxillary genome\n",
    "op basis van allelecallmatrix_cg file gegenereerd\n",
    "-p = 95% (=cgMLST = in 95% van de testgenomes aanwezig)"
   ]
  },
  {
   "cell_type": "code",
   "execution_count": null,
   "metadata": {},
   "outputs": [],
   "source": [
    "%%bash\n",
    "\n",
    "#Select a subset of loci without missing data\n",
    "chewBBACA.py ExtractCgMLST -i alleleCallMatrix_cg.tsv -o cgMLST_completegenomes -p 0.95\n"
   ]
  },
  {
   "cell_type": "markdown",
   "metadata": {},
   "source": [
    "OUTPUT in command line\n",
    "deleted: 4841 loci\n",
    "total loci remaining: 3859\n",
    "\n",
    "OUTPUT:\n",
    "Folder with\n",
    "- cgMLSTschema.txt\n",
    "- cgMLST.tsv\n",
    "- mdata_stats.tsv\n",
    "- Presence_Absence.tsv"
   ]
  },
  {
   "cell_type": "markdown",
   "metadata": {},
   "source": [
    "### 11) Allele call for assemblies of interest \n",
    "= actual analysis\n",
    "- as input took 2 executed assemblies (megahit) and 10 new assemblies from the downloaded genomes NCBI = input (txid 573)"
   ]
  },
  {
   "cell_type": "code",
   "execution_count": null,
   "metadata": {},
   "outputs": [],
   "source": [
    "#use Genes_95%.txt but all loci should have full path to the fasta file\n",
    "\n",
    "#try1\n",
    "cp Genes_95%.txt to scheme folder \n",
    "#then execute allele call \n",
    "chewBBACA.py AlleleCall -i .input/ -g schema/Genes_95%.txt -o results --cpu 3 --ptf txid573.trn\n",
    "#FAIL\n",
    "\n",
    "#should add \"/home/hannelore/PROJECTHH/Tools/chewBBACA_run1/schema/\" to all in txt file\n",
    "#write script\n"
   ]
  },
  {
   "cell_type": "code",
   "execution_count": null,
   "metadata": {},
   "outputs": [],
   "source": [
    "#python script that adds extension to all elements of txt file\n",
    "#see Scripts: Adjusted_genes95%.py)\n",
    "\n",
    "#!/usr/bin/env python3\n",
    "def Addpath (file, path):\n",
    "    fil = open (file, 'r')\n",
    "    output = open(\"Genes_95%-PATH.txt\", 'w+')\n",
    "    line_count = 1\n",
    "    for line in fil:\n",
    "        for word in line.split():\n",
    "            if(line_count>3):\n",
    "                output.write(\"{}{} \".format(path,word))\n",
    "            line_count += 1\n",
    "\n",
    "    output.close()\n",
    "    fil.close()\n",
    "    \n",
    "#test: \n",
    "Addpath(\"Genes_95%.txt\", \"/home/hannelore/PROJECTHH/Tools/chewBBACA_run1/schema/\")\n",
    "#OK"
   ]
  },
  {
   "cell_type": "code",
   "execution_count": null,
   "metadata": {},
   "outputs": [],
   "source": [
    "#retry1\n",
    "chewBBACA.py AlleleCall -i input/ -g Genes_95%-PATH.txt -o results --cpu 3 --ptf txid573.trn\n",
    "#FAIL\n",
    "#ERROR! No usable gene files in Genes_95%-PATH.txt\n",
    "\n",
    "#adjusted script to add \\n (see Scripts: Adjusted_genes95%.py)\n",
    "#retry2\n",
    "chewBBACA.py AlleleCall -i input/ -g Genes_95%-PATH.txt -o results --cpu 3 --ptf txid573.trn\n",
    "#programme start but won't use files because:\n",
    "# ERROR! These loci have no short gene file: ['/home/hannelore/PROJECTHH/Tools/chewBBACA_run1/schema/5']\n",
    "\n",
    "#retry3\n",
    "chewBBACA.py AlleleCall -i input/ -g schema/ -o results --cpu 3 --ptf txid573.trn\n",
    "#succes! script was not necessary... "
   ]
  },
  {
   "cell_type": "markdown",
   "metadata": {},
   "source": [
    "-> took +/- 30 minutes for 12 samples\n",
    "\n",
    "OUTPUT:\n",
    "seperate folder in defined output folder with:\n",
    "- logging_info.txt\n",
    "- RepeatedLoci.txt\n",
    "- results_alleles.tsv\n",
    "- results_contigsInfo.tsv\n",
    "- results_statistics.tsv"
   ]
  },
  {
   "cell_type": "code",
   "execution_count": null,
   "metadata": {},
   "outputs": [],
   "source": [
    "#Above FULL scheme was used, only need loci that are 95% present (<<) \n",
    "#-> wrote script to move only the fasta files in the CORE -> less time!\n",
    "\n",
    "#!/usr/bin/env python3\n",
    "\n",
    "import os\n",
    "import shutil\n",
    "\n",
    "inputtie = '/home/hannelore/PROJECTHH/Scripts/tests/test-input/'\n",
    "outputtie = '/home/hannelore/PROJECTHH/Scripts/tests/test-output/'\n",
    "fileList = os.listdir(inputtie)\n",
    "\n",
    "test= inputtie + outputtie\n",
    "print(test)\n",
    "\n",
    "cfil = open ('/home/hannelore/PROJECTHH/Scripts/tests/tocopy.txt', 'r')\n",
    "for line in cfil:\n",
    "    #Had problems matching line to file: but found that the number of characters differed (1 extra for line)\n",
    "    #tried to remove with strip and replace (\" \",\"\") but this did not work, removing the last character did, it was an /n\n",
    "    \"\"\"\n",
    "    line.split()\n",
    "    line.replace(\" \",\"\")\n",
    "    \"\"\"\n",
    "    line=line[:-1]\n",
    "    \n",
    "    for item in fileList:\n",
    "        print(\"line is\", line)\n",
    "        print(type(line))\n",
    "        print(len(line))\n",
    "        print(\"item is\", item)\n",
    "        print(type(item))\n",
    "        print(len(item))\n",
    "\n",
    "        if(line == item):\n",
    "\n",
    "            inputpath= str(inputtie) + str(line)\n",
    "            print(inputpath)\n",
    "            outputpath= str(outputtie) + str(line)\n",
    "            print(outputpath)\n",
    "            shutil.copyfile(str(inputpath), str(outputpath))\n",
    "\n",
    "\n",
    "cfil.close()\n"
   ]
  },
  {
   "cell_type": "markdown",
   "metadata": {},
   "source": [
    "### 12) concatenate & quality\n",
    "put together matrix with control genomes and results of interested genomes\n",
    "- Interested genomes: results >... > results_alleles.tsv\n",
    "- Control genomes: cgMLST_completegenoems > cgMLST.tsv\n",
    "\n",
    "remark: columns are not exactly the same in cgMLST.tsv 5% of columns/loci have been removed"
   ]
  },
  {
   "cell_type": "code",
   "execution_count": 11,
   "metadata": {},
   "outputs": [],
   "source": [
    "#write script in python (see script: concatenate-alleles-cgMLST.py)\n",
    "import os\n",
    "os.chdir(\"/home/hannelore/PROJECTHH/Tools/chewBBACA_run1\")\n",
    "def concat (file1, file2):\n",
    "    import pandas as pd #does work in terminal\n",
    "    fil1 = pd.read_csv(file1, sep='\\t', header=0)\n",
    "    fil2 = pd.read_csv(file2, sep='\\t', header=0)\n",
    "    files = [fil1, fil2]\n",
    "    combine = pd.concat(files, join=\"inner\")\n",
    "    combine.to_csv(\"finalMatrix_cg.tsv\", sep='\\t')\n",
    "   \n",
    "\n",
    "concat(\"/home/hannelore/PROJECTHH/Tools/chewBBACA_run1/cgMLST_completegenomes/cgMLST.tsv\", \"/home/hannelore/PROJECTHH/Tools/chewBBACA_run1/results/results_20200427T171943/results_alleles.tsv\")"
   ]
  },
  {
   "cell_type": "code",
   "execution_count": null,
   "metadata": {},
   "outputs": [],
   "source": [
    "%%bash\n",
    "# assess the cgMLST allele quality attribution for all the genomes\n",
    "\n",
    "chewBBACA.py TestGenomeQuality -i finalMatrix_cg.tsv -n 13 -t 300 -s 5"
   ]
  },
  {
   "cell_type": "markdown",
   "metadata": {},
   "source": [
    "ERROR : not compatible\n",
    "\n",
    "chewBBACA version 2.1.0 by Mickael Silva at https://github.com/B-UMMI/chewBBACA\n",
    "email contact: mickaelsilva@medicina.ulisboa.pt\n",
    "will try to open file...\n",
    "\n",
    "PendingDeprecationWarning: Reading unicode strings without specifying the encoding argument is deprecated. Set the encoding, use None for the system default.\n",
    "\n",
    "generating presence abscence matrix\n",
    "too many indices for array\n"
   ]
  },
  {
   "cell_type": "markdown",
   "metadata": {},
   "source": [
    "-> Adjust SCript to remove first column (with numbers)"
   ]
  },
  {
   "cell_type": "markdown",
   "metadata": {},
   "source": [
    "#adjusted the script:\n",
    "import os\n",
    "os.chdir(\"/home/hannelore/PROJECTHH/Tools/chewBBACA_run1\")\n",
    "def concat (file1, file2):\n",
    "    import pandas as pd #does work in terminal\n",
    "    fil1 = pd.read_csv(file1, sep='\\t', header=0)\n",
    "    fil2 = pd.read_csv(file2, sep='\\t', header=0)\n",
    "    files = [fil1, fil2]\n",
    "    combine = pd.concat(files, join=\"inner\", ignore_index=True)\n",
    "    #combineD = combine.drop(combine.columns[0], axis=1)\n",
    "    #if deleting column 0 = FILE, how to delete -1?\n",
    "    combine.to_csv(\"finalMatrix2_cg.tsv\", sep='\\t', index=False) #added index=False\n",
    "\n",
    "concat(\"/home/hannelore/PROJECTHH/Tools/chewBBACA_run1/cgMLST_completegenomes/cgMLST.tsv\", \"/home/hannelore/PROJECTHH/Tools/chewBBACA_run1/results/results_20200427T171943/results_alleles.tsv\")"
   ]
  },
  {
   "cell_type": "code",
   "execution_count": null,
   "metadata": {},
   "outputs": [],
   "source": [
    "%%bash\n",
    "# assess the cgMLST allele quality attribution for all the genomes try2\n",
    "\n",
    "chewBBACA.py TestGenomeQuality -i finalMatrix2_cg.tsv -n 13 -t 300 -s 5"
   ]
  },
  {
   "cell_type": "markdown",
   "metadata": {},
   "source": [
    "#OUTPUT:\n",
    "in current folder:\n",
    "    - Genes_95%.txt\n",
    "    - GenomeQualityPlot.html\n",
    "    - removedGenomes.txt\n"
   ]
  },
  {
   "cell_type": "markdown",
   "metadata": {},
   "source": [
    "### 13) Save the cgMLST schema\n",
    "Select a treshold for further analysis (arbitrary)\n",
    "\n",
    "here selected treshhold= 25\n",
    "\n",
    "The following command creates a directory analysis_all/cgMLST_25/ and saves the cgMLST schema selected at the chosen threshold to the file cgMLST.tsv."
   ]
  },
  {
   "cell_type": "code",
   "execution_count": null,
   "metadata": {},
   "outputs": [],
   "source": [
    "#make file with genomes with treshhold <=25 ???????why?????"
   ]
  },
  {
   "cell_type": "code",
   "execution_count": 2,
   "metadata": {},
   "outputs": [
    {
     "name": "stdout",
     "output_type": "stream",
     "text": [
      "chewBBACA version 2.1.0 by Mickael Silva at https://github.com/B-UMMI/chewBBACA\n",
      "email contact: mickaelsilva@medicina.ulisboa.pt\n",
      "building the presence and absence matrix...\n",
      "presence and abscence matrix built\n",
      "processing the matrix\n",
      "deleted : 401 loci\n",
      "total loci remaining : 3458\n"
     ]
    }
   ],
   "source": [
    "%%bash\n",
    "chewBBACA.py ExtractCgMLST -i finalMatrix2_cg.tsv -o cgMLST_noT -g removedGenomes.txt\n",
    " #deleted : 401 loci\n",
    " #total loci remaining : 3458\n"
   ]
  },
  {
   "cell_type": "markdown",
   "metadata": {},
   "source": [
    "### 14) MInimal spanning Tree\n",
    "Use phyloviz online : online tool but also \n",
    "alternative: GrapeTree, MSTMap"
   ]
  },
  {
   "cell_type": "code",
   "execution_count": 3,
   "metadata": {},
   "outputs": [],
   "source": [
    "#make metadata table (tab separated txt file, e.g. csv/tsv)\n",
    "\n",
    "\n"
   ]
  },
  {
   "cell_type": "code",
   "execution_count": null,
   "metadata": {},
   "outputs": [],
   "source": [
    "## GRAPETREE\n",
    "#install GrapeTree  https://github.com/achtman-lab/GrapeTree\n",
    "pip3 install --user grapetree"
   ]
  },
  {
   "cell_type": "code",
   "execution_count": 6,
   "metadata": {
    "scrolled": true
   },
   "outputs": [
    {
     "name": "stdout",
     "output_type": "stream",
     "text": [
      "(((((((((((GCF_001455995.1.fa:2.65385,GCF_001644765.1.fa:3.34615):13.38,GCF_001648215.1.fa:16.62):8.88542,GCF_001701425.2.fa:26.1146):15.0163,GCF_001663435.1.fa:35.7337):442.652,GCF_001482345.1.fa:487.598):6.78454,GCF_000775955.1.fa:481.84):4.34635,GCF_000968155.1.fa:490.841):3.48682,(((GCF_001307175.1.fa:235.25,(GCF_001663195.1.fa:12.5536,GCF_000764615.1.fa:12.4464):222.75):244.581,(GCF_001676825.1.fa:0.5,GCF_001646625.1.fa:0.5):483.669):8.67004,GCF_001663455.1.fa:493.33):1.96631):6.27682,GCF_001548315.1.fa:522.59):10.9718,(GCF_001456055.3.fa:2,GCF_001456095.3.fa:2):477.11):19.0137,((((((((ERR1795072.contigs.fa:6.19519,GCF_001702045.2.fa:11.8048):0.107544,(ERR1795073.contigs.fa:11.4388,GCF_001701845.2.fa:5.5612):0.642456):7.58801,GCF_000807395.2.fa:13.287):4.9198,(GCF_001022235.1.fa:9.25106,GCF_001675125.1.fa:18.7489):4.75239):5.53911,GCF_000814305.1.fa:23.2833):68.8192,((GCF_000364385.3.fa:27.8564,GCF_001022035.1.fa:23.1436):0.729167,GCF_001701835.2.fa:28.2708):21.5183):126.221,GCF_000739495.1.fa:231.6):178.802,(GCF_001456135.1.fa:1.07407,GCF_001022175.1.fa:1.92593):436.739):61.5929,GCF_001663295.1.fa:422.494);\n",
      "    32\n",
      "GCF_001022035.1.fa 0.000000 0.050831 0.367546 0.049853 0.997067 1.000000 0.985337 0.985337 0.848485 0.986315 0.996090 0.977517 0.976540 0.137830 0.140762 0.134897 0.135875 0.140762 0.137830 0.129032 0.132942 0.984360 0.799609 0.797654 0.977517 0.979472 0.996090 0.980450 0.996090 0.996090 0.952102 0.952102\n",
      "GCF_001701835.2.fa 0.050831 0.000000 0.366569 0.055718 0.997067 1.000000 0.985337 0.985337 0.849462 0.985337 0.996090 0.978495 0.978495 0.142717 0.145650 0.138807 0.140762 0.145650 0.143695 0.133920 0.137830 0.984360 0.798631 0.796676 0.978495 0.979472 0.996090 0.980450 0.996090 0.996090 0.953079 0.953079\n",
      "GCF_000739495.1.fa 0.367546 0.366569 0.000000 0.372434 0.984360 1.000000 0.972630 0.972630 0.849462 0.976540 0.979472 0.977517 0.965787 0.454545 0.454545 0.453568 0.453568 0.457478 0.452590 0.446725 0.449658 0.967742 0.850440 0.849462 0.977517 0.978495 0.979472 0.966764 0.979472 0.979472 0.957967 0.957967\n",
      "GCF_000364385.3.fa 0.049853 0.055718 0.372434 0.000000 0.997067 1.000000 0.986315 0.986315 0.851417 0.986315 0.997067 0.978495 0.978495 0.142717 0.145650 0.139785 0.140762 0.145650 0.142717 0.133920 0.137830 0.985337 0.796676 0.794721 0.978495 0.979472 0.997067 0.961877 0.997067 0.997067 0.952102 0.952102\n",
      "GCF_001482345.1.fa 0.997067 0.997067 0.984360 0.997067 0.000000 1.000000 0.972630 0.972630 0.966764 0.964809 0.946237 0.962854 0.948192 0.995112 0.996090 0.995112 0.995112 0.995112 0.995112 0.995112 0.993157 0.956012 0.974585 0.974585 0.962854 0.962854 0.946237 0.947214 0.946237 0.946237 0.958944 0.958944\n",
      "GCF_001548315.1.fa 1.000000 1.000000 1.000000 1.000000 1.000000 0.000000 1.000000 1.000000 0.999022 1.000000 1.000000 1.000000 1.000000 1.000000 1.000000 1.000000 1.000000 1.000000 1.000000 1.000000 1.000000 1.000000 1.000000 1.000000 1.000000 1.000000 1.000000 1.000000 1.000000 1.000000 1.000000 1.000000\n",
      "GCF_001646625.1.fa 0.985337 0.985337 0.972630 0.986315 0.972630 1.000000 0.000000 0.000978 0.956989 0.964809 0.968719 0.956012 0.965787 0.983382 0.983382 0.983382 0.983382 0.983382 0.983382 0.983382 0.983382 0.967742 0.966764 0.966764 0.956012 0.928641 0.968719 0.967742 0.968719 0.968719 0.959922 0.959922\n",
      "GCF_001676825.1.fa 0.985337 0.985337 0.972630 0.986315 0.972630 1.000000 0.000978 0.000000 0.956989 0.964809 0.968719 0.956012 0.965787 0.983382 0.983382 0.983382 0.983382 0.983382 0.983382 0.983382 0.983382 0.967742 0.966764 0.966764 0.956012 0.928641 0.968719 0.967742 0.968719 0.968719 0.959922 0.959922\n",
      "GCF_001663295.1.fa 0.848485 0.849462 0.849462 0.851417 0.966764 0.999022 0.956989 0.956989 0.000000 0.956989 0.941349 0.966764 0.957967 0.849462 0.848485 0.848485 0.848485 0.849462 0.847507 0.846530 0.848485 0.962854 0.956989 0.956989 0.966764 0.964809 0.939394 0.938416 0.939394 0.939394 0.900293 0.900293\n",
      "GCF_001663455.1.fa 0.986315 0.985337 0.976540 0.986315 0.964809 1.000000 0.964809 0.964809 0.956989 0.000000 0.964809 0.956989 0.968719 0.984360 0.983382 0.983382 0.983382 0.983382 0.983382 0.983382 0.983382 0.967742 0.970674 0.970674 0.956989 0.960899 0.964809 0.964809 0.964809 0.964809 0.961877 0.961877\n",
      "GCF_001701425.2.fa 0.996090 0.996090 0.979472 0.997067 0.946237 1.000000 0.968719 0.968719 0.941349 0.964809 0.000000 0.964809 0.955034 0.991202 0.992180 0.991202 0.991202 0.991202 0.991202 0.991202 0.991202 0.962854 0.958944 0.958944 0.964809 0.970674 0.051808 0.082111 0.051808 0.045943 0.941349 0.941349\n",
      "GCF_000764615.1.fa 0.977517 0.978495 0.977517 0.978495 0.962854 1.000000 0.956012 0.956012 0.966764 0.956989 0.964809 0.000000 0.959922 0.975562 0.975562 0.975562 0.975562 0.975562 0.975562 0.975562 0.975562 0.963832 0.964809 0.964809 0.024438 0.458456 0.964809 0.962854 0.964809 0.964809 0.959922 0.959922\n",
      "GCF_000775955.1.fa 0.976540 0.978495 0.965787 0.978495 0.948192 1.000000 0.965787 0.965787 0.957967 0.968719 0.955034 0.959922 0.000000 0.977517 0.978495 0.977517 0.977517 0.977517 0.977517 0.976540 0.976540 0.959922 0.950147 0.950147 0.959922 0.956989 0.954057 0.953079 0.954057 0.954057 0.964809 0.964809\n",
      "GCF_001675125.1.fa 0.137830 0.142717 0.454545 0.142717 0.995112 1.000000 0.983382 0.983382 0.849462 0.984360 0.991202 0.975562 0.977517 0.000000 0.047898 0.042033 0.041056 0.047898 0.039101 0.027370 0.051808 0.984360 0.808407 0.806452 0.975562 0.977517 0.991202 0.989247 0.991202 0.991202 0.952102 0.952102\n",
      "GCF_001702045.2.fa 0.140762 0.145650 0.454545 0.145650 0.996090 1.000000 0.983382 0.983382 0.848485 0.983382 0.992180 0.975562 0.978495 0.047898 0.000000 0.017595 0.017595 0.023460 0.032258 0.038123 0.051808 0.984360 0.807429 0.805474 0.975562 0.977517 0.992180 0.990225 0.992180 0.992180 0.951124 0.951124\n",
      "GCF_001701845.2.fa 0.134897 0.138807 0.453568 0.139785 0.995112 1.000000 0.983382 0.983382 0.848485 0.983382 0.991202 0.975562 0.977517 0.042033 0.017595 0.000000 0.011730 0.016618 0.027370 0.032258 0.045943 0.984360 0.810362 0.808407 0.975562 0.977517 0.991202 0.989247 0.991202 0.991202 0.951124 0.951124\n",
      "ERR1795072.contigs.fa 0.135875 0.140762 0.453568 0.140762 0.995112 1.000000 0.983382 0.983382 0.848485 0.983382 0.991202 0.975562 0.977517 0.041056 0.017595 0.011730 0.000000 0.018573 0.026393 0.032258 0.045943 0.984360 0.807429 0.805474 0.975562 0.977517 0.991202 0.989247 0.991202 0.991202 0.951124 0.951124\n",
      "ERR1795073.contigs.fa 0.140762 0.145650 0.457478 0.145650 0.995112 1.000000 0.983382 0.983382 0.849462 0.983382 0.991202 0.975562 0.977517 0.047898 0.023460 0.016618 0.018573 0.000000 0.031281 0.037146 0.051808 0.984360 0.808407 0.806452 0.975562 0.977517 0.991202 0.989247 0.991202 0.991202 0.951124 0.951124\n",
      "GCF_000807395.2.fa 0.137830 0.143695 0.452590 0.142717 0.995112 1.000000 0.983382 0.983382 0.847507 0.983382 0.991202 0.975562 0.977517 0.039101 0.032258 0.027370 0.026393 0.031281 0.000000 0.030303 0.045943 0.984360 0.810362 0.808407 0.975562 0.977517 0.991202 0.989247 0.991202 0.991202 0.951124 0.951124\n",
      "GCF_001022235.1.fa 0.129032 0.133920 0.446725 0.133920 0.995112 1.000000 0.983382 0.983382 0.846530 0.983382 0.991202 0.975562 0.976540 0.027370 0.038123 0.032258 0.032258 0.037146 0.030303 0.000000 0.043011 0.984360 0.806452 0.804497 0.975562 0.977517 0.991202 0.989247 0.991202 0.991202 0.951124 0.951124\n",
      "GCF_000814305.1.fa 0.132942 0.137830 0.449658 0.137830 0.993157 1.000000 0.983382 0.983382 0.848485 0.983382 0.991202 0.975562 0.976540 0.051808 0.051808 0.045943 0.045943 0.051808 0.045943 0.043011 0.000000 0.984360 0.810362 0.808407 0.975562 0.977517 0.991202 0.989247 0.991202 0.991202 0.952102 0.952102\n",
      "GCF_000968155.1.fa 0.984360 0.984360 0.967742 0.985337 0.956012 1.000000 0.967742 0.967742 0.962854 0.967742 0.962854 0.963832 0.959922 0.984360 0.984360 0.984360 0.984360 0.984360 0.984360 0.984360 0.984360 0.000000 0.963832 0.963832 0.963832 0.959922 0.962854 0.961877 0.962854 0.962854 0.953079 0.953079\n",
      "GCF_001022175.1.fa 0.799609 0.798631 0.850440 0.796676 0.974585 1.000000 0.966764 0.966764 0.956989 0.970674 0.958944 0.964809 0.950147 0.808407 0.807429 0.810362 0.807429 0.808407 0.810362 0.806452 0.810362 0.963832 0.000000 0.002933 0.964809 0.969697 0.958944 0.950147 0.958944 0.958944 0.937439 0.937439\n",
      "GCF_001456135.1.fa 0.797654 0.796676 0.849462 0.794721 0.974585 1.000000 0.966764 0.966764 0.956989 0.970674 0.958944 0.964809 0.950147 0.806452 0.805474 0.808407 0.805474 0.806452 0.808407 0.804497 0.808407 0.963832 0.002933 0.000000 0.964809 0.969697 0.958944 0.950147 0.958944 0.958944 0.937439 0.937439\n",
      "GCF_001663195.1.fa 0.977517 0.978495 0.977517 0.978495 0.962854 1.000000 0.956012 0.956012 0.966764 0.956989 0.964809 0.024438 0.959922 0.975562 0.975562 0.975562 0.975562 0.975562 0.975562 0.975562 0.975562 0.963832 0.964809 0.964809 0.000000 0.461388 0.964809 0.962854 0.964809 0.964809 0.959922 0.959922\n",
      "GCF_001307175.1.fa 0.979472 0.979472 0.978495 0.979472 0.962854 1.000000 0.928641 0.928641 0.964809 0.960899 0.970674 0.458456 0.956989 0.977517 0.977517 0.977517 0.977517 0.977517 0.977517 0.977517 0.977517 0.959922 0.969697 0.969697 0.461388 0.000000 0.970674 0.968719 0.970674 0.970674 0.960899 0.960899\n",
      "GCF_001648215.1.fa 0.996090 0.996090 0.979472 0.997067 0.946237 1.000000 0.968719 0.968719 0.939394 0.964809 0.051808 0.964809 0.954057 0.991202 0.992180 0.991202 0.991202 0.991202 0.991202 0.991202 0.991202 0.962854 0.958944 0.958944 0.964809 0.970674 0.000000 0.068426 0.035191 0.029326 0.942326 0.942326\n",
      "GCF_001663435.1.fa 0.980450 0.980450 0.966764 0.961877 0.947214 1.000000 0.967742 0.967742 0.938416 0.964809 0.082111 0.962854 0.953079 0.989247 0.990225 0.989247 0.989247 0.989247 0.989247 0.989247 0.989247 0.961877 0.950147 0.950147 0.962854 0.968719 0.068426 0.000000 0.069404 0.063539 0.940371 0.940371\n",
      "GCF_001644765.1.fa 0.996090 0.996090 0.979472 0.997067 0.946237 1.000000 0.968719 0.968719 0.939394 0.964809 0.051808 0.964809 0.954057 0.991202 0.992180 0.991202 0.991202 0.991202 0.991202 0.991202 0.991202 0.962854 0.958944 0.958944 0.964809 0.970674 0.035191 0.069404 0.000000 0.005865 0.941349 0.941349\n",
      "GCF_001455995.1.fa 0.996090 0.996090 0.979472 0.997067 0.946237 1.000000 0.968719 0.968719 0.939394 0.964809 0.045943 0.964809 0.954057 0.991202 0.992180 0.991202 0.991202 0.991202 0.991202 0.991202 0.991202 0.962854 0.958944 0.958944 0.964809 0.970674 0.029326 0.063539 0.005865 0.000000 0.941349 0.941349\n",
      "GCF_001456055.3.fa 0.952102 0.953079 0.957967 0.952102 0.958944 1.000000 0.959922 0.959922 0.900293 0.961877 0.941349 0.959922 0.964809 0.952102 0.951124 0.951124 0.951124 0.951124 0.951124 0.951124 0.952102 0.953079 0.937439 0.937439 0.959922 0.960899 0.942326 0.940371 0.941349 0.941349 0.000000 0.003910\n",
      "GCF_001456095.3.fa 0.952102 0.953079 0.957967 0.952102 0.958944 1.000000 0.959922 0.959922 0.900293 0.961877 0.941349 0.959922 0.964809 0.952102 0.951124 0.951124 0.951124 0.951124 0.951124 0.951124 0.952102 0.953079 0.937439 0.937439 0.959922 0.960899 0.942326 0.940371 0.941349 0.941349 0.003910 0.000000\n"
     ]
    }
   ],
   "source": [
    "%%bash\n",
    "#GrapeTree execution\n",
    "cd /home/hannelore/PROJECTHH/Tools/chewBBACA_run1/\n",
    "\n",
    "\n",
    "#profile = tsv file, with # starting first row (the column-names) = -p and must be tab-delimited text file\n",
    "#change cgMLST.tsv -> cgMLST-test.profile = txt format\n",
    "#grapetree -p cgMLST_noT/cgMLST-test.profile -m MSTreeV2\n",
    "#fail\n",
    "grapetree -p cgMLST_noT/cgMLST-test.profile -m NJ\n",
    "#result (see below)\n",
    "\n",
    "#metadata (tsv or csv), column with ID or first column for ID names = ????\n",
    "\n",
    "#distance matrix\n",
    "grapetree -p cgMLST_noT/cgMLST-test.profile -m distance"
   ]
  },
  {
   "cell_type": "markdown",
   "metadata": {},
   "source": [
    "#visualiseren in R???? \n",
    "- https://rdrr.io/cran/igraph/man/mst.html\n",
    "- https://systematicinvestor.github.io/Minimum-Spanning-Tree "
   ]
  },
  {
   "cell_type": "code",
   "execution_count": 2,
   "metadata": {},
   "outputs": [
    {
     "ename": "SyntaxError",
     "evalue": "invalid syntax (<ipython-input-2-4166ca27eaf0>, line 3)",
     "output_type": "error",
     "traceback": [
      "\u001b[0;36m  File \u001b[0;32m\"<ipython-input-2-4166ca27eaf0>\"\u001b[0;36m, line \u001b[0;32m3\u001b[0m\n\u001b[0;31m    unzip phyloviz-2.0a.zip\u001b[0m\n\u001b[0m                 ^\u001b[0m\n\u001b[0;31mSyntaxError\u001b[0m\u001b[0;31m:\u001b[0m invalid syntax\n"
     ]
    }
   ],
   "source": [
    "#PHyloviz install\n",
    "#download from: https://bitbucket.org/phyloviz/phyloviz-main/downloads/\n",
    "unzip phyloviz-2.0a.zip\n",
    "#mv to opt\n",
    "sudo mv phyloviz /opt/\n",
    "#create link\n",
    "sudo ln -s /opt/phyloviz/phyloviz.exe /usr/local/bin/phyloviz #werkt niet..."
   ]
  },
  {
   "cell_type": "code",
   "execution_count": null,
   "metadata": {},
   "outputs": [],
   "source": [
    "#MSTmap http://mstmap.org/download.html\n",
    "\n",
    "#download from website\n",
    "\n",
    "tar zvxf MSTMap.source.tar.gz \n",
    "rm MSTMap.source..tar.gz \n",
    "sudo mv MSTmap /opt/\n",
    "cd /opt/MSTmap\n",
    "make #to compile\n",
    "sudo ln -s /opt/MSTmap/MSTmap /usr/local/bin/MSTmap\n",
    "\n",
    "#INPUT: very specific: generate such a file"
   ]
  },
  {
   "cell_type": "code",
   "execution_count": null,
   "metadata": {},
   "outputs": [],
   "source": [
    "#TODO: https://bioinformaticsdotca.github.io/GenEpi_2017_module3_lab \n",
    "#good tutorial!!!"
   ]
  },
  {
   "cell_type": "markdown",
   "metadata": {},
   "source": [
    "### Scheme evaluation\n",
    "\n",
    "https://github.com/B-UMMI/chewBBACA/wiki/4.-Schema-Evaluation"
   ]
  },
  {
   "cell_type": "markdown",
   "metadata": {},
   "source": [
    "## PROBLEM WITH ALLELECALL with v2.1.0\n",
    "See issue62: https://github.com/B-UMMI/chewBBACA/issues/62"
   ]
  },
  {
   "cell_type": "code",
   "execution_count": null,
   "metadata": {},
   "outputs": [],
   "source": [
    "%%bash\n",
    "\n",
    "#Clone new chewBBACA from master\n",
    "git clone https://github.com/B-UMMI/chewBBACA.git\n",
    "\n",
    "#install new environment https://packaging.python.org/guides/installing-using-pip-and-virtual-environments/\n",
    "python3 -m pip install --user virtualenv\n",
    "python3 -m venv envPROJECTHH\n",
    "#activate environment\n",
    "source envPROJECTHH/bin/activate\n",
    "\n",
    "#install chewbbaca (from cloned folder)\n",
    "pip install .\n",
    "\n",
    "#fixed BUT only .fasta accepted, not .fa -> asked to developers: was fixed! -> clone and install again\n",
    "\n",
    "#some problems with compatibility of the schemes-> prep them\n",
    "chewBBACA.py PrepExternalSchema\n",
    "\n",
    "#as a result problems with matplotlib -> also install in the envPROJECTHH environment\n",
    "#as a result problems with training file (not compatible)\n",
    "#when performing allelcall I can not click \n"
   ]
  },
  {
   "cell_type": "markdown",
   "metadata": {},
   "source": [
    "-> I posted this on Github page: https://github.com/B-UMMI/chewBBACA/issues/62\n",
    "It was reported as a bug, I was suggested to download v2.5.0 in new environment which worked but gave some new compatibility issues with the workflow..."
   ]
  },
  {
   "cell_type": "markdown",
   "metadata": {},
   "source": [
    "## PROBLEM ALLELCALL with v2.5.0\n",
    "Problem remains, especially a problem for scheme creation"
   ]
  },
  {
   "cell_type": "code",
   "execution_count": null,
   "metadata": {},
   "outputs": [],
   "source": [
    "#remove old version\n",
    "pip uninstall chewbbaca\n",
    "#try to fix it by installing v2.5.4  (13/08/2020)\n",
    "#Clone new chewBBACA from master\n",
    "git clone https://github.com/B-UMMI/chewBBACA.git\n",
    "#in folder (with setup file)\n",
    "pip install ."
   ]
  },
  {
   "cell_type": "code",
   "execution_count": null,
   "metadata": {},
   "outputs": [],
   "source": [
    "#-> new problem with v2.5.4"
   ]
  },
  {
   "cell_type": "markdown",
   "metadata": {},
   "source": [
    "### Reinstall v2.5.0"
   ]
  },
  {
   "cell_type": "code",
   "execution_count": null,
   "metadata": {},
   "outputs": [],
   "source": [
    "pip install "
   ]
  }
 ],
 "metadata": {
  "kernelspec": {
   "display_name": "Python 3",
   "language": "python",
   "name": "python3"
  },
  "language_info": {
   "codemirror_mode": {
    "name": "ipython",
    "version": 3
   },
   "file_extension": ".py",
   "mimetype": "text/x-python",
   "name": "python",
   "nbconvert_exporter": "python",
   "pygments_lexer": "ipython3",
   "version": "3.6.8"
  }
 },
 "nbformat": 4,
 "nbformat_minor": 2
}
