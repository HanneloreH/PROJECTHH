{
 "cells": [
  {
   "cell_type": "markdown",
   "metadata": {},
   "source": [
    "# Running the pipeline on supercomputer"
   ]
  },
  {
   "cell_type": "markdown",
   "metadata": {},
   "source": [
    "## intro HPC\n",
    "\n",
    "- requested username\n",
    "- made ssh-key\n",
    "- requested virtual organisation (mainly for memory problems)\n",
    "- followed and tested code from the tutorial:  http://hpcugent.github.io/vsc_user_docs/pdf/intro-HPC-linux-gent.pdf\n",
    "- ..."
   ]
  },
  {
   "cell_type": "markdown",
   "metadata": {},
   "source": [
    "## Software\n",
    "PROBLEM Not all software is available in the modules\n",
    "\n",
    "### SOLUTION 1: request installation on HPC:\n",
    "$ ml av | grep -i \"chewbbaca\" -> not available\n",
    "-> this was requested via the ugentoffical form: https://www.ugent.be/hpc/en/support/software-installation-request \n",
    "-> but takes a long time\n",
    "\n",
    "### SOLUTION 2: make conda environment:\n",
    "https://its.tntech.edu/display/MON/Installing+Miniconda+or+Anaconda+Environments+in+Your+HPC+Account\n",
    "\n",
    "#### 1) Miniconda : \"HHpy37\" -> was installed in local directory + no installation of chewbbaca: fail\n",
    "- ml load Miniconda3\n",
    "- conda create --name HHpy37 python=3.7\n",
    "- source activate HHpy37\n",
    "- conda install chewbbaca -> DID NOT WORK\n",
    "- conda env remove --name HHpy37\n",
    "\n",
    "#### 2) Anaconda : \"anacondaOUTB8\" -> was installed in local directory + problem installing chewbbaca: fail\n",
    "- conda create –name anacondaOUTB8 anaconda\n",
    "- source activate HHpy37\n",
    "- onda install chewbbaca #-> compatibility problems\n",
    "- conda env remove --name anacondaOUTB8\n",
    "\n",
    "#### 3) Miniconda : \"envOUTB8\" on /kyukon/data/gent/vo/001/gvo00121/envOUTB8: fail\n",
    "- Cd /data/gent/vo/001/gvo00121\n",
    "- conda create --prefix ./envOUTB8 python=3.6\n",
    "- source activate /kyukon/data/gent/vo/001/gvo00121/envOUTB8\n",
    "- conda config --add channels defaults\n",
    "- cconda config --add channels bioconda\n",
    "- cconda config --add channels conda-forge\n",
    "- conda install -c bioconda chewbbaca       -> v2.1.0\n",
    "\n",
    "PROBLEM:\n",
    "InvalidArchiveError(\"Error with archive /user/gent/435/vsc43578/.conda/pkgs/numpy-1.19.1-py36h7314795_0.tar.bz2.  You probably need to delete and re-download or re-create this file.  Message from libarchive was:\\n\\nb'\\\\xf0!/\\\\x13\\\\xf3U' (errno=122, retcode=-30, archive_p=94502487160416)\")\n",
    "InvalidArchiveError('Error with archive /user/gent/435/vsc43578/.conda/pkgs/plotly-4.9.0-pyh9f0ad1d_0.tar.bz2.  You probably need to delete and re-download or re-create this file.  Message from libarchive was:\\n\\nNone (errno=122, retcode=-30, archive_p=94502487269056)')\n",
    "\n",
    "\n",
    "\n",
    "- try to install numpy: fail\n",
    "- update conda : conda update -n base -c defaults conda\n",
    "\n",
    "-> re-installed to many pacakges:\n",
    "- conda install --revision 0 #back to original state\n",
    "- conda env remove -p /kyukon/data/gent/vo/001/gvo00121/envOUTB8\n",
    "#alles manueelverwijderen (want not steeds niet alles weg)\n",
    "- rm -rf ~/.condarc ~/.conda ~/.continuum\n",
    "\n",
    "\n",
    "\n",
    "### 4 ) Miniconda: \"envOUTB8\" on /data/gent/vo/001/gvo00121/env/\n",
    "- conda create -p /data/gent/vo/001/gvo00121/env/envOUTB8 python=3.6\n",
    "- conda activate /data/gent/vo/001/gvo00121/envOUTB8\n",
    "- conda config --add channels defaults\n",
    "- conda config --add channels bioconda\n",
    "- conda config --add channels conda-forge\n",
    "- conda install -c bioconda chewbbaca             v2.1.0\n",
    "    includes installation of prodigal             v2.6.3\n",
    "- conda install -c bioconda fastqc                v0.11.9\n",
    "- conda install -c bioconda multiqc               v1.9\n",
    "- conda install -c bioconda mlst                  v2.11\n",
    "- conda install -c bioconda quast                 v4.6.3\n",
    "- conda install -c bioconda megahit               v1.2.9\n",
    "- conda install -c bioconda kraken2\n",
    "- conda install -c bioconda fastp                 v0.20.1\n",
    "\n",
    "#Installatie van  bit-dl-ncbi-assemblies : https://github.com/AstrobioMike/bioinf_tools \n",
    "- conda install -c conda-forge -c bioconda -c defaults -c astrobiomike bit\n",
    "#installation fails\n",
    "#add the channel \"astrobiomike\"??\n",
    "conda config --add channels astrobiomike\n",
    "#also redo other channels for correct priority\n",
    "conda config --add channels defaults\n",
    "conda config --add channels bioconda\n",
    "conda config --add channels conda-forge\n",
    "#same problem\n",
    "\n",
    "#remark don't install nextflow but load module!\n",
    "\n",
    "### 5) Software not in anaconda\n",
    "NOT IN CONDA -> INSTALL WITH PIP\n",
    "esearch : pip?\n",
    "bit-dl-... : pip?\n",
    "rscript: pip?\n",
    "NCIB+: pip?\n",
    "\n",
    "   \n",
    "\n"
   ]
  },
  {
   "cell_type": "code",
   "execution_count": null,
   "metadata": {},
   "outputs": [],
   "source": []
  },
  {
   "cell_type": "code",
   "execution_count": null,
   "metadata": {},
   "outputs": [],
   "source": []
  },
  {
   "cell_type": "code",
   "execution_count": null,
   "metadata": {},
   "outputs": [],
   "source": []
  },
  {
   "cell_type": "code",
   "execution_count": null,
   "metadata": {},
   "outputs": [],
   "source": []
  }
 ],
 "metadata": {
  "kernelspec": {
   "display_name": "Python 3",
   "language": "python",
   "name": "python3"
  },
  "language_info": {
   "codemirror_mode": {
    "name": "ipython",
    "version": 3
   },
   "file_extension": ".py",
   "mimetype": "text/x-python",
   "name": "python",
   "nbconvert_exporter": "python",
   "pygments_lexer": "ipython3",
   "version": "3.6.8"
  }
 },
 "nbformat": 4,
 "nbformat_minor": 4
}
