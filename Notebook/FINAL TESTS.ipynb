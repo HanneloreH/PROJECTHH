{
 "cells": [
  {
   "cell_type": "markdown",
   "metadata": {},
   "source": [
    "# Running final tests on local computer\n",
    "Overview of tests that were run to test the pipeline, with comments and conclusion"
   ]
  },
  {
   "cell_type": "markdown",
   "metadata": {},
   "source": [
    "# PIPELINE 1: OUTB8-ANALYSIS\n",
    "\n",
    "## A. Show version\n"
   ]
  },
  {
   "cell_type": "code",
   "execution_count": 2,
   "metadata": {},
   "outputs": [
    {
     "name": "stdout",
     "output_type": "stream",
     "text": [
      "N E X T F L O W  ~  version 20.01.0\n",
      "Launching `OUTB8-analysis.nf` [reverent_brenner] - revision: 18ff28fdc9\n",
      "OUTB8-analysis v1.0\n"
     ]
    }
   ],
   "source": [
    "%%bash\n",
    "cd ~/PROJECTHH/Scripts/Pipeline\n",
    "nextflow run OUTB8-analysis.nf --v"
   ]
  },
  {
   "cell_type": "markdown",
   "metadata": {},
   "source": [
    "### conclusion\n",
    "-> Works correctly"
   ]
  },
  {
   "cell_type": "markdown",
   "metadata": {},
   "source": [
    "## B. Show help message"
   ]
  },
  {
   "cell_type": "code",
   "execution_count": 3,
   "metadata": {},
   "outputs": [
    {
     "name": "stdout",
     "output_type": "stream",
     "text": [
      "N E X T F L O W  ~  version 20.01.0\n",
      "Launching `OUTB8-analysis.nf` [gloomy_torvalds] - revision: 18ff28fdc9\n",
      "==================== OUTB8-analysis ====================\n",
      "\n",
      "Do WGS bacterial analysis on fastq files based on a known scheme for cg/wgMLST\n",
      "\n",
      "example:   nextflow run OUTB8-analysis.nf --PE --reads Data/ --scheme Scheme/\n",
      "\n",
      "--assem     OPTIONAL give path to established assemblies that need to be included in the analysis (format: *.fa)\n",
      "--cpu       give maximal number of CPUs (default = 1)\n",
      "--env       give path to python3 environment (running e.g. chewBBACA, matplotlib...)\n",
      "--help      show help message\n",
      "--meta      give filename (.csv) of metadata, first column are the sample names IN CORRECT ORDER (= one line per sample), all following columns will be used as color-code in MST-plots\n",
      "--output    give path to output folder\n",
      "--PE        use for paired end data\n",
      "--reads     give path to input fastq files (format *.fastq.gz)\n",
      "--scheme    give path to wg/cg scheme folder \n",
      "--SE        use for single end data\n",
      "--training  give path to training file \n",
      "--v         show version\n",
      "--x         if \"true\" pipeline will run starting from given assemblies (=cgMLST analysis only)\n",
      "-resume     use to continue an analysis that was run (partly) before\n"
     ]
    }
   ],
   "source": [
    "%%bash\n",
    "cd ~/PROJECTHH/Scripts/Pipeline\n",
    "nextflow run OUTB8-analysis.nf --help"
   ]
  },
  {
   "cell_type": "markdown",
   "metadata": {},
   "source": [
    "### conclusion\n",
    "-> Works correctly"
   ]
  },
  {
   "cell_type": "markdown",
   "metadata": {},
   "source": [
    "## C. PE analysis"
   ]
  },
  {
   "cell_type": "markdown",
   "metadata": {},
   "source": [
    "#### Input for tests PE data\n",
    "\n",
    "Data of Klebsiella pneumoniae outbreak in Greece:\n",
    "\"Identification of a KPC-9-producing Klebsiella pneumoniae ST258 cluster among KPC-2-producing isolates of an ongoing outbreak in Northwestern Greece: a retrospective study\"\n",
    "\n",
    "- Data: ERP020687 (SRA explorer)\n",
    "- Script: rawData_ERP020687.sh\n",
    "- Paper: https://pubmed.ncbi.nlm.nih.gov/29274461/\n",
    "- 16 samples PE, Illumina\n",
    "\n",
    "Remark: \n",
    "Data was minimised to 10000 reads, format = \".mini\", to lower computing time. In the future the pipeline will run on HPC so full files will be analysed."
   ]
  },
  {
   "cell_type": "code",
   "execution_count": 7,
   "metadata": {},
   "outputs": [
    {
     "name": "stdout",
     "output_type": "stream",
     "text": [
      "input\n",
      "ERR1795072_Illumina_MiSeq_paired_end_sequencing_EXP-0-1-2017-01-13_14-47-56_mini_1.fastq.gz\n",
      "ERR1795072_Illumina_MiSeq_paired_end_sequencing_EXP-0-1-2017-01-13_14-47-56_mini_2.fastq.gz\n",
      "ERR1795073_Illumina_MiSeq_paired_end_sequencing_EXP-1-1-2017-01-13_14-47-56_mini_1.fastq.gz\n",
      "ERR1795073_Illumina_MiSeq_paired_end_sequencing_EXP-1-1-2017-01-13_14-47-56_mini_2.fastq.gz\n",
      "ERR1795074_Illumina_MiSeq_paired_end_sequencing_EXP-2-1-2017-01-13_14-47-56_mini_1.fastq.gz\n",
      "ERR1795074_Illumina_MiSeq_paired_end_sequencing_EXP-2-1-2017-01-13_14-47-56_mini_2.fastq.gz\n",
      "ERR1795075_Illumina_MiSeq_paired_end_sequencing_EXP-3-1-2017-01-13_14-47-56_mini_1.fastq.gz\n",
      "ERR1795075_Illumina_MiSeq_paired_end_sequencing_EXP-3-1-2017-01-13_14-47-56_mini_2.fastq.gz\n",
      "ERR1795076_Illumina_MiSeq_paired_end_sequencing_EXP-4-1-2017-01-13_14-47-56_mini_1.fastq.gz\n",
      "ERR1795076_Illumina_MiSeq_paired_end_sequencing_EXP-4-1-2017-01-13_14-47-56_mini_2.fastq.gz\n",
      "ERR1795077_Illumina_MiSeq_paired_end_sequencing_EXP-5-1-2017-01-13_14-47-56_mini_1.fastq.gz\n",
      "ERR1795077_Illumina_MiSeq_paired_end_sequencing_EXP-5-1-2017-01-13_14-47-56_mini_2.fastq.gz\n",
      "ERR1795078_Illumina_MiSeq_paired_end_sequencing_EXP-6-1-2017-01-13_14-47-56_mini_1.fastq.gz\n",
      "ERR1795078_Illumina_MiSeq_paired_end_sequencing_EXP-6-1-2017-01-13_14-47-56_mini_2.fastq.gz\n",
      "ERR1795079_Illumina_MiSeq_paired_end_sequencing_EXP-7-1-2017-01-13_14-47-56_mini_1.fastq.gz\n",
      "ERR1795079_Illumina_MiSeq_paired_end_sequencing_EXP-7-1-2017-01-13_14-47-56_mini_2.fastq.gz\n",
      "ERR1795080_Illumina_MiSeq_paired_end_sequencing_EXP-8-1-2017-01-13_14-47-56_mini_1.fastq.gz\n",
      "ERR1795080_Illumina_MiSeq_paired_end_sequencing_EXP-8-1-2017-01-13_14-47-56_mini_2.fastq.gz\n",
      "ERR1795081_Illumina_MiSeq_paired_end_sequencing_EXP-9-1-2017-01-13_14-47-56_mini_1.fastq.gz\n",
      "ERR1795081_Illumina_MiSeq_paired_end_sequencing_EXP-9-1-2017-01-13_14-47-56_mini_2.fastq.gz\n",
      "ERR1795082_Illumina_MiSeq_paired_end_sequencing_EXP-10-1-2017-01-13_14-47-56_mini_1.fastq.gz\n",
      "ERR1795082_Illumina_MiSeq_paired_end_sequencing_EXP-10-1-2017-01-13_14-47-56_mini_2.fastq.gz\n",
      "ERR1795083_Illumina_MiSeq_paired_end_sequencing_EXP-11-1-2017-01-13_14-47-56_mini_1.fastq.gz\n",
      "ERR1795083_Illumina_MiSeq_paired_end_sequencing_EXP-11-1-2017-01-13_14-47-56_mini_2.fastq.gz\n",
      "ERR1795084_Illumina_MiSeq_paired_end_sequencing_EXP-12-1-2017-01-13_14-47-56_mini_1.fastq.gz\n",
      "ERR1795084_Illumina_MiSeq_paired_end_sequencing_EXP-12-1-2017-01-13_14-47-56_mini_2.fastq.gz\n",
      "ERR1795085_Illumina_MiSeq_paired_end_sequencing_EXP-13-1-2017-01-13_14-47-56_mini_1.fastq.gz\n",
      "ERR1795085_Illumina_MiSeq_paired_end_sequencing_EXP-13-1-2017-01-13_14-47-56_mini_2.fastq.gz\n",
      "ERR1795086_Illumina_MiSeq_paired_end_sequencing_EXP-14-1-2017-01-13_14-47-56_mini_1.fastq.gz\n",
      "ERR1795086_Illumina_MiSeq_paired_end_sequencing_EXP-14-1-2017-01-13_14-47-56_mini_2.fastq.gz\n",
      "ERR1795087_Illumina_MiSeq_paired_end_sequencing_EXP-15-1-2017-01-13_14-47-56_mini_1.fastq.gz\n",
      "ERR1795087_Illumina_MiSeq_paired_end_sequencing_EXP-15-1-2017-01-13_14-47-56_mini_2.fastq.gz\n",
      "Input-PE-readme.txt\n",
      "meta.csv\n"
     ]
    }
   ],
   "source": [
    "#REMARK: BAIT8 should be OUTB8 (typo)\n",
    "\n",
    "%%bash\n",
    "\n",
    "#location input and output data\n",
    "cd ~/PROJECTHH/Tests/BAIT8-analysis-PE/\n",
    "ls\n",
    "cd input\n",
    "ls"
   ]
  },
  {
   "cell_type": "code",
   "execution_count": null,
   "metadata": {},
   "outputs": [],
   "source": [
    "#COMMAND\n",
    "%%bash #was run in bash directly (faster)\n",
    "nextflow run OUTB8-analysis.nf --PE --reads ~/PROJECTHH/Tests/BAIT8-analysis-PE/input/ \\\n",
    "--output ~/PROJECTHH/Tests/BAIT8-analysis-PE/output \\\n",
    "--scheme ~/PROJECTHH/Data/cgMLSTschemes/MLST-573-c20-Prepped/cgMLST/scheme-573-c20-cgMLST-prep \\\n",
    "--cpu 2  --env ~/PROJECTHH/envPROJECTHH/ --training ~/PROJECTHH/Data/TrainingFiles/txid573-c20.trn \\\n",
    "--meta ~/PROJECTHH/Tests/BAIT8-analysis-PE/input/meta.csv\n",
    "#Remark due to new (to be fixed) compatibility errors with chewbbaca 2.5.0 the training file was not used in analysis"
   ]
  },
  {
   "cell_type": "markdown",
   "metadata": {},
   "source": [
    "#### COMMAND OUTPUT:\n",
    "\n",
    "N E X T F L O W  ~  version 20.01.0\n",
    "Launching `OUTB8-analysis.nf` [loving_sanger] - revision: 2f7561f251\n",
    "WARN: Access to undefined parameter `v` -- Initialise it to a default value eg. `params.v = some_value`\n",
    "Analysis starting using following parameters:   \n",
    "==============================================================\n",
    "* Path to extra assemblies        : false/*.fa*\n",
    "* Number of CPUs                  : 2\n",
    "* Python3 environment             : /home/hannelore/PROJECTHH/envPROJECTHH\n",
    "* File with metadata              : /home/hannelore/PROJECTHH/Tests/BAIT8-analysis-PE/input/meta.csv\n",
    "* Output-folder                   : /home/hannelore/PROJECTHH/Tests/BAIT8-analysis-PE/output\n",
    "* Folder with input reads         : /home/hannelore/PROJECTHH/Tests/BAIT8-analysis-PE/input\n",
    "* Folder with chosen MLST scheme  : /home/hannelore/PROJECTHH/Data/cgMLSTschemes/MLST-573-c20-Prepped/cgMLST/scheme-573-c20-cgMLST-prep\n",
    "* Training file to use            : /home/hannelore/PROJECTHH/Data/TrainingFiles/txid573-c20.trn \n",
    "* PE reads                        : true\n",
    "* SE reads                        : false\n",
    "* Start from given assemblies     : false\n",
    "\n",
    "executor >  local (6)\n",
    "[b9/7d6af1] process > environment  [100%] 1 of 1, cached: 1 ✔\n",
    "[09/72d6ca] process > rawfastqc    [100%] 32 of 32, cached: 32 ✔\n",
    "[fa/99a18e] process > rawmultiqc   [100%] 1 of 1, cached: 1 ✔\n",
    "[84/a6f6c6] process > trimmedPE    [100%] 16 of 16, cached: 16 ✔\n",
    "[e8/00621e] process > trimfastqcPE [100%] 16 of 16, cached: 16 ✔\n",
    "[83/69a8d9] process > trimmultiqc  [100%] 1 of 1, cached: 1 ✔\n",
    "[15/089d35] process > megahitPE    [100%] 16 of 16, cached: 16 ✔\n",
    "[69/5b7e32] process > matplotlib   [100%] 1 of 1, cached: 1 ✔\n",
    "[83/e84ddd] process > quast        [100%] 1 of 1 ✔\n",
    "[9f/64fed9] process > mlsttype     [100%] 1 of 1 ✔\n",
    "[50/d733ce] process > input4a      [100%] 16 of 16, cached: 16 ✔\n",
    "[b3/f6e41d] process > analysis     [100%] 1 of 1 ✔\n",
    "[6f/5a78a6] process > cleanup      [100%] 1 of 1 ✔\n",
    "[73/bf9b10] process > MSTtree      [100%] 1 of 1 ✔\n",
    "[e1/7adea7] process > feedback     [100%] 1 of 1 ✔\n",
    " \n",
    "DETAILS OF cgMLST ANALYSIS\n",
    "Number of genomes: 16\n",
    "Number of loci: 3859\n",
    "Used this number of CPU cores: 2\n",
    "Used a bsr of: 0.6\n",
    "OUTB8 FINISHED ANALYSIS SUCCESFULLY!\n",
    "Completed at: 10-aug-2020 16:52:44\n",
    "Duration    : 13m 44s\n",
    "CPU hours   : 0.7 (39,5% cached)\n",
    "Succeeded   : 6\n",
    "Cached      : 100\n",
    "\n"
   ]
  },
  {
   "cell_type": "code",
   "execution_count": null,
   "metadata": {},
   "outputs": [],
   "source": [
    "#COMMAND(2)\n",
    "#script was rerun 11/8/2020 because of compatibility orders with the metadata file (1 file/sample)\n",
    "\n",
    "%%bash  #was run in bash directly (faster)\n",
    "nextflow run OUTB8-analysis.nf --PE --reads ~/PROJECTHH/Tests/BAIT8-analysis-PE/input/ \\\n",
    "--output ~/PROJECTHH/Tests/BAIT8-analysis-PE/output \\\n",
    "--scheme ~/PROJECTHH/Data/cgMLSTschemes/MLST-573-c20-Prepped/cgMLST/scheme-573-c20-cgMLST-prep \\\n",
    "--cpu 2  --env ~/PROJECTHH/envPROJECTHH/ --training ~/PROJECTHH/Data/TrainingFiles/txid573-c20.trn \\\n",
    "--meta ~/PROJECTHH/Tests/BAIT8-analysis-PE/input/meta.csv \\\n",
    "-resume\n"
   ]
  },
  {
   "cell_type": "markdown",
   "metadata": {},
   "source": [
    "### OUTPUT (2)\n",
    "N E X T F L O W  ~  version 20.01.0\n",
    "Launching `OUTB8-analysis.nf` [thirsty_sax] - revision: 18ff28fdc9\n",
    "WARN: Access to undefined parameter `v` -- Initialise it to a default value eg. `params.v = some_value`\n",
    "Analysis starting using following parameters:   \n",
    "==============================================================\n",
    "* Path to extra assemblies        : false/*.fa*\n",
    "* Number of CPUs                  : 2\n",
    "* Python3 environment             : /home/hannelore/PROJECTHH/envPROJECTHH\n",
    "* File with metadata              : /home/hannelore/PROJECTHH/Tests/BAIT8-analysis-PE/input/meta.csv\n",
    "* Output-folder                   : /home/hannelore/PROJECTHH/Tests/BAIT8-analysis-PE/output\n",
    "* Folder with input reads         : /home/hannelore/PROJECTHH/Tests/BAIT8-analysis-PE/input\n",
    "* Folder with chosen MLST scheme  : /home/hannelore/PROJECTHH/Data/cgMLSTschemes/MLST-573-c20-Prepped/cgMLST/scheme-573-c20-cgMLST-prep\n",
    "* Training file to use            : /home/hannelore/PROJECTHH/Data/TrainingFiles/txid573-c20.trn \n",
    "* PE reads                        : true\n",
    "* SE reads                        : false\n",
    "* Start from given assemblies     : false\n",
    "\n",
    "executor >  local (2)\n",
    "[b9/7d6af1] process > environment  [100%] 1 of 1, cached: 1 ✔\n",
    "executor >  local (3)\n",
    "[b9/7d6af1] process > environment  [100%] 1 of 1, cached: 1 ✔\n",
    "executor >  local (3)\n",
    "[b9/7d6af1] process > environment  [100%] 1 of 1, cached: 1 ✔\n",
    "executor >  local (6)\n",
    "[b9/7d6af1] process > environment  [100%] 1 of 1, cached: 1 ✔\n",
    "[78/006fde] process > rawfastqc    [100%] 32 of 32, cached: 32 ✔\n",
    "[fa/99a18e] process > rawmultiqc   [100%] 1 of 1, cached: 1 ✔\n",
    "[f1/31f4b8] process > trimmedPE    [100%] 16 of 16, cached: 16 ✔\n",
    "[e0/007370] process > trimfastqcPE [100%] 16 of 16, cached: 16 ✔\n",
    "[83/69a8d9] process > trimmultiqc  [100%] 1 of 1, cached: 1 ✔\n",
    "[da/5c6243] process > megahitPE    [100%] 16 of 16, cached: 16 ✔\n",
    "[69/5b7e32] process > matplotlib   [100%] 1 of 1, cached: 1 ✔\n",
    "[87/afb47c] process > quast        [100%] 1 of 1 ✔\n",
    "[ff/d8764d] process > mlsttype     [100%] 1 of 1 ✔\n",
    "[24/4c920e] process > input4a      [100%] 16 of 16, cached: 16 ✔\n",
    "[f0/a8b459] process > analysis     [100%] 1 of 1 ✔\n",
    "[e9/b00b1a] process > cleanup      [100%] 1 of 1 ✔\n",
    "[2a/bca8dd] process > MSTtree      [100%] 1 of 1 ✔\n",
    "[89/8c494e] process > feedback     [100%] 1 of 1 ✔\n",
    " \n",
    "DETAILS OF cgMLST ANALYSIS\n",
    "Number of genomes: 16\n",
    "Number of loci: 3859\n",
    "Used this number of CPU cores: 2\n",
    "Used a bsr of: 0.6\n",
    "OUTB8 FINISHED ANALYSIS SUCCESFULLY!\n",
    "Completed at: 11-aug-2020 17:44:49\n",
    "Duration    : 15m 15s\n",
    "CPU hours   : 0.8 (37,6% cached)\n",
    "Succeeded   : 6\n",
    "Cached      : 100\n"
   ]
  },
  {
   "cell_type": "code",
   "execution_count": 10,
   "metadata": {},
   "outputs": [
    {
     "name": "stdout",
     "output_type": "stream",
     "text": [
      "Analysis\n",
      "Assemblies-megahit\n",
      "MLSTtypes\n",
      "Quality\n"
     ]
    }
   ],
   "source": [
    "%%bash\n",
    "#Overview of outputfolder:\n",
    "cd ~/PROJECTHH/Tests/BAIT8-analysis-PE/output\n",
    "ls"
   ]
  },
  {
   "cell_type": "code",
   "execution_count": 17,
   "metadata": {},
   "outputs": [
    {
     "name": "stdout",
     "output_type": "stream",
     "text": [
      "SHOW quality:\n",
      "raw\n",
      "trimmed\n",
      "SHOW raw:\n",
      "fastqc_ERR1795072_Illumina_MiSeq_paired_end_sequencing_EXP-0-1-2017-01-13_14-47-56_mini_1.fastq.gz\n",
      "fastqc_ERR1795072_Illumina_MiSeq_paired_end_sequencing_EXP-0-1-2017-01-13_14-47-56_mini_2.fastq.gz\n",
      "fastqc_ERR1795073_Illumina_MiSeq_paired_end_sequencing_EXP-1-1-2017-01-13_14-47-56_mini_1.fastq.gz\n",
      "fastqc_ERR1795073_Illumina_MiSeq_paired_end_sequencing_EXP-1-1-2017-01-13_14-47-56_mini_2.fastq.gz\n",
      "fastqc_ERR1795074_Illumina_MiSeq_paired_end_sequencing_EXP-2-1-2017-01-13_14-47-56_mini_1.fastq.gz\n",
      "fastqc_ERR1795074_Illumina_MiSeq_paired_end_sequencing_EXP-2-1-2017-01-13_14-47-56_mini_2.fastq.gz\n",
      "fastqc_ERR1795075_Illumina_MiSeq_paired_end_sequencing_EXP-3-1-2017-01-13_14-47-56_mini_1.fastq.gz\n",
      "fastqc_ERR1795075_Illumina_MiSeq_paired_end_sequencing_EXP-3-1-2017-01-13_14-47-56_mini_2.fastq.gz\n",
      "fastqc_ERR1795076_Illumina_MiSeq_paired_end_sequencing_EXP-4-1-2017-01-13_14-47-56_mini_1.fastq.gz\n",
      "fastqc_ERR1795076_Illumina_MiSeq_paired_end_sequencing_EXP-4-1-2017-01-13_14-47-56_mini_2.fastq.gz\n",
      "fastqc_ERR1795077_Illumina_MiSeq_paired_end_sequencing_EXP-5-1-2017-01-13_14-47-56_mini_1.fastq.gz\n",
      "fastqc_ERR1795077_Illumina_MiSeq_paired_end_sequencing_EXP-5-1-2017-01-13_14-47-56_mini_2.fastq.gz\n",
      "fastqc_ERR1795078_Illumina_MiSeq_paired_end_sequencing_EXP-6-1-2017-01-13_14-47-56_mini_1.fastq.gz\n",
      "fastqc_ERR1795078_Illumina_MiSeq_paired_end_sequencing_EXP-6-1-2017-01-13_14-47-56_mini_2.fastq.gz\n",
      "fastqc_ERR1795079_Illumina_MiSeq_paired_end_sequencing_EXP-7-1-2017-01-13_14-47-56_mini_1.fastq.gz\n",
      "fastqc_ERR1795079_Illumina_MiSeq_paired_end_sequencing_EXP-7-1-2017-01-13_14-47-56_mini_2.fastq.gz\n",
      "fastqc_ERR1795080_Illumina_MiSeq_paired_end_sequencing_EXP-8-1-2017-01-13_14-47-56_mini_1.fastq.gz\n",
      "fastqc_ERR1795080_Illumina_MiSeq_paired_end_sequencing_EXP-8-1-2017-01-13_14-47-56_mini_2.fastq.gz\n",
      "fastqc_ERR1795081_Illumina_MiSeq_paired_end_sequencing_EXP-9-1-2017-01-13_14-47-56_mini_1.fastq.gz\n",
      "fastqc_ERR1795081_Illumina_MiSeq_paired_end_sequencing_EXP-9-1-2017-01-13_14-47-56_mini_2.fastq.gz\n",
      "fastqc_ERR1795082_Illumina_MiSeq_paired_end_sequencing_EXP-10-1-2017-01-13_14-47-56_mini_1.fastq.gz\n",
      "fastqc_ERR1795082_Illumina_MiSeq_paired_end_sequencing_EXP-10-1-2017-01-13_14-47-56_mini_2.fastq.gz\n",
      "fastqc_ERR1795083_Illumina_MiSeq_paired_end_sequencing_EXP-11-1-2017-01-13_14-47-56_mini_1.fastq.gz\n",
      "fastqc_ERR1795083_Illumina_MiSeq_paired_end_sequencing_EXP-11-1-2017-01-13_14-47-56_mini_2.fastq.gz\n",
      "fastqc_ERR1795084_Illumina_MiSeq_paired_end_sequencing_EXP-12-1-2017-01-13_14-47-56_mini_1.fastq.gz\n",
      "fastqc_ERR1795084_Illumina_MiSeq_paired_end_sequencing_EXP-12-1-2017-01-13_14-47-56_mini_2.fastq.gz\n",
      "fastqc_ERR1795085_Illumina_MiSeq_paired_end_sequencing_EXP-13-1-2017-01-13_14-47-56_mini_1.fastq.gz\n",
      "fastqc_ERR1795085_Illumina_MiSeq_paired_end_sequencing_EXP-13-1-2017-01-13_14-47-56_mini_2.fastq.gz\n",
      "fastqc_ERR1795086_Illumina_MiSeq_paired_end_sequencing_EXP-14-1-2017-01-13_14-47-56_mini_1.fastq.gz\n",
      "fastqc_ERR1795086_Illumina_MiSeq_paired_end_sequencing_EXP-14-1-2017-01-13_14-47-56_mini_2.fastq.gz\n",
      "fastqc_ERR1795087_Illumina_MiSeq_paired_end_sequencing_EXP-15-1-2017-01-13_14-47-56_mini_1.fastq.gz\n",
      "fastqc_ERR1795087_Illumina_MiSeq_paired_end_sequencing_EXP-15-1-2017-01-13_14-47-56_mini_2.fastq.gz\n",
      "multiqc_report.html\n",
      "SHOW trimmed:\n",
      "fastp.html\n",
      "multiqc_report.html\n"
     ]
    }
   ],
   "source": [
    "%%bash\n",
    "#quality\n",
    "echo \"SHOW quality:\"\n",
    "cd /home/hannelore/PROJECTHH/Tests/BAIT8-analysis-PE/output/Quality/\n",
    "ls\n",
    "#raw quality data\n",
    "echo \"SHOW raw:\"\n",
    "cd raw/\n",
    "ls\n",
    "#quality data after trimming\n",
    "echo \"SHOW trimmed:\"\n",
    "cd /home/hannelore/PROJECTHH/Tests/BAIT8-analysis-PE/output/Quality/trimmed/\n",
    "ls\n",
    "#-> all quality files are shown correctly"
   ]
  },
  {
   "cell_type": "code",
   "execution_count": 19,
   "metadata": {},
   "outputs": [
    {
     "name": "stdout",
     "output_type": "stream",
     "text": [
      "ST-types.tsv\n",
      "/home/hannelore/PROJECTHH/Tests/BAIT8-analysis-PE/output/Assemblies-megahit/assembly/ERR1795072_Illumina_MiSeq_paired_end_sequencing_EXP-0-1-2017-01-13_14-47-56_mini.contigs.fa\t-\t-\n",
      "/home/hannelore/PROJECTHH/Tests/BAIT8-analysis-PE/output/Assemblies-megahit/assembly/ERR1795073_Illumina_MiSeq_paired_end_sequencing_EXP-1-1-2017-01-13_14-47-56_mini.contigs.fa\t-\t-\n",
      "/home/hannelore/PROJECTHH/Tests/BAIT8-analysis-PE/output/Assemblies-megahit/assembly/ERR1795074_Illumina_MiSeq_paired_end_sequencing_EXP-2-1-2017-01-13_14-47-56_mini.contigs.fa\t-\t-\n",
      "/home/hannelore/PROJECTHH/Tests/BAIT8-analysis-PE/output/Assemblies-megahit/assembly/ERR1795075_Illumina_MiSeq_paired_end_sequencing_EXP-3-1-2017-01-13_14-47-56_mini.contigs.fa\t-\t-\n",
      "/home/hannelore/PROJECTHH/Tests/BAIT8-analysis-PE/output/Assemblies-megahit/assembly/ERR1795076_Illumina_MiSeq_paired_end_sequencing_EXP-4-1-2017-01-13_14-47-56_mini.contigs.fa\t-\t-\n",
      "/home/hannelore/PROJECTHH/Tests/BAIT8-analysis-PE/output/Assemblies-megahit/assembly/ERR1795077_Illumina_MiSeq_paired_end_sequencing_EXP-5-1-2017-01-13_14-47-56_mini.contigs.fa\t-\t-\n",
      "/home/hannelore/PROJECTHH/Tests/BAIT8-analysis-PE/output/Assemblies-megahit/assembly/ERR1795078_Illumina_MiSeq_paired_end_sequencing_EXP-6-1-2017-01-13_14-47-56_mini.contigs.fa\t-\t-\n",
      "/home/hannelore/PROJECTHH/Tests/BAIT8-analysis-PE/output/Assemblies-megahit/assembly/ERR1795079_Illumina_MiSeq_paired_end_sequencing_EXP-7-1-2017-01-13_14-47-56_mini.contigs.fa\t-\t-\n",
      "/home/hannelore/PROJECTHH/Tests/BAIT8-analysis-PE/output/Assemblies-megahit/assembly/ERR1795080_Illumina_MiSeq_paired_end_sequencing_EXP-8-1-2017-01-13_14-47-56_mini.contigs.fa\t-\t-\n",
      "/home/hannelore/PROJECTHH/Tests/BAIT8-analysis-PE/output/Assemblies-megahit/assembly/ERR1795081_Illumina_MiSeq_paired_end_sequencing_EXP-9-1-2017-01-13_14-47-56_mini.contigs.fa\t-\t-\n",
      "/home/hannelore/PROJECTHH/Tests/BAIT8-analysis-PE/output/Assemblies-megahit/assembly/ERR1795082_Illumina_MiSeq_paired_end_sequencing_EXP-10-1-2017-01-13_14-47-56_mini.contigs.fa\t-\t-\n",
      "/home/hannelore/PROJECTHH/Tests/BAIT8-analysis-PE/output/Assemblies-megahit/assembly/ERR1795083_Illumina_MiSeq_paired_end_sequencing_EXP-11-1-2017-01-13_14-47-56_mini.contigs.fa\t-\t-\n",
      "/home/hannelore/PROJECTHH/Tests/BAIT8-analysis-PE/output/Assemblies-megahit/assembly/ERR1795084_Illumina_MiSeq_paired_end_sequencing_EXP-12-1-2017-01-13_14-47-56_mini.contigs.fa\t-\t-\n",
      "/home/hannelore/PROJECTHH/Tests/BAIT8-analysis-PE/output/Assemblies-megahit/assembly/ERR1795085_Illumina_MiSeq_paired_end_sequencing_EXP-13-1-2017-01-13_14-47-56_mini.contigs.fa\t-\t-\n",
      "/home/hannelore/PROJECTHH/Tests/BAIT8-analysis-PE/output/Assemblies-megahit/assembly/ERR1795086_Illumina_MiSeq_paired_end_sequencing_EXP-14-1-2017-01-13_14-47-56_mini.contigs.fa\t-\t-\n",
      "/home/hannelore/PROJECTHH/Tests/BAIT8-analysis-PE/output/Assemblies-megahit/assembly/ERR1795087_Illumina_MiSeq_paired_end_sequencing_EXP-15-1-2017-01-13_14-47-56_mini.contigs.fa\t-\t-\n"
     ]
    }
   ],
   "source": [
    "%%bash\n",
    "#MLSTtypes\n",
    "cd /home/hannelore/PROJECTHH/Tests/BAIT8-analysis-PE/output/MLSTtypes/\n",
    "ls\n",
    "cat ST-types.tsv\n",
    "#-> no result, most likely because of very small inputfile (10000 reads)"
   ]
  },
  {
   "cell_type": "code",
   "execution_count": 22,
   "metadata": {},
   "outputs": [
    {
     "name": "stdout",
     "output_type": "stream",
     "text": [
      "SHOW Assemblies-megahit:\n",
      "assembly\n",
      "assembly-quality\n",
      "SHOW assemblies:\n",
      "ERR1795072_Illumina_MiSeq_paired_end_sequencing_EXP-0-1-2017-01-13_14-47-56_mini.contigs.fa\n",
      "ERR1795073_Illumina_MiSeq_paired_end_sequencing_EXP-1-1-2017-01-13_14-47-56_mini.contigs.fa\n",
      "ERR1795074_Illumina_MiSeq_paired_end_sequencing_EXP-2-1-2017-01-13_14-47-56_mini.contigs.fa\n",
      "ERR1795075_Illumina_MiSeq_paired_end_sequencing_EXP-3-1-2017-01-13_14-47-56_mini.contigs.fa\n",
      "ERR1795076_Illumina_MiSeq_paired_end_sequencing_EXP-4-1-2017-01-13_14-47-56_mini.contigs.fa\n",
      "ERR1795077_Illumina_MiSeq_paired_end_sequencing_EXP-5-1-2017-01-13_14-47-56_mini.contigs.fa\n",
      "ERR1795078_Illumina_MiSeq_paired_end_sequencing_EXP-6-1-2017-01-13_14-47-56_mini.contigs.fa\n",
      "ERR1795079_Illumina_MiSeq_paired_end_sequencing_EXP-7-1-2017-01-13_14-47-56_mini.contigs.fa\n",
      "ERR1795080_Illumina_MiSeq_paired_end_sequencing_EXP-8-1-2017-01-13_14-47-56_mini.contigs.fa\n",
      "ERR1795081_Illumina_MiSeq_paired_end_sequencing_EXP-9-1-2017-01-13_14-47-56_mini.contigs.fa\n",
      "ERR1795082_Illumina_MiSeq_paired_end_sequencing_EXP-10-1-2017-01-13_14-47-56_mini.contigs.fa\n",
      "ERR1795083_Illumina_MiSeq_paired_end_sequencing_EXP-11-1-2017-01-13_14-47-56_mini.contigs.fa\n",
      "ERR1795084_Illumina_MiSeq_paired_end_sequencing_EXP-12-1-2017-01-13_14-47-56_mini.contigs.fa\n",
      "ERR1795085_Illumina_MiSeq_paired_end_sequencing_EXP-13-1-2017-01-13_14-47-56_mini.contigs.fa\n",
      "ERR1795086_Illumina_MiSeq_paired_end_sequencing_EXP-14-1-2017-01-13_14-47-56_mini.contigs.fa\n",
      "ERR1795087_Illumina_MiSeq_paired_end_sequencing_EXP-15-1-2017-01-13_14-47-56_mini.contigs.fa\n",
      "SHOW assembly-quality:\n",
      "metaquast-results\n"
     ]
    }
   ],
   "source": [
    "%%bash\n",
    "#assemblies\n",
    "echo \"SHOW Assemblies-megahit:\"\n",
    "cd /home/hannelore/PROJECTHH/Tests/BAIT8-analysis-PE/output/Assemblies-megahit/\n",
    "ls\n",
    "echo \"SHOW assemblies:\"\n",
    "cd /home/hannelore/PROJECTHH/Tests/BAIT8-analysis-PE/output/Assemblies-megahit/assembly\n",
    "ls\n",
    "echo \"SHOW assembly-quality:\"\n",
    "cd /home/hannelore/PROJECTHH/Tests/BAIT8-analysis-PE/output/Assemblies-megahit/assembly-quality\n",
    "ls\n",
    "#-> all assemblies and quality of assemblies is shown correctly\n"
   ]
  },
  {
   "cell_type": "code",
   "execution_count": 28,
   "metadata": {},
   "outputs": [
    {
     "name": "stdout",
     "output_type": "stream",
     "text": [
      "SHOW analysis\n",
      "DistanceMatrix.csv\n",
      "input4analysis\n",
      "MST-plot-color-Meta.test.jpeg\n",
      "MST-plot-color-Name.jpeg\n",
      "Ready4MST\n",
      "Results\n",
      "SHOW input:\n",
      "ERR1795072_Illumina_MiSeq_paired_end_sequencing_EXP-0-1-2017-01-13_14-47-56_mini.contigs.fa\n",
      "ERR1795073_Illumina_MiSeq_paired_end_sequencing_EXP-1-1-2017-01-13_14-47-56_mini.contigs.fa\n",
      "ERR1795074_Illumina_MiSeq_paired_end_sequencing_EXP-2-1-2017-01-13_14-47-56_mini.contigs.fa\n",
      "ERR1795075_Illumina_MiSeq_paired_end_sequencing_EXP-3-1-2017-01-13_14-47-56_mini.contigs.fa\n",
      "ERR1795076_Illumina_MiSeq_paired_end_sequencing_EXP-4-1-2017-01-13_14-47-56_mini.contigs.fa\n",
      "ERR1795077_Illumina_MiSeq_paired_end_sequencing_EXP-5-1-2017-01-13_14-47-56_mini.contigs.fa\n",
      "ERR1795078_Illumina_MiSeq_paired_end_sequencing_EXP-6-1-2017-01-13_14-47-56_mini.contigs.fa\n",
      "ERR1795079_Illumina_MiSeq_paired_end_sequencing_EXP-7-1-2017-01-13_14-47-56_mini.contigs.fa\n",
      "ERR1795080_Illumina_MiSeq_paired_end_sequencing_EXP-8-1-2017-01-13_14-47-56_mini.contigs.fa\n",
      "ERR1795081_Illumina_MiSeq_paired_end_sequencing_EXP-9-1-2017-01-13_14-47-56_mini.contigs.fa\n",
      "ERR1795082_Illumina_MiSeq_paired_end_sequencing_EXP-10-1-2017-01-13_14-47-56_mini.contigs.fa\n",
      "ERR1795083_Illumina_MiSeq_paired_end_sequencing_EXP-11-1-2017-01-13_14-47-56_mini.contigs.fa\n",
      "ERR1795084_Illumina_MiSeq_paired_end_sequencing_EXP-12-1-2017-01-13_14-47-56_mini.contigs.fa\n",
      "ERR1795085_Illumina_MiSeq_paired_end_sequencing_EXP-13-1-2017-01-13_14-47-56_mini.contigs.fa\n",
      "ERR1795086_Illumina_MiSeq_paired_end_sequencing_EXP-14-1-2017-01-13_14-47-56_mini.contigs.fa\n",
      "ERR1795087_Illumina_MiSeq_paired_end_sequencing_EXP-15-1-2017-01-13_14-47-56_mini.contigs.fa\n",
      "SHOW results:\n",
      "results_20200811T174438\n",
      "SHOW statistics of cgMLST allelcalling\n",
      "Genome\tEXC\tINF\tLNF\tPLOT\tNIPH\tALM\tASM\n",
      "ERR1795072_Illumina_MiSeq_paired_end_sequencing_EXP-0-1-2017-01-13_14-47-56_mini.contigs.fa\t32\t0\t3791\t36\t0\t0\t0\n",
      "ERR1795073_Illumina_MiSeq_paired_end_sequencing_EXP-1-1-2017-01-13_14-47-56_mini.contigs.fa\t44\t0\t3778\t36\t0\t1\t0\n",
      "ERR1795074_Illumina_MiSeq_paired_end_sequencing_EXP-2-1-2017-01-13_14-47-56_mini.contigs.fa\t36\t0\t3794\t29\t0\t0\t0\n",
      "ERR1795075_Illumina_MiSeq_paired_end_sequencing_EXP-3-1-2017-01-13_14-47-56_mini.contigs.fa\t35\t0\t3786\t35\t0\t3\t0\n",
      "ERR1795076_Illumina_MiSeq_paired_end_sequencing_EXP-4-1-2017-01-13_14-47-56_mini.contigs.fa\t43\t0\t3772\t42\t0\t1\t1\n",
      "ERR1795077_Illumina_MiSeq_paired_end_sequencing_EXP-5-1-2017-01-13_14-47-56_mini.contigs.fa\t59\t0\t3747\t50\t0\t2\t1\n",
      "ERR1795078_Illumina_MiSeq_paired_end_sequencing_EXP-6-1-2017-01-13_14-47-56_mini.contigs.fa\t25\t0\t3816\t18\t0\t0\t0\n",
      "ERR1795079_Illumina_MiSeq_paired_end_sequencing_EXP-7-1-2017-01-13_14-47-56_mini.contigs.fa\t51\t0\t3762\t43\t0\t0\t3\n",
      "ERR1795080_Illumina_MiSeq_paired_end_sequencing_EXP-8-1-2017-01-13_14-47-56_mini.contigs.fa\t45\t0\t3777\t37\t0\t0\t0\n",
      "ERR1795081_Illumina_MiSeq_paired_end_sequencing_EXP-9-1-2017-01-13_14-47-56_mini.contigs.fa\t57\t0\t3753\t47\t0\t2\t0\n",
      "ERR1795082_Illumina_MiSeq_paired_end_sequencing_EXP-10-1-2017-01-13_14-47-56_mini.contigs.fa\t47\t0\t3778\t32\t0\t1\t1\n",
      "ERR1795083_Illumina_MiSeq_paired_end_sequencing_EXP-11-1-2017-01-13_14-47-56_mini.contigs.fa\t49\t0\t3766\t42\t0\t1\t1\n",
      "ERR1795084_Illumina_MiSeq_paired_end_sequencing_EXP-12-1-2017-01-13_14-47-56_mini.contigs.fa\t52\t0\t3757\t46\t0\t1\t3\n",
      "ERR1795085_Illumina_MiSeq_paired_end_sequencing_EXP-13-1-2017-01-13_14-47-56_mini.contigs.fa\t45\t0\t3778\t36\t0\t0\t0\n",
      "ERR1795086_Illumina_MiSeq_paired_end_sequencing_EXP-14-1-2017-01-13_14-47-56_mini.contigs.fa\t51\t0\t3761\t47\t0\t0\t0\n",
      "ERR1795087_Illumina_MiSeq_paired_end_sequencing_EXP-15-1-2017-01-13_14-47-56_mini.contigs.fa\t61\t0\t3736\t58\t0\t1\t3"
     ]
    }
   ],
   "source": [
    "%%bash\n",
    "#analysis\n",
    "echo \"SHOW analysis\"\n",
    "cd /home/hannelore/PROJECTHH/Tests/BAIT8-analysis-PE/output/Analysis\n",
    "ls\n",
    "echo \"SHOW input\":\n",
    "cd /home/hannelore/PROJECTHH/Tests/BAIT8-analysis-PE/output/Analysis/input4analysis\n",
    "ls\n",
    "echo \"SHOW results:\"\n",
    "cd /home/hannelore/PROJECTHH/Tests/BAIT8-analysis-PE/output/Analysis/Results\n",
    "ls\n",
    "echo \"SHOW statistics of cgMLST allelcalling\"\n",
    "cd results_20200811T174438/\n",
    "cat results_statistics.tsv\n",
    "#-> Very little EXC (= alleles with exact matches) and INF (inferred new alleles), but a lot of LNF (=loci not found)\n",
    "#possibly explained by very low number of reads (10000) in these test-samples \n"
   ]
  },
  {
   "cell_type": "code",
   "execution_count": 32,
   "metadata": {},
   "outputs": [],
   "source": [
    "#MST PLOT\n",
    "from PIL import Image\n",
    "image = Image.open(\"/home/hannelore/PROJECTHH/Tests/BAIT8-analysis-PE/output/Analysis/MST-plot-color-Meta.test.jpeg\")\n",
    "image.show()\n"
   ]
  },
  {
   "cell_type": "markdown",
   "metadata": {},
   "source": [
    "### Conclusions\n",
    "* Correct input data was used and data were correctly put in the indicated outputfolder\n",
    "* Folder quality (REMARK: the chosen data were most likely already trimmed before uploading so the trimming step had only minimal effect on quality parameters)\n",
    "  - Quality of raw data is both given seperately (per file) as in one multiqc file\n",
    "  - Quality after trimming is given both by the fastp tool as multiqc, fastp and multiqc data complement each other (that's why both were executed)\n",
    "* Folder MLSTtypes: MLST-typing tool did not produce relevant results, most likely because the analysis was run on \"mini\"fastqs and therefore there was not enough information to determine the mlst-type. It is expected that diagnostic relevant results will be obtained when analysing the full fastq files\n",
    "* Folder Assemblies-megahit: \n",
    "  - Folder assembly correctly gives all the generated assemblies\n",
    "  - Folder assembly-quality gives quality parameters of the assemblies (with metaquast)\n",
    "* Folder Analysis\n",
    "  - Folder input4analysis correctly represents all used assemblies in the cgMLST analysis\n",
    "  - Folder results gives the raw results\n",
    "  - Folder Ready4MST gives the adjusted files ready for MST analysis\n",
    "  - Distance matrix was uploaded correctly (but the result was not diagnostically relevant)\n",
    "  - MST plots were generated correctly for all metadata-parameter. REMARK: plots are NOT diagnostically relevant because of very small files (10000 reads) and because data belong to the same cluster and no independant control sample was added. REMARK2: dots are on 1 line (and not in 1 point) because of dodging\n",
    "  \n",
    "-> The pipeline seems to work correctly but more tests are necessary on \"normal size\" fastq files (will be done on HPC) and an independant control should be added to get diagnostic relevant data."
   ]
  },
  {
   "cell_type": "markdown",
   "metadata": {},
   "source": [
    "## D. SE analysis"
   ]
  },
  {
   "cell_type": "markdown",
   "metadata": {},
   "source": [
    "### Input\n",
    "Same input data as PE but only the forward (1) reads were used"
   ]
  },
  {
   "cell_type": "code",
   "execution_count": 2,
   "metadata": {},
   "outputs": [
    {
     "name": "stdout",
     "output_type": "stream",
     "text": [
      "input\n",
      "ERR1795072_Illumina_MiSeq_paired_end_sequencing_EXP-0-1-2017-01-13_14-47-56_mini_1.fastq.gz\n",
      "ERR1795073_Illumina_MiSeq_paired_end_sequencing_EXP-1-1-2017-01-13_14-47-56_mini_1.fastq.gz\n",
      "ERR1795074_Illumina_MiSeq_paired_end_sequencing_EXP-2-1-2017-01-13_14-47-56_mini_1.fastq.gz\n",
      "ERR1795075_Illumina_MiSeq_paired_end_sequencing_EXP-3-1-2017-01-13_14-47-56_mini_1.fastq.gz\n",
      "ERR1795076_Illumina_MiSeq_paired_end_sequencing_EXP-4-1-2017-01-13_14-47-56_mini_1.fastq.gz\n",
      "ERR1795077_Illumina_MiSeq_paired_end_sequencing_EXP-5-1-2017-01-13_14-47-56_mini_1.fastq.gz\n",
      "ERR1795078_Illumina_MiSeq_paired_end_sequencing_EXP-6-1-2017-01-13_14-47-56_mini_1.fastq.gz\n",
      "ERR1795079_Illumina_MiSeq_paired_end_sequencing_EXP-7-1-2017-01-13_14-47-56_mini_1.fastq.gz\n",
      "ERR1795080_Illumina_MiSeq_paired_end_sequencing_EXP-8-1-2017-01-13_14-47-56_mini_1.fastq.gz\n",
      "ERR1795081_Illumina_MiSeq_paired_end_sequencing_EXP-9-1-2017-01-13_14-47-56_mini_1.fastq.gz\n",
      "ERR1795082_Illumina_MiSeq_paired_end_sequencing_EXP-10-1-2017-01-13_14-47-56_mini_1.fastq.gz\n",
      "ERR1795083_Illumina_MiSeq_paired_end_sequencing_EXP-11-1-2017-01-13_14-47-56_mini_1.fastq.gz\n",
      "ERR1795084_Illumina_MiSeq_paired_end_sequencing_EXP-12-1-2017-01-13_14-47-56_mini_1.fastq.gz\n",
      "ERR1795085_Illumina_MiSeq_paired_end_sequencing_EXP-13-1-2017-01-13_14-47-56_mini_1.fastq.gz\n",
      "ERR1795086_Illumina_MiSeq_paired_end_sequencing_EXP-14-1-2017-01-13_14-47-56_mini_1.fastq.gz\n",
      "ERR1795087_Illumina_MiSeq_paired_end_sequencing_EXP-15-1-2017-01-13_14-47-56_mini_1.fastq.gz\n",
      "Input-PE-readme.txt\n",
      "meta.csv\n"
     ]
    }
   ],
   "source": [
    "#REMARK: BAIT8 should be OUTB8 (typo)\n",
    "%%bash\n",
    "#location input and output data\n",
    "cd ~/PROJECTHH/Tests/BAIT8-analysis-SE/\n",
    "ls\n",
    "cd input\n",
    "ls"
   ]
  },
  {
   "cell_type": "markdown",
   "metadata": {},
   "source": [
    "### Command"
   ]
  },
  {
   "cell_type": "code",
   "execution_count": null,
   "metadata": {},
   "outputs": [],
   "source": [
    "%%bash #was run in bash directly (faster)\n",
    "nextflow run OUTB8-analysis.nf --SE --reads ~/PROJECTHH/Tests/BAIT8-analysis-SE/input/ \\\n",
    "--output ~/PROJECTHH/Tests/BAIT8-analysis-SE/output \\\n",
    "--scheme ~/PROJECTHH/Data/cgMLSTschemes/MLST-573-c20-Prepped/cgMLST/scheme-573-c20-cgMLST-prep \\\n",
    "--cpu 2  --env ~/PROJECTHH/envPROJECTHH/ --training ~/PROJECTHH/Data/TrainingFiles/txid573-c20.trn \\\n",
    "--meta ~/PROJECTHH/Tests/BAIT8-analysis-SE/input/meta.csv -resume\n",
    "#remark: run was resumed because of typing error"
   ]
  },
  {
   "cell_type": "markdown",
   "metadata": {},
   "source": [
    "### Output\n",
    "\n",
    "N E X T F L O W  ~  version 20.01.0\n",
    "Launching `OUTB8-analysis.nf` [big_kalam] - revision: 18ff28fdc9\n",
    "WARN: Access to undefined parameter `v` -- Initialise it to a default value eg. `params.v = some_value`\n",
    "Analysis starting using following parameters:   \n",
    "==============================================================\n",
    "* Path to extra assemblies        : false/*.fa*\n",
    "* Number of CPUs                  : 2\n",
    "* Python3 environment             : /home/hannelore/PROJECTHH/envPROJECTHH\n",
    "* File with metadata              : /home/hannelore/PROJECTHH/Tests/BAIT8-analysis-SE/input/meta.csv\n",
    "* Output-folder                   : /home/hannelore/PROJECTHH/Tests/BAIT8-analysis-SE/output\n",
    "* Folder with input reads         : /home/hannelore/PROJECTHH/Tests/BAIT8-analysis-SE/input\n",
    "* Folder with chosen MLST scheme  : /home/hannelore/PROJECTHH/Data/cgMLSTschemes/MLST-573-c20-Prepped/cgMLST/scheme-573-c20-cgMLST-prep\n",
    "* Training file to use            : /home/hannelore/PROJECTHH/Data/TrainingFiles/txid573-c20.trn \n",
    "* PE reads                        : false\n",
    "* SE reads                        : true\n",
    "* Start from given assemblies     : false\n",
    "\n",
    "executor >  local (6)\n",
    "[01/96b01d] process > environment  [100%] 1 of 1, cached: 1 ✔\n",
    "[36/9fb39a] process > rawfastqc    [100%] 16 of 16, cached: 16 ✔\n",
    "[55/a90636] process > rawmultiqc   [100%] 1 of 1, cached: 1 ✔\n",
    "[dd/5d2677] process > trimmedSE    [100%] 16 of 16, cached: 16 ✔\n",
    "[9f/ef0d64] process > trimfastqcSE [100%] 16 of 16, cached: 16 ✔\n",
    "[62/aaf1f1] process > trimmultiqc  [100%] 1 of 1, cached: 1 ✔\n",
    "[08/c767bd] process > megahitSE    [100%] 16 of 16, cached: 16 ✔\n",
    "[2c/66fa9b] process > matplotlib   [100%] 1 of 1, cached: 1 ✔\n",
    "[ab/c41751] process > quast        [100%] 1 of 1 ✔\n",
    "[15/ab9be2] process > mlsttype     [100%] 1 of 1 ✔\n",
    "[05/8a9d06] process > input4a      [100%] 16 of 16, cached: 16 ✔\n",
    "[25/f11b1c] process > analysis     [100%] 1 of 1 ✔\n",
    "[d2/d19d6a] process > cleanup      [100%] 1 of 1 ✔\n",
    "[c9/e19d14] process > MSTtree      [100%] 1 of 1 ✔\n",
    "[cf/7a470d] process > feedback     [100%] 1 of 1 ✔\n",
    "OUTB8 FINISHED ANALYSIS SUCCESFULLY!\n",
    "\n",
    "\n",
    "\n",
    "\n",
    "\n",
    "\n",
    "Completed at: 12-aug-2020 09:26:31\n",
    "Duration    : 14m 58s\n",
    "CPU hours   : 0.6 (23,1% cached)\n",
    "Succeeded   : 6\n",
    "Cached      : 84\n"
   ]
  },
  {
   "cell_type": "code",
   "execution_count": 4,
   "metadata": {},
   "outputs": [
    {
     "name": "stdout",
     "output_type": "stream",
     "text": [
      "Analysis\n",
      "Assemblies-megahit\n",
      "MLSTtypes\n",
      "Quality\n"
     ]
    }
   ],
   "source": [
    "%%bash\n",
    "#Overview of outputfolder:\n",
    "cd ~/PROJECTHH/Tests/BAIT8-analysis-SE/output\n",
    "ls"
   ]
  },
  {
   "cell_type": "markdown",
   "metadata": {},
   "source": [
    "### Conclusions\n",
    "\n",
    "Identical as \"C. PE analysis\" (see higher)"
   ]
  },
  {
   "cell_type": "markdown",
   "metadata": {},
   "source": [
    "## E. SE analysis with extra assemblies"
   ]
  },
  {
   "cell_type": "markdown",
   "metadata": {},
   "source": [
    "### Input\n",
    "* Raw fastq file = same data as SE analysis\n",
    "* Xtra assemblies = first 10 assemblies of reference assemblies downloaded for scheme creation of 573"
   ]
  },
  {
   "cell_type": "code",
   "execution_count": 14,
   "metadata": {},
   "outputs": [
    {
     "name": "stdout",
     "output_type": "stream",
     "text": [
      "ERR1795072_Illumina_MiSeq_paired_end_sequencing_EXP-0-1-2017-01-13_14-47-56_mini_1.fastq.gz\n",
      "ERR1795073_Illumina_MiSeq_paired_end_sequencing_EXP-1-1-2017-01-13_14-47-56_mini_1.fastq.gz\n",
      "ERR1795074_Illumina_MiSeq_paired_end_sequencing_EXP-2-1-2017-01-13_14-47-56_mini_1.fastq.gz\n",
      "ERR1795075_Illumina_MiSeq_paired_end_sequencing_EXP-3-1-2017-01-13_14-47-56_mini_1.fastq.gz\n",
      "ERR1795076_Illumina_MiSeq_paired_end_sequencing_EXP-4-1-2017-01-13_14-47-56_mini_1.fastq.gz\n",
      "ERR1795077_Illumina_MiSeq_paired_end_sequencing_EXP-5-1-2017-01-13_14-47-56_mini_1.fastq.gz\n",
      "ERR1795078_Illumina_MiSeq_paired_end_sequencing_EXP-6-1-2017-01-13_14-47-56_mini_1.fastq.gz\n",
      "ERR1795079_Illumina_MiSeq_paired_end_sequencing_EXP-7-1-2017-01-13_14-47-56_mini_1.fastq.gz\n",
      "ERR1795080_Illumina_MiSeq_paired_end_sequencing_EXP-8-1-2017-01-13_14-47-56_mini_1.fastq.gz\n",
      "ERR1795081_Illumina_MiSeq_paired_end_sequencing_EXP-9-1-2017-01-13_14-47-56_mini_1.fastq.gz\n",
      "ERR1795082_Illumina_MiSeq_paired_end_sequencing_EXP-10-1-2017-01-13_14-47-56_mini_1.fastq.gz\n",
      "ERR1795083_Illumina_MiSeq_paired_end_sequencing_EXP-11-1-2017-01-13_14-47-56_mini_1.fastq.gz\n",
      "ERR1795084_Illumina_MiSeq_paired_end_sequencing_EXP-12-1-2017-01-13_14-47-56_mini_1.fastq.gz\n",
      "ERR1795085_Illumina_MiSeq_paired_end_sequencing_EXP-13-1-2017-01-13_14-47-56_mini_1.fastq.gz\n",
      "ERR1795086_Illumina_MiSeq_paired_end_sequencing_EXP-14-1-2017-01-13_14-47-56_mini_1.fastq.gz\n",
      "ERR1795087_Illumina_MiSeq_paired_end_sequencing_EXP-15-1-2017-01-13_14-47-56_mini_1.fastq.gz\n",
      "Input-SE-readme.txt\n",
      "meta.csv\n",
      "Xtra-assemblies\n",
      "assemblies-origin.txt\n",
      "GCF_000364385.3.fa\n",
      "GCF_000739495.1.fa\n",
      "GCF_000764615.1.fa\n",
      "GCF_000775955.1.fa\n",
      "GCF_000807395.2.fa\n",
      "GCF_000814305.1.fa\n",
      "GCF_000968155.1.fa\n",
      "GCF_001022035.1.fa\n",
      "GCF_001022175.1.fa\n",
      "GCF_001022235.1.fa\n"
     ]
    }
   ],
   "source": [
    "%%bash\n",
    "cd /home/hannelore/PROJECTHH/Tests/OUTB8-analysis-Xtra-assemblies/input\n",
    "ls\n",
    "cd Xtra-assemblies\n",
    "ls"
   ]
  },
  {
   "cell_type": "markdown",
   "metadata": {},
   "source": [
    "### Command"
   ]
  },
  {
   "cell_type": "code",
   "execution_count": null,
   "metadata": {},
   "outputs": [],
   "source": [
    "%%bash #was run in bash directly (faster)\n",
    "nextflow run OUTB8-analysis.nf --SE --reads ~/PROJECTHH/Tests/OUTB8-analysis-Xtra-assemblies/input/ \\\n",
    "--output ~/PROJECTHH/Tests/OUTB8-analysis-Xtra-assemblies/output \\\n",
    "--scheme ~/PROJECTHH/Data/cgMLSTschemes/MLST-573-c20-Prepped/cgMLST/scheme-573-c20-cgMLST-prep \\\n",
    "--cpu 2  --env ~/PROJECTHH/envPROJECTHH/ --training ~/PROJECTHH/Data/TrainingFiles/txid573-c20.trn \\\n",
    "--meta ~/PROJECTHH/Tests/OUTB8-analysis-Xtra-assemblies/input/meta.csv \\\n",
    "--assem ~/PROJECTHH/Tests/OUTB8-analysis-Xtra-assemblies/input/Xtra-assemblies/"
   ]
  },
  {
   "cell_type": "markdown",
   "metadata": {},
   "source": [
    "### Output\n",
    "N E X T F L O W  ~  version 20.01.0\n",
    "Launching `OUTB8-analysis.nf` [nostalgic_yonath] - revision: 50777960b8\n",
    "WARN: Access to undefined parameter `v` -- Initialise it to a default value eg. `params.v = some_value`\n",
    "Analysis starting using following parameters:   \n",
    "==============================================================\n",
    "* Path to extra assemblies        : /home/hannelore/PROJECTHH/Tests/OUTB8-analysis-Xtra-assemblies/input/Xtra-assemblies/*.fa*\n",
    "* Number of CPUs                  : 2\n",
    "* Python3 environment             : /home/hannelore/PROJECTHH/envPROJECTHH\n",
    "* File with metadata              : /home/hannelore/PROJECTHH/Tests/OUTB8-analysis-Xtra-assemblies/input/meta.csv\n",
    "* Output-folder                   : /home/hannelore/PROJECTHH/Tests/OUTB8-analysis-Xtra-assemblies/output\n",
    "* Folder with input reads         : /home/hannelore/PROJECTHH/Tests/OUTB8-analysis-Xtra-assemblies/input\n",
    "* Folder with chosen MLST scheme  : /home/hannelore/PROJECTHH/Data/cgMLSTschemes/MLST-573-c20-Prepped/cgMLST/scheme-573-c20-cgMLST-prep\n",
    "* Training file to use            : /home/hannelore/PROJECTHH/Data/TrainingFiles/txid573-c20.trn \n",
    "* PE reads                        : false\n",
    "* SE reads                        : true\n",
    "* Start from given assemblies     : false\n",
    "\n",
    "executor >  local (100)\n",
    "[19/d3b82d] process > environment  [100%] 1 of 1 ✔\n",
    "[4f/dcb9f7] process > rawfastqc    [100%] 16 of 16 ✔\n",
    "[81/0fb848] process > rawmultiqc   [100%] 1 of 1 ✔\n",
    "[39/f4812b] process > trimmedSE    [100%] 16 of 16 ✔\n",
    "[ac/4da368] process > trimfastqcSE [100%] 16 of 16 ✔\n",
    "[35/58ff0a] process > trimmultiqc  [100%] 1 of 1 ✔\n",
    "[ce/408af2] process > megahitSE    [100%] 16 of 16 ✔\n",
    "[25/94421c] process > matplotlib   [100%] 1 of 1 ✔\n",
    "[86/94c294] process > quast        [100%] 1 of 1 ✔\n",
    "[38/d0c387] process > mlsttype     [100%] 1 of 1 ✔\n",
    "[fc/5657e3] process > inputXtra    [100%] 10 of 10 ✔\n",
    "[63/3083a2] process > input4       [100%] 16 of 16 ✔\n",
    "[8b/b713f6] process > analysis     [100%] 1 of 1 ✔\n",
    "[a1/1df38b] process > cleanup      [100%] 1 of 1 ✔\n",
    "[68/8b3a85] process > MSTtree      [100%] 1 of 1 ✔\n",
    "[04/9ba2d1] process > feedback     [100%] 1 of 1 ✔\n",
    " \n",
    "DETAILS OF cgMLST ANALYSIS\n",
    "Number of genomes: 26\n",
    "Number of loci: 3859\n",
    "Used this number of CPU cores: 2\n",
    "Used a bsr of: 0.6\n",
    "OUTB8 FINISHED ANALYSIS SUCCESFULLY!\n",
    "Completed at: 12-aug-2020 11:24:27\n",
    "Duration    : 21m 34s\n",
    "CPU hours   : 0.7\n",
    "Succeeded   : 100\n"
   ]
  },
  {
   "cell_type": "code",
   "execution_count": 20,
   "metadata": {},
   "outputs": [
    {
     "name": "stdout",
     "output_type": "stream",
     "text": [
      "Analysis\n",
      "Assemblies-megahit\n",
      "MLSTtypes\n",
      "Quality\n"
     ]
    }
   ],
   "source": [
    "%%bash\n",
    "#Overview of outputfolder:\n",
    "cd ~/PROJECTHH/Tests/OUTB8-analysis-Xtra-assemblies/output\n",
    "ls"
   ]
  },
  {
   "cell_type": "markdown",
   "metadata": {},
   "source": [
    "### Conclusion\n",
    "Th result is not as expected (>= 2 clusters), process cleanup seems to have failed -> failed distancematrix and tree\n",
    "-> needs to be fixed"
   ]
  },
  {
   "cell_type": "markdown",
   "metadata": {},
   "source": [
    "### REMARK\n",
    "For the video for presentation a control sample was added: PRJNA650119 sample 1"
   ]
  },
  {
   "cell_type": "markdown",
   "metadata": {},
   "source": [
    "## E'. SE analysis with extra assemblies\n",
    "same test after adjustments"
   ]
  },
  {
   "cell_type": "markdown",
   "metadata": {},
   "source": [
    "The same test was rerun after some minor workflow adjustments.\n",
    "However the same problem remains during cleanup -> this seems to be a problem of the chewBBACA software -> test apart from pipeline:"
   ]
  },
  {
   "cell_type": "code",
   "execution_count": 41,
   "metadata": {},
   "outputs": [
    {
     "name": "stdout",
     "output_type": "stream",
     "text": [
      "chewBBACA version 2.1.0 by Mickael Silva at https://github.com/B-UMMI/chewBBACA\n",
      "email contact: mickaelsilva@medicina.ulisboa.pt\n",
      "building the presence and absence matrix...\n",
      "presence and abscence matrix built\n",
      "processing the matrix\n",
      "deleted : 3859 loci\n",
      "total loci remaining : 0\n"
     ]
    }
   ],
   "source": [
    "%%bash\n",
    "#repeating problem in BASH (chewBBACA v2.1.0)\n",
    "cd ~/PROJECTHH/Tests/OUTB8-analysis-Xtra-assemblies/output/Analysis/Results/results_20200813T133117/\n",
    "chewBBACA.py ExtractCgMLST -i results_alleles.tsv -o ready"
   ]
  },
  {
   "cell_type": "code",
   "execution_count": null,
   "metadata": {},
   "outputs": [],
   "source": [
    "%%bash\n",
    "#repeatin with chewBBACA v2.5.4 in bash directly\n",
    "cd ~/PROJECTHH/Tests/OUTB8-analysis-Xtra-assemblies/output/Analysis/Results/results_20200813T133117/\n",
    "chewBBACA.py ExtractCgMLST -i results_alleles.tsv -o ready"
   ]
  },
  {
   "cell_type": "markdown",
   "metadata": {},
   "source": [
    "### output \n",
    "chewBBACA version: 2.5.4\n",
    "Authors: Mickael Silva, Pedro Cerqueira, Rafael Mamede\n",
    "Github: https://github.com/B-UMMI/chewBBACA\n",
    "Wiki: https://github.com/B-UMMI/chewBBACA/wiki\n",
    "Tutorial: https://github.com/B-UMMI/chewBBACA_tutorial\n",
    "Contacts: imm-bioinfo@medicina.ulisboa.pt\n",
    "\n",
    "=============================\n",
    "  chewBBACA - ExtractCgMLST\n",
    "=============================\n",
    "\n",
    "Building presence and absence matrix...done.\n",
    "Determining genes in the core genome...done.\n",
    "Determining missing data per genome...done.\n",
    "\n",
    "Core genome composed of 0/3859 genes.\n"
   ]
  },
  {
   "cell_type": "markdown",
   "metadata": {},
   "source": [
    "### conclusion\n",
    "Seems to be problem of the chewBBACA software, not of the pipeline. Maybe because of very diverse assemblies??\n",
    "* -> conctact writers\n",
    "* -> OPTION NOT YET AVAILABLE!!"
   ]
  },
  {
   "cell_type": "markdown",
   "metadata": {},
   "source": [
    "## F. Analysis with already generated assemblies (only) "
   ]
  },
  {
   "cell_type": "markdown",
   "metadata": {},
   "source": [
    "### Input\n",
    "\n",
    " first 10 assemblies of reference assemblies downloaded for scheme creation of 573"
   ]
  },
  {
   "cell_type": "code",
   "execution_count": 21,
   "metadata": {},
   "outputs": [
    {
     "name": "stdout",
     "output_type": "stream",
     "text": [
      "assemblies-origin.txt\n",
      "GCF_000364385.3.fa\n",
      "GCF_000739495.1.fa\n",
      "GCF_000764615.1.fa\n",
      "GCF_000775955.1.fa\n",
      "GCF_000807395.2.fa\n",
      "GCF_000814305.1.fa\n",
      "GCF_000968155.1.fa\n",
      "GCF_001022035.1.fa\n",
      "GCF_001022175.1.fa\n",
      "GCF_001022235.1.fa\n",
      "meta.csv\n"
     ]
    }
   ],
   "source": [
    "%%bash\n",
    "cd /home/hannelore/PROJECTHH/Tests/OUTB8-analysis-Only-assemblies/input\n",
    "ls"
   ]
  },
  {
   "cell_type": "markdown",
   "metadata": {},
   "source": [
    "### Command"
   ]
  },
  {
   "cell_type": "code",
   "execution_count": null,
   "metadata": {},
   "outputs": [],
   "source": [
    "%%bash \n",
    "#was run in bash directly (faster)\n",
    "nextflow run OUTB8-analysis.nf --x \\\n",
    "--output ~/PROJECTHH/Tests/OUTB8-analysis-Only-assemblies/output \\\n",
    "--scheme ~/PROJECTHH/Data/cgMLSTschemes/MLST-573-c20-Prepped/cgMLST/scheme-573-c20-cgMLST-prep \\\n",
    "--cpu 2  --env ~/PROJECTHH/envPROJECTHH/ --training ~/PROJECTHH/Data/TrainingFiles/txid573-c20.trn \\\n",
    "--meta ~/PROJECTHH/Tests/OUTB8-analysis-Only-assemblies/input/meta.csv \\\n",
    "--assem ~/PROJECTHH/Tests/OUTB8-analysis-Only-assemblies/input/ -resume\n",
    "#resume because of typo"
   ]
  },
  {
   "cell_type": "markdown",
   "metadata": {},
   "source": [
    "### Output\n",
    "N E X T F L O W  ~  version 20.01.0\n",
    "Launching `OUTB8-analysis.nf` [naughty_edison] - revision: 6421b2cf7f\n",
    "WARN: Access to undefined parameter `v` -- Initialise it to a default value eg. `params.v = some_value`\n",
    "Analysis starting using following parameters:   \n",
    "==============================================================\n",
    "* Path to extra assemblies        : /home/hannelore/PROJECTHH/Tests/OUTB8-analysis-Only-assemblies/input/*.fa*\n",
    "* Number of CPUs                  : 2\n",
    "* Python3 environment             : /home/hannelore/PROJECTHH/envPROJECTHH\n",
    "* File with metadata              : /home/hannelore/PROJECTHH/Tests/OUTB8-analysis-Only-assemblies/input/meta.csv\n",
    "* Output-folder                   : /home/hannelore/PROJECTHH/Tests/OUTB8-analysis-Only-assemblies/output\n",
    "* Folder with input reads         : /home/hannelore/PROJECTHH/Scripts/Pipeline/*{1,2}.fastq.gz\n",
    "* Folder with chosen MLST scheme  : /home/hannelore/PROJECTHH/Data/cgMLSTschemes/MLST-573-c20-Prepped/cgMLST/scheme-573-c20-cgMLST-prep\n",
    "* Training file to use            : /home/hannelore/PROJECTHH/Data/TrainingFiles/txid573-c20.trn \n",
    "* PE reads                        : false\n",
    "* SE reads                        : false\n",
    "* Start from given assemblies     : true\n",
    "\n",
    "executor >  local (5)\n",
    "[b3/8e176a] process > environment [100%] 1 of 1, cached: 1 ✔\n",
    "[ef/8f0028] process > fromassem   [100%] 1 of 1, cached: 1 ✔\n",
    "[ed/e5e760] process > inputXtra   [100%] 10 of 10, cached: 10 ✔\n",
    "[32/37f247] process > input4      [100%] 1 of 1 ✔\n",
    "[29/7462c6] process > analysis    [100%] 1 of 1 ✔\n",
    "[ec/edabd4] process > cleanup     [100%] 1 of 1 ✔\n",
    "[0e/83f7f2] process > MSTtree     [100%] 1 of 1 ✔\n",
    "[75/275c8b] process > feedback    [100%] 1 of 1 ✔\n",
    " \n",
    "DETAILS OF cgMLST ANALYSIS\n",
    "Number of genomes: 10\n",
    "Number of loci: 3859\n",
    "Used this number of CPU cores: 2\n",
    "Used a bsr of: 0.6\n",
    "OUTB8 FINISHED ANALYSIS SUCCESFULLY!\n",
    "Completed at: 12-aug-2020 11:47:06\n",
    "Duration    : 7m 50s\n",
    "CPU hours   : 0.1 (0,5% cached)\n",
    "Succeeded   : 5\n",
    "Cached      : 12\n"
   ]
  },
  {
   "cell_type": "code",
   "execution_count": null,
   "metadata": {},
   "outputs": [],
   "source": [
    "%%bash\n",
    "#Overview of outputfolder:\n",
    "cd ~/PROJECTHH/Tests/BAIT8-analysis-Only-assemblies/output\n",
    "ls"
   ]
  },
  {
   "cell_type": "markdown",
   "metadata": {},
   "source": [
    "### Conclusion"
   ]
  },
  {
   "cell_type": "markdown",
   "metadata": {},
   "source": [
    "# PIPELINE 2: OUTB8 SCHEME"
   ]
  },
  {
   "cell_type": "markdown",
   "metadata": {},
   "source": [
    "## A. Show version"
   ]
  },
  {
   "cell_type": "code",
   "execution_count": 17,
   "metadata": {},
   "outputs": [
    {
     "name": "stdout",
     "output_type": "stream",
     "text": [
      "N E X T F L O W  ~  version 20.01.0\n",
      "Launching `OUTB8-scheme.nf` [ecstatic_waddington] - revision: 829628426a\n",
      "OUTB8-scheme v1.0\n"
     ]
    }
   ],
   "source": [
    "%%bash\n",
    "cd ~/PROJECTHH/Scripts/Pipeline\n",
    "nextflow run OUTB8-scheme.nf --v"
   ]
  },
  {
   "cell_type": "markdown",
   "metadata": {},
   "source": [
    "## B. Show help message"
   ]
  },
  {
   "cell_type": "code",
   "execution_count": 18,
   "metadata": {},
   "outputs": [
    {
     "name": "stdout",
     "output_type": "stream",
     "text": [
      "N E X T F L O W  ~  version 20.01.0\n",
      "Launching `OUTB8-scheme.nf` [suspicious_varahamihira] - revision: 829628426a\n",
      "==================== OUTB8-scheme ====================\n",
      "\n",
      "Create a cg/wgMLST scheme for your WGS bacterial analysis \n",
      "based on NCBI reference assemblies based on txid OR 1 or more fastq samples (zipped)\n",
      "\n",
      "example1:   nextflow run OUTB8-scheme.nf --txid \"817\"\n",
      "example2:   nextflow run OUTB8-scheme.nf --fastq \"DNA123.fastq.gz\"\n",
      "\n",
      "--count     give a maximum number of reference assemblies to use in the scheme (default 100)\n",
      "            indicate \"all\" if you want to use all complete reference assemblies available at NCBI\n",
      "--cpu       give maximal number of cpu's\n",
      "--env       give path to python3 environment (running e.g. chewBBACA...)\n",
      "--fastq     give one or more fastq files (zipped)\n",
      "--help      show help message\n",
      "--krakendb  give path to kraken database \n",
      "--krakenout give path to folder where output of kraken2 can be stored (default current directory)\n",
      "--perc      give percentage for cgMLST creation (default 0.95)\n",
      "--refDB     give path to place/search reference assemblies (=output folder for reference assemblies)\n",
      "--scheme    give path to wg/cg schemes (=output folder for the scheme)\n",
      "--training  give path to training file (=output folder for the training file)\n",
      "--txid      give a known txid number (NCBI): https://www.ncbi.nlm.nih.gov/taxonomy\n",
      "--v         show version\n",
      "-resume     use to continue an analysis that was run (partly) before\n"
     ]
    }
   ],
   "source": [
    "%%bash\n",
    "cd ~/PROJECTHH/Scripts/Pipeline\n",
    "nextflow run OUTB8-scheme.nf --help"
   ]
  },
  {
   "cell_type": "markdown",
   "metadata": {},
   "source": [
    "## C. Search txid based on fastq files"
   ]
  },
  {
   "cell_type": "markdown",
   "metadata": {},
   "source": [
    "### Input\n",
    "x"
   ]
  },
  {
   "cell_type": "markdown",
   "metadata": {},
   "source": [
    "### Command"
   ]
  },
  {
   "cell_type": "code",
   "execution_count": null,
   "metadata": {},
   "outputs": [],
   "source": [
    "%%bash \n",
    "#was run in bash directly (faster)\n",
    "nextflow run OUTB8-scheme.nf --cpu 2 --env ~/PROJECTHH/envPROJECTHH/ \\\n",
    "--fastq /home/hannelore/PROJECTHH/Tests/OUTB8-scheme-fastq/input/ \\\n",
    "--krakendb /home/hannelore/PROJECTHH/Tools/kraken-db/16S_SILVA138_k2db \\\n",
    "--krakenout /home/hannelore/PROJECTHH/Tests/OUTB8-scheme-fastq/output/\n",
    "\n",
    "#REMARK because of memory issues the silva database was used to perform kraken -> less accurate \n",
    "#-> can only determine up to Genus level (not species)"
   ]
  },
  {
   "cell_type": "markdown",
   "metadata": {},
   "source": [
    "### Output\n",
    "N E X T F L O W  ~  version 20.01.0\n",
    "Launching `OUTB8-scheme.nf` [nasty_jones] - revision: cac984631a\n",
    "WARN: Access to undefined parameter `v` -- Initialise it to a default value eg. `params.v = some_value`\n",
    "executor >  local (59)\n",
    "\n",
    "Kraken2 calculation on 10000 reads for ERR1795077_Illumina_MiSeq_paired_end_sequencing_executor >  local (66)\n",
    "[b3/41d4c9] process > environment   [100%] 1 of 1 ✔\n",
    "[d8/81f5ab] process > reduce4kraken [100%] 16 of 16 ✔\n",
    "[42/fd30a4] process > kraken2       [100%] 16 of 16 ✔\n",
    "[33/94d95b] process > GetTxid       [100%] 16 of 16 ✔\n",
    "[77/2176cd] process > printtxid     [100%] 16 of 16 ✔\n",
    "[0c/992a47] process > finishing     [100%] 1 of 1 ✔\n",
    "\n",
    "-------------- Please restart the pipeline with the corret TXID --------------\n",
    "\n",
    "Kraken2 calculation on 10000 reads for ERR1795080_Illumina_MiSeq_paired_end_sequencing_EXP-8-1-2017-01-13_14-47-56_mini_1 gives txid 46465 as dominant species\n",
    "\n",
    "Kraken2 calculation on 10000 reads for ERR1795076_Illumina_MiSeq_paired_end_sequencing_EXP-4-1-2017-01-13_14-47-56_mini_1 gives txid 46465 as dominant species\n",
    "\n",
    "Kraken2 calculation on 10000 reads for ERR1795082_Illumina_MiSeq_paired_end_sequencing_EXP-10-1-2017-01-13_14-47-56_mini_1 gives txid 46465 as dominant species\n",
    "\n",
    "Kraken2 calculation on 10000 reads for ERR1795075_Illumina_MiSeq_paired_end_sequencing_EXP-3-1-2017-01-13_14-47-56_mini_1 gives txid 46465 as dominant species\n",
    "\n",
    "Kraken2 calculation on 10000 reads for ERR1795077_Illumina_MiSeq_paired_end_sequencing_EXP-5-1-2017-01-13_14-47-56_mini_1 gives txid 46465 as dominant species\n",
    "\n",
    "Kraken2 calculation on 10000 reads for ERR1795074_Illumina_MiSeq_paired_end_sequencing_EXP-2-1-2017-01-13_14-47-56_mini_1 gives txid 46465 as dominant species\n",
    "\n",
    "Kraken2 calculation on 10000 reads for ERR1795084_Illumina_MiSeq_paired_end_sequencing_EXP-12-1-2017-01-13_14-47-56_mini_1 gives txid 46465 as dominant species\n",
    "\n",
    "Kraken2 calculation on 10000 reads for ERR1795073_Illumina_MiSeq_paired_end_sequencing_EXP-1-1-2017-01-13_14-47-56_mini_1 gives txid 46465 as dominant species\n",
    "\n",
    "Kraken2 calculation on 10000 reads for ERR1795072_Illumina_MiSeq_paired_end_sequencing_EXP-0-1-2017-01-13_14-47-56_mini_1 gives txid 46465 as dominant species\n",
    "\n",
    "Kraken2 calculation on 10000 reads for ERR1795083_Illumina_MiSeq_paired_end_sequencing_EXP-11-1-2017-01-13_14-47-56_mini_1 gives txid 46465 as dominant species\n",
    "\n",
    "Kraken2 calculation on 10000 reads for ERR1795078_Illumina_MiSeq_paired_end_sequencing_EXP-6-1-2017-01-13_14-47-56_mini_1 gives txid 46465 as dominant species\n",
    "\n",
    "Kraken2 calculation on 10000 reads for ERR1795079_Illumina_MiSeq_paired_end_sequencing_EXP-7-1-2017-01-13_14-47-56_mini_1 gives txid 46465 as dominant species\n",
    "\n",
    "Kraken2 calculation on 10000 reads for ERR1795081_Illumina_MiSeq_paired_end_sequencing_EXP-9-1-2017-01-13_14-47-56_mini_1 gives txid 46465 as dominant species\n",
    "\n",
    "Kraken2 calculation on 10000 reads for ERR1795086_Illumina_MiSeq_paired_end_sequencing_EXP-14-1-2017-01-13_14-47-56_mini_1 gives txid 46465 as dominant species\n",
    "\n",
    "Kraken2 calculation on 10000 reads for ERR1795085_Illumina_MiSeq_paired_end_sequencing_EXP-13-1-2017-01-13_14-47-56_mini_1 gives txid 46465 as dominant species\n",
    "\n",
    "Kraken2 calculation on 10000 reads for ERR1795087_Illumina_MiSeq_paired_end_sequencing_EXP-15-1-2017-01-13_14-47-56_mini_1 gives txid 46465 as dominant species\n",
    "\n",
    "\n"
   ]
  },
  {
   "cell_type": "markdown",
   "metadata": {},
   "source": [
    "### Conclusion\n",
    "xxxxx"
   ]
  },
  {
   "cell_type": "markdown",
   "metadata": {},
   "source": [
    "## D. Make scheme based on txid"
   ]
  },
  {
   "cell_type": "markdown",
   "metadata": {},
   "source": [
    "### Input\n",
    "txid = 573 = Klebsiella pneumoniae"
   ]
  },
  {
   "cell_type": "markdown",
   "metadata": {},
   "source": [
    "### Command"
   ]
  },
  {
   "cell_type": "code",
   "execution_count": null,
   "metadata": {},
   "outputs": [],
   "source": [
    "%%bash \n",
    "#was run in bash directly (faster)\n",
    "nextflow run OUTB8-scheme.nf --cpu 2 --env ~/PROJECTHH/envPROJECTHH/ \\\n",
    "--txid 573 --count 5 --perc 0,95 \\\n",
    "--refDB /home/hannelore/PROJECTHH/Tests/OUTB8-scheme-txid/output/refDB/ \\\n",
    "--scheme /home/hannelore/PROJECTHH/Tests/OUTB8-scheme-txid/output/cgMLSTschemes \\\n",
    "--training /home/hannelore/PROJECTHH/Tests/OUTB8-scheme-txid/output/TrainingFiles\n",
    "\n",
    "#limit number of assemblies used for scheme creation to 5 to limit computing time"
   ]
  },
  {
   "cell_type": "markdown",
   "metadata": {},
   "source": [
    "### Output\n",
    "N E X T F L O W  ~  version 20.01.0\n",
    "Launching `OUTB8-scheme.nf` [festering_hawking] - revision: a9f9f2b7d5\n",
    "WARN: Access to undefined parameter `v` -- Initialise it to a default value eg. `params.v = some_value`\n",
    "\n",
    "The given txid is 573, number of reference assemblies is MAXIMUM 5\n",
    "\n",
    "SEARCHING ASSEMBLIES... NO accession file available for the given count, start acquiring reference assemblies\n",
    "executor >  local (10)\n",
    "[04/44fca6] process > environment     [100%] 1 of 1 ✔\n",
    "[58/653f7c] process > accessions      [100%] 1 of 1 ✔\n",
    "[04/2aefb5] process > limitAssemblies [100%] 1 of 1 ✔\n",
    "[0b/6b6a0f] process > refAssembly     [100%] 1 of 1 ✔\n",
    "[18/333704] process > unzip           [100%] 1 of 1 ✔\n",
    "[55/508db9] process > multi           [100%] 1 of 1 ✔\n",
    "[ee/653ad7] process > training        [100%] 1 of 1 ✔\n",
    "[d1/ca22a9] process > wgMLST          [100%] 1 of 1 ✔\n",
    "[d9/d6b329] process > prepscheme      [100%] 1 of 1 ✔\n",
    "[b6/e4b0b9] process > allelcall       [  0%] 0 of 1\n",
    "[-        ] process > paralogs        -\n",
    "[-        ] process > gquality        -\n",
    "[-        ] process > cgMLST          -\n",
    "[-        ] process > cgMLSTloci      -\n",
    "[-        ] process > schemeEval      -\n",
    "[-        ] process > feedback        -\n",
    "Error executing process > 'allelcall'\n",
    "\n",
    "Caused by:\n",
    "  Process `allelcall` terminated with an error exit status (1)\n",
    "\n",
    "Command executed:\n",
    "\n",
    "  mkdir allelecalling\n",
    "  chewBBACA.py AlleleCall -i /home/hannelore/PROJECTHH/Tests/OUTB8-scheme-txid/output/refDB/refDB-573-c5/unzipped/         -g /home/hannelore/PROJECTHH/Tests/OUTB8-scheme-txid/output/cgMLSTschemes/MLST-573-c5/wgMLST/schema-573-c5/ -o allelecalling/         --cpu 2 --ptf /home/hannelore/PROJECTHH/Tests/OUTB8-scheme-txid/output/TrainingFiles/txid573-c5.trn\n",
    "\n",
    "Command exit status:\n",
    "  1\n",
    "\n",
    "Command output:\n",
    "  \n",
    "  chewBBACA version: 2.5.0\n",
    "  Authors: Mickael Silva, Pedro Cerqueira, Rafael Mamede\n",
    "  Github: https://github.com/B-UMMI/chewBBACA\n",
    "  Wiki: https://github.com/B-UMMI/chewBBACA/wiki\n",
    "  Tutorial: https://github.com/B-UMMI/chewBBACA_tutorial\n",
    "  Contacts: imm-bioinfo@medicina.ulisboa.pt\n",
    "  \n",
    "  ==========================\n",
    "    chewBBACA - AlleleCall\n",
    "  ==========================\n",
    "  It seems that your schema was created with chewBBACA 2.1.0 or lower.\n",
    "executor >  local (10)\n",
    "[04/44fca6] process > environment     [100%] 1 of 1 ✔\n",
    "[58/653f7c] process > accessions      [100%] 1 of 1 ✔\n",
    "[04/2aefb5] process > limitAssemblies [100%] 1 of 1 ✔\n",
    "[0b/6b6a0f] process > refAssembly     [100%] 1 of 1 ✔\n",
    "[18/333704] process > unzip           [100%] 1 of 1 ✔\n",
    "[55/508db9] process > multi           [100%] 1 of 1 ✔\n",
    "[ee/653ad7] process > training        [100%] 1 of 1 ✔\n",
    "[d1/ca22a9] process > wgMLST          [100%] 1 of 1 ✔\n",
    "[d9/d6b329] process > prepscheme      [100%] 1 of 1 ✔\n",
    "[b6/e4b0b9] process > allelcall       [100%] 1 of 1, failed: 1 ✘\n",
    "[-        ] process > paralogs        -\n",
    "[-        ] process > gquality        -\n",
    "[-        ] process > cgMLST          -\n",
    "[-        ] process > cgMLSTloci      -\n",
    "[-        ] process > schemeEval      -\n",
    "[-        ] process > feedback        -\n",
    "Oops something went wrong, please check your input again!\n",
    "Error executing process > 'allelcall'\n",
    "\n",
    "Caused by:\n",
    "  Process `allelcall` terminated with an error exit status (1)\n",
    "\n",
    "Command executed:\n",
    "\n",
    "  mkdir allelecalling\n",
    "  chewBBACA.py AlleleCall -i /home/hannelore/PROJECTHH/Tests/OUTB8-scheme-txid/output/refDB/refDB-573-c5/unzipped/         -g /home/hannelore/PROJECTHH/Tests/OUTB8-scheme-txid/output/cgMLSTschemes/MLST-573-c5/wgMLST/schema-573-c5/ -o allelecalling/         --cpu 2 --ptf /home/hannelore/PROJECTHH/Tests/OUTB8-scheme-txid/output/TrainingFiles/txid573-c5.trn\n",
    "\n",
    "Command exit status:\n",
    "  1\n",
    "\n",
    "Command output:\n",
    "  \n",
    "  chewBBACA version: 2.5.0\n",
    "  Authors: Mickael Silva, Pedro Cerqueira, Rafael Mamede\n",
    "  Github: https://github.com/B-UMMI/chewBBACA\n",
    "  Wiki: https://github.com/B-UMMI/chewBBACA/wiki\n",
    "  Tutorial: https://github.com/B-UMMI/chewBBACA_tutorial\n",
    "  Contacts: imm-bioinfo@medicina.ulisboa.pt\n",
    "  \n",
    "  ==========================\n",
    "    chewBBACA - AlleleCall\n",
    "  ==========================\n",
    "  It seems that your schema was created with chewBBACA 2.1.0 or lower.\n",
    "  It is highly recommended that you run the PrepExternalSchema process to guarantee full compatibility with the new chewBBACA version.\n",
    "  If you wish to continue, the AlleleCall process will convert the schema to v2.5.0, but will not determine if schema structure respects configuration values.\n",
    "  Do you wish to proceed?\n",
    "\n",
    "Command error:\n",
    "  Traceback (most recent call last):\n",
    "    File \"/home/hannelore/PROJECTHH/envPROJECTHH/bin/chewBBACA.py\", line 11, in <module>\n",
    "      load_entry_point('chewBBACA==2.5.0', 'console_scripts', 'chewBBACA.py')()\n",
    "    File \"/home/hannelore/PROJECTHH/envPROJECTHH/lib/python3.7/site-packages/CHEWBBACA/chewBBACA.py\", line 1487, in main\n",
    "      functions_info[process][1]()\n",
    "    File \"/home/hannelore/PROJECTHH/envPROJECTHH/lib/python3.7/site-packages/CHEWBBACA/chewBBACA.py\", line 386, in allele_call\n",
    "      proceed = aux.input_timeout(prompt, timeout)\n",
    "    File \"/home/hannelore/PROJECTHH/envPROJECTHH/lib/python3.7/site-packages/CHEWBBACA/utils/auxiliary_functions.py\", line 1724, in input_timeout\n",
    "      return answer.get(timeout=timeout)\n",
    "    File \"/home/hannelore/miniconda3/lib/python3.7/multiprocessing/pool.py\", line 657, in get\n",
    "      raise self._value\n",
    "    File \"/home/hannelore/miniconda3/lib/python3.7/multiprocessing/pool.py\", line 121, in worker\n",
    "      result = (True, func(*args, **kwds))\n",
    "  EOFError: EOF when reading a line\n",
    "\n",
    "Work dir:\n",
    "  /home/hannelore/PROJECTHH/Scripts/Pipeline/work/b6/e4b0b9e2b536f6fd4dc929a6153c27\n",
    "\n",
    "Tip: you can try to figure out what's wrong by changing to the process work dir and showing the script file named `.command.sh`\n"
   ]
  },
  {
   "cell_type": "code",
   "execution_count": 37,
   "metadata": {},
   "outputs": [
    {
     "name": "stdout",
     "output_type": "stream",
     "text": [
      "cgMLSTschemes\n",
      "refDB\n",
      "TrainingFiles\n"
     ]
    }
   ],
   "source": [
    "%%bash\n",
    "cd /home/hannelore/PROJECTHH/Tests/OUTB8-scheme-txid/output/\n",
    "ls"
   ]
  },
  {
   "cell_type": "markdown",
   "metadata": {},
   "source": [
    "### DEFINE PROBLEM\n",
    "-> wgMLST scheme was created but workflow stops during allelcall for creation cgMLST scheme\n",
    "* An error occured due to incompatibility of the scheme with v2.5.0 of chewBBACA. They ask to run the PrepExternalSchema process but this was already done, however the software does not seem to recognise that. \n",
    "* Nextflow does not allow interaction during the pipeline therefore \"yes\" can not be answered\", this allowance can also not be added to the original script e.g. \"-y\"\n",
    "* Running with chewBBACA v2.1.0 is also not an option since I switched to v2.5.0 because of compatibility problems\n",
    "\n",
    "->  I will try to install the newer version v2.5.1 or higher and see the effect"
   ]
  },
  {
   "cell_type": "code",
   "execution_count": null,
   "metadata": {},
   "outputs": [],
   "source": [
    "### Command (run after installing chewBBACA v2.5.4)\n",
    "%%bash \n",
    "#was run in bash directly (faster)\n",
    "nextflow run OUTB8-scheme.nf --cpu 2 --env ~/PROJECTHH/envPROJECTHH/ \\\n",
    "--txid 573 --count 5 --perc 0,95 \\\n",
    "--refDB /home/hannelore/PROJECTHH/Tests/OUTB8-scheme-txid/output/refDB/ \\\n",
    "--scheme /home/hannelore/PROJECTHH/Tests/OUTB8-scheme-txid/output/cgMLSTschemes \\\n",
    "--training /home/hannelore/PROJECTHH/Tests/OUTB8-scheme-txid/output/TrainingFiles"
   ]
  },
  {
   "cell_type": "markdown",
   "metadata": {},
   "source": [
    "### Output: same problem\n",
    "N E X T F L O W  ~  version 20.01.0\n",
    "Launching `OUTB8-scheme.nf` [gigantic_davinci] - revision: 4bed0383bc\n",
    "WARN: Access to undefined parameter `v` -- Initialise it to a default value eg. `params.v = some_value`\n",
    "\n",
    "The given txid is 573, number of reference assemblies is MAXIMUM 5\n",
    "\n",
    "SEARCHING ASSEMBLIES... The accession file is already available continue to scheme generation \n",
    "executor >  local (5)\n",
    "\n",
    "[62/1d9243] process > environment [100%] 1 of 1 ✔\n",
    "[8f/bcd9a2] process > training    [100%] 1 of 1 ✔\n",
    "[5c/a546ab] process > wgMLST      [100%] 1 of 1 ✔\n",
    "[b7/2436a9] process > prepscheme  [100%] 1 of 1 ✔\n",
    "[cc/8b0590] process > allelcall   [100%] 1 of 1, failed: 1 ✘\n",
    "[-        ] process > paralogs    -\n",
    "[-        ] process > gquality    -\n",
    "[-        ] process > cgMLST      -\n",
    "[-        ] process > cgMLSTloci  -\n",
    "[-        ] process > schemeEval  -\n",
    "[-        ] process > feedback    -\n",
    "Oops something went wrong, please check your input again!\n",
    "Error executing process > 'allelcall'\n",
    "\n",
    "Caused by:\n",
    "  Process `allelcall` terminated with an error exit status (1)\n",
    "\n",
    "Command executed:\n",
    "\n",
    "  mkdir allelecalling\n",
    "  chewBBACA.py AlleleCall -i /home/hannelore/PROJECTHH/Tests/OUTB8-scheme-txid/output/refDB/refDB-573-c5/unzipped/         -g /home/hannelore/PROJECTHH/Tests/OUTB8-scheme-txid/output/cgMLSTschemes/MLST-573-c5/wgMLST/schema-573-c5/ -o allelecalling/         --cpu 2\n",
    "\n",
    "Command exit status:\n",
    "  1\n",
    "\n",
    "Command output:\n",
    "  \n",
    "  chewBBACA version: 2.5.4\n",
    "  Authors: Mickael Silva, Pedro Cerqueira, Rafael Mamede\n",
    "  Github: https://github.com/B-UMMI/chewBBACA\n",
    "  Wiki: https://github.com/B-UMMI/chewBBACA/wiki\n",
    "  Tutorial: https://github.com/B-UMMI/chewBBACA_tutorial\n",
    "  Contacts: imm-bioinfo@medicina.ulisboa.pt\n",
    "  \n",
    "  ==========================\n",
    "    chewBBACA - AlleleCall\n",
    "  ==========================\n",
    "  It seems that your schema was created with chewBBACA 2.1.0 or lower.\n",
    "  It is highly recommended that you run the PrepExternalSchema process to guarantee full compatibility with the new chewBBACA version.\n",
    "  If you wish to continue, the AlleleCall process will convert the schema to v2.5.4, but will not determine if schema structure respects configuration values.\n",
    "  Do you wish to proceed?\n",
    "\n",
    "Command error:\n",
    "  Traceback (most recent call last):\n",
    "    File \"/home/hannelore/PROJECTHH/envPROJECTHH/bin/chewBBACA.py\", line 11, in <module>\n",
    "      load_entry_point('chewBBACA==2.5.4', 'console_scripts', 'chewBBACA.py')()\n",
    "    File \"/home/hannelore/PROJECTHH/envPROJECTHH/lib/python3.7/site-packages/CHEWBBACA/chewBBACA.py\", line 1549, in main\n",
    "      functions_info[process][1]()\n",
    "    File \"/home/hannelore/PROJECTHH/envPROJECTHH/lib/python3.7/site-packages/CHEWBBACA/chewBBACA.py\", line 386, in allele_call\n",
    "      proceed = aux.input_timeout(prompt, timeout)\n",
    "    File \"/home/hannelore/PROJECTHH/envPROJECTHH/lib/python3.7/site-packages/CHEWBBACA/utils/auxiliary_functions.py\", line 1724, in input_timeout\n",
    "      return answer.get(timeout=timeout)\n",
    "    File \"/home/hannelore/miniconda3/lib/python3.7/multiprocessing/pool.py\", line 657, in get\n",
    "      raise self._value\n",
    "    File \"/home/hannelore/miniconda3/lib/python3.7/multiprocessing/pool.py\", line 121, in worker\n",
    "      result = (True, func(*args, **kwds))\n",
    "  EOFError: EOF when reading a line\n",
    "\n",
    "Work dir:\n",
    "  /home/hannelore/PROJECTHH/Scripts/Pipeline/work/cc/8b0590e7be72a2254332e795dd4752\n",
    "\n",
    "Tip: you can try to figure out what's wrong by changing to the process work dir and showing the script file named `.command.sh`"
   ]
  },
  {
   "cell_type": "markdown",
   "metadata": {},
   "source": [
    "### Conclusion\n",
    "Problems with v2.5.x remain! I will try to fix this when running on HPC with v2.1.0"
   ]
  },
  {
   "cell_type": "markdown",
   "metadata": {},
   "source": [
    "## E. Start pipeline for existing scheme"
   ]
  },
  {
   "cell_type": "markdown",
   "metadata": {},
   "source": [
    "### Input\n",
    "A known cgMLST scheme can be found in the input files"
   ]
  },
  {
   "cell_type": "code",
   "execution_count": 35,
   "metadata": {},
   "outputs": [
    {
     "name": "stdout",
     "output_type": "stream",
     "text": [
      "cgMLSTschemes\n",
      "refDB\n",
      "TrainingFiles\n"
     ]
    }
   ],
   "source": [
    "%%bash\n",
    "#existing scheme\n",
    "cd /home/hannelore/PROJECTHH/Tests/OUTB8-scheme-existing/input/\n",
    "ls"
   ]
  },
  {
   "cell_type": "markdown",
   "metadata": {},
   "source": [
    "### Command"
   ]
  },
  {
   "cell_type": "code",
   "execution_count": null,
   "metadata": {},
   "outputs": [],
   "source": [
    "%%bash \n",
    "#was run in bash directly (faster)\n",
    "nextflow run OUTB8-scheme.nf --cpu 2 --env ~/PROJECTHH/envPROJECTHH/ \\\n",
    "--txid 573 --count 20 --perc 0,95 \\\n",
    "--refDB /home/hannelore/PROJECTHH/Tests/OUTB8-scheme-existing/input/refDB \\\n",
    "--scheme /home/hannelore/PROJECTHH/Tests/OUTB8-scheme-existing/input/cgMLSTschemes \\\n",
    "--training /home/hannelore/PROJECTHH/Tests/OUTB8-scheme-existing/input/TrainingFiles"
   ]
  },
  {
   "cell_type": "markdown",
   "metadata": {},
   "source": [
    "### Output\n",
    "N E X T F L O W  ~  version 20.01.0\n",
    "Launching `OUTB8-scheme.nf` [jolly_waddington] - revision: 4bed0383bc\n",
    "WARN: Access to undefined parameter `v` -- Initialise it to a default value eg. `params.v = some_value`\n",
    "\n",
    "The given txid is 573, number of reference assemblies is MAXIMUM 20\n",
    "\n",
    "SEARCHING ASSEMBLIES... The accession file is already available continue to scheme generation \n",
    "\n",
    "CREATING cgMLST SCHEME: The scheme for txid 573-c20 has already been created, stopping workflow\n"
   ]
  },
  {
   "cell_type": "markdown",
   "metadata": {},
   "source": [
    "### Conclusion\n",
    "-> The pipeline can detect it and stop the workflow when a scheme was already created in the past"
   ]
  }
 ],
 "metadata": {
  "kernelspec": {
   "display_name": "Python 3",
   "language": "python",
   "name": "python3"
  },
  "language_info": {
   "codemirror_mode": {
    "name": "ipython",
    "version": 3
   },
   "file_extension": ".py",
   "mimetype": "text/x-python",
   "name": "python",
   "nbconvert_exporter": "python",
   "pygments_lexer": "ipython3",
   "version": "3.6.8"
  }
 },
 "nbformat": 4,
 "nbformat_minor": 4
}
