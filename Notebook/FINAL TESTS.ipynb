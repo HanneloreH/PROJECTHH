{
 "cells": [
  {
   "cell_type": "markdown",
   "metadata": {},
   "source": [
    "# Running final tests on local computer\n",
    "Overview of tests that were run to test the pipeline, with comments and conclusion"
   ]
  },
  {
   "cell_type": "markdown",
   "metadata": {},
   "source": [
    "# PIPELINE 1: OUTB8-ANALYSIS\n",
    "\n",
    "## A. Show version\n"
   ]
  },
  {
   "cell_type": "code",
   "execution_count": null,
   "metadata": {},
   "outputs": [],
   "source": [
    "%%bash\n",
    "cd ~/PROJECTHH/Scripts/Pipeline\n",
    "nextflow run OUTB8-analysis.nf --v"
   ]
  },
  {
   "cell_type": "markdown",
   "metadata": {},
   "source": [
    "### conclusion\n",
    "-> Works correctly"
   ]
  },
  {
   "cell_type": "markdown",
   "metadata": {},
   "source": [
    "## B. Show help message"
   ]
  },
  {
   "cell_type": "code",
   "execution_count": null,
   "metadata": {},
   "outputs": [],
   "source": [
    "%%bash\n",
    "cd ~/PROJECTHH/Scripts/Pipeline\n",
    "nextflow run OUTB8-analysis.nf --help"
   ]
  },
  {
   "cell_type": "markdown",
   "metadata": {},
   "source": [
    "### conclusion\n",
    "-> Works correctly"
   ]
  },
  {
   "cell_type": "markdown",
   "metadata": {},
   "source": [
    "## C. PE analysis"
   ]
  },
  {
   "cell_type": "markdown",
   "metadata": {},
   "source": [
    "#### Input for tests PE data\n",
    "\n",
    "Data of Klebsiella pneumoniae outbreak in Greece:\n",
    "\"Identification of a KPC-9-producing Klebsiella pneumoniae ST258 cluster among KPC-2-producing isolates of an ongoing outbreak in Northwestern Greece: a retrospective study\"\n",
    "\n",
    "- Data: ERP020687 (SRA explorer)\n",
    "- Script: rawData_ERP020687.sh\n",
    "- Paper: https://pubmed.ncbi.nlm.nih.gov/29274461/\n",
    "- 16 samples PE, Illumina\n",
    "\n",
    "Remark: \n",
    "Data was minimised to 10000 reads, format = \".mini\", to lower computing time. In the future the pipeline will run on HPC so full files will be analysed."
   ]
  },
  {
   "cell_type": "code",
   "execution_count": null,
   "metadata": {},
   "outputs": [],
   "source": [
    "#REMARK: BAIT8 should be OUTB8 (typo)\n",
    "\n",
    "%%bash\n",
    "\n",
    "#location input and output data\n",
    "cd ~/PROJECTHH/Tests/BAIT8-analysis-PE/\n",
    "ls\n",
    "cd input\n",
    "ls"
   ]
  },
  {
   "cell_type": "code",
   "execution_count": null,
   "metadata": {},
   "outputs": [],
   "source": [
    "#COMMAND\n",
    "%%bash #was run in bash directly (faster)\n",
    "nextflow run OUTB8-analysis.nf --PE --reads ~/PROJECTHH/Tests/BAIT8-analysis-PE/input/ \\\n",
    "--output ~/PROJECTHH/Tests/BAIT8-analysis-PE/output \\\n",
    "--scheme ~/PROJECTHH/Data/cgMLSTschemes/MLST-573-c20-Prepped/cgMLST/scheme-573-c20-cgMLST-prep \\\n",
    "--cpu 2  --env ~/PROJECTHH/envPROJECTHH/ --training ~/PROJECTHH/Data/TrainingFiles/txid573-c20.trn \\\n",
    "--meta ~/PROJECTHH/Tests/BAIT8-analysis-PE/input/meta.csv\n",
    "#Remark due to new (to be fixed) compatibility errors with chewbbaca 2.5.0 the training file was not used in analysis"
   ]
  },
  {
   "cell_type": "markdown",
   "metadata": {},
   "source": [
    "#### COMMAND OUTPUT:\n",
    "\n",
    "N E X T F L O W  ~  version 20.01.0\n",
    "Launching `OUTB8-analysis.nf` [loving_sanger] - revision: 2f7561f251\n",
    "WARN: Access to undefined parameter `v` -- Initialise it to a default value eg. `params.v = some_value`\n",
    "Analysis starting using following parameters:   \n",
    "==============================================================\n",
    "* Path to extra assemblies        : false/*.fa*\n",
    "* Number of CPUs                  : 2\n",
    "* Python3 environment             : /home/hannelore/PROJECTHH/envPROJECTHH\n",
    "* File with metadata              : /home/hannelore/PROJECTHH/Tests/BAIT8-analysis-PE/input/meta.csv\n",
    "* Output-folder                   : /home/hannelore/PROJECTHH/Tests/BAIT8-analysis-PE/output\n",
    "* Folder with input reads         : /home/hannelore/PROJECTHH/Tests/BAIT8-analysis-PE/input\n",
    "* Folder with chosen MLST scheme  : /home/hannelore/PROJECTHH/Data/cgMLSTschemes/MLST-573-c20-Prepped/cgMLST/scheme-573-c20-cgMLST-prep\n",
    "* Training file to use            : /home/hannelore/PROJECTHH/Data/TrainingFiles/txid573-c20.trn \n",
    "* PE reads                        : true\n",
    "* SE reads                        : false\n",
    "* Start from given assemblies     : false\n",
    "\n",
    "executor >  local (6)\n",
    "[b9/7d6af1] process > environment  [100%] 1 of 1, cached: 1 ✔\n",
    "[09/72d6ca] process > rawfastqc    [100%] 32 of 32, cached: 32 ✔\n",
    "[fa/99a18e] process > rawmultiqc   [100%] 1 of 1, cached: 1 ✔\n",
    "[84/a6f6c6] process > trimmedPE    [100%] 16 of 16, cached: 16 ✔\n",
    "[e8/00621e] process > trimfastqcPE [100%] 16 of 16, cached: 16 ✔\n",
    "[83/69a8d9] process > trimmultiqc  [100%] 1 of 1, cached: 1 ✔\n",
    "[15/089d35] process > megahitPE    [100%] 16 of 16, cached: 16 ✔\n",
    "[69/5b7e32] process > matplotlib   [100%] 1 of 1, cached: 1 ✔\n",
    "[83/e84ddd] process > quast        [100%] 1 of 1 ✔\n",
    "[9f/64fed9] process > mlsttype     [100%] 1 of 1 ✔\n",
    "[50/d733ce] process > input4a      [100%] 16 of 16, cached: 16 ✔\n",
    "[b3/f6e41d] process > analysis     [100%] 1 of 1 ✔\n",
    "[6f/5a78a6] process > cleanup      [100%] 1 of 1 ✔\n",
    "[73/bf9b10] process > MSTtree      [100%] 1 of 1 ✔\n",
    "[e1/7adea7] process > feedback     [100%] 1 of 1 ✔\n",
    " \n",
    "DETAILS OF cgMLST ANALYSIS\n",
    "Number of genomes: 16\n",
    "Number of loci: 3859\n",
    "Used this number of CPU cores: 2\n",
    "Used a bsr of: 0.6\n",
    "OUTB8 FINISHED ANALYSIS SUCCESFULLY!\n",
    "Completed at: 10-aug-2020 16:52:44\n",
    "Duration    : 13m 44s\n",
    "CPU hours   : 0.7 (39,5% cached)\n",
    "Succeeded   : 6\n",
    "Cached      : 100\n",
    "\n"
   ]
  },
  {
   "cell_type": "code",
   "execution_count": null,
   "metadata": {},
   "outputs": [],
   "source": [
    "#COMMAND(2)\n",
    "#script was rerun 11/8/2020 because of compatibility orders with the metadata file (1 file/sample)\n",
    "\n",
    "%%bash  #was run in bash directly (faster)\n",
    "nextflow run OUTB8-analysis.nf --PE --reads ~/PROJECTHH/Tests/BAIT8-analysis-PE/input/ \\\n",
    "--output ~/PROJECTHH/Tests/BAIT8-analysis-PE/output \\\n",
    "--scheme ~/PROJECTHH/Data/cgMLSTschemes/MLST-573-c20-Prepped/cgMLST/scheme-573-c20-cgMLST-prep \\\n",
    "--cpu 2  --env ~/PROJECTHH/envPROJECTHH/ --training ~/PROJECTHH/Data/TrainingFiles/txid573-c20.trn \\\n",
    "--meta ~/PROJECTHH/Tests/BAIT8-analysis-PE/input/meta.csv \\\n",
    "-resume\n"
   ]
  },
  {
   "cell_type": "markdown",
   "metadata": {},
   "source": [
    "### OUTPUT (2)\n",
    "N E X T F L O W  ~  version 20.01.0\n",
    "Launching `OUTB8-analysis.nf` [thirsty_sax] - revision: 18ff28fdc9\n",
    "WARN: Access to undefined parameter `v` -- Initialise it to a default value eg. `params.v = some_value`\n",
    "Analysis starting using following parameters:   \n",
    "==============================================================\n",
    "* Path to extra assemblies        : false/*.fa*\n",
    "* Number of CPUs                  : 2\n",
    "* Python3 environment             : /home/hannelore/PROJECTHH/envPROJECTHH\n",
    "* File with metadata              : /home/hannelore/PROJECTHH/Tests/BAIT8-analysis-PE/input/meta.csv\n",
    "* Output-folder                   : /home/hannelore/PROJECTHH/Tests/BAIT8-analysis-PE/output\n",
    "* Folder with input reads         : /home/hannelore/PROJECTHH/Tests/BAIT8-analysis-PE/input\n",
    "* Folder with chosen MLST scheme  : /home/hannelore/PROJECTHH/Data/cgMLSTschemes/MLST-573-c20-Prepped/cgMLST/scheme-573-c20-cgMLST-prep\n",
    "* Training file to use            : /home/hannelore/PROJECTHH/Data/TrainingFiles/txid573-c20.trn \n",
    "* PE reads                        : true\n",
    "* SE reads                        : false\n",
    "* Start from given assemblies     : false\n",
    "\n",
    "executor >  local (2)\n",
    "[b9/7d6af1] process > environment  [100%] 1 of 1, cached: 1 ✔\n",
    "executor >  local (3)\n",
    "[b9/7d6af1] process > environment  [100%] 1 of 1, cached: 1 ✔\n",
    "executor >  local (3)\n",
    "[b9/7d6af1] process > environment  [100%] 1 of 1, cached: 1 ✔\n",
    "executor >  local (6)\n",
    "[b9/7d6af1] process > environment  [100%] 1 of 1, cached: 1 ✔\n",
    "[78/006fde] process > rawfastqc    [100%] 32 of 32, cached: 32 ✔\n",
    "[fa/99a18e] process > rawmultiqc   [100%] 1 of 1, cached: 1 ✔\n",
    "[f1/31f4b8] process > trimmedPE    [100%] 16 of 16, cached: 16 ✔\n",
    "[e0/007370] process > trimfastqcPE [100%] 16 of 16, cached: 16 ✔\n",
    "[83/69a8d9] process > trimmultiqc  [100%] 1 of 1, cached: 1 ✔\n",
    "[da/5c6243] process > megahitPE    [100%] 16 of 16, cached: 16 ✔\n",
    "[69/5b7e32] process > matplotlib   [100%] 1 of 1, cached: 1 ✔\n",
    "[87/afb47c] process > quast        [100%] 1 of 1 ✔\n",
    "[ff/d8764d] process > mlsttype     [100%] 1 of 1 ✔\n",
    "[24/4c920e] process > input4a      [100%] 16 of 16, cached: 16 ✔\n",
    "[f0/a8b459] process > analysis     [100%] 1 of 1 ✔\n",
    "[e9/b00b1a] process > cleanup      [100%] 1 of 1 ✔\n",
    "[2a/bca8dd] process > MSTtree      [100%] 1 of 1 ✔\n",
    "[89/8c494e] process > feedback     [100%] 1 of 1 ✔\n",
    " \n",
    "DETAILS OF cgMLST ANALYSIS\n",
    "Number of genomes: 16\n",
    "Number of loci: 3859\n",
    "Used this number of CPU cores: 2\n",
    "Used a bsr of: 0.6\n",
    "OUTB8 FINISHED ANALYSIS SUCCESFULLY!\n",
    "Completed at: 11-aug-2020 17:44:49\n",
    "Duration    : 15m 15s\n",
    "CPU hours   : 0.8 (37,6% cached)\n",
    "Succeeded   : 6\n",
    "Cached      : 100\n"
   ]
  },
  {
   "cell_type": "code",
   "execution_count": null,
   "metadata": {},
   "outputs": [],
   "source": [
    "%%bash\n",
    "#Overview of outputfolder:\n",
    "cd ~/PROJECTHH/Tests/BAIT8-analysis-PE/output\n",
    "ls"
   ]
  },
  {
   "cell_type": "code",
   "execution_count": null,
   "metadata": {},
   "outputs": [],
   "source": [
    "%%bash\n",
    "#quality\n",
    "echo \"SHOW quality:\"\n",
    "cd /home/hannelore/PROJECTHH/Tests/BAIT8-analysis-PE/output/Quality/\n",
    "ls\n",
    "#raw quality data\n",
    "echo \"SHOW raw:\"\n",
    "cd raw/\n",
    "ls\n",
    "#quality data after trimming\n",
    "echo \"SHOW trimmed:\"\n",
    "cd /home/hannelore/PROJECTHH/Tests/BAIT8-analysis-PE/output/Quality/trimmed/\n",
    "ls\n",
    "#-> all quality files are shown correctly"
   ]
  },
  {
   "cell_type": "code",
   "execution_count": null,
   "metadata": {},
   "outputs": [],
   "source": [
    "%%bash\n",
    "#MLSTtypes\n",
    "cd /home/hannelore/PROJECTHH/Tests/BAIT8-analysis-PE/output/MLSTtypes/\n",
    "ls\n",
    "cat ST-types.tsv\n",
    "#-> no result, most likely because of very small inputfile (10000 reads)"
   ]
  },
  {
   "cell_type": "code",
   "execution_count": null,
   "metadata": {},
   "outputs": [],
   "source": [
    "%%bash\n",
    "#assemblies\n",
    "echo \"SHOW Assemblies-megahit:\"\n",
    "cd /home/hannelore/PROJECTHH/Tests/BAIT8-analysis-PE/output/Assemblies-megahit/\n",
    "ls\n",
    "echo \"SHOW assemblies:\"\n",
    "cd /home/hannelore/PROJECTHH/Tests/BAIT8-analysis-PE/output/Assemblies-megahit/assembly\n",
    "ls\n",
    "echo \"SHOW assembly-quality:\"\n",
    "cd /home/hannelore/PROJECTHH/Tests/BAIT8-analysis-PE/output/Assemblies-megahit/assembly-quality\n",
    "ls\n",
    "#-> all assemblies and quality of assemblies is shown correctly\n"
   ]
  },
  {
   "cell_type": "code",
   "execution_count": null,
   "metadata": {},
   "outputs": [],
   "source": [
    "%%bash\n",
    "#analysis\n",
    "echo \"SHOW analysis\"\n",
    "cd /home/hannelore/PROJECTHH/Tests/BAIT8-analysis-PE/output/Analysis\n",
    "ls\n",
    "echo \"SHOW input\":\n",
    "cd /home/hannelore/PROJECTHH/Tests/BAIT8-analysis-PE/output/Analysis/input4analysis\n",
    "ls\n",
    "echo \"SHOW results:\"\n",
    "cd /home/hannelore/PROJECTHH/Tests/BAIT8-analysis-PE/output/Analysis/Results\n",
    "ls\n",
    "echo \"SHOW statistics of cgMLST allelcalling\"\n",
    "cd results_20200811T174438/\n",
    "cat results_statistics.tsv\n",
    "#-> Very little EXC (= alleles with exact matches) and INF (inferred new alleles), but a lot of LNF (=loci not found)\n",
    "#possibly explained by very low number of reads (10000) in these test-samples \n"
   ]
  },
  {
   "cell_type": "code",
   "execution_count": null,
   "metadata": {},
   "outputs": [],
   "source": [
    "#MST PLOT\n",
    "from PIL import Image\n",
    "image = Image.open(\"/home/hannelore/PROJECTHH/Tests/BAIT8-analysis-PE/output/Analysis/MST-plot-color-Meta.test.jpeg\")\n",
    "image.show()\n"
   ]
  },
  {
   "cell_type": "markdown",
   "metadata": {},
   "source": [
    "### Conclusions\n",
    "* Correct input data was used and data were correctly put in the indicated outputfolder\n",
    "* Folder quality (REMARK: the chosen data were most likely already trimmed before uploading so the trimming step had only minimal effect on quality parameters)\n",
    "  - Quality of raw data is both given seperately (per file) as in one multiqc file\n",
    "  - Quality after trimming is given both by the fastp tool as multiqc, fastp and multiqc data complement each other (that's why both were executed)\n",
    "* Folder MLSTtypes: MLST-typing tool did not produce relevant results, most likely because the analysis was run on \"mini\"fastqs and therefore there was not enough information to determine the mlst-type. It is expected that diagnostic relevant results will be obtained when analysing the full fastq files\n",
    "* Folder Assemblies-megahit: \n",
    "  - Folder assembly correctly gives all the generated assemblies\n",
    "  - Folder assembly-quality gives quality parameters of the assemblies (with metaquast)\n",
    "* Folder Analysis\n",
    "  - Folder input4analysis correctly represents all used assemblies in the cgMLST analysis\n",
    "  - Folder results gives the raw results\n",
    "  - Folder Ready4MST gives the adjusted files ready for MST analysis\n",
    "  - Distance matrix was uploaded correctly (but the result was not diagnostically relevant)\n",
    "  - MST plots were generated correctly for all metadata-parameter. REMARK: plots are NOT diagnostically relevant because of very small files (10000 reads) and because data belong to the same cluster and no independant control sample was added. REMARK2: dots are on 1 line (and not in 1 point) because of dodging\n",
    "  \n",
    "-> The pipeline seems to work correctly but more tests are necessary on \"normal size\" fastq files (will be done on HPC) and an independant control should be added to get diagnostic relevant data."
   ]
  },
  {
   "cell_type": "markdown",
   "metadata": {},
   "source": [
    "## D. SE analysis"
   ]
  },
  {
   "cell_type": "markdown",
   "metadata": {},
   "source": [
    "### Input\n",
    "Same input data as PE but only the forward (1) reads were used"
   ]
  },
  {
   "cell_type": "code",
   "execution_count": null,
   "metadata": {},
   "outputs": [],
   "source": [
    "#REMARK: BAIT8 should be OUTB8 (typo)\n",
    "%%bash\n",
    "#location input and output data\n",
    "cd ~/PROJECTHH/Tests/BAIT8-analysis-SE/\n",
    "ls\n",
    "cd input\n",
    "ls"
   ]
  },
  {
   "cell_type": "markdown",
   "metadata": {},
   "source": [
    "### Command"
   ]
  },
  {
   "cell_type": "code",
   "execution_count": null,
   "metadata": {},
   "outputs": [],
   "source": [
    "%%bash #was run in bash directly (faster)\n",
    "nextflow run OUTB8-analysis.nf --SE --reads ~/PROJECTHH/Tests/BAIT8-analysis-SE/input/ \\\n",
    "--output ~/PROJECTHH/Tests/BAIT8-analysis-SE/outputCHEWx \\\n",
    "--scheme ~/PROJECTHH/Data/cgMLSTschemes/MLST-573-c20-Prepped/cgMLST/scheme-573-c20-prep \\\n",
    "--cpu 2  --env ~/PROJECTHH/envPROJECTHH/ --training ~/PROJECTHH/Data/TrainingFiles/txid573-c20.trn \\\n",
    "--meta ~/PROJECTHH/Tests/BAIT8-analysis-SE/input/meta.csv -resume\n",
    "#remark: run was resumed because of typing error"
   ]
  },
  {
   "cell_type": "markdown",
   "metadata": {},
   "source": [
    "### Output\n",
    "\n",
    "N E X T F L O W  ~  version 20.01.0\n",
    "Launching `OUTB8-analysis.nf` [big_kalam] - revision: 18ff28fdc9\n",
    "WARN: Access to undefined parameter `v` -- Initialise it to a default value eg. `params.v = some_value`\n",
    "Analysis starting using following parameters:   \n",
    "==============================================================\n",
    "* Path to extra assemblies        : false/*.fa*\n",
    "* Number of CPUs                  : 2\n",
    "* Python3 environment             : /home/hannelore/PROJECTHH/envPROJECTHH\n",
    "* File with metadata              : /home/hannelore/PROJECTHH/Tests/BAIT8-analysis-SE/input/meta.csv\n",
    "* Output-folder                   : /home/hannelore/PROJECTHH/Tests/BAIT8-analysis-SE/output\n",
    "* Folder with input reads         : /home/hannelore/PROJECTHH/Tests/BAIT8-analysis-SE/input\n",
    "* Folder with chosen MLST scheme  : /home/hannelore/PROJECTHH/Data/cgMLSTschemes/MLST-573-c20-Prepped/cgMLST/scheme-573-c20-cgMLST-prep\n",
    "* Training file to use            : /home/hannelore/PROJECTHH/Data/TrainingFiles/txid573-c20.trn \n",
    "* PE reads                        : false\n",
    "* SE reads                        : true\n",
    "* Start from given assemblies     : false\n",
    "\n",
    "executor >  local (6)\n",
    "[01/96b01d] process > environment  [100%] 1 of 1, cached: 1 ✔\n",
    "[36/9fb39a] process > rawfastqc    [100%] 16 of 16, cached: 16 ✔\n",
    "[55/a90636] process > rawmultiqc   [100%] 1 of 1, cached: 1 ✔\n",
    "[dd/5d2677] process > trimmedSE    [100%] 16 of 16, cached: 16 ✔\n",
    "[9f/ef0d64] process > trimfastqcSE [100%] 16 of 16, cached: 16 ✔\n",
    "[62/aaf1f1] process > trimmultiqc  [100%] 1 of 1, cached: 1 ✔\n",
    "[08/c767bd] process > megahitSE    [100%] 16 of 16, cached: 16 ✔\n",
    "[2c/66fa9b] process > matplotlib   [100%] 1 of 1, cached: 1 ✔\n",
    "[ab/c41751] process > quast        [100%] 1 of 1 ✔\n",
    "[15/ab9be2] process > mlsttype     [100%] 1 of 1 ✔\n",
    "[05/8a9d06] process > input4a      [100%] 16 of 16, cached: 16 ✔\n",
    "[25/f11b1c] process > analysis     [100%] 1 of 1 ✔\n",
    "[d2/d19d6a] process > cleanup      [100%] 1 of 1 ✔\n",
    "[c9/e19d14] process > MSTtree      [100%] 1 of 1 ✔\n",
    "[cf/7a470d] process > feedback     [100%] 1 of 1 ✔\n",
    "OUTB8 FINISHED ANALYSIS SUCCESFULLY!\n",
    "\n",
    "\n",
    "\n",
    "\n",
    "\n",
    "\n",
    "Completed at: 12-aug-2020 09:26:31\n",
    "Duration    : 14m 58s\n",
    "CPU hours   : 0.6 (23,1% cached)\n",
    "Succeeded   : 6\n",
    "Cached      : 84\n"
   ]
  },
  {
   "cell_type": "code",
   "execution_count": null,
   "metadata": {},
   "outputs": [],
   "source": [
    "%%bash\n",
    "#Overview of outputfolder:\n",
    "cd ~/PROJECTHH/Tests/BAIT8-analysis-SE/output\n",
    "ls"
   ]
  },
  {
   "cell_type": "markdown",
   "metadata": {},
   "source": [
    "### Conclusions\n",
    "\n",
    "Identical as \"C. PE analysis\" (see higher)"
   ]
  },
  {
   "cell_type": "markdown",
   "metadata": {},
   "source": [
    "## E. SE analysis with real (full) data"
   ]
  },
  {
   "cell_type": "markdown",
   "metadata": {},
   "source": [
    "### input data\n",
    "Used original data (not the small files)"
   ]
  },
  {
   "cell_type": "code",
   "execution_count": null,
   "metadata": {},
   "outputs": [],
   "source": [
    "%%bash\n",
    "cd /home/hannelore/PROJECTHH/Tests/OUTB8-analysis-SE-full/input\n",
    "ls"
   ]
  },
  {
   "cell_type": "markdown",
   "metadata": {},
   "source": [
    "### Command"
   ]
  },
  {
   "cell_type": "code",
   "execution_count": null,
   "metadata": {},
   "outputs": [],
   "source": [
    "#rush in bash directly (in folder)\n",
    "nextflow run ~/PROJECTHH/Scripts/Pipeline/OUTB8-analysis.nf --SE \\\n",
    "--reads input/ --output ~/PROJECTHH/Tests/OUTB8-analysis-SE-full/output \\\n",
    "--scheme ~/PROJECTHH/Data/cgMLSTschemes/MLST-573-c20-Prepped/cgMLST/scheme-573-c20-prep/ \\\n",
    "--cpu 2 -resume --meta ~/PROJECTHH/Tests/OUTB8-analysis-SE-full/input/meta.csv "
   ]
  },
  {
   "cell_type": "markdown",
   "metadata": {},
   "source": [
    "### Output\n",
    "N E X T F L O W  ~  version 20.01.0\n",
    "Launching `/home/hannelore/PROJECTHH/Scripts/Pipeline/OUTB8-analysis.nf` [trusting_feynman] - revision: 1ee33ac183\n",
    "WARN: Access to undefined parameter `v` -- Initialise it to a default value eg. `params.v = some_value`\n",
    "Analysis starting using following parameters:   \n",
    "==============================================================\n",
    "* Path to extra assemblies        : false/*.fa*\n",
    "* Number of CPUs                  : 2\n",
    "* File with metadata              : /home/hannelore/PROJECTHH/Tests/OUTB8-analysis-SE-full/input/meta.csv\n",
    "* Output-folder                   : /home/hannelore/PROJECTHH/Tests/OUTB8-analysis-SE-full/output\n",
    "* Folder with input reads         : input\n",
    "* Folder with chosen MLST scheme  : /home/hannelore/PROJECTHH/Data/cgMLSTschemes/MLST-573-c20-Prepped/cgMLST/scheme-573-c20-prep\n",
    "* Training file to use            : /home/hannelore/PROJECTHH/Scripts/Pipeline/*.trn \n",
    "* PE reads                        : false\n",
    "* SE reads                        : true\n",
    "* Start from given assemblies     : false\n",
    "\n",
    "executor >  local (3)\n",
    "executor >  local (3)\n",
    "executor >  local (3)\n",
    "executor >  local (3)\n",
    "[d5/0a8db7] process > rawfastqc    [100%] 3 of 3, cached: 3 ✔\n",
    "[47/f1b2ec] process > rawmultiqc   [100%] 1 of 1, cached: 1 ✔\n",
    "[5c/7eb360] process > trimmedSE    [100%] 3 of 3, cached: 3 ✔\n",
    "[36/4b3286] process > trimfastqcSE [100%] 3 of 3, cached: 3 ✔\n",
    "[86/364c89] process > trimmultiqc  [100%] 1 of 1, cached: 1 ✔\n",
    "[a8/ff7e57] process > megahitSE    [100%] 3 of 3, cached: 3 ✔\n",
    "[1a/570bc4] process > matplotlib   [100%] 1 of 1, cached: 1 ✔\n",
    "[31/802dc5] process > quast        [100%] 1 of 1 ✔\n",
    "[7c/31b995] process > mlsttype     [100%] 1 of 1 ✔\n",
    "[ae/dbd768] process > input4       [100%] 3 of 3, cached: 3 ✔\n",
    "[a0/99a1c6] process > analysis     [100%] 1 of 1, cached: 1 ✔\n",
    "[16/94b87a] process > cleanup      [100%] 1 of 1, cached: 1 ✔\n",
    "[71/e5ff34] process > MSTtree      [100%] 1 of 1 ✔\n",
    "[70/5ecddc] process > feedback     [100%] 1 of 1, cached: 1 ✔\n",
    "OUTB8 FINISHED ANALYSIS SUCCESFULLY!\n",
    "\n",
    "\n",
    "\n",
    "\n",
    "\n",
    "\n",
    "\n",
    "Completed at: 20-aug-2020 14:35:16\n",
    "Duration    : 4m 29s\n",
    "CPU hours   : 0.7 (89,6% cached)\n",
    "Succeeded   : 3\n",
    "Cached      : 21\n",
    "\n"
   ]
  },
  {
   "cell_type": "code",
   "execution_count": null,
   "metadata": {},
   "outputs": [],
   "source": [
    "%%bash\n",
    "cd /home/hannelore/PROJECTHH/Tests/OUTB8-analysis-SE-full/input\n",
    "ls"
   ]
  },
  {
   "cell_type": "markdown",
   "metadata": {},
   "source": [
    "### Conclusion\n",
    "Output is much more realistic now the \"strange data\" were due to adapted fastq files NOT due to pipeline"
   ]
  },
  {
   "cell_type": "markdown",
   "metadata": {},
   "source": [
    "## F. SE analysis with extra assemblies"
   ]
  },
  {
   "cell_type": "markdown",
   "metadata": {},
   "source": [
    "### Input\n",
    "* Raw fastq file = same data as SE analysis\n",
    "* Xtra assemblies = first 10 assemblies of reference assemblies downloaded for scheme creation of 573"
   ]
  },
  {
   "cell_type": "code",
   "execution_count": null,
   "metadata": {},
   "outputs": [],
   "source": [
    "%%bash\n",
    "cd /home/hannelore/PROJECTHH/Tests/OUTB8-analysis-Xtra-assemblies/input\n",
    "ls\n",
    "cd Xtra-assemblies\n",
    "ls"
   ]
  },
  {
   "cell_type": "markdown",
   "metadata": {},
   "source": [
    "### Command"
   ]
  },
  {
   "cell_type": "code",
   "execution_count": null,
   "metadata": {},
   "outputs": [],
   "source": [
    "%%bash #was run in bash directly (faster)\n",
    "nextflow run OUTB8-analysis.nf --SE --reads ~/PROJECTHH/Tests/OUTB8-analysis-Xtra-assemblies/input/ \\\n",
    "--output ~/PROJECTHH/Tests/OUTB8-analysis-Xtra-assemblies/output \\\n",
    "--scheme ~/PROJECTHH/Data/cgMLSTschemes/MLST-573-c20-Prepped/cgMLST/scheme-573-c20-cgMLST-prep \\\n",
    "--cpu 2  --env ~/PROJECTHH/envPROJECTHH/ --training ~/PROJECTHH/Data/TrainingFiles/txid573-c20.trn \\\n",
    "--meta ~/PROJECTHH/Tests/OUTB8-analysis-Xtra-assemblies/input/meta.csv \\\n",
    "--assem ~/PROJECTHH/Tests/OUTB8-analysis-Xtra-assemblies/input/Xtra-assemblies/"
   ]
  },
  {
   "cell_type": "markdown",
   "metadata": {},
   "source": [
    "### Output\n",
    "N E X T F L O W  ~  version 20.01.0\n",
    "Launching `OUTB8-analysis.nf` [nostalgic_yonath] - revision: 50777960b8\n",
    "WARN: Access to undefined parameter `v` -- Initialise it to a default value eg. `params.v = some_value`\n",
    "Analysis starting using following parameters:   \n",
    "==============================================================\n",
    "* Path to extra assemblies        : /home/hannelore/PROJECTHH/Tests/OUTB8-analysis-Xtra-assemblies/input/Xtra-assemblies/*.fa*\n",
    "* Number of CPUs                  : 2\n",
    "* Python3 environment             : /home/hannelore/PROJECTHH/envPROJECTHH\n",
    "* File with metadata              : /home/hannelore/PROJECTHH/Tests/OUTB8-analysis-Xtra-assemblies/input/meta.csv\n",
    "* Output-folder                   : /home/hannelore/PROJECTHH/Tests/OUTB8-analysis-Xtra-assemblies/output\n",
    "* Folder with input reads         : /home/hannelore/PROJECTHH/Tests/OUTB8-analysis-Xtra-assemblies/input\n",
    "* Folder with chosen MLST scheme  : /home/hannelore/PROJECTHH/Data/cgMLSTschemes/MLST-573-c20-Prepped/cgMLST/scheme-573-c20-cgMLST-prep\n",
    "* Training file to use            : /home/hannelore/PROJECTHH/Data/TrainingFiles/txid573-c20.trn \n",
    "* PE reads                        : false\n",
    "* SE reads                        : true\n",
    "* Start from given assemblies     : false\n",
    "\n",
    "executor >  local (100)\n",
    "[19/d3b82d] process > environment  [100%] 1 of 1 ✔\n",
    "[4f/dcb9f7] process > rawfastqc    [100%] 16 of 16 ✔\n",
    "[81/0fb848] process > rawmultiqc   [100%] 1 of 1 ✔\n",
    "[39/f4812b] process > trimmedSE    [100%] 16 of 16 ✔\n",
    "[ac/4da368] process > trimfastqcSE [100%] 16 of 16 ✔\n",
    "[35/58ff0a] process > trimmultiqc  [100%] 1 of 1 ✔\n",
    "[ce/408af2] process > megahitSE    [100%] 16 of 16 ✔\n",
    "[25/94421c] process > matplotlib   [100%] 1 of 1 ✔\n",
    "[86/94c294] process > quast        [100%] 1 of 1 ✔\n",
    "[38/d0c387] process > mlsttype     [100%] 1 of 1 ✔\n",
    "[fc/5657e3] process > inputXtra    [100%] 10 of 10 ✔\n",
    "[63/3083a2] process > input4       [100%] 16 of 16 ✔\n",
    "[8b/b713f6] process > analysis     [100%] 1 of 1 ✔\n",
    "[a1/1df38b] process > cleanup      [100%] 1 of 1 ✔\n",
    "[68/8b3a85] process > MSTtree      [100%] 1 of 1 ✔\n",
    "[04/9ba2d1] process > feedback     [100%] 1 of 1 ✔\n",
    " \n",
    "DETAILS OF cgMLST ANALYSIS\n",
    "Number of genomes: 26\n",
    "Number of loci: 3859\n",
    "Used this number of CPU cores: 2\n",
    "Used a bsr of: 0.6\n",
    "OUTB8 FINISHED ANALYSIS SUCCESFULLY!\n",
    "Completed at: 12-aug-2020 11:24:27\n",
    "Duration    : 21m 34s\n",
    "CPU hours   : 0.7\n",
    "Succeeded   : 100\n"
   ]
  },
  {
   "cell_type": "code",
   "execution_count": null,
   "metadata": {},
   "outputs": [],
   "source": [
    "%%bash\n",
    "#Overview of outputfolder:\n",
    "cd ~/PROJECTHH/Tests/OUTB8-analysis-Xtra-assemblies/output\n",
    "ls"
   ]
  },
  {
   "cell_type": "markdown",
   "metadata": {},
   "source": [
    "### Conclusion\n",
    "Th result is not as expected (>= 2 clusters), process cleanup seems to have failed -> failed distancematrix and tree\n",
    "-> needs to be fixed"
   ]
  },
  {
   "cell_type": "markdown",
   "metadata": {},
   "source": [
    "### REMARK\n",
    "For the video for presentation a control sample was added: PRJNA650119 sample 1"
   ]
  },
  {
   "cell_type": "markdown",
   "metadata": {},
   "source": [
    "## F'. SE analysis with extra assemblies\n",
    "same test after adjustments"
   ]
  },
  {
   "cell_type": "markdown",
   "metadata": {},
   "source": [
    "The same test was rerun after some minor workflow adjustments.\n",
    "However the same problem remains during cleanup -> this seems to be a problem of the chewBBACA software -> test apart from pipeline:"
   ]
  },
  {
   "cell_type": "code",
   "execution_count": null,
   "metadata": {},
   "outputs": [],
   "source": [
    "%%bash\n",
    "#repeating problem in BASH (chewBBACA v2.1.0)\n",
    "cd ~/PROJECTHH/Tests/OUTB8-analysis-Xtra-assemblies/output/Analysis/Results/results_20200813T133117/\n",
    "chewBBACA.py ExtractCgMLST -i results_alleles.tsv -o ready"
   ]
  },
  {
   "cell_type": "code",
   "execution_count": null,
   "metadata": {},
   "outputs": [],
   "source": [
    "%%bash\n",
    "#repeatin with chewBBACA v2.5.4 in bash directly\n",
    "cd ~/PROJECTHH/Tests/OUTB8-analysis-Xtra-assemblies/output/Analysis/Results/results_20200813T133117/\n",
    "chewBBACA.py ExtractCgMLST -i results_alleles.tsv -o ready"
   ]
  },
  {
   "cell_type": "markdown",
   "metadata": {},
   "source": [
    "### output \n",
    "chewBBACA version: 2.5.4\n",
    "Authors: Mickael Silva, Pedro Cerqueira, Rafael Mamede\n",
    "Github: https://github.com/B-UMMI/chewBBACA\n",
    "Wiki: https://github.com/B-UMMI/chewBBACA/wiki\n",
    "Tutorial: https://github.com/B-UMMI/chewBBACA_tutorial\n",
    "Contacts: imm-bioinfo@medicina.ulisboa.pt\n",
    "\n",
    "=============================\n",
    "  chewBBACA - ExtractCgMLST\n",
    "=============================\n",
    "\n",
    "Building presence and absence matrix...done.\n",
    "Determining genes in the core genome...done.\n",
    "Determining missing data per genome...done.\n",
    "\n",
    "Core genome composed of 0/3859 genes.\n"
   ]
  },
  {
   "cell_type": "markdown",
   "metadata": {},
   "source": [
    "### conclusion\n",
    "It is a problem of the input data (NOT DIAGNOSTICALLY RELEVANT), is not a problem with \"real data\"!!"
   ]
  },
  {
   "cell_type": "markdown",
   "metadata": {},
   "source": [
    "## G. Analysis with already generated assemblies (only) "
   ]
  },
  {
   "cell_type": "markdown",
   "metadata": {},
   "source": [
    "### Input\n",
    "\n",
    " first 10 assemblies of reference assemblies downloaded for scheme creation of 573"
   ]
  },
  {
   "cell_type": "code",
   "execution_count": null,
   "metadata": {},
   "outputs": [],
   "source": [
    "%%bash\n",
    "cd /home/hannelore/PROJECTHH/Tests/OUTB8-analysis-Only-assemblies/input\n",
    "ls"
   ]
  },
  {
   "cell_type": "markdown",
   "metadata": {},
   "source": [
    "### Command"
   ]
  },
  {
   "cell_type": "code",
   "execution_count": null,
   "metadata": {},
   "outputs": [],
   "source": [
    "%%bash \n",
    "#was run in bash directly (faster)\n",
    "nextflow run OUTB8-analysis.nf --x \\\n",
    "--output ~/PROJECTHH/Tests/OUTB8-analysis-Only-assemblies/output \\\n",
    "--scheme ~/PROJECTHH/Data/cgMLSTschemes/MLST-573-c20-Prepped/cgMLST/scheme-573-c20-cgMLST-prep \\\n",
    "--cpu 2  --env ~/PROJECTHH/envPROJECTHH/ --training ~/PROJECTHH/Data/TrainingFiles/txid573-c20.trn \\\n",
    "--meta ~/PROJECTHH/Tests/OUTB8-analysis-Only-assemblies/input/meta.csv \\\n",
    "--assem ~/PROJECTHH/Tests/OUTB8-analysis-Only-assemblies/input/ -resume\n",
    "#resume because of typo"
   ]
  },
  {
   "cell_type": "markdown",
   "metadata": {},
   "source": [
    "### Output\n",
    "N E X T F L O W  ~  version 20.01.0\n",
    "Launching `OUTB8-analysis.nf` [naughty_edison] - revision: 6421b2cf7f\n",
    "WARN: Access to undefined parameter `v` -- Initialise it to a default value eg. `params.v = some_value`\n",
    "Analysis starting using following parameters:   \n",
    "==============================================================\n",
    "* Path to extra assemblies        : /home/hannelore/PROJECTHH/Tests/OUTB8-analysis-Only-assemblies/input/*.fa*\n",
    "* Number of CPUs                  : 2\n",
    "* Python3 environment             : /home/hannelore/PROJECTHH/envPROJECTHH\n",
    "* File with metadata              : /home/hannelore/PROJECTHH/Tests/OUTB8-analysis-Only-assemblies/input/meta.csv\n",
    "* Output-folder                   : /home/hannelore/PROJECTHH/Tests/OUTB8-analysis-Only-assemblies/output\n",
    "* Folder with input reads         : /home/hannelore/PROJECTHH/Scripts/Pipeline/*{1,2}.fastq.gz\n",
    "* Folder with chosen MLST scheme  : /home/hannelore/PROJECTHH/Data/cgMLSTschemes/MLST-573-c20-Prepped/cgMLST/scheme-573-c20-cgMLST-prep\n",
    "* Training file to use            : /home/hannelore/PROJECTHH/Data/TrainingFiles/txid573-c20.trn \n",
    "* PE reads                        : false\n",
    "* SE reads                        : false\n",
    "* Start from given assemblies     : true\n",
    "\n",
    "executor >  local (5)\n",
    "[b3/8e176a] process > environment [100%] 1 of 1, cached: 1 ✔\n",
    "[ef/8f0028] process > fromassem   [100%] 1 of 1, cached: 1 ✔\n",
    "[ed/e5e760] process > inputXtra   [100%] 10 of 10, cached: 10 ✔\n",
    "[32/37f247] process > input4      [100%] 1 of 1 ✔\n",
    "[29/7462c6] process > analysis    [100%] 1 of 1 ✔\n",
    "[ec/edabd4] process > cleanup     [100%] 1 of 1 ✔\n",
    "[0e/83f7f2] process > MSTtree     [100%] 1 of 1 ✔\n",
    "[75/275c8b] process > feedback    [100%] 1 of 1 ✔\n",
    " \n",
    "DETAILS OF cgMLST ANALYSIS\n",
    "Number of genomes: 10\n",
    "Number of loci: 3859\n",
    "Used this number of CPU cores: 2\n",
    "Used a bsr of: 0.6\n",
    "OUTB8 FINISHED ANALYSIS SUCCESFULLY!\n",
    "Completed at: 12-aug-2020 11:47:06\n",
    "Duration    : 7m 50s\n",
    "CPU hours   : 0.1 (0,5% cached)\n",
    "Succeeded   : 5\n",
    "Cached      : 12\n"
   ]
  },
  {
   "cell_type": "code",
   "execution_count": null,
   "metadata": {},
   "outputs": [],
   "source": [
    "%%bash\n",
    "#Overview of outputfolder:\n",
    "cd ~/PROJECTHH/Tests/BAIT8-analysis-Only-assemblies/output\n",
    "ls"
   ]
  },
  {
   "cell_type": "markdown",
   "metadata": {},
   "source": [
    "### Conclusion"
   ]
  },
  {
   "cell_type": "markdown",
   "metadata": {},
   "source": [
    "# PIPELINE 2: OUTB8 SCHEME"
   ]
  },
  {
   "cell_type": "markdown",
   "metadata": {},
   "source": [
    "## A. Show version"
   ]
  },
  {
   "cell_type": "code",
   "execution_count": null,
   "metadata": {},
   "outputs": [],
   "source": [
    "%%bash\n",
    "cd ~/PROJECTHH/Scripts/Pipeline\n",
    "nextflow run OUTB8-scheme.nf --v"
   ]
  },
  {
   "cell_type": "markdown",
   "metadata": {},
   "source": [
    "## B. Show help message"
   ]
  },
  {
   "cell_type": "code",
   "execution_count": null,
   "metadata": {},
   "outputs": [],
   "source": [
    "%%bash\n",
    "cd ~/PROJECTHH/Scripts/Pipeline\n",
    "nextflow run OUTB8-scheme.nf --help"
   ]
  },
  {
   "cell_type": "markdown",
   "metadata": {},
   "source": [
    "## C. Search txid based on fastq files"
   ]
  },
  {
   "cell_type": "markdown",
   "metadata": {},
   "source": [
    "### Input\n",
    "use the same fastq files as useind in OUTB8-analysis"
   ]
  },
  {
   "cell_type": "code",
   "execution_count": null,
   "metadata": {},
   "outputs": [],
   "source": [
    "%%bash\n",
    "cd /home/hannelore/PROJECTHH/Tests/OUTB8-scheme-fastq/input/\n",
    "ls"
   ]
  },
  {
   "cell_type": "markdown",
   "metadata": {},
   "source": [
    "### Command"
   ]
  },
  {
   "cell_type": "code",
   "execution_count": null,
   "metadata": {},
   "outputs": [],
   "source": [
    "%%bash \n",
    "#was run in bash directly (faster)\n",
    "nextflow run OUTB8-scheme.nf --cpu 2 --env ~/PROJECTHH/envPROJECTHH/ \\\n",
    "--fastq /home/hannelore/PROJECTHH/Tests/OUTB8-scheme-fastq/input/ \\\n",
    "--krakendb /home/hannelore/PROJECTHH/Tools/kraken-db/16S_SILVA138_k2db \\\n",
    "--krakenout /home/hannelore/PROJECTHH/Tests/OUTB8-scheme-fastq/output/\n",
    "\n",
    "#REMARK because of memory issues the silva database was used to perform kraken -> less accurate \n",
    "#-> can only determine up to Genus level (not species)"
   ]
  },
  {
   "cell_type": "markdown",
   "metadata": {},
   "source": [
    "### Output\n",
    "N E X T F L O W  ~  version 20.01.0\n",
    "Launching `OUTB8-scheme.nf` [nasty_jones] - revision: cac984631a\n",
    "WARN: Access to undefined parameter `v` -- Initialise it to a default value eg. `params.v = some_value`\n",
    "executor >  local (59)\n",
    "\n",
    "Kraken2 calculation on 10000 reads for ERR1795077_Illumina_MiSeq_paired_end_sequencing_executor >  local (66)\n",
    "[b3/41d4c9] process > environment   [100%] 1 of 1 ✔\n",
    "[d8/81f5ab] process > reduce4kraken [100%] 16 of 16 ✔\n",
    "[42/fd30a4] process > kraken2       [100%] 16 of 16 ✔\n",
    "[33/94d95b] process > GetTxid       [100%] 16 of 16 ✔\n",
    "[77/2176cd] process > printtxid     [100%] 16 of 16 ✔\n",
    "[0c/992a47] process > finishing     [100%] 1 of 1 ✔\n",
    "\n",
    "-------------- Please restart the pipeline with the corret TXID --------------\n",
    "\n",
    "Kraken2 calculation on 10000 reads for ERR1795080_Illumina_MiSeq_paired_end_sequencing_EXP-8-1-2017-01-13_14-47-56_mini_1 gives txid 46465 as dominant species\n",
    "\n",
    "Kraken2 calculation on 10000 reads for ERR1795076_Illumina_MiSeq_paired_end_sequencing_EXP-4-1-2017-01-13_14-47-56_mini_1 gives txid 46465 as dominant species\n",
    "\n",
    "Kraken2 calculation on 10000 reads for ERR1795082_Illumina_MiSeq_paired_end_sequencing_EXP-10-1-2017-01-13_14-47-56_mini_1 gives txid 46465 as dominant species\n",
    "\n",
    "Kraken2 calculation on 10000 reads for ERR1795075_Illumina_MiSeq_paired_end_sequencing_EXP-3-1-2017-01-13_14-47-56_mini_1 gives txid 46465 as dominant species\n",
    "\n",
    "Kraken2 calculation on 10000 reads for ERR1795077_Illumina_MiSeq_paired_end_sequencing_EXP-5-1-2017-01-13_14-47-56_mini_1 gives txid 46465 as dominant species\n",
    "\n",
    "Kraken2 calculation on 10000 reads for ERR1795074_Illumina_MiSeq_paired_end_sequencing_EXP-2-1-2017-01-13_14-47-56_mini_1 gives txid 46465 as dominant species\n",
    "\n",
    "Kraken2 calculation on 10000 reads for ERR1795084_Illumina_MiSeq_paired_end_sequencing_EXP-12-1-2017-01-13_14-47-56_mini_1 gives txid 46465 as dominant species\n",
    "\n",
    "Kraken2 calculation on 10000 reads for ERR1795073_Illumina_MiSeq_paired_end_sequencing_EXP-1-1-2017-01-13_14-47-56_mini_1 gives txid 46465 as dominant species\n",
    "\n",
    "Kraken2 calculation on 10000 reads for ERR1795072_Illumina_MiSeq_paired_end_sequencing_EXP-0-1-2017-01-13_14-47-56_mini_1 gives txid 46465 as dominant species\n",
    "\n",
    "Kraken2 calculation on 10000 reads for ERR1795083_Illumina_MiSeq_paired_end_sequencing_EXP-11-1-2017-01-13_14-47-56_mini_1 gives txid 46465 as dominant species\n",
    "\n",
    "Kraken2 calculation on 10000 reads for ERR1795078_Illumina_MiSeq_paired_end_sequencing_EXP-6-1-2017-01-13_14-47-56_mini_1 gives txid 46465 as dominant species\n",
    "\n",
    "Kraken2 calculation on 10000 reads for ERR1795079_Illumina_MiSeq_paired_end_sequencing_EXP-7-1-2017-01-13_14-47-56_mini_1 gives txid 46465 as dominant species\n",
    "\n",
    "Kraken2 calculation on 10000 reads for ERR1795081_Illumina_MiSeq_paired_end_sequencing_EXP-9-1-2017-01-13_14-47-56_mini_1 gives txid 46465 as dominant species\n",
    "\n",
    "Kraken2 calculation on 10000 reads for ERR1795086_Illumina_MiSeq_paired_end_sequencing_EXP-14-1-2017-01-13_14-47-56_mini_1 gives txid 46465 as dominant species\n",
    "\n",
    "Kraken2 calculation on 10000 reads for ERR1795085_Illumina_MiSeq_paired_end_sequencing_EXP-13-1-2017-01-13_14-47-56_mini_1 gives txid 46465 as dominant species\n",
    "\n",
    "Kraken2 calculation on 10000 reads for ERR1795087_Illumina_MiSeq_paired_end_sequencing_EXP-15-1-2017-01-13_14-47-56_mini_1 gives txid 46465 as dominant species\n",
    "\n",
    "\n"
   ]
  },
  {
   "cell_type": "code",
   "execution_count": null,
   "metadata": {},
   "outputs": [],
   "source": [
    "%%bash\n",
    "cd /home/hannelore/PROJECTHH/Tests/OUTB8-scheme-fastq/output\n",
    "ls"
   ]
  },
  {
   "cell_type": "markdown",
   "metadata": {},
   "source": [
    "### Conclusion\n",
    "Pipeline generates everything that was asked:\n",
    "* file with correct txid per sample\n",
    "* folder with the minifastq's generated\n",
    "* folder with the full kraken reports"
   ]
  },
  {
   "cell_type": "markdown",
   "metadata": {},
   "source": [
    "## D. Make scheme based on txid"
   ]
  },
  {
   "cell_type": "markdown",
   "metadata": {},
   "source": [
    "### Input\n",
    "txid = 573 = Klebsiella pneumoniae"
   ]
  },
  {
   "cell_type": "markdown",
   "metadata": {},
   "source": [
    "### Command"
   ]
  },
  {
   "cell_type": "code",
   "execution_count": null,
   "metadata": {},
   "outputs": [],
   "source": [
    "%%bash \n",
    "#was run in bash directly (faster)\n",
    "nextflow run OUTB8-scheme.nf --cpu 2 --env /home/hannelore/PROJECTHH/envPROJECTHH \\\n",
    "--txid 573 --count 5 --perc 0,95 \\\n",
    "--refDB /home/hannelore/PROJECTHH/Tests/OUTB8-scheme-txid/output/refDB/ \\\n",
    "--scheme /home/hannelore/PROJECTHH/Tests/OUTB8-scheme-txid/output/cgMLSTschemes \\\n",
    "--training /home/hannelore/PROJECTHH/Tests/OUTB8-scheme-txid/output/TrainingFiles\n",
    "\n",
    "#limit number of assemblies used for scheme creation to 5 to limit computing time"
   ]
  },
  {
   "cell_type": "markdown",
   "metadata": {},
   "source": [
    "### Output\n",
    "N E X T F L O W  ~  version 20.01.0\n",
    "Launching `OUTB8-scheme.nf` [festering_hawking] - revision: a9f9f2b7d5\n",
    "WARN: Access to undefined parameter `v` -- Initialise it to a default value eg. `params.v = some_value`\n",
    "\n",
    "The given txid is 573, number of reference assemblies is MAXIMUM 5\n",
    "\n",
    "SEARCHING ASSEMBLIES... NO accession file available for the given count, start acquiring reference assemblies\n",
    "executor >  local (10)\n",
    "[04/44fca6] process > environment     [100%] 1 of 1 ✔\n",
    "[58/653f7c] process > accessions      [100%] 1 of 1 ✔\n",
    "[04/2aefb5] process > limitAssemblies [100%] 1 of 1 ✔\n",
    "[0b/6b6a0f] process > refAssembly     [100%] 1 of 1 ✔\n",
    "[18/333704] process > unzip           [100%] 1 of 1 ✔\n",
    "[55/508db9] process > multi           [100%] 1 of 1 ✔\n",
    "[ee/653ad7] process > training        [100%] 1 of 1 ✔\n",
    "[d1/ca22a9] process > wgMLST          [100%] 1 of 1 ✔\n",
    "[d9/d6b329] process > prepscheme      [100%] 1 of 1 ✔\n",
    "[b6/e4b0b9] process > allelcall       [  0%] 0 of 1\n",
    "[-        ] process > paralogs        -\n",
    "[-        ] process > gquality        -\n",
    "[-        ] process > cgMLST          -\n",
    "[-        ] process > cgMLSTloci      -\n",
    "[-        ] process > schemeEval      -\n",
    "[-        ] process > feedback        -\n",
    "Error executing process > 'allelcall'\n",
    "\n",
    "Caused by:\n",
    "  Process `allelcall` terminated with an error exit status (1)\n",
    "\n",
    "Command executed:\n",
    "\n",
    "  mkdir allelecalling\n",
    "  chewBBACA.py AlleleCall -i /home/hannelore/PROJECTHH/Tests/OUTB8-scheme-txid/output/refDB/refDB-573-c5/unzipped/         -g /home/hannelore/PROJECTHH/Tests/OUTB8-scheme-txid/output/cgMLSTschemes/MLST-573-c5/wgMLST/schema-573-c5/ -o allelecalling/         --cpu 2 --ptf /home/hannelore/PROJECTHH/Tests/OUTB8-scheme-txid/output/TrainingFiles/txid573-c5.trn\n",
    "\n",
    "Command exit status:\n",
    "  1\n",
    "\n",
    "Command output:\n",
    "  \n",
    "  chewBBACA version: 2.5.0\n",
    "  Authors: Mickael Silva, Pedro Cerqueira, Rafael Mamede\n",
    "  Github: https://github.com/B-UMMI/chewBBACA\n",
    "  Wiki: https://github.com/B-UMMI/chewBBACA/wiki\n",
    "  Tutorial: https://github.com/B-UMMI/chewBBACA_tutorial\n",
    "  Contacts: imm-bioinfo@medicina.ulisboa.pt\n",
    "  \n",
    "  ==========================\n",
    "    chewBBACA - AlleleCall\n",
    "  ==========================\n",
    "  It seems that your schema was created with chewBBACA 2.1.0 or lower.\n",
    "executor >  local (10)\n",
    "[04/44fca6] process > environment     [100%] 1 of 1 ✔\n",
    "[58/653f7c] process > accessions      [100%] 1 of 1 ✔\n",
    "[04/2aefb5] process > limitAssemblies [100%] 1 of 1 ✔\n",
    "[0b/6b6a0f] process > refAssembly     [100%] 1 of 1 ✔\n",
    "[18/333704] process > unzip           [100%] 1 of 1 ✔\n",
    "[55/508db9] process > multi           [100%] 1 of 1 ✔\n",
    "[ee/653ad7] process > training        [100%] 1 of 1 ✔\n",
    "[d1/ca22a9] process > wgMLST          [100%] 1 of 1 ✔\n",
    "[d9/d6b329] process > prepscheme      [100%] 1 of 1 ✔\n",
    "[b6/e4b0b9] process > allelcall       [100%] 1 of 1, failed: 1 ✘\n",
    "[-        ] process > paralogs        -\n",
    "[-        ] process > gquality        -\n",
    "[-        ] process > cgMLST          -\n",
    "[-        ] process > cgMLSTloci      -\n",
    "[-        ] process > schemeEval      -\n",
    "[-        ] process > feedback        -\n",
    "Oops something went wrong, please check your input again!\n",
    "Error executing process > 'allelcall'\n",
    "\n",
    "Caused by:\n",
    "  Process `allelcall` terminated with an error exit status (1)\n",
    "\n",
    "Command executed:\n",
    "\n",
    "  mkdir allelecalling\n",
    "  chewBBACA.py AlleleCall -i /home/hannelore/PROJECTHH/Tests/OUTB8-scheme-txid/output/refDB/refDB-573-c5/unzipped/         -g /home/hannelore/PROJECTHH/Tests/OUTB8-scheme-txid/output/cgMLSTschemes/MLST-573-c5/wgMLST/schema-573-c5/ -o allelecalling/         --cpu 2 --ptf /home/hannelore/PROJECTHH/Tests/OUTB8-scheme-txid/output/TrainingFiles/txid573-c5.trn\n",
    "\n",
    "Command exit status:\n",
    "  1\n",
    "\n",
    "Command output:\n",
    "  \n",
    "  chewBBACA version: 2.5.0\n",
    "  Authors: Mickael Silva, Pedro Cerqueira, Rafael Mamede\n",
    "  Github: https://github.com/B-UMMI/chewBBACA\n",
    "  Wiki: https://github.com/B-UMMI/chewBBACA/wiki\n",
    "  Tutorial: https://github.com/B-UMMI/chewBBACA_tutorial\n",
    "  Contacts: imm-bioinfo@medicina.ulisboa.pt\n",
    "  \n",
    "  ==========================\n",
    "    chewBBACA - AlleleCall\n",
    "  ==========================\n",
    "  It seems that your schema was created with chewBBACA 2.1.0 or lower.\n",
    "  It is highly recommended that you run the PrepExternalSchema process to guarantee full compatibility with the new chewBBACA version.\n",
    "  If you wish to continue, the AlleleCall process will convert the schema to v2.5.0, but will not determine if schema structure respects configuration values.\n",
    "  Do you wish to proceed?\n",
    "\n",
    "Command error:\n",
    "  Traceback (most recent call last):\n",
    "    File \"/home/hannelore/PROJECTHH/envPROJECTHH/bin/chewBBACA.py\", line 11, in <module>\n",
    "      load_entry_point('chewBBACA==2.5.0', 'console_scripts', 'chewBBACA.py')()\n",
    "    File \"/home/hannelore/PROJECTHH/envPROJECTHH/lib/python3.7/site-packages/CHEWBBACA/chewBBACA.py\", line 1487, in main\n",
    "      functions_info[process][1]()\n",
    "    File \"/home/hannelore/PROJECTHH/envPROJECTHH/lib/python3.7/site-packages/CHEWBBACA/chewBBACA.py\", line 386, in allele_call\n",
    "      proceed = aux.input_timeout(prompt, timeout)\n",
    "    File \"/home/hannelore/PROJECTHH/envPROJECTHH/lib/python3.7/site-packages/CHEWBBACA/utils/auxiliary_functions.py\", line 1724, in input_timeout\n",
    "      return answer.get(timeout=timeout)\n",
    "    File \"/home/hannelore/miniconda3/lib/python3.7/multiprocessing/pool.py\", line 657, in get\n",
    "      raise self._value\n",
    "    File \"/home/hannelore/miniconda3/lib/python3.7/multiprocessing/pool.py\", line 121, in worker\n",
    "      result = (True, func(*args, **kwds))\n",
    "  EOFError: EOF when reading a line\n",
    "\n",
    "Work dir:\n",
    "  /home/hannelore/PROJECTHH/Scripts/Pipeline/work/b6/e4b0b9e2b536f6fd4dc929a6153c27\n",
    "\n",
    "Tip: you can try to figure out what's wrong by changing to the process work dir and showing the script file named `.command.sh`\n"
   ]
  },
  {
   "cell_type": "code",
   "execution_count": null,
   "metadata": {},
   "outputs": [],
   "source": [
    "%%bash\n",
    "cd /home/hannelore/PROJECTHH/Tests/OUTB8-scheme-txid/output/\n",
    "ls"
   ]
  },
  {
   "cell_type": "markdown",
   "metadata": {},
   "source": [
    "### DEFINE PROBLEM\n",
    "-> wgMLST scheme was created but workflow stops during allelcall for creation cgMLST scheme\n",
    "* An error occured due to incompatibility of the scheme with v2.5.0 of chewBBACA. They ask to run the PrepExternalSchema process but this was already done, however the software does not seem to recognise that. \n",
    "* Nextflow does not allow interaction during the pipeline therefore \"yes\" can not be answered\", this allowance can also not be added to the original script e.g. \"-y\"\n",
    "* Running with chewBBACA v2.1.0 is also not an option since I switched to v2.5.0 because of compatibility problems\n",
    "\n",
    "->  I will try to install the newer version v2.5.1 or higher and see the effect"
   ]
  },
  {
   "cell_type": "code",
   "execution_count": null,
   "metadata": {},
   "outputs": [],
   "source": [
    "### Command (run after installing chewBBACA v2.5.4)\n",
    "%%bash \n",
    "#was run in bash directly (faster)\n",
    "nextflow run OUTB8-scheme.nf --cpu 2 --env ~/PROJECTHH/envPROJECTHH/ \\\n",
    "--txid 573 --count 5 --perc 0,95 \\\n",
    "--refDB /home/hannelore/PROJECTHH/Tests/OUTB8-scheme-txid/output/refDB/ \\\n",
    "--scheme /home/hannelore/PROJECTHH/Tests/OUTB8-scheme-txid/output/cgMLSTschemes \\\n",
    "--training /home/hannelore/PROJECTHH/Tests/OUTB8-scheme-txid/output/TrainingFiles"
   ]
  },
  {
   "cell_type": "markdown",
   "metadata": {},
   "source": [
    "### Output: same problem\n",
    "N E X T F L O W  ~  version 20.01.0\n",
    "Launching `OUTB8-scheme.nf` [gigantic_davinci] - revision: 4bed0383bc\n",
    "WARN: Access to undefined parameter `v` -- Initialise it to a default value eg. `params.v = some_value`\n",
    "\n",
    "The given txid is 573, number of reference assemblies is MAXIMUM 5\n",
    "\n",
    "SEARCHING ASSEMBLIES... The accession file is already available continue to scheme generation \n",
    "executor >  local (5)\n",
    "\n",
    "[62/1d9243] process > environment [100%] 1 of 1 ✔\n",
    "[8f/bcd9a2] process > training    [100%] 1 of 1 ✔\n",
    "[5c/a546ab] process > wgMLST      [100%] 1 of 1 ✔\n",
    "[b7/2436a9] process > prepscheme  [100%] 1 of 1 ✔\n",
    "[cc/8b0590] process > allelcall   [100%] 1 of 1, failed: 1 ✘\n",
    "[-        ] process > paralogs    -\n",
    "[-        ] process > gquality    -\n",
    "[-        ] process > cgMLST      -\n",
    "[-        ] process > cgMLSTloci  -\n",
    "[-        ] process > schemeEval  -\n",
    "[-        ] process > feedback    -\n",
    "Oops something went wrong, please check your input again!\n",
    "Error executing process > 'allelcall'\n",
    "\n",
    "Caused by:\n",
    "  Process `allelcall` terminated with an error exit status (1)\n",
    "\n",
    "Command executed:\n",
    "\n",
    "  mkdir allelecalling\n",
    "  chewBBACA.py AlleleCall -i /home/hannelore/PROJECTHH/Tests/OUTB8-scheme-txid/output/refDB/refDB-573-c5/unzipped/         -g /home/hannelore/PROJECTHH/Tests/OUTB8-scheme-txid/output/cgMLSTschemes/MLST-573-c5/wgMLST/schema-573-c5/ -o allelecalling/         --cpu 2\n",
    "\n",
    "Command exit status:\n",
    "  1\n",
    "\n",
    "Command output:\n",
    "  \n",
    "  chewBBACA version: 2.5.4\n",
    "  Authors: Mickael Silva, Pedro Cerqueira, Rafael Mamede\n",
    "  Github: https://github.com/B-UMMI/chewBBACA\n",
    "  Wiki: https://github.com/B-UMMI/chewBBACA/wiki\n",
    "  Tutorial: https://github.com/B-UMMI/chewBBACA_tutorial\n",
    "  Contacts: imm-bioinfo@medicina.ulisboa.pt\n",
    "  \n",
    "  ==========================\n",
    "    chewBBACA - AlleleCall\n",
    "  ==========================\n",
    "  It seems that your schema was created with chewBBACA 2.1.0 or lower.\n",
    "  It is highly recommended that you run the PrepExternalSchema process to guarantee full compatibility with the new chewBBACA version.\n",
    "  If you wish to continue, the AlleleCall process will convert the schema to v2.5.4, but will not determine if schema structure respects configuration values.\n",
    "  Do you wish to proceed?\n",
    "\n",
    "Command error:\n",
    "  Traceback (most recent call last):\n",
    "    File \"/home/hannelore/PROJECTHH/envPROJECTHH/bin/chewBBACA.py\", line 11, in <module>\n",
    "      load_entry_point('chewBBACA==2.5.4', 'console_scripts', 'chewBBACA.py')()\n",
    "    File \"/home/hannelore/PROJECTHH/envPROJECTHH/lib/python3.7/site-packages/CHEWBBACA/chewBBACA.py\", line 1549, in main\n",
    "      functions_info[process][1]()\n",
    "    File \"/home/hannelore/PROJECTHH/envPROJECTHH/lib/python3.7/site-packages/CHEWBBACA/chewBBACA.py\", line 386, in allele_call\n",
    "      proceed = aux.input_timeout(prompt, timeout)\n",
    "    File \"/home/hannelore/PROJECTHH/envPROJECTHH/lib/python3.7/site-packages/CHEWBBACA/utils/auxiliary_functions.py\", line 1724, in input_timeout\n",
    "      return answer.get(timeout=timeout)\n",
    "    File \"/home/hannelore/miniconda3/lib/python3.7/multiprocessing/pool.py\", line 657, in get\n",
    "      raise self._value\n",
    "    File \"/home/hannelore/miniconda3/lib/python3.7/multiprocessing/pool.py\", line 121, in worker\n",
    "      result = (True, func(*args, **kwds))\n",
    "  EOFError: EOF when reading a line\n",
    "\n",
    "Work dir:\n",
    "  /home/hannelore/PROJECTHH/Scripts/Pipeline/work/cc/8b0590e7be72a2254332e795dd4752\n",
    "\n",
    "Tip: you can try to figure out what's wrong by changing to the process work dir and showing the script file named `.command.sh`"
   ]
  },
  {
   "cell_type": "markdown",
   "metadata": {},
   "source": [
    "### Conclusion\n",
    "Problems with v2.5.x remain! I will try to fix this when running on HPC with v2.1.0"
   ]
  },
  {
   "cell_type": "markdown",
   "metadata": {},
   "source": [
    "## RETRY-1: D. Make scheme based on txid\n",
    "after some changes retried:\n",
    "* removed environment setting in script but must set environment before running!\n",
    "* uninstalled chewBBACA and reinstalled with: pip install chewBBACA==2.5.4 (v2.5.0 was not available)\n",
    "\n",
    "### Command"
   ]
  },
  {
   "cell_type": "code",
   "execution_count": null,
   "metadata": {},
   "outputs": [],
   "source": [
    "#run in bash directly\n",
    "nextflow run OUTB8-scheme.nf --txid 573 --count 30 --cpu 2 \\\n",
    "--refDB ~/PROJECTHH/Data/refDB/ --scheme ~/PROJECTHH/Data/cgMLSTschemes/ \\\n",
    "--training ~/PROJECTHH/Data/TrainingFiles/"
   ]
  },
  {
   "cell_type": "markdown",
   "metadata": {},
   "source": [
    "### OUTPUT\n",
    "executor >  local (9)\n",
    "[f0/85411a] process > accessions      [100%] 1 of 1 ✔\n",
    "[7d/08c18c] process > limitAssemblies [100%] 1 of 1 ✔\n",
    "[b1/57e550] process > refAssembly     [100%] 1 of 1 ✔\n",
    "[4b/8b26b7] process > unzip           [100%] 1 of 1 ✔\n",
    "[ca/0a07d6] process > multi           [100%] 1 of 1 ✔\n",
    "[57/5f25ad] process > training        [100%] 1 of 1 ✔\n",
    "[24/4762bf] process > wgMLST          [100%] 1 of 1 ✔\n",
    "[7c/c2bc3f] process > prepscheme      [100%] 1 of 1 ✔\n",
    "[9b/b08fb1] process > allelcall       [100%] 1 of 1, failed: 1 ✘\n",
    "[-        ] process > paralogs        -\n",
    "[-        ] process > gquality        -\n",
    "[-        ] process > cgMLST          -\n",
    "[-        ] process > cgMLSTloci      -\n",
    "[-        ] process > schemeEval      -\n",
    "[-        ] process > feedback        -\n",
    "Oops something went wrong, please check your input again!\n",
    "Error executing process > 'allelcall'\n",
    "\n",
    "Caused by:\n",
    "  Process `allelcall` terminated with an error exit status (1)\n",
    "\n",
    "Command executed:\n",
    "\n",
    "  mkdir allelecalling\n",
    "  chewBBACA.py AlleleCall -i /home/hannelore/PROJECTHH/Data/refDB/refDB-573-c30/unzipped/         -g /home/hannelore/PROJECTHH/Data/cgMLSTschemes/MLST-573-c30/wgMLST/schema-573-c30/ -o allelecalling/         --cpu 2\n",
    "\n",
    "Command exit status:\n",
    "  1\n",
    "\n",
    "Command output:\n",
    "  \n",
    "  chewBBACA version: 2.5.4\n",
    "  Authors: Mickael Silva, Pedro Cerqueira, Rafael Mamede\n",
    "  Github: https://github.com/B-UMMI/chewBBACA\n",
    "  Wiki: https://github.com/B-UMMI/chewBBACA/wiki\n",
    "  Tutorial: https://github.com/B-UMMI/chewBBACA_tutorial\n",
    "  Contacts: imm-bioinfo@medicina.ulisboa.pt\n",
    "  \n",
    "  ==========================\n",
    "    chewBBACA - AlleleCall\n",
    "  ==========================\n",
    "  It seems that your schema was created with chewBBACA 2.1.0 or lower.\n",
    "  It is highly recommended that you run the PrepExternalSchema process to guarantee full compatibility with the new chewBBACA version.\n",
    "  If you wish to continue, the AlleleCall process will convert the schema to v2.5.4, but will not determine if schema structure respects configuration values.\n",
    "  Do you wish to proceed?\n",
    "\n",
    "Command error:\n",
    "  Traceback (most recent call last):\n",
    "    File \"/home/hannelore/PROJECTHH/envPROJECTHH/bin/chewBBACA.py\", line 8, in <module>\n",
    "      sys.exit(main())\n",
    "    File \"/home/hannelore/PROJECTHH/envPROJECTHH/lib/python3.7/site-packages/CHEWBBACA/chewBBACA.py\", line 1549, in main\n",
    "      functions_info[process][1]()\n",
    "    File \"/home/hannelore/PROJECTHH/envPROJECTHH/lib/python3.7/site-packages/CHEWBBACA/chewBBACA.py\", line 386, in allele_call\n",
    "      proceed = aux.input_timeout(prompt, timeout)\n",
    "    File \"/home/hannelore/PROJECTHH/envPROJECTHH/lib/python3.7/site-packages/CHEWBBACA/utils/auxiliary_functions.py\", line 1724, in input_timeout\n",
    "      return answer.get(timeout=timeout)\n",
    "    File \"/home/hannelore/miniconda3/lib/python3.7/multiprocessing/pool.py\", line 657, in get\n",
    "      raise self._value\n",
    "    File \"/home/hannelore/miniconda3/lib/python3.7/multiprocessing/pool.py\", line 121, in worker\n",
    "      result = (True, func(*args, **kwds))\n",
    "  EOFError: EOF when reading a line\n",
    "\n",
    "Work dir:\n",
    "  /home/hannelore/PROJECTHH/Scripts/Pipeline/work/9b/b08fb1f846c9d7ec3ac5235815cc99\n",
    "\n",
    "Tip: you can replicate the issue by changing to the process work dir and entering the command `bash .command.run`"
   ]
  },
  {
   "cell_type": "markdown",
   "metadata": {},
   "source": [
    "### Conclusion\n",
    "Same problem remains \n",
    "FOR NOW: -> do it manually from wgMLST \n",
    "FIX:\n",
    "* contact developers to provide \"-y\" in the function -> FIX/ use --fc!!!!!\n"
   ]
  },
  {
   "cell_type": "markdown",
   "metadata": {},
   "source": [
    "## RETRY-2: D. Make scheme based on txid\n",
    "Added --fc to nextflow pipeline process AlleleCall and removed process Prepscheme again\n",
    "\n",
    "### Command"
   ]
  },
  {
   "cell_type": "code",
   "execution_count": null,
   "metadata": {},
   "outputs": [],
   "source": [
    "#run in bash directly\n",
    "nextflow run OUTB8-scheme.nf --txid 573 --scheme/PROJECTHH/Data/cgMLSTschemes/ \\\n",
    "--trainng ~/PROJECTHH/Data/TrainingFiles/ --refDB ~/PROJECTHH/Data/refDB/ --cpu 2 --count 25\n"
   ]
  },
  {
   "cell_type": "markdown",
   "metadata": {},
   "source": [
    "### Output\n",
    "Error executing process > 'paralogs'\n",
    "\n",
    "Caused by:\n",
    "  Process `paralogs` terminated with an error exit status (1)\n",
    "\n",
    "Command executed:\n",
    "\n",
    "  chewBBACA.py RemoveGenes -i /home/hannelore/PROJECTHH/Data/cgMLSTschemes/MLST-573-c25/wgMLST/allelecalling/*/results_alleles.tsv         -g /home/hannelore/PROJECTHH/Data/cgMLSTschemes/MLST-573-c25/wgMLST/schema-573-c25/allelecalling/*/RepeatedLoci.txt         -o alleleCallMatrix_cg\n",
    "\n",
    "Command exit status:\n",
    "  1\n",
    "\n",
    "Command output:\n",
    "  \n",
    "  chewBBACA version: 2.5.4\n",
    "  Authors: Mickael Silva, Pedro Cerqueira, Rafael Mamede\n",
    "  Github: https://github.com/B-UMMI/chewBBACA\n",
    "  Wiki: https://github.com/B-UMMI/chewBBACA/wiki\n",
    "  Tutorial: https://github.com/B-UMMI/chewBBACA_tutorial\n",
    "  Contacts: imm-bioinfo@medicina.ulisboa.pt\n",
    "  \n",
    "  ===========================\n",
    "    chewBBACA - RemoveGenes\n",
    "  ===========================\n",
    "\n",
    "Command error:\n",
    "  Traceback (most recent call last):\n",
    "    File \"/home/hannelore/PROJECTHH/envPROJECTHH/bin/chewBBACA.py\", line 8, in <module>\n",
    "      sys.exit(main())\n",
    "    File \"/home/hannelore/PROJECTHH/envPROJECTHH/lib/python3.7/site-packages/CHEWBBACA/chewBBACA.py\", line 1549, in main\n",
    "      functions_info[process][1]()\n",
    "    File \"/home/hannelore/PROJECTHH/envPROJECTHH/lib/python3.7/site-packages/CHEWBBACA/chewBBACA.py\", line 874, in remove_genes\n",
    "      RemoveGenes.main(input_file, genes_list, output_file, inverse)\n",
    "    File \"/home/hannelore/PROJECTHH/envPROJECTHH/lib/python3.7/site-packages/CHEWBBACA/utils/RemoveGenes.py\", line 14, in main\n",
    "      with open(toRemoveListFile) as f:\n",
    "  FileNotFoundError: [Errno 2] No such file or directory: '/home/hannelore/PROJECTHH/Data/cgMLSTschemes/MLST-573-c25/wgMLST/schema-573-c25/allelecalling/*/RepeatedLoci.txt'\n",
    "\n",
    "Work dir:\n",
    "  /home/hannelore/PROJECTHH/Scripts/Pipeline/work/f1/470e57612710aeaa785dfdc0621113\n",
    "\n",
    "Tip: when you have fixed the problem you can continue the execution adding the option `-resume` to the run command line"
   ]
  },
  {
   "cell_type": "markdown",
   "metadata": {},
   "source": [
    "### Conclusion\n",
    "New problem with paraloges, fixed see RETRY2"
   ]
  },
  {
   "cell_type": "markdown",
   "metadata": {},
   "source": [
    "## RETRY-3: D. Make scheme based on txid\n",
    "Resume retry2 after fixing paralog problem and rerun\n",
    "### Command"
   ]
  },
  {
   "cell_type": "code",
   "execution_count": null,
   "metadata": {},
   "outputs": [],
   "source": [
    "#run in bash directly\n",
    "nextflow run OUTB8-scheme.nf --txid 573 --scheme/PROJECTHH/Data/cgMLSTschemes/ \\\n",
    "--trainng ~/PROJECTHH/Data/TrainingFiles/ --refDB ~/PROJECTHH/Data/refDB/ --cpu 2 --count 25 -resume"
   ]
  },
  {
   "cell_type": "markdown",
   "metadata": {},
   "source": [
    "### Output\n",
    "The given txid is 573, number of reference assemblies is MAXIMUM 25\n",
    "\n",
    "SEARCHING ASSEMBLIES... The accession file is already available continue to scheme generation \n",
    "executor >  local (5)\n",
    "[af/7f30a1] process > training   [100%] 1 of 1, cached: 1 ✔\n",
    "[34/61b9d9] process > wgMLST     [100%] 1 of 1, cached: 1 ✔\n",
    "[b2/3779c9] process > allelcall  [100%] 1 of 1, cached: 1 ✔\n",
    "[e7/aa090e] process > paralogs   [100%] 1 of 1 ✔\n",
    "[15/5351c6] process > gquality   [100%] 1 of 1 ✔\n",
    "[69/535554] process > cgMLST     [100%] 1 of 1, cached: 1 ✔\n",
    "[4a/d87f06] process > cgMLSTloci [100%] 1 of 1 ✔\n",
    "[8f/5a1ed7] process > schemeEval [100%] 1 of 1 ✔\n",
    "[69/62d28a] process > feedback   [100%] 1 of 1 ✔\n",
    " \n",
    "REFERENCES USED FOR ANALYSIS\n",
    "Number of loci: 5544\n",
    "out of 25 requested\n",
    " \n",
    "WG-MLST SCHEME\n",
    "Used this number of CPU cores: 2\n",
    " \n",
    "CG-MLST SCHEME\n",
    "number of loci: 2469 \n",
    " \n",
    "\n",
    "cgMLST SCHEME FOR 573 CREATED SUCCESSFULLY!\n",
    "Completed at: 24-aug-2020 14:37:00\n",
    "Duration    : 2m 38s\n",
    "CPU hours   : 2.3 (98,1% cached)\n",
    "Succeeded   : 5\n",
    "Cached      : 4\n"
   ]
  },
  {
   "cell_type": "markdown",
   "metadata": {},
   "source": [
    "### Conclusion \n",
    "The pipeline worked correctly!\n",
    "Remark: adapt the feedback (wrong information printed)"
   ]
  },
  {
   "cell_type": "markdown",
   "metadata": {},
   "source": [
    "### output (fixing feedback)\n",
    "The given txid is 573, number of reference assemblies is MAXIMUM 25\n",
    "\n",
    "SEARCHING ASSEMBLIES... The accession file is already available continue to scheme generation \n",
    "executor >  local (1)\n",
    "[af/7f30a1] process > training   [100%] 1 of 1, cached: 1 ✔\n",
    "[34/61b9d9] process > wgMLST     [100%] 1 of 1, cached: 1 ✔\n",
    "[b2/3779c9] process > allelcall  [100%] 1 of 1, cached: 1 ✔\n",
    "[e7/aa090e] process > paralogs   [100%] 1 of 1, cached: 1 ✔\n",
    "[15/5351c6] process > gquality   [100%] 1 of 1, cached: 1 ✔\n",
    "[69/535554] process > cgMLST     [100%] 1 of 1, cached: 1 ✔\n",
    "[4a/d87f06] process > cgMLSTloci [100%] 1 of 1, cached: 1 ✔\n",
    "[8f/5a1ed7] process > schemeEval [100%] 1 of 1, cached: 1 ✔\n",
    "[82/80ceb8] process > feedback   [100%] 1 of 1 ✔\n",
    "\n",
    " \n",
    "REFERENCES USED FOR ANALYSIS\n",
    "Number of genomes: 25\n",
    "out of 25 requested\n",
    " \n",
    "WG-MLST SCHEME: scheme-573-c25\n",
    "Number of loci: 5544\n",
    " \n",
    "CG-MLST SCHEME: scheme-573-c25-cgMLST\n",
    "number of loci: 2469 \n",
    " \n",
    "\n",
    "cgMLST SCHEME FOR 573 CREATED SUCCESSFULLY!\n"
   ]
  },
  {
   "cell_type": "markdown",
   "metadata": {},
   "source": [
    "### Conclusion\n",
    "# a succes :)"
   ]
  },
  {
   "cell_type": "markdown",
   "metadata": {},
   "source": [
    "## REDO D. Make scheme based on txidD :\n",
    "- full analysis, new species, txid = \n",
    "- output in test folder\n",
    "\n",
    "### Command"
   ]
  },
  {
   "cell_type": "code",
   "execution_count": null,
   "metadata": {},
   "outputs": [],
   "source": [
    "#run in bash directly\n",
    "nextflow run OUTB8-scheme.nf --txid 817 --scheme ~/PROJECTHH/Tests/OUTB8-scheme-txid/output-scheme \\\n",
    "--training ~/PROJECTHH/Tests/OUTB8-scheme-txid/output-training --refDB ~/PROJECTHH/Tests/OUTB8-scheme-txid/output-refDB \\\n",
    "--cpu 2 --count 3"
   ]
  },
  {
   "cell_type": "markdown",
   "metadata": {},
   "source": [
    "### Output\n",
    "The given txid is 817, number of reference assemblies is MAXIMUM 3\n",
    "\n",
    "SEARCHING ASSEMBLIES... NO accession file available for the given count, start acquiring reference assemblies\n",
    "executor >  local (14)\n",
    "[01/ddea5d] process > accessions      [100%] 1 of 1 ✔\n",
    "[4a/4a71fb] process > limitAssemblies [100%] 1 of 1 ✔\n",
    "[0a/8c55e7] process > refAssembly     [100%] 1 of 1 ✔\n",
    "[5a/41c8f7] process > unzip           [100%] 1 of 1 ✔\n",
    "[ae/8ab22a] process > multi           [100%] 1 of 1 ✔\n",
    "[8c/d993d2] process > training        [100%] 1 of 1 ✔\n",
    "[8f/90ed4e] process > wgMLST          [100%] 1 of 1 ✔\n",
    "[2d/c55a26] process > allelcall       [100%] 1 of 1 ✔\n",
    "[7f/000e52] process > paralogs        [100%] 1 of 1 ✔\n",
    "[ad/270ed6] process > gquality        [100%] 1 of 1 ✔\n",
    "[a6/9e87bb] process > cgMLST          [100%] 1 of 1 ✔\n",
    "[ec/3998f4] process > cgMLSTloci      [100%] 1 of 1 ✔\n",
    "[85/314b84] process > schemeEval      [100%] 1 of 1 ✔\n",
    "[54/376251] process > feedback        [100%] 1 of 1 ✔\n",
    " \n",
    "REFERENCES USED FOR ANALYSIS\n",
    "Number of genomes: 3\n",
    "out of 3 requested\n",
    " \n",
    "WG-MLST SCHEME: scheme-817-c3\n",
    "Number of loci: 5173\n",
    " \n",
    "CG-MLST SCHEME: scheme-817-c3-cgMLST\n",
    "number of loci: 2587 \n",
    " \n",
    "\n",
    "cgMLST SCHEME FOR 817 CREATED SUCCESSFULLY!\n",
    "Completed at: 24-aug-2020 15:32:29\n",
    "Duration    : 24m 51s\n",
    "CPU hours   : 0.4\n",
    "Succeeded   : 14\n"
   ]
  },
  {
   "cell_type": "markdown",
   "metadata": {},
   "source": [
    "### Copnclusion\n",
    "Works :)"
   ]
  },
  {
   "cell_type": "markdown",
   "metadata": {},
   "source": [
    "## E. Start pipeline for existing scheme"
   ]
  },
  {
   "cell_type": "markdown",
   "metadata": {},
   "source": [
    "### Input\n",
    "A known cgMLST scheme can be found in the input files"
   ]
  },
  {
   "cell_type": "code",
   "execution_count": null,
   "metadata": {},
   "outputs": [],
   "source": [
    "%%bash\n",
    "#existing scheme\n",
    "cd /home/hannelore/PROJECTHH/Tests/OUTB8-scheme-existing/input/\n",
    "ls"
   ]
  },
  {
   "cell_type": "markdown",
   "metadata": {},
   "source": [
    "### Command"
   ]
  },
  {
   "cell_type": "code",
   "execution_count": null,
   "metadata": {},
   "outputs": [],
   "source": [
    "%%bash \n",
    "#was run in bash directly (faster)\n",
    "nextflow run OUTB8-scheme.nf --cpu 2 --env ~/PROJECTHH/envPROJECTHH/ \\\n",
    "--txid 573 --count 20 --perc 0,95 \\\n",
    "--refDB /home/hannelore/PROJECTHH/Tests/OUTB8-scheme-existing/input/refDB \\\n",
    "--scheme /home/hannelore/PROJECTHH/Tests/OUTB8-scheme-existing/input/cgMLSTschemes \\\n",
    "--training /home/hannelore/PROJECTHH/Tests/OUTB8-scheme-existing/input/TrainingFiles"
   ]
  },
  {
   "cell_type": "markdown",
   "metadata": {},
   "source": [
    "### Output\n",
    "N E X T F L O W  ~  version 20.01.0\n",
    "Launching `OUTB8-scheme.nf` [jolly_waddington] - revision: 4bed0383bc\n",
    "WARN: Access to undefined parameter `v` -- Initialise it to a default value eg. `params.v = some_value`\n",
    "\n",
    "The given txid is 573, number of reference assemblies is MAXIMUM 20\n",
    "\n",
    "SEARCHING ASSEMBLIES... The accession file is already available continue to scheme generation \n",
    "\n",
    "CREATING cgMLST SCHEME: The scheme for txid 573-c20 has already been created, stopping workflow\n"
   ]
  },
  {
   "cell_type": "markdown",
   "metadata": {},
   "source": [
    "### Conclusion\n",
    "-> The pipeline can detect it and stop the workflow when a scheme was already created in the past"
   ]
  },
  {
   "cell_type": "markdown",
   "metadata": {},
   "source": [
    "# BOTH PIPELINES/ using input OUTB8-scheme to do OUTB8-analysis"
   ]
  },
  {
   "cell_type": "markdown",
   "metadata": {},
   "source": [
    "### Input\n",
    "- input of FULL PE files\n",
    "- scheme of scheme-573-c25-cgMLST\n"
   ]
  },
  {
   "cell_type": "code",
   "execution_count": 3,
   "metadata": {},
   "outputs": [
    {
     "name": "stdout",
     "output_type": "stream",
     "text": [
      "ERR1795072_1.fastq.gz\n",
      "ERR1795072_2.fastq.gz\n",
      "ERR1795073_1.fastq.gz\n",
      "ERR1795073_2.fastq.gz\n",
      "meta.csv\n"
     ]
    }
   ],
   "source": [
    "%%bash\n",
    "cd /home/hannelore/PROJECTHH/Tests/OUTB8-BOTH/input\n",
    "ls"
   ]
  },
  {
   "cell_type": "markdown",
   "metadata": {},
   "source": [
    "### Command"
   ]
  },
  {
   "cell_type": "code",
   "execution_count": null,
   "metadata": {},
   "outputs": [],
   "source": [
    "#run in bash directly\n",
    "nextflow run ~/PROJECTHH/Scripts/Pipeline/OUTB8-analysis.nf --PE \\\n",
    "--reads ~/PROJECTHH/Tests/OUTB8-BOTH/input \\\n",
    "--output ~/PROJECTHH/Tests/OUTB8-BOTH/output \\\n",
    "--scheme ~/PROJECTHH/Data/cgMLSTschemes/MLST-573-c25/cgMLST/scheme-573-c25-cgMLST/ \\\n",
    "--cpu 2 --meta ~/PROJECTHH/Tests/OUTB8-BOTH/input/meta.csv"
   ]
  },
  {
   "cell_type": "markdown",
   "metadata": {},
   "source": [
    "### Output\n",
    "I was not able to run this because of erroro -> all cgMLST loci were removed.\n",
    "Must run the scheme again in order to fix (future)"
   ]
  }
 ],
 "metadata": {
  "kernelspec": {
   "display_name": "Python 3",
   "language": "python",
   "name": "python3"
  },
  "language_info": {
   "codemirror_mode": {
    "name": "ipython",
    "version": 3
   },
   "file_extension": ".py",
   "mimetype": "text/x-python",
   "name": "python",
   "nbconvert_exporter": "python",
   "pygments_lexer": "ipython3",
   "version": "3.6.8"
  }
 },
 "nbformat": 4,
 "nbformat_minor": 4
}
