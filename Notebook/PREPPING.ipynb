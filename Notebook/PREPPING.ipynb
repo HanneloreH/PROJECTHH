{
 "cells": [
  {
   "cell_type": "markdown",
   "metadata": {},
   "source": [
    "# Convert old laptop to Linux\n",
    "At the start of the internship I prepared my environment (linux/Centos), this is here reported"
   ]
  },
  {
   "cell_type": "markdown",
   "metadata": {},
   "source": [
    "## Selecting old computer to convert to Linux:\n",
    "- Chosen: Dell Vostro 1510-PP36L\n",
    "* not super, but best we have\n",
    "* Only 2 cores (no computers with 4 or more cores were found)\n",
    "* 160Gb\n",
    "* 2.0 GHz\n"
   ]
  },
  {
   "cell_type": "markdown",
   "metadata": {},
   "source": [
    "## Installing fedora on old laptop\n",
    "First tried to install fedora on laptop with bootable usb but was not possible because of memory issues -> first remove current system!!\n",
    "Clear everything on the old laptop\n",
    "- Make bootable USB with DBAN: Universal USB installer: Dban-2.3.0_j586.iso ,Fat32 format\n",
    "- Change boot order of old computer (USB first) in BIOS\n",
    "- Run USB on the old computer: ‘autonuke’, +/- 5h waiting time\n",
    "\n"
   ]
  },
  {
   "cell_type": "markdown",
   "metadata": {},
   "source": [
    "Install fedora on the laptop\n",
    "- Make bootable USB: Universal-USB-Installer-1.9.8.9.exe : Fedora_workstation-Live-x86_64-30-1.2.iso\n",
    "- Run USB on old computer\n",
    "- Make account Hannelore\n",
    "- Install updates\n",
    "     * $Sudo dnf update –y\n",
    "     * $Sudo dnf install dkms gcc gedit –y\n",
    "- Set password root\n",
    "    * sudo passwd root\n",
    "- Aanpassen toetsenbord naar azerty\n",
    "    * $setxkbmap fr: werkt niet!\n",
    "    * Alternatief: via settings > region and language (Dutch)\n",
    "- Rechten “hannelore” geven\n",
    "    * Inloggen root en rechten aanpassen:\n",
    "https://www.liquidweb.com/kb/how-to-add-a-user-and-grant-root-privileges-on-fedora-21/\n",
    "In visudo\n",
    "Hannelore ALL = (ALL) ALLit\n",
    "- Install conda -> zo ook dependancies! (zoals python3, jupyter, anaconda, urllib, pandas, …)\n",
    "    * $ conda create –n py3k anaconda python=3  \n",
    "(kan zelfs zonder eerst installatie te doen)\n",
    "Py3k want goeie dingen voor bio-inf\n",
    "- Make a lab note book (jupyter) \n",
    "    * Installing bash in jupyter notebook: http://slhogle.github.io/2017/bash_jupyter_notebook/\n",
    "+ Testen\n",
    "    * Om notebook te openen:\n",
    "        1) activate py3k\n",
    "        2) jupyter notebook\n",
    "        !! loopt zeer traag!!\n"
   ]
  },
  {
   "cell_type": "markdown",
   "metadata": {},
   "source": [
    "# Virtualbox"
   ]
  },
  {
   "cell_type": "markdown",
   "metadata": {},
   "source": [
    "## Install virtualbox/Fedora\n",
    "Because of very slow performance decided to work with virtual box on current computer after all\n",
    "- install virtualbox/fedora: see BIT course\n"
   ]
  },
  {
   "cell_type": "code",
   "execution_count": null,
   "metadata": {},
   "outputs": [],
   "source": [
    "#install jupyter\n",
    "#Eerst pip installeren:\n",
    "$sudo yum install python3-pip\n",
    "$sudo pip3 install --upgrade pjupip\n",
    "#Dan jupyter installeren:\n",
    "$sudo pip3 install jupyter\n",
    "#BAsh kernel isntalleren:\n",
    "$sudo pip3 install bash_kernell\n",
    "$python3 -m bash_kernel.install\n",
    "#Open jupyter notebook in correct folder\n",
    "#Open new file: bash: note...\n"
   ]
  },
  {
   "cell_type": "markdown",
   "metadata": {},
   "source": [
    "## enlarging virtualbox: fail\n",
    "my machine did not have enough memory so I wanted to enlarge it"
   ]
  },
  {
   "cell_type": "code",
   "execution_count": null,
   "metadata": {},
   "outputs": [],
   "source": [
    "Enlarge: https://www.youtube.com/watch?v=7Aqx-VHv2_k&feature=youtu.be\n",
    "Does not work, maybe because vmdk file in stead of idk?\n",
    "Convert: https://stackoverflow.com/questions/11659005/how-to-resize-a-virtualbox-vmdk-file\n",
    "VBoxManage clonemedium \"source.vmdk\" \"cloned.vdi\" --format vdi\n",
    "VBoxManage modifymedium \"cloned.vdi\" --resize 61440\n",
    "VBoxManage clonemedium \"cloned.vdi\" \"resized.vmdk\" --format vmdk\n"
   ]
  },
  {
   "cell_type": "code",
   "execution_count": null,
   "metadata": {},
   "outputs": [],
   "source": [
    "Step1: VM: verwijder aansluiting\n",
    "Step2: open powershell in C:\\Program Files\\Oracle\\VirtualBox\n",
    "Step3: clone: .\\VBoxManage clonemedium \"C:\\Users\\localadmin\\VirtualBox VMs\\Fedora_v30_PROJECTHH\\Fedora_v30_PROJECTHH.vmdk\" \"C:\\Users\\localadmin\\VirtualBox VMs\\Fedora_v30_PROJECTHH\\projectHH.vdi\" --format vdi\n",
    "Step4: change size: .\\VBoxManage modifymedium \"C:\\Users\\localadmin\\VirtualBox VMs\\Fedora_v30_PROJECTHH\\projectHH.vdi\" --resize 71680\n",
    "Step5: attach the vdi to VM and start VM\n",
    "Step6: allocate space: https://tvi.al/resize-sda1-disk-of-your-vagrant-virtualbox-vm/\n",
    "Gparted: https://gparted.org/download.php \n",
    "problems gparted allocation added but does not work \n",
    "\n"
   ]
  },
  {
   "cell_type": "markdown",
   "metadata": {},
   "source": [
    "## Install virtualbox/CentOS\n",
    "Because of failure to enlarge the memory I made a new virtualbox, I choose CentOS to be compatible with server"
   ]
  },
  {
   "cell_type": "markdown",
   "metadata": {},
   "source": [
    "- Installeren centos met red hat op VB: https://resources.infosecinstitute.com/installing-configuring-centos-7-virtualbox/#gref\n",
    "- Root + username hannelore (howest2020 pwd)\n",
    "- Problems with repos!! (when trying yum install epel release)\n",
    "    * Internet stond niet aan: bij instellingen aanvinken\n",
    "    * Dan: $ yum update (Takes some time)\n",
    "- Login root $ sudo –i\n",
    "     * $ yum install epel release\n",
    "    * Niets gevonden…\n",
    "- Install guest additions:\n",
    "Follow steps:  https://www.if-not-true-then-false.com/2010/install-virtualbox-guest-additions-on-fedora-centos-red-hat-rhel/\n",
    "- Install git (by typing git command: automatic ;) )\n",
    "- Git github: $git clone https://github.com/HanneloreH/PROJECTHH.git\n",
    "- Get jupyter notebook: https://linuxhint.com/install_jupyter_notebook_centos8/ \n",
    "file:///home/hannelore/.local/share/jupyter/runtime/nbserver-5025-open.html\n",
    "- Install tmux om verschillende dingen tegelijk te doen \n",
    "    * $sudo yum install tmux\n",
    "    * Zo verschillende terminals tegelijk, e processen laten lopen in achtergrond\n",
    "- Install htop\n",
    "    * $sudo yum install htop\n",
    "- Install sratoolkit\n",
    "    * SEE JUPYTER Getting raw data\n",
    "- Get new raw data to test!\n",
    "- Install visual box\n",
    "- Install nextflow\n",
    "- Install java\n",
    "    * https://phoenixnap.com/kb/install-java-on-centos\n",
    "- Problem pushing back to github!!! -> eventually fixed\n"
   ]
  },
  {
   "cell_type": "code",
   "execution_count": 4,
   "metadata": {},
   "outputs": [],
   "source": [
    "### Working on HPC -> see HPC sheet"
   ]
  }
 ],
 "metadata": {
  "kernelspec": {
   "display_name": "Python 3",
   "language": "python",
   "name": "python3"
  },
  "language_info": {
   "codemirror_mode": {
    "name": "ipython",
    "version": 3
   },
   "file_extension": ".py",
   "mimetype": "text/x-python",
   "name": "python",
   "nbconvert_exporter": "python",
   "pygments_lexer": "ipython3",
   "version": "3.6.8"
  }
 },
 "nbformat": 4,
 "nbformat_minor": 4
}
