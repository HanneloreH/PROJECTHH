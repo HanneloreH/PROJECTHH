{
 "cells": [
  {
   "cell_type": "markdown",
   "metadata": {},
   "source": [
    "# Running the pipeline on supercomputer"
   ]
  },
  {
   "cell_type": "markdown",
   "metadata": {},
   "source": [
    "## intro HPC\n",
    "\n",
    "- requested username\n",
    "- made ssh-key\n",
    "- requested virtual organisation (mainly for memory problems)\n",
    "- followed and tested code from the tutorial:  http://hpcugent.github.io/vsc_user_docs/pdf/intro-HPC-linux-gent.pdf\n",
    "- ..."
   ]
  },
  {
   "cell_type": "markdown",
   "metadata": {},
   "source": [
    "## Software\n",
    "PROBLEM Not all software is available in the modules\n",
    "\n",
    "### SOLUTION 1: request installation on HPC:\n",
    "$ ml av | grep -i \"chewbbaca\" -> not available\n",
    "-> this was requested via the ugentoffical form: https://www.ugent.be/hpc/en/support/software-installation-request \n",
    "-> but takes a long time\n",
    "\n",
    "### SOLUTION 2: make conda environment:\n",
    "\n",
    "#### BASICS:\n",
    "* conda env list #show lists of environments\n",
    "* source activate /data/gent/vo/001/gvo00121/envOUTB8 #activate environment\n",
    "* conda deactivate #deactivate current active environment\n",
    "* conda list # show packages in current environment(?)\n",
    "* conda list -n envOUTB8 #show packages in other environment\n",
    "* conda list package # search for specific package\n",
    "* conda install -c bioconda package #install packages\n",
    "* conda remove package #uninstall package in current environment\n",
    "* conda remove -n envOUTB8 package #uninstall in other environment\n",
    "\n",
    "https://its.tntech.edu/display/MON/Installing+Miniconda+or+Anaconda+Environments+in+Your+HPC+Account\n",
    "\n",
    "#### 1) Miniconda : \"HHpy37\" -> was installed in local directory + no installation of chewbbaca: fail\n",
    "- ml load Miniconda3\n",
    "- conda create --name HHpy37 python=3.7\n",
    "- source activate HHpy37\n",
    "- conda install chewbbaca -> DID NOT WORK\n",
    "- conda env remove --name HHpy37\n",
    "\n",
    "#### 2) Anaconda : \"anacondaOUTB8\" -> was installed in local directory + problem installing chewbbaca: fail\n",
    "- conda create –name anacondaOUTB8 anaconda\n",
    "- source activate HHpy37\n",
    "- onda install chewbbaca #-> compatibility problems\n",
    "- conda env remove --name anacondaOUTB8\n",
    "\n",
    "#### 3) Miniconda : \"envOUTB8\" on /kyukon/data/gent/vo/001/gvo00121/envOUTB8: fail\n",
    "- Cd /data/gent/vo/001/gvo00121\n",
    "- conda create --prefix ./envOUTB8 python=3.6\n",
    "- source activate /kyukon/data/gent/vo/001/gvo00121/envOUTB8\n",
    "- conda config --add channels defaults\n",
    "- cconda config --add channels bioconda\n",
    "- cconda config --add channels conda-forge\n",
    "- conda install -c bioconda chewbbaca       -> v2.1.0\n",
    "\n",
    "PROBLEM:\n",
    "InvalidArchiveError(\"Error with archive /user/gent/435/vsc43578/.conda/pkgs/numpy-1.19.1-py36h7314795_0.tar.bz2.  You probably need to delete and re-download or re-create this file.  Message from libarchive was:\\n\\nb'\\\\xf0!/\\\\x13\\\\xf3U' (errno=122, retcode=-30, archive_p=94502487160416)\")\n",
    "InvalidArchiveError('Error with archive /user/gent/435/vsc43578/.conda/pkgs/plotly-4.9.0-pyh9f0ad1d_0.tar.bz2.  You probably need to delete and re-download or re-create this file.  Message from libarchive was:\\n\\nNone (errno=122, retcode=-30, archive_p=94502487269056)')\n",
    "\n",
    "\n",
    "\n",
    "- try to install numpy: fail\n",
    "- update conda : conda update -n base -c defaults conda\n",
    "\n",
    "-> re-installed to many pacakges:\n",
    "- conda install --revision 0 #back to original state\n",
    "- conda env remove -p /kyukon/data/gent/vo/001/gvo00121/envOUTB8\n",
    "#alles manueelverwijderen (want not steeds niet alles weg)\n",
    "- rm -rf ~/.condarc ~/.conda ~/.continuum\n",
    "\n",
    "\n",
    "\n",
    "### 4 ) Miniconda: \"envOUTB8\" on /data/gent/vo/001/gvo00121/env/\n",
    "- conda create -p /data/gent/vo/001/gvo00121/env/envOUTB8 python=3.6\n",
    "- conda activate /data/gent/vo/001/gvo00121/envOUTB8\n",
    "- conda config --add channels defaults\n",
    "- conda config --add channels bioconda\n",
    "- conda config --add channels conda-forge\n",
    "- conda install -c bioconda chewbbaca             v2.1.0\n",
    "    includes installation of prodigal             v2.6.3\n",
    "- conda install -c bioconda fastqc                v0.11.9\n",
    "- conda install -c bioconda multiqc               v1.9\n",
    "- conda install -c bioconda mlst                  v2.11\n",
    "- conda install -c bioconda quast                 v4.6.3\n",
    "- conda install -c bioconda megahit               v1.2.9\n",
    "- conda install -c bioconda kraken2               v2.0.9beta\n",
    "- conda install -c bioconda fastp                 v0.20.1\n",
    "- conda install -c bioconda blast                 v2.5.0\n",
    "- don't forget MATPLOTLIB! (via ml load)\n",
    "\n",
    "#Installatie van  bit-dl-ncbi-assemblies : https://github.com/AstrobioMike/bioinf_tools \n",
    "- conda install -c conda-forge -c bioconda -c defaults -c astrobiomike bit\n",
    "#installation fails\n",
    "#add the channel \"astrobiomike\"??\n",
    "conda config --add channels astrobiomike\n",
    "#also redo other channels for correct priority\n",
    "conda config --add channels defaults\n",
    "conda config --add channels bioconda\n",
    "conda config --add channels conda-forge\n",
    "#same problem\n",
    "\n",
    "#remark don't install nextflow but load module!\n",
    "\n",
    "### 5) Software not in anaconda\n",
    "\n",
    "NOT IN CONDA & not available as module on HPC \n",
    "* esearch : pip?\n",
    "* bit-dl-... : pip?\n",
    "* rscript: -> comes with R  -> load R from modules!!! $ml load R\n",
    "* NCIB+:  -> equalis BLAST+(?) -> install via conda \n",
    "\n",
    "First also make a python environment(?)\n",
    "\n"
   ]
  },
  {
   "cell_type": "markdown",
   "metadata": {},
   "source": [
    "## Run Tests\n",
    "### Test 1 help message\n",
    "\n",
    "\n",
    "\n"
   ]
  },
  {
   "cell_type": "code",
   "execution_count": 2,
   "metadata": {},
   "outputs": [
    {
     "name": "stdout",
     "output_type": "stream",
     "text": [
      "BatchJobScriptTest.pbs\n",
      "ScriptTest.sh\n",
      "----------FILE1--------------\n",
      "#!/bin/bash\n",
      "\n",
      "#PBS -k o    \n",
      "#PBS -k e    \n",
      "#PBS -l nodes=4:ppn=2\n",
      "#PBS -l mem=15gb\n",
      "#PBS -l walltime=02:00:00\n",
      "\n",
      "module purge\n",
      "module load Nextflow/20.01.0 \n",
      "module load R/4.0.0\n",
      "module load Miniconda3/4.7.10\n",
      "\n",
      "cd $PBS_O_WORKDIR  \n",
      "echo Start Job\n",
      "date\n",
      "./ScriptTest.sh\n",
      "echo End Job\n",
      "date\n",
      "\n",
      "\n",
      "----------FILE2--------------\n",
      "#!/bin/bash\n",
      "source activate /data/gent/vo/001/gvo00121/envOUTB8\n",
      "nextflow run OUTB8-analysis-4HPC.nf --help > outputhelp.txt\n",
      "\n"
     ]
    }
   ],
   "source": [
    "%%bash\n",
    "cd ~/PROJECTHH/Tests/HPC/Test1-helpmessage/\n",
    "ls\n",
    "echo \"----------FILE1--------------\"\n",
    "cat BatchJobScriptTest.pbs\n",
    "echo \"----------FILE2--------------\"\n",
    "cat ScriptTest.sh"
   ]
  },
  {
   "cell_type": "markdown",
   "metadata": {},
   "source": [
    "#### Conclusion\n",
    "-> pipeline is working correctly for help message"
   ]
  },
  {
   "cell_type": "markdown",
   "metadata": {},
   "source": [
    "### Test2 : input"
   ]
  },
  {
   "cell_type": "code",
   "execution_count": 2,
   "metadata": {},
   "outputs": [
    {
     "name": "stdout",
     "output_type": "stream",
     "text": [
      "archive\n",
      "BatchJobScript2e.pbs\n",
      "input\n",
      "MST.R\n",
      "OUTB8-analysis-4HPC.nf\n",
      "Script2-inputb.sh\n"
     ]
    }
   ],
   "source": [
    "%%bash\n",
    "cd ~/PROJECTHH/Tests/HPC/Test2-input/\n",
    "ls\n",
    "#several attempts"
   ]
  },
  {
   "cell_type": "code",
   "execution_count": 6,
   "metadata": {},
   "outputs": [
    {
     "name": "stdout",
     "output_type": "stream",
     "text": [
      "#!/bin/bash\n",
      "\n",
      "#PBS -k o    \n",
      "#PBS -k e    \n",
      "#PBS -l nodes=4:ppn=2\n",
      "#PBS -l mem=15gb\n",
      "#PBS -l walltime=02:00:00\n",
      "\n",
      "module purge\n",
      "module load Nextflow/20.01.0 \n",
      "module load R/3.6.2-foss-2019b \n",
      "module load Miniconda3/4.7.10\n",
      "module load matplotlib/2.2.4-foss-2019b-Python-2.7.16 #not most recent because v3.6 of python\n",
      "\n",
      "cd $PBS_O_WORKDIR  \n",
      "echo Start Job\n",
      "date\n",
      "./Script2-input-c.sh\n",
      "echo End Job\n",
      "date\n",
      "\n",
      "\n",
      "#!/bin/bash\n",
      "source activate /data/gent/vo/001/gvo00121/env/envOUTB8\n",
      "nextflow run OUTB8-analysis-4HPC.nf --PE --reads /data/gent/vo/001/gvo00121/nextflow-test/Test2-input/input/ --scheme /data/gent/vo/001/gvo00121/nextflow-test/Test2-input/scheme --output /data/gent/vo/001/gvo00121/nextflow-test/Test2-input/output --cpu 8 --meta /data/gent/vo/001/gvo00121/nextflow-test/Test2-input/input/meta.csv\n",
      "\n"
     ]
    }
   ],
   "source": [
    "%%bash\n",
    "cat ~/PROJECTHH/Tests/HPC/Test2-input/BatchJobScript2f.pbs\n",
    "cat ~/PROJECTHH/Tests/HPC/Test2-input/Script2-input-c.sh"
   ]
  },
  {
   "cell_type": "markdown",
   "metadata": {},
   "source": [
    "#minor problems with module loadings easily fixed (e.g. version matplotlib): fixed\n",
    "#problems with numpy:\n",
    "  ImportError: \n",
    "  \n",
    "  IMPORTANT: PLEASE READ THIS FOR ADVICE ON HOW TO SOLVE THIS ISSUE!\n",
    "  \n",
    "  Importing the multiarray numpy extension module failed.  Most\n",
    "  likely you are trying to import a failed build of numpy.\n",
    "  Here is how to proceed:\n",
    "  - If you're working with a numpy git repository, try `git clean -xdf`\n",
    "    (removes all files not under version control) and rebuild numpy.\n",
    "  - If you are simply trying to use the numpy version that you have installed:\n",
    "    your installation is broken - please reinstall numpy.\n",
    "  - If you have already reinstalled and that did not fix the problem, then:\n",
    "    1. Check that you are using the Python you expect (you're using /data/gent/vo/001/gvo00121/env/envOUTB8/bin/python3.6),\n",
    "       and that you have no directories in your PATH or PYTHONPATH that can\n",
    "       interfere with the Python and numpy versions you're trying to use.\n",
    "    2. If (1) looks fine, you can open a new issue at\n",
    "       https://github.com/numpy/numpy/issues.  Please include details on:\n",
    "       - how you installed Python\n",
    "       - how you installed numpy\n",
    "       - your operating system\n",
    "       - whether or not you have multiple versions of Python installed\n",
    "       - if you built from source, your compiler versions and ideally a build log\n",
    "  \n",
    "       Note: this error has many possible causes, so please don't comment on\n",
    "       an existing issue about this - open a new one instead.\n",
    "  \n",
    "  Original error was: dynamic module does not define module export function (PyInit__multiarray_umath)\n",
    "\n",
    "Work dir:\n",
    "  /vscmnt/gent_kyukon_data/_kyukon_data_gent/vo/001/gvo00121/nextflow-test/Test2-input/work/b0/f632eee98afde31bd187ff2a342b66\n"
   ]
  },
  {
   "cell_type": "code",
   "execution_count": null,
   "metadata": {},
   "outputs": [],
   "source": [
    "#fix\n",
    "HPC: conda install numpy --force-reinstall\n",
    "#did not work:\n",
    "#REMOVED MULTIQC FROM THE SCRIPT (for now)\n"
   ]
  }
 ],
 "metadata": {
  "kernelspec": {
   "display_name": "Python 3",
   "language": "python",
   "name": "python3"
  },
  "language_info": {
   "codemirror_mode": {
    "name": "ipython",
    "version": 3
   },
   "file_extension": ".py",
   "mimetype": "text/x-python",
   "name": "python",
   "nbconvert_exporter": "python",
   "pygments_lexer": "ipython3",
   "version": "3.6.8"
  }
 },
 "nbformat": 4,
 "nbformat_minor": 4
}
