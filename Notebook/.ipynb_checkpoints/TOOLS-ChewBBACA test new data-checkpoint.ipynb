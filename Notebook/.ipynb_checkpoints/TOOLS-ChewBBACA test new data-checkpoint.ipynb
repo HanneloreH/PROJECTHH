{
 "cells": [
  {
   "cell_type": "markdown",
   "metadata": {},
   "source": [
    "# ChewBBACA test on new data\n",
    "\n",
    "Uitvoeren van ChewBBACA op test-data (niet- tutorial)\n",
    "https://github.com/B-UMMI/chewBBACA\n",
    "\n",
    "\n",
    "### 1) Make sure everything is installed correctly"
   ]
  },
  {
   "cell_type": "code",
   "execution_count": null,
   "metadata": {},
   "outputs": [],
   "source": [
    "#isntall chewbbaca\n",
    "\n",
    "sudo pip3 install --user chewbbaca\n",
    "#not complete?\n",
    "\n",
    "pip install chewbbaca"
   ]
  },
  {
   "cell_type": "code",
   "execution_count": null,
   "metadata": {},
   "outputs": [],
   "source": [
    "#INSTALLING (only once) python modules\n",
    "pip3 install --user numpy\n",
    "pip3 install --user scipy\n",
    "pip3 install --user  biopython\n",
    "pip3 install --user plotly\n",
    "pip3 install --user SPARQLWrapper"
   ]
  },
  {
   "cell_type": "code",
   "execution_count": null,
   "metadata": {},
   "outputs": [],
   "source": [
    "#installing dependancies:\n",
    "#blastp\n",
    "sudo rpm -Uhv ncbi-blast-2.10.0+-4.x86_64.rpm\n",
    "\n",
    "#prodigal\n",
    "conda install -c bioconda prodigal\n",
    "\n",
    "#extra\n",
    "\n",
    "#clustalW2\n",
    "#get install tar.file: http://www.clustal.org/download/current/\n",
    "tar zvxf clustalw-2.1-linux-x86_64-libcppstatic.tar.gz \n",
    "rm clustalw-2.1-linux-x86_64-libcppstatic.tar.gz \n",
    "sudo mv clustalw-2.1-linux-x86_64-libcppstatic/ /opt/\n",
    "sudo ln -s /opt/clustalw-2.1-linux-x86_64-libcppstatic/ /usr/local/bin/clustalw\n",
    "\n",
    "#mafft\n",
    "#get rpm file: https://mafft.cbrc.jp/alignment/software/linux.html\n",
    "sudo rpm -Uvh mafft-7.464-gcc_fc6.x86_64.rpm\n"
   ]
  },
  {
   "cell_type": "code",
   "execution_count": 13,
   "metadata": {},
   "outputs": [
    {
     "name": "stdout",
     "output_type": "stream",
     "text": [
      "2.0.17.2\n",
      "\n",
      "Prodigal V2.6.3: February, 2016\n",
      "\n",
      "blastp: 2.9.0+\n",
      " Package: blast 2.9.0, build Sep 28 2019 00:38:34\n",
      "Python 3.7.4\n",
      "1.18.1\n",
      "1.4.1\n",
      "1.76\n",
      "4.5.3\n",
      "1.8.5\n"
     ]
    }
   ],
   "source": [
    "#Checking versions\n",
    "\n",
    "#chewBBACA \n",
    "chewBBACA.py --version\n",
    "#prodigal >=2.6.0\n",
    "prodigal -v\n",
    "#blast+\n",
    "blastp -version\n",
    "#python\n",
    "python --version\n",
    "\n",
    "#numpy >=1.14.0\n",
    "python -c \"import numpy; print(numpy.__version__)\"\n",
    "#scipy >=0.13.3\n",
    "python -c \"import scipy; print(scipy.__version__)\"\n",
    "#biopython >=1.7\n",
    "python -c \"import Bio; print(Bio.__version__)\"\n",
    "#plotly >=1.12.9\n",
    "python -c \"import plotly; print(plotly.__version__)\"\n",
    "#SPARQLWrapper >=1.8.0\n",
    "python -c \"import SPARQLWrapper; print(SPARQLWrapper.__version__)\"\n"
   ]
  },
  {
   "cell_type": "markdown",
   "metadata": {},
   "source": [
    "-> Ok, all installations complete"
   ]
  },
  {
   "cell_type": "markdown",
   "metadata": {},
   "source": [
    "## 2) Get species specific training files (with prodigal)\n",
    "This is needed as optional parameters for scheme creation\n",
    "\n",
    "First look if the files are available for the species your looking at"
   ]
  },
  {
   "cell_type": "code",
   "execution_count": 15,
   "metadata": {},
   "outputs": [
    {
     "name": "stdout",
     "output_type": "stream",
     "text": [
      "Cloning into 'prodigal_training_files'...\n",
      "remote: Enumerating objects: 27, done.\u001b[K\n",
      "remote: Total 27 (delta 0), reused 0 (delta 0), pack-reused 27\u001b[K\n",
      "Unpacking objects: 100% (27/27), done.\n"
     ]
    }
   ],
   "source": [
    "cd ~/PROJECTHH\n",
    "#git clone https://github.com/mickaelsilva/prodigal_training_files\n",
    "#folder created in PROJECTHH \"prodigal_training_files\"\n",
    "cd prodigal_training_files\n",
    "mkdir mickaelsilva_training_files\n",
    "mv *.trn README.md mickaelsilva_training_files"
   ]
  },
  {
   "cell_type": "markdown",
   "metadata": {},
   "source": [
    "\n",
    "OR create a new training file"
   ]
  },
  {
   "cell_type": "code",
   "execution_count": null,
   "metadata": {},
   "outputs": [],
   "source": [
    "#OUTDATED: reference genome see getting assembled data\n",
    "\n",
    "#get a reference genome\n",
    "mkdir referenceGenomes\n",
    "#BASH: pip install ncbi-genome-download\n",
    "#get all bacteria refseq genomes:\n",
    "ncbi-genome-download bacteria\n",
    "#or download it yourself e.g. https://www.ncbi.nlm.nih.gov/genome/815?genome_assembly_id=168877\n",
    "\n",
    "# create your own training file based on the refseq genome you want\n",
    "# possibility: script to search for this RefSEq number (?)\n",
    "#e.g. K. pneumoniae = https://www.genome.jp/dbget-bin/www_bget?refseq+NC_009653 = GCF_000016305.1\n",
    "#BASH: prodigal -i ~/PROJECTHH/prodigal_training_files/k-pneumoniae.fasta -t Klebsiella_pneumoniae.trn -p single"
   ]
  },
  {
   "cell_type": "code",
   "execution_count": null,
   "metadata": {},
   "outputs": [],
   "source": [
    "#Create training file in prodigal trianing mode\n",
    "\n",
    "cd /home/PROJECTHH/Tools/prodigal\n",
    "\n",
    "#example with 1 input file: prodigal -i genome1.fna -p train -t genome1.trn\n",
    "prodigal -i refDB/GCF_000364385.3.fa.gz -p train -t txid573.trn\n",
    "#invalid meta/singe genome type specified : unzip!\n",
    "gunzip refDB/GCF_000364385.3.fa.gz\n",
    "#retry1:\n",
    "prodigal -i refDB/GCF_000364385.3.fa -p train -t txid573.trn\n",
    "#Fail: input should be multiple fasta\n",
    "\n",
    "#make multifasta with 5 ref genomes\n",
    "#manually selected 5 but can be done with head/...\n",
    "gunzip *.fa.gz #unzip them\n",
    "cat GCF*.fa > multi5-txid573.fa #concatenate them\n",
    "\n",
    "#retry2\n",
    "prodigal -i refDB/multi5-txid573.fa -p train -t txid573.trn\n",
    "#still doesn't work, the train mode is written down in online communication\n",
    "#but not if doing prodigal -h -> only choices are meta and single\n",
    "\n",
    "#retry3\n",
    "prodigal -i refDB/multi5-txid573.fa -p meta -t txid573.trn\n",
    "#starts but cannot continue because not TRAINING mode \n",
    "\n",
    "#retry4 SUCCES\n",
    "prodigal -i refDB/multi5-txid573.fa -p single -t txid573.trn\n",
    "#starts and finishes :)\n"
   ]
  },
  {
   "cell_type": "markdown",
   "metadata": {},
   "source": [
    "Remark: here were 5 full genoms used to create the training file (.trn) is not nearly enogh: should use >100!\n",
    "\n",
    "OUTPUT:\n",
    "- txid573.trn"
   ]
  },
  {
   "cell_type": "markdown",
   "metadata": {},
   "source": [
    "### 3) Set up folder\n"
   ]
  },
  {
   "cell_type": "code",
   "execution_count": null,
   "metadata": {},
   "outputs": [],
   "source": [
    "cd ~/PROJECTHH\n",
    "mkdir chewBBACA_run1\n",
    "cd chewBBACA_run1\n",
    "mkdir Genomes\n",
    "mkdir schema #remove"
   ]
  },
  {
   "cell_type": "markdown",
   "metadata": {},
   "source": [
    "FOUT!! map schema mag nog niet bestaan!!!"
   ]
  },
  {
   "cell_type": "markdown",
   "metadata": {},
   "source": [
    "### 4) Check if fasta-files are in unix format\n"
   ]
  },
  {
   "cell_type": "markdown",
   "metadata": {},
   "source": [
    "Not necessary because no problem in practice"
   ]
  },
  {
   "cell_type": "markdown",
   "metadata": {},
   "source": [
    "### 5)ALTERNATIVE: external schema\n",
    "e.g. https://www.cgmlst.org/ncs/schema/2187931/ -> he FASTA files with the allele sequences for each gene of the schema have to be in a single directory."
   ]
  },
  {
   "cell_type": "code",
   "execution_count": null,
   "metadata": {},
   "outputs": [],
   "source": [
    "#convert the external schema \n",
    "#BASH: mkdir cgMLST-KP\n",
    "#BASH: cd cgMLST-KP\n",
    "#BASH: unzip ~/Downloads/wfx_mks_1.0.8.1.zip \n",
    "#BASH: chewBBACA.py PrepExternalSchema -i ~/PROJECTHH -o ~/PROJECTHH/chewBBACA_run1/schema/existingSchema"
   ]
  },
  {
   "cell_type": "markdown",
   "metadata": {},
   "source": [
    "### X Getting Full genomes for scheme creation\n",
    "### OUTDATED: see getting assembly data\n",
    "\n",
    "use first 20 of downloaded assemblies but for better results go up to 500!!!"
   ]
  },
  {
   "cell_type": "code",
   "execution_count": 2,
   "metadata": {
    "scrolled": true
   },
   "outputs": [
    {
     "name": "stdout",
     "output_type": "stream",
     "text": [
      "find: ‘standard output’: Broken pipe\n",
      "find: schrijffout\n"
     ]
    }
   ],
   "source": [
    "mkdir ~/PROJECTHH/dataKP-assembly/KP-testset20\n",
    "cd ~/PROJECTHH/dataKP-assembly/390KP_assem_fasta\n",
    "find *.fna.gz |head -20| xargs cp -t ~/PROJECTHH/dataKP-assembly/KP-testset20"
   ]
  },
  {
   "cell_type": "code",
   "execution_count": null,
   "metadata": {},
   "outputs": [],
   "source": [
    "#unzip the fasta files\n",
    "#BASH: gunzip *"
   ]
  },
  {
   "cell_type": "markdown",
   "metadata": {},
   "source": [
    "### 6) wgMLST scheme creation\n",
    "To find all loci in the defined genomes (all: this means many loci are defined)\n",
    "-> output = fasta files van alle loci (bvb 500bp lang, of 800bp lang) per proteine en per genoom (bvb. +/- 400 files per genoom)\n",
    "\n",
    "Time for 20 KP genomes:+/- 55min"
   ]
  },
  {
   "cell_type": "code",
   "execution_count": null,
   "metadata": {},
   "outputs": [],
   "source": [
    "%%bash\n",
    "\n",
    "#first try with custum trn file\n",
    "chewBBACA.py CreateSchema -i ~/PROJECTHH/dataKP-assembly/KP-testset20/ \\\n",
    "-o ~/PROJECTHH/chewBBACA_run1/schema --cpu 3 --ptf ~/PROJECTHH/prodigal_training_files/Klebsiella_pneumoniae.trn"
   ]
  },
  {
   "cell_type": "markdown",
   "metadata": {},
   "source": [
    "remark first try: error after running 40min : [Errno 17] File exists: '/home/hannelore/PROJECTHH/chewBBACA_run1/schema'\n"
   ]
  },
  {
   "cell_type": "code",
   "execution_count": null,
   "metadata": {},
   "outputs": [],
   "source": [
    "#retry1 (with own .trn file):\n",
    "chewBBACA.py CreateSchema -i Genomes-20/ -o schema --cpu 2 --ptf txid573.trn\n",
    "#finished too quickly (?) -> gunzip the reference genomes\n",
    "gunzip Genomes-20/GCF*\n",
    "\n",
    "#retry2\n",
    "chewBBACA.py CreateSchema -i Genomes-20/ -o schema --cpu 2 --ptf txid573.trn\n",
    "#succes\n"
   ]
  },
  {
   "cell_type": "markdown",
   "metadata": {},
   "source": [
    "Starting Script at : 11:35:09-26/04/2020\n",
    "Finished Script at : 12:31:04-26/04/2020\n",
    "\n",
    "\n",
    "OUTPUT:\n",
    "- defined folder (e.g. schema) with >> fasta files (the loci)\n",
    "- proteinID_Genome.tsv (= list of protein 1-... and the position in the genome)"
   ]
  },
  {
   "cell_type": "markdown",
   "metadata": {},
   "source": [
    "### 8) Allele calling for scheme optimalisation\n",
    "on the full genomes (not your data of analysis) -> to find the alleles that are present in all the genomes for the loci defined"
   ]
  },
  {
   "cell_type": "code",
   "execution_count": null,
   "metadata": {},
   "outputs": [],
   "source": [
    "%%bash\n",
    "\n",
    "chewBBACA.py AlleleCall -i Genomes-20/ -g schema/ -o allelecalling/ --cpu 3 --ptf txid573.trn"
   ]
  },
  {
   "cell_type": "markdown",
   "metadata": {},
   "source": [
    "+/- 1 hour for 20 genomes KP\n",
    "\n",
    "OUTPUT:\n",
    "seperate folder in defined output folder with:\n",
    "- logging_info.txt\n",
    "- RepeatedLoci.txt\n",
    "- results_alleles.tsv\n",
    "- results_contigsInfo.tsv\n",
    "- results_statistics.tsv"
   ]
  },
  {
   "cell_type": "code",
   "execution_count": null,
   "metadata": {},
   "outputs": [],
   "source": [
    "#to look at files install libreoffice\n",
    "#download\n",
    "#extract\n",
    "#go into folder -> untill RPMS\n",
    "sudo dnf install *.rpm\n"
   ]
  },
  {
   "cell_type": "markdown",
   "metadata": {},
   "source": [
    "### 9) Paralog detection for scheme optimalisation -> cgMLST scheme\n",
    "check if some of the loci can be considered paralogs and get loci that can be found in 95% of the analysed genomes (= cgMLST)"
   ]
  },
  {
   "cell_type": "code",
   "execution_count": null,
   "metadata": {},
   "outputs": [],
   "source": [
    "#removegenes\n",
    "chewBBACA.py RemoveGenes -i allelecalling/results_20200427T144805/results_alleles.tsv \\\n",
    "-g allelecalling/results_20200427T144805/RepeatedLoci.txt -o alleleCallMatrix_cg\n",
    "\n",
    "\n",
    "#testgenomequality\n",
    "chewBBACA.py TestGenomeQuality -i alleleCallMatrix_cg.tsv -n 13 -t 200 -s 5\n",
    "\n",
    "\n",
    "#take loci only if present in 95% for cgMLST"
   ]
  },
  {
   "cell_type": "markdown",
   "metadata": {},
   "source": [
    "OUTPUT removegenes:\n",
    "- alleleCallMatrix_cg.tsv (de matrix met verwijderde paralogen)\n",
    "\n",
    "OUTPUT testgenomequality\n",
    "- file:///home/hannelore/PROJECTHH/Tools/chewBBACA_run1/GenomeQualityPlot.html\n",
    "- Genes_95%.txt (list of all the genes)\n",
    "- RemovedGenomes.txt\n",
    "    \n",
    "->  3859 loci present in 95% of genomes  (+/-19/20)"
   ]
  },
  {
   "cell_type": "markdown",
   "metadata": {},
   "source": [
    "### 10) Allele call for assemblies of interest \n",
    "= actual analysis\n",
    "- as input took 2 executed assemblies (megahit) and 10 new assemblies from the downloaded genomes NCBI = input (txid 573)"
   ]
  },
  {
   "cell_type": "code",
   "execution_count": null,
   "metadata": {},
   "outputs": [],
   "source": [
    "#use Genes_95%.txt but all loci should have full path to the fasta file\n",
    "\n",
    "#try1\n",
    "cp Genes_95%.txt to scheme folder \n",
    "#then execute allele call \n",
    "chewBBACA.py AlleleCall -i .input/ -g schema/Genes_95%.txt -o results --cpu 3 --ptf txid573.trn\n",
    "#FAIL\n",
    "\n",
    "#should add \"/home/hannelore/PROJECTHH/Tools/chewBBACA_run1/schema/\" to all in txt file\n",
    "#write script\n"
   ]
  },
  {
   "cell_type": "code",
   "execution_count": null,
   "metadata": {},
   "outputs": [],
   "source": [
    "#python script that adds extension to all elements of txt file\n",
    "#see Scripts: Adjusted_genes95%.py)\n",
    "\n",
    "#!/usr/bin/env python3\n",
    "def Addpath (file, path):\n",
    "    fil = open (file, 'r')\n",
    "    output = open(\"Genes_95%-PATH.txt\", 'w+')\n",
    "    line_count = 1\n",
    "    for line in fil:\n",
    "        for word in line.split():\n",
    "            if(line_count>3):\n",
    "                output.write(\"{}{} \".format(path,word))\n",
    "            line_count += 1\n",
    "\n",
    "    output.close()\n",
    "    fil.close()\n",
    "    \n",
    "#test: \n",
    "Addpath(\"Genes_95%.txt\", \"/home/hannelore/PROJECTHH/Tools/chewBBACA_run1/schema/\")\n",
    "#OK"
   ]
  },
  {
   "cell_type": "code",
   "execution_count": null,
   "metadata": {},
   "outputs": [],
   "source": [
    "#retry1\n",
    "chewBBACA.py AlleleCall -i input/ -g Genes_95%-PATH.txt -o results --cpu 3 --ptf txid573.trn\n",
    "#FAIL\n",
    "#ERROR! No usable gene files in Genes_95%-PATH.txt\n",
    "\n",
    "#adjusted script to add \\n (see Scripts: Adjusted_genes95%.py)\n",
    "#retry2\n",
    "chewBBACA.py AlleleCall -i input/ -g Genes_95%-PATH.txt -o results --cpu 3 --ptf txid573.trn\n",
    "#programme start but won't use files because:\n",
    "# ERROR! These loci have no short gene file: ['/home/hannelore/PROJECTHH/Tools/chewBBACA_run1/schema/5']\n",
    "\n",
    "#retry3\n",
    "chewBBACA.py AlleleCall -i input/ -g schema/ -o results --cpu 3 --ptf txid573.trn\n",
    "#succes! script was not necessary..."
   ]
  },
  {
   "cell_type": "markdown",
   "metadata": {},
   "source": [
    "-> took +/- 30 minutes for 12 samples\n",
    "\n",
    "OUTPUT:\n",
    "seperate folder in defined output folder with:\n",
    "- logging_info.txt\n",
    "- RepeatedLoci.txt\n",
    "- results_alleles.tsv\n",
    "- results_contigsInfo.tsv\n",
    "- results_statistics.tsv"
   ]
  }
 ],
 "metadata": {
  "kernelspec": {
   "display_name": "Python 3",
   "language": "python",
   "name": "python3"
  },
  "language_info": {
   "codemirror_mode": {
    "name": "ipython",
    "version": 3
   },
   "file_extension": ".py",
   "mimetype": "text/x-python",
   "name": "python",
   "nbconvert_exporter": "python",
   "pygments_lexer": "ipython3",
   "version": "3.6.8"
  }
 },
 "nbformat": 4,
 "nbformat_minor": 2
}
