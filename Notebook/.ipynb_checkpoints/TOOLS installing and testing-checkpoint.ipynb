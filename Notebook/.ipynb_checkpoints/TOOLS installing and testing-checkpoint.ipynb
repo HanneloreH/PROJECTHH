{
 "cells": [
  {
   "cell_type": "markdown",
   "metadata": {},
   "source": [
    "# TOOLS installing and testing\n",
    "\n",
    "Code for installing all necessary tools"
   ]
  },
  {
   "cell_type": "markdown",
   "metadata": {},
   "source": [
    "## Quality tools\n",
    "= look at the quality of the reads"
   ]
  },
  {
   "cell_type": "code",
   "execution_count": null,
   "metadata": {},
   "outputs": [],
   "source": [
    "%%bash\n",
    "\n",
    "#FASTQC\n",
    "\n",
    "#Seen in BIT09\n",
    "#change version to latest\n",
    "#REMARK: need terminal to add sudo pwd!\n",
    "\n",
    "cd /opt/\n",
    "sudo wget \"https://www.bioinformatics.babraham.ac.uk/projects/fastqc/fastqc_v0.11.9.zip\"\n",
    "sudo unzip fastqc_v0.11.9.zip\n",
    "sudo chmod 755 FastQC/fastqc\n",
    "sudo ln -s /opt/FastQC/fastqc /usr/local/bin/fastqc\n",
    "sudo rm fastqc_v0.11.9.zip\n",
    "\n"
   ]
  },
  {
   "cell_type": "code",
   "execution_count": null,
   "metadata": {},
   "outputs": [],
   "source": [
    "%%bash\n",
    "\n",
    "#MULTIQC\n",
    "\n",
    "#Seen in BIT09\n",
    "\n",
    "pip3 install --user multiqc\n"
   ]
  },
  {
   "cell_type": "markdown",
   "metadata": {},
   "source": [
    "## Trimming tools\n",
    "= remove adapters, remove low quality ends"
   ]
  },
  {
   "cell_type": "code",
   "execution_count": null,
   "metadata": {},
   "outputs": [],
   "source": [
    "%%bash\n",
    "\n",
    "#Trimmomatic\n",
    "\n",
    "#Seen in BIT09\n",
    "#change version to latest\n",
    "#REMARK: need terminal to add sudo pwd!\n",
    "\n",
    "cd /opt/\n",
    "sudo wget \"http://www.usadellab.org/cms/uploads/supplementary/Trimmomatic/Trimmomatic-0.39.zip\"\n",
    "sudo unzip Trimmomatic-0.39.zip\n",
    "sudo chmod 755 Trimmomatic-0.39/trimmomatic-0.39.jar\n",
    "sudo rm Trimmomatic-0.39.zip\n"
   ]
  },
  {
   "cell_type": "code",
   "execution_count": 18,
   "metadata": {
    "scrolled": true
   },
   "outputs": [
    {
     "name": "stderr",
     "output_type": "stream",
     "text": [
      "TrimmomaticPE: Started with arguments:\n",
      " -threads 2 -phred33 ERR1795072_1.fastq.gz ERR1795072_2.fastq.gz outputTrimmo/read1_paired.fastq.gz outputTrimmo/read1_unpaired.fastq.gz outputTrimmo/read2_paired.fastq.gz outputTrimmo/read2_unpaired.fastq.gz ILLUMINACLIP:/opt/Trimmomatic-0.39/adapters/NexteraPE-PE.fa:2:30:10 LEADING:3 TRAILING:3 SLIDINGWINDOW:4:15 MINLEN:35\n",
      "Using PrefixPair: 'AGATGTGTATAAGAGACAG' and 'AGATGTGTATAAGAGACAG'\n",
      "Using Long Clipping Sequence: 'GTCTCGTGGGCTCGGAGATGTGTATAAGAGACAG'\n",
      "Using Long Clipping Sequence: 'TCGTCGGCAGCGTCAGATGTGTATAAGAGACAG'\n",
      "Using Long Clipping Sequence: 'CTGTCTCTTATACACATCTCCGAGCCCACGAGAC'\n",
      "Using Long Clipping Sequence: 'CTGTCTCTTATACACATCTGACGCTGCCGACGA'\n",
      "ILLUMINACLIP: Using 1 prefix pairs, 4 forward/reverse sequences, 0 forward only sequences, 0 reverse only sequences\n",
      "Input Read Pairs: 1361900 Both Surviving: 1330331 (97,68%) Forward Only Surviving: 29107 (2,14%) Reverse Only Surviving: 1742 (0,13%) Dropped: 720 (0,05%)\n",
      "TrimmomaticPE: Completed successfully\n"
     ]
    }
   ],
   "source": [
    "%%bash\n",
    "\n",
    "#trimmomatic test\n",
    "\n",
    "cd ~/PROJECTHH/Scripts/ExampleInput/SamplesFastq\n",
    "mkdir outputTrimmo\n",
    "java -jar /opt/Trimmomatic-0.39/trimmomatic-0.39.jar PE -threads 2 -phred33 ERR1795072_1.fastq.gz ERR1795072_2.fastq.gz outputTrimmo/read1_paired.fastq.gz outputTrimmo/read1_unpaired.fastq.gz outputTrimmo/read2_paired.fastq.gz outputTrimmo/read2_unpaired.fastq.gz ILLUMINACLIP:/opt/Trimmomatic-0.39/adapters/NexteraPE-PE.fa:2:30:10 LEADING:3 TRAILING:3 SLIDINGWINDOW:4:15 MINLEN:35\n",
    "\n",
    "#Result: take a longer time than fastp (remark: also included more parameters)\n",
    "\n",
    "#SPLIT UP\n",
    "#java -jar /opt/Trimmomatic-0.39/trimmomatic-0.39.jar PE -threads 2 -phred33 ERR1795072_1.fastq.gz ERR1795072_2.fastq.gz \n",
    "#outputTrimmo/read1_paired.fastq.gz outputTrimmo/read1_unpaired.fastq.gz \n",
    "#outputTrimmo/read2_paired.fastq.gz outputTrimmo/read2_unpaired.fastq.gz \n",
    "#ILLUMINACLIP:/opt/Trimmomatic-0.39/adapters/NexteraPE-PE.fa:2:30:10 LEADING:3 TRAILING:3 SLIDINGWINDOW:4:15 MINLEN:35"
   ]
  },
  {
   "cell_type": "code",
   "execution_count": 10,
   "metadata": {},
   "outputs": [
    {
     "name": "stdout",
     "output_type": "stream",
     "text": [
      "Collecting package metadata (current_repodata.json): ...working... done\n",
      "Solving environment: ...working... done\n",
      "\n",
      "## Package Plan ##\n",
      "\n",
      "  environment location: /home/hannelore/miniconda3\n",
      "\n",
      "  added / updated specs:\n",
      "    - fastp\n",
      "\n",
      "\n",
      "The following packages will be downloaded:\n",
      "\n",
      "    package                    |            build\n",
      "    ---------------------------|-----------------\n",
      "    certifi-2019.11.28         |   py37hc8dfbb8_1         149 KB  conda-forge\n",
      "    conda-4.8.3                |   py37hc8dfbb8_1         3.0 MB  conda-forge\n",
      "    fastp-0.20.0               |       hdbcaa40_0         2.3 MB  bioconda\n",
      "    openssl-1.1.1e             |       h516909a_0         2.1 MB  conda-forge\n",
      "    python_abi-3.7             |          1_cp37m           4 KB  conda-forge\n",
      "    ------------------------------------------------------------\n",
      "                                           Total:         7.7 MB\n",
      "\n",
      "The following NEW packages will be INSTALLED:\n",
      "\n",
      "  fastp              bioconda/linux-64::fastp-0.20.0-hdbcaa40_0\n",
      "  python_abi         conda-forge/linux-64::python_abi-3.7-1_cp37m\n",
      "\n",
      "The following packages will be UPDATED:\n",
      "\n",
      "  certifi                                 2019.11.28-py37_0 --> 2019.11.28-py37hc8dfbb8_1\n",
      "  conda                                        4.8.0-py37_1 --> 4.8.3-py37hc8dfbb8_1\n",
      "  openssl                                 1.1.1d-h516909a_0 --> 1.1.1e-h516909a_0\n",
      "\n",
      "\n",
      "Proceed ([y]/n)? \n",
      "\n",
      "Downloading and Extracting Packages\n",
      "\r",
      "conda-4.8.3          | 3.0 MB    |            |   0% \r",
      "conda-4.8.3          | 3.0 MB    |            |   1% \r",
      "conda-4.8.3          | 3.0 MB    | 4          |   4% \r",
      "conda-4.8.3          | 3.0 MB    | 7          |   8% \r",
      "conda-4.8.3          | 3.0 MB    | #1         |  12% \r",
      "conda-4.8.3          | 3.0 MB    | #6         |  16% \r",
      "conda-4.8.3          | 3.0 MB    | ##         |  20% \r",
      "conda-4.8.3          | 3.0 MB    | ##4        |  24% \r",
      "conda-4.8.3          | 3.0 MB    | ##8        |  28% \r",
      "conda-4.8.3          | 3.0 MB    | ###2       |  33% \r",
      "conda-4.8.3          | 3.0 MB    | ###6       |  37% \r",
      "conda-4.8.3          | 3.0 MB    | ####       |  40% \r",
      "conda-4.8.3          | 3.0 MB    | ####4      |  44% \r",
      "conda-4.8.3          | 3.0 MB    | ####8      |  49% \r",
      "conda-4.8.3          | 3.0 MB    | #####2     |  53% \r",
      "conda-4.8.3          | 3.0 MB    | #####6     |  57% \r",
      "conda-4.8.3          | 3.0 MB    | ######     |  61% \r",
      "conda-4.8.3          | 3.0 MB    | ######5    |  65% \r",
      "conda-4.8.3          | 3.0 MB    | ######9    |  69% \r",
      "conda-4.8.3          | 3.0 MB    | #######3   |  73% \r",
      "conda-4.8.3          | 3.0 MB    | #######7   |  77% \r",
      "conda-4.8.3          | 3.0 MB    | ########1  |  82% \r",
      "conda-4.8.3          | 3.0 MB    | ########5  |  86% \r",
      "conda-4.8.3          | 3.0 MB    | ########9  |  90% \r",
      "conda-4.8.3          | 3.0 MB    | #########4 |  94% \r",
      "conda-4.8.3          | 3.0 MB    | #########8 |  98% \r",
      "conda-4.8.3          | 3.0 MB    | ########## | 100% \n",
      "\r",
      "fastp-0.20.0         | 2.3 MB    |            |   0% \r",
      "fastp-0.20.0         | 2.3 MB    |            |   1% \r",
      "fastp-0.20.0         | 2.3 MB    | 5          |   6% \r",
      "fastp-0.20.0         | 2.3 MB    | #1         |  11% \r",
      "fastp-0.20.0         | 2.3 MB    | #5         |  16% \r",
      "fastp-0.20.0         | 2.3 MB    | ##1        |  21% \r",
      "fastp-0.20.0         | 2.3 MB    | ##6        |  27% \r",
      "fastp-0.20.0         | 2.3 MB    | ###1       |  32% \r",
      "fastp-0.20.0         | 2.3 MB    | ###6       |  37% \r",
      "fastp-0.20.0         | 2.3 MB    | ####1      |  42% \r",
      "fastp-0.20.0         | 2.3 MB    | ####6      |  47% \r",
      "fastp-0.20.0         | 2.3 MB    | #####1     |  52% \r",
      "fastp-0.20.0         | 2.3 MB    | #####7     |  57% \r",
      "fastp-0.20.0         | 2.3 MB    | ######2    |  63% \r",
      "fastp-0.20.0         | 2.3 MB    | ######7    |  68% \r",
      "fastp-0.20.0         | 2.3 MB    | #######3   |  73% \r",
      "fastp-0.20.0         | 2.3 MB    | #######8   |  78% \r",
      "fastp-0.20.0         | 2.3 MB    | ########4  |  84% \r",
      "fastp-0.20.0         | 2.3 MB    | ########9  |  90% \r",
      "fastp-0.20.0         | 2.3 MB    | #########5 |  95% \r",
      "fastp-0.20.0         | 2.3 MB    | ########## | 100% \n",
      "\r",
      "python_abi-3.7       | 4 KB      |            |   0% \r",
      "python_abi-3.7       | 4 KB      | ########## | 100% \n",
      "\r",
      "openssl-1.1.1e       | 2.1 MB    |            |   0% \r",
      "openssl-1.1.1e       | 2.1 MB    |            |   1% \r",
      "openssl-1.1.1e       | 2.1 MB    | 6          |   7% \r",
      "openssl-1.1.1e       | 2.1 MB    | #2         |  12% \r",
      "openssl-1.1.1e       | 2.1 MB    | #8         |  18% \r",
      "openssl-1.1.1e       | 2.1 MB    | ##4        |  24% \r",
      "openssl-1.1.1e       | 2.1 MB    | ##9        |  30% \r",
      "openssl-1.1.1e       | 2.1 MB    | ###5       |  36% \r",
      "openssl-1.1.1e       | 2.1 MB    | ####       |  41% \r",
      "openssl-1.1.1e       | 2.1 MB    | ####7      |  48% \r",
      "openssl-1.1.1e       | 2.1 MB    | #####3     |  53% \r",
      "openssl-1.1.1e       | 2.1 MB    | #####9     |  59% \r",
      "openssl-1.1.1e       | 2.1 MB    | ######5    |  66% \r",
      "openssl-1.1.1e       | 2.1 MB    | #######1   |  72% \r",
      "openssl-1.1.1e       | 2.1 MB    | #######7   |  78% \r",
      "openssl-1.1.1e       | 2.1 MB    | ########3  |  83% \r",
      "openssl-1.1.1e       | 2.1 MB    | ########9  |  89% \r",
      "openssl-1.1.1e       | 2.1 MB    | #########5 |  95% \r",
      "openssl-1.1.1e       | 2.1 MB    | ########## | 100% \n",
      "\r",
      "certifi-2019.11.28   | 149 KB    |            |   0% \r",
      "certifi-2019.11.28   | 149 KB    | ####3      |  43% \r",
      "certifi-2019.11.28   | 149 KB    | ########## | 100% \n",
      "Preparing transaction: ...working... done\n",
      "Verifying transaction: ...working... done\n",
      "Executing transaction: ...working... done\n"
     ]
    }
   ],
   "source": [
    "%%bash\n",
    "\n",
    "#fastp\n",
    "\n",
    "conda install -c bioconda fastp"
   ]
  },
  {
   "cell_type": "code",
   "execution_count": 16,
   "metadata": {},
   "outputs": [
    {
     "name": "stderr",
     "output_type": "stream",
     "text": [
      "Read1 before filtering:\n",
      "total reads: 1361900\n",
      "total bases: 323356824\n",
      "Q20 bases: 309068137(95.5811%)\n",
      "Q30 bases: 300820639(93.0306%)\n",
      "\n",
      "Read2 before filtering:\n",
      "total reads: 1361900\n",
      "total bases: 323723854\n",
      "Q20 bases: 289437255(89.4087%)\n",
      "Q30 bases: 272544633(84.1905%)\n",
      "\n",
      "Read1 after filtering:\n",
      "total reads: 1313860\n",
      "total bases: 311533482\n",
      "Q20 bases: 299607900(96.172%)\n",
      "Q30 bases: 292374974(93.8503%)\n",
      "\n",
      "Read2 aftering filtering:\n",
      "total reads: 1313860\n",
      "total bases: 311522132\n",
      "Q20 bases: 283738741(91.0814%)\n",
      "Q30 bases: 268872443(86.3093%)\n",
      "\n",
      "Filtering result:\n",
      "reads passed filter: 2627720\n",
      "reads failed due to low quality: 96080\n",
      "reads failed due to too many N: 0\n",
      "reads failed due to too short: 0\n",
      "reads with adapter trimmed: 18928\n",
      "bases trimmed due to adapters: 364273\n",
      "\n",
      "Duplication rate: 0.995976%\n",
      "\n",
      "Insert size peak (evaluated by paired-end reads): 328\n",
      "\n",
      "JSON report: fastp.json\n",
      "HTML report: fastp.html\n",
      "\n",
      "fastp -i ERR1795072_1.fastq.gz -I ERR1795072_2.fastq.gz -o outputFastp/out.R1.fq.gz -O outputFastp/out.R2.fq.gz \n",
      "fastp v0.20.0, time used: 26 seconds\n"
     ]
    }
   ],
   "source": [
    "%%bash\n",
    "\n",
    "#fastp test\n",
    "\n",
    "cd ~/PROJECTHH/Scripts/ExampleInput/SamplesFastq\n",
    "mkdir outputFastp\n",
    "fastp -i ERR1795072_1.fastq.gz -I ERR1795072_2.fastq.gz -o outputFastp/out.R1.fq.gz -O outputFastp/out.R2.fq.gz\n",
    "\n",
    "#ŖESULT: fast analysis but no extra parametesr included + nice overview in html\n",
    "# remark:but low filtering percentage (reads were probably already filtered) "
   ]
  },
  {
   "cell_type": "markdown",
   "metadata": {},
   "source": [
    "## Taxonomy tools\n",
    "= the description, identification, nomenclature, and classification of organisms"
   ]
  },
  {
   "cell_type": "code",
   "execution_count": 2,
   "metadata": {},
   "outputs": [
    {
     "name": "stdout",
     "output_type": "stream",
     "text": [
      "make: Map '/opt/kraken2-2.0.8-beta/src' wordt binnengegaan\n",
      "g++ -fopenmp -Wall -std=c++11 -O3 -DLINEAR_PROBING   -c -o seqreader.o seqreader.cc\n",
      "make: Map '/opt/kraken2-2.0.8-beta/src' wordt verlaten\n"
     ]
    },
    {
     "name": "stderr",
     "output_type": "stream",
     "text": [
      "make: g++: Opdracht niet gevonden\n",
      "make: *** [<ingebouwd>: seqreader.o] Fout 127\n"
     ]
    },
    {
     "ename": "CalledProcessError",
     "evalue": "Command 'b'\\n#Kraken2 (for taxonomic classification)\\n#https://ccb.jhu.edu/software/kraken2/index.shtml?t=manual#installation\\n# get source code: https://github.com/DerrickWood/kraken2/releases\\n\\ncd /usr/local\\n#unzip script and move to opt\\n#install in usr/local/bin/\\ncd /opt/kraken2-2.0.8-beta/\\n./install_kraken2.sh /usr/local/bin/\\n'' returned non-zero exit status 2.",
     "output_type": "error",
     "traceback": [
      "\u001b[0;31m----------------------------------------------\u001b[0m",
      "\u001b[0;31mCalledProcessError\u001b[0mTraceback (most recent call last)",
      "\u001b[0;32m<ipython-input-2-ea4c2eb1b919>\u001b[0m in \u001b[0;36m<module>\u001b[0;34m\u001b[0m\n\u001b[0;32m----> 1\u001b[0;31m \u001b[0mget_ipython\u001b[0m\u001b[0;34m(\u001b[0m\u001b[0;34m)\u001b[0m\u001b[0;34m.\u001b[0m\u001b[0mrun_cell_magic\u001b[0m\u001b[0;34m(\u001b[0m\u001b[0;34m'bash'\u001b[0m\u001b[0;34m,\u001b[0m \u001b[0;34m''\u001b[0m\u001b[0;34m,\u001b[0m \u001b[0;34m'\\n#Kraken2 (for taxonomic classification)\\n#https://ccb.jhu.edu/software/kraken2/index.shtml?t=manual#installation\\n# get source code: https://github.com/DerrickWood/kraken2/releases\\n\\ncd /usr/local\\n#unzip script and move to opt\\n#install in usr/local/bin/\\ncd /opt/kraken2-2.0.8-beta/\\n./install_kraken2.sh /usr/local/bin/\\n'\u001b[0m\u001b[0;34m)\u001b[0m\u001b[0;34m\u001b[0m\u001b[0;34m\u001b[0m\u001b[0m\n\u001b[0m",
      "\u001b[0;32m~/.local/lib/python3.6/site-packages/IPython/core/interactiveshell.py\u001b[0m in \u001b[0;36mrun_cell_magic\u001b[0;34m(self, magic_name, line, cell)\u001b[0m\n\u001b[1;32m   2360\u001b[0m             \u001b[0;32mwith\u001b[0m \u001b[0mself\u001b[0m\u001b[0;34m.\u001b[0m\u001b[0mbuiltin_trap\u001b[0m\u001b[0;34m:\u001b[0m\u001b[0;34m\u001b[0m\u001b[0;34m\u001b[0m\u001b[0m\n\u001b[1;32m   2361\u001b[0m                 \u001b[0margs\u001b[0m \u001b[0;34m=\u001b[0m \u001b[0;34m(\u001b[0m\u001b[0mmagic_arg_s\u001b[0m\u001b[0;34m,\u001b[0m \u001b[0mcell\u001b[0m\u001b[0;34m)\u001b[0m\u001b[0;34m\u001b[0m\u001b[0;34m\u001b[0m\u001b[0m\n\u001b[0;32m-> 2362\u001b[0;31m                 \u001b[0mresult\u001b[0m \u001b[0;34m=\u001b[0m \u001b[0mfn\u001b[0m\u001b[0;34m(\u001b[0m\u001b[0;34m*\u001b[0m\u001b[0margs\u001b[0m\u001b[0;34m,\u001b[0m \u001b[0;34m**\u001b[0m\u001b[0mkwargs\u001b[0m\u001b[0;34m)\u001b[0m\u001b[0;34m\u001b[0m\u001b[0;34m\u001b[0m\u001b[0m\n\u001b[0m\u001b[1;32m   2363\u001b[0m             \u001b[0;32mreturn\u001b[0m \u001b[0mresult\u001b[0m\u001b[0;34m\u001b[0m\u001b[0;34m\u001b[0m\u001b[0m\n\u001b[1;32m   2364\u001b[0m \u001b[0;34m\u001b[0m\u001b[0m\n",
      "\u001b[0;32m~/.local/lib/python3.6/site-packages/IPython/core/magics/script.py\u001b[0m in \u001b[0;36mnamed_script_magic\u001b[0;34m(line, cell)\u001b[0m\n\u001b[1;32m    140\u001b[0m             \u001b[0;32melse\u001b[0m\u001b[0;34m:\u001b[0m\u001b[0;34m\u001b[0m\u001b[0;34m\u001b[0m\u001b[0m\n\u001b[1;32m    141\u001b[0m                 \u001b[0mline\u001b[0m \u001b[0;34m=\u001b[0m \u001b[0mscript\u001b[0m\u001b[0;34m\u001b[0m\u001b[0;34m\u001b[0m\u001b[0m\n\u001b[0;32m--> 142\u001b[0;31m             \u001b[0;32mreturn\u001b[0m \u001b[0mself\u001b[0m\u001b[0;34m.\u001b[0m\u001b[0mshebang\u001b[0m\u001b[0;34m(\u001b[0m\u001b[0mline\u001b[0m\u001b[0;34m,\u001b[0m \u001b[0mcell\u001b[0m\u001b[0;34m)\u001b[0m\u001b[0;34m\u001b[0m\u001b[0;34m\u001b[0m\u001b[0m\n\u001b[0m\u001b[1;32m    143\u001b[0m \u001b[0;34m\u001b[0m\u001b[0m\n\u001b[1;32m    144\u001b[0m         \u001b[0;31m# write a basic docstring:\u001b[0m\u001b[0;34m\u001b[0m\u001b[0;34m\u001b[0m\u001b[0;34m\u001b[0m\u001b[0m\n",
      "\u001b[0;32m<decorator-gen-110>\u001b[0m in \u001b[0;36mshebang\u001b[0;34m(self, line, cell)\u001b[0m\n",
      "\u001b[0;32m~/.local/lib/python3.6/site-packages/IPython/core/magic.py\u001b[0m in \u001b[0;36m<lambda>\u001b[0;34m(f, *a, **k)\u001b[0m\n\u001b[1;32m    185\u001b[0m     \u001b[0;31m# but it's overkill for just that one bit of state.\u001b[0m\u001b[0;34m\u001b[0m\u001b[0;34m\u001b[0m\u001b[0;34m\u001b[0m\u001b[0m\n\u001b[1;32m    186\u001b[0m     \u001b[0;32mdef\u001b[0m \u001b[0mmagic_deco\u001b[0m\u001b[0;34m(\u001b[0m\u001b[0marg\u001b[0m\u001b[0;34m)\u001b[0m\u001b[0;34m:\u001b[0m\u001b[0;34m\u001b[0m\u001b[0;34m\u001b[0m\u001b[0m\n\u001b[0;32m--> 187\u001b[0;31m         \u001b[0mcall\u001b[0m \u001b[0;34m=\u001b[0m \u001b[0;32mlambda\u001b[0m \u001b[0mf\u001b[0m\u001b[0;34m,\u001b[0m \u001b[0;34m*\u001b[0m\u001b[0ma\u001b[0m\u001b[0;34m,\u001b[0m \u001b[0;34m**\u001b[0m\u001b[0mk\u001b[0m\u001b[0;34m:\u001b[0m \u001b[0mf\u001b[0m\u001b[0;34m(\u001b[0m\u001b[0;34m*\u001b[0m\u001b[0ma\u001b[0m\u001b[0;34m,\u001b[0m \u001b[0;34m**\u001b[0m\u001b[0mk\u001b[0m\u001b[0;34m)\u001b[0m\u001b[0;34m\u001b[0m\u001b[0;34m\u001b[0m\u001b[0m\n\u001b[0m\u001b[1;32m    188\u001b[0m \u001b[0;34m\u001b[0m\u001b[0m\n\u001b[1;32m    189\u001b[0m         \u001b[0;32mif\u001b[0m \u001b[0mcallable\u001b[0m\u001b[0;34m(\u001b[0m\u001b[0marg\u001b[0m\u001b[0;34m)\u001b[0m\u001b[0;34m:\u001b[0m\u001b[0;34m\u001b[0m\u001b[0;34m\u001b[0m\u001b[0m\n",
      "\u001b[0;32m~/.local/lib/python3.6/site-packages/IPython/core/magics/script.py\u001b[0m in \u001b[0;36mshebang\u001b[0;34m(self, line, cell)\u001b[0m\n\u001b[1;32m    243\u001b[0m             \u001b[0msys\u001b[0m\u001b[0;34m.\u001b[0m\u001b[0mstderr\u001b[0m\u001b[0;34m.\u001b[0m\u001b[0mflush\u001b[0m\u001b[0;34m(\u001b[0m\u001b[0;34m)\u001b[0m\u001b[0;34m\u001b[0m\u001b[0;34m\u001b[0m\u001b[0m\n\u001b[1;32m    244\u001b[0m         \u001b[0;32mif\u001b[0m \u001b[0margs\u001b[0m\u001b[0;34m.\u001b[0m\u001b[0mraise_error\u001b[0m \u001b[0;32mand\u001b[0m \u001b[0mp\u001b[0m\u001b[0;34m.\u001b[0m\u001b[0mreturncode\u001b[0m\u001b[0;34m!=\u001b[0m\u001b[0;36m0\u001b[0m\u001b[0;34m:\u001b[0m\u001b[0;34m\u001b[0m\u001b[0;34m\u001b[0m\u001b[0m\n\u001b[0;32m--> 245\u001b[0;31m             \u001b[0;32mraise\u001b[0m \u001b[0mCalledProcessError\u001b[0m\u001b[0;34m(\u001b[0m\u001b[0mp\u001b[0m\u001b[0;34m.\u001b[0m\u001b[0mreturncode\u001b[0m\u001b[0;34m,\u001b[0m \u001b[0mcell\u001b[0m\u001b[0;34m,\u001b[0m \u001b[0moutput\u001b[0m\u001b[0;34m=\u001b[0m\u001b[0mout\u001b[0m\u001b[0;34m,\u001b[0m \u001b[0mstderr\u001b[0m\u001b[0;34m=\u001b[0m\u001b[0merr\u001b[0m\u001b[0;34m)\u001b[0m\u001b[0;34m\u001b[0m\u001b[0;34m\u001b[0m\u001b[0m\n\u001b[0m\u001b[1;32m    246\u001b[0m \u001b[0;34m\u001b[0m\u001b[0m\n\u001b[1;32m    247\u001b[0m     \u001b[0;32mdef\u001b[0m \u001b[0m_run_script\u001b[0m\u001b[0;34m(\u001b[0m\u001b[0mself\u001b[0m\u001b[0;34m,\u001b[0m \u001b[0mp\u001b[0m\u001b[0;34m,\u001b[0m \u001b[0mcell\u001b[0m\u001b[0;34m,\u001b[0m \u001b[0mto_close\u001b[0m\u001b[0;34m)\u001b[0m\u001b[0;34m:\u001b[0m\u001b[0;34m\u001b[0m\u001b[0;34m\u001b[0m\u001b[0m\n",
      "\u001b[0;31mCalledProcessError\u001b[0m: Command 'b'\\n#Kraken2 (for taxonomic classification)\\n#https://ccb.jhu.edu/software/kraken2/index.shtml?t=manual#installation\\n# get source code: https://github.com/DerrickWood/kraken2/releases\\n\\ncd /usr/local\\n#unzip script and move to opt\\n#install in usr/local/bin/\\ncd /opt/kraken2-2.0.8-beta/\\n./install_kraken2.sh /usr/local/bin/\\n'' returned non-zero exit status 2."
     ]
    }
   ],
   "source": [
    "%%bash\n",
    "\n",
    "#Kraken2 (for taxonomic classification)\n",
    "# -> practical use in WGS samples: to look for contamination\n",
    "\n",
    "#https://ccb.jhu.edu/software/kraken2/index.shtml?t=manual#installation\n",
    "# get source code: https://github.com/DerrickWood/kraken2/releases \n",
    "\n",
    "#unzip folder and move to /opt/\n",
    "\n",
    "cd /opt/kraken2-2.0.8-beta/\n",
    "./install_kraken2.sh /opt/kraken2-2.0.8-beta/ #install in same folder\n"
   ]
  },
  {
   "cell_type": "markdown",
   "metadata": {},
   "source": [
    "Problems with installing!\n",
    "- maybe because no blast? (install)\n",
    "- seems to be a problem with gcc: FIX!"
   ]
  },
  {
   "cell_type": "code",
   "execution_count": null,
   "metadata": {},
   "outputs": [],
   "source": [
    "%%bash\n",
    "#install NCBI+\n",
    "cd /home/hannelore/Downloads/\n",
    "wget ftp://ftp.ncbi.nlm.nih.gov/blast/executables/blast+/LATEST/ncbi-blast-2.10.0+-x64-linux.tar.gz\n",
    "tar -zxvf ncbi-blast-2.10.0+-x64-linux.tar.gz \n",
    "sudo mv ncbi-blast-2.10.0+ /opt/\n",
    "\n",
    "# add BLAST location to system PATH\n",
    "#export PATH=/opt/ncbi-blast-2.10.0+/bin:$PATH\n"
   ]
  },
  {
   "cell_type": "code",
   "execution_count": null,
   "metadata": {},
   "outputs": [],
   "source": [
    "sudo yum install gcc-c++"
   ]
  },
  {
   "cell_type": "markdown",
   "metadata": {},
   "source": [
    "add to path\n",
    "- /opt/kraken2-2.0.8-beta/kraken2\n",
    "- /opt/kraken2-2.0.8-beta/kraken2-build\n",
    "- /opt/kraken2-2.0.8-beta/kraken2-inspect\n"
   ]
  },
  {
   "cell_type": "code",
   "execution_count": null,
   "metadata": {},
   "outputs": [],
   "source": [
    "%%bash\n",
    "#get database MiniKraken_DB-4GB \n",
    "wget \"http://ccb.jhu.edu/software/kraken/dl/minikraken_20171019_4GB.tgz\"\n",
    "#move database to tools folder\n",
    "#unzip\n",
    "tar -xvzf minikraken_20171019_4GB.tgz\n",
    "\n",
    "#build the database\n",
    "kraken2-build --db minikraken_20171013 --standard --minimizer-len 13 \\\n",
    "               --max-db-size 4 --threads 3\n",
    "#PROBLEMS -> remove the 4Gb"
   ]
  },
  {
   "cell_type": "code",
   "execution_count": null,
   "metadata": {},
   "outputs": [],
   "source": [
    "%%bash\n",
    "#get de 8Gb minikraken:\n",
    "#http://ccb.jhu.edu/software/kraken2/downloads.shtml\n",
    "#downloads don't work\n",
    "\n",
    "#new: ftp://ftp.ccb.jhu.edu/pub/data/kraken2_dbs/\n",
    "wget ftp://ftp.ccb.jhu.edu/pub/data/kraken2_dbs/minikraken_8GB_202003.tgz\n",
    "#time: 1u50min download\n",
    "\n",
    "#downloading a Silve database (16S)\n",
    "wget ftp://ftp.ccb.jhu.edu/pub/data/kraken2_dbs/16S_Silva138_20200326.tgz\n",
    "\n",
    "#downloading 4GB database (remark: kraken1)\n",
    "wget ftp://ftp.ccb.jhu.edu/software/kraken/dl/minikraken_20171019_4GB.tgz"
   ]
  },
  {
   "cell_type": "code",
   "execution_count": null,
   "metadata": {},
   "outputs": [],
   "source": [
    "%%bash\n",
    "\n",
    "cd /home/hannelore/PROJECTHH/Tools\n",
    "#testing kraken on raw data\n",
    "kraken2 --use-names --report report.txt --threads 4 \n",
    "-db /home/hannelore/PROJECTHH/Tools/kraken-db/16S_SILVA138_k2db/\n",
    "--fastq-input --paired --gzip-compressed /home/hannelore/PROJECTHH/Data/RawData-KP/ERR1795072_1.fastq.gz\n",
    "/home/hannelore/PROJECTHH/Data/RawData-KP/ERR1795072_2.fastq.gz > output16S.kraken\n"
   ]
  },
  {
   "cell_type": "markdown",
   "metadata": {},
   "source": [
    "#### choice database\n",
    "Because runs with minikraken db take +/- 45min per sample, I've decided to only look at 16S data with the silva database, this goes much faster and gives an overall image.\n",
    "\n",
    "#### remarks on options kraken2:\n",
    "* --use-names = will replace the taxonomy ID column with the scientific name and the taxonomy ID in parenthesis (e.g., \"Bacteria (taxid 2)\" instead of \"2\"),\n",
    "* --paired = for paired reads\n",
    "* --fastq-input = for fastq files, OPM: STRANGE PROGRAM DOES NOT RECOGNISE THIS OPTION\n",
    "* --gzip-compressed = for zipped files\n",
    "* --report if you also want a report\n",
    "* --threads = define the number of threads\n",
    "\n",
    "#### report setup (left to right)\n",
    "* Percentage of reads covered by the clade rooted at this taxon\n",
    "* Number of reads covered by the clade rooted at this taxon\n",
    "* Number of reads assigned directly to this taxon\n",
    "* A rank code, indicating (U)nclassified, (D)omain, (K)ingdom, (P)hylum, (C)lass, (O)rder, (F)amily, (G)enus, or (S)pecies. All other ranks are simply “-“.\n",
    "* NCBI Taxonomy ID\n",
    "* indented scientific name"
   ]
  },
  {
   "cell_type": "code",
   "execution_count": null,
   "metadata": {},
   "outputs": [],
   "source": [
    "%%bash\n",
    "#visualisation with KRONA\n",
    "\n",
    "#first make conda environment\n",
    "#isntall channels:\n",
    "conda config --add channels defaults\n",
    "conda config --add channels bioconda\n",
    "conda config --add channels conda-forge\n",
    "#get environment\n",
    "conda create -n ngs python=3\n",
    "#activate environment:\n",
    "conda activate ngs\n",
    "\n",
    "#installation Krona\n",
    "cd /home/hannelore/PROJECTHH/Tools/\n",
    "mkdir Krona\n",
    "cd Krona\n",
    "conda install Krona\n",
    "\n",
    "#housekeeping:\n",
    "# delete a symbolic link that is not correct\n",
    "rm -rf ~/miniconda3/envs/ngs/opt/krona/taxonomy\n",
    "# we create a directory in our home where the krona database will live\n",
    "mkdir -p ~/krona/taxonomy\n",
    "# now we make a symbolic link to that directory\n",
    "ln -s ~/krona/taxonomy ~/miniconda3/envs/ngs/opt/krona/\n",
    "\n",
    "#built a taxonomy db\n",
    "ktUpdateTaxonomy.sh ~/krona/taxonomy\n",
    "\n",
    "cd /homes/hannelore/PROJECTHH/Tools/kraken-test\n",
    "#make compatible file for krona from report kraken\n",
    "cat report.txt | cut -f 2,3 > reportKraken.krona\n",
    "\n",
    "#test\n",
    "ktImportTaxonomy reportKraken.krona\n",
    "firefox taxonomy.krona.html\n",
    "#problem: output does not match kraken report...\n",
    "\n"
   ]
  },
  {
   "cell_type": "markdown",
   "metadata": {},
   "source": [
    "#### Problem\n",
    "\n",
    "the taxid's provided by Kraken are not correct e.g. txid 46465 is given for klebsiella but this is an unidentified soil organism... May be the reaseon why Krona gives a completely different plot?\n",
    "could be due to 16S database, perhaps do work with miniconda but limited number of reads(?)"
   ]
  },
  {
   "cell_type": "code",
   "execution_count": null,
   "metadata": {},
   "outputs": [],
   "source": [
    "#reduce fastq to 10000 reads to make it faster to process (especially if you only want to see what's in it)\n",
    "\n",
    "#method1: cut lines (remark 10000 lines = 2500 reads)\n",
    "cd /home/hannelore/PROJECTHH/Data/RawData-KP/\n",
    "head -10000 ERR1795072_1.fastq.gz > ERR1795072_reduced_1.fastq.gz\n",
    "head -10000 ERR1795072_2.fastq.gz > ERR1795072_reduced_2.fastq.gz\n",
    "#remark: not good because last read is truncated: probably due to zip!\n",
    "\n",
    "#method2: cut lines but take zip into account\n",
    "zcat ERR1795072_1.fastq.gz | head -40000 | gzip > ERR1795072_reduced_1.fastq.gz\n",
    "zcat ERR1795072_2.fastq.gz | head -40000 | gzip > ERR1795072_reduced_2.fastq.gz\n",
    "\n",
    "#do kraken2\n",
    "cd /home/hannelore/PROJECTHH/Tools/kraken-test/reduced\n",
    "kraken2 --use-names --report report.txt --threads 2 \\\n",
    "-db /home/hannelore/PROJECTHH/Tools/kraken-db/minikraken_8GB_202003/minikraken_8GB_20200312 \\\n",
    "--paired --gzip-compressed /home/hannelore/PROJECTHH/Data/RawData-KP/ERR1795072_reduced_1.fastq.gz \\\n",
    "/home/hannelore/PROJECTHH/Data/RawData-KP/ERR1795072_reduced_2.fastq.gz\n",
    "#only report was formed = enough for krona\n",
    "#make compatible file for krona from report kraken\n",
    "cat report.txt | cut -f 2,3 > reportKraken.krona\n",
    "#do krona analysis (make sure conda env ngs is active)\n",
    "ktImportTaxonomy reportKraken.krona\n",
    "\n",
    "#error:\n",
    "'''\n",
    "Loading taxonomy...                                    │ferer=http://localhost:8888/notebooks/Notebook/TOO\n",
    "Importing reportKraken.krona...                        │LS%20installing%20and%20testing.ipynb\n",
    "   [ WARNING ]  The following taxonomy IDs were not    │[I 10:25:29.749 NotebookApp] Kernel started: 8ffbe\n",
    "                found in the local database and were   │dda-0ba3-4d61-b6a4-1b580fc6319b\n",
    "                set to root (if they were recently     │[I 10:27:29.682 NotebookApp] Saving file at /Noteb\n",
    "                added to NCBI, use updateTaxonomy.sh   │ook/TOOLS installing and testing.ipynb\n",
    "                to update the local database): 4 3 15  │[I 10:29:29.667 NotebookApp] Saving file at /Noteb\n",
    "Writing taxonomy.krona.html...   \n",
    "'''\n",
    "#may be due to wrong krona database??\n",
    "#fix later"
   ]
  },
  {
   "cell_type": "markdown",
   "metadata": {},
   "source": [
    "\n",
    "#### Get most relevant txid out of kraken report"
   ]
  },
  {
   "cell_type": "code",
   "execution_count": 1,
   "metadata": {},
   "outputs": [
    {
     "name": "stdout",
     "output_type": "stream",
     "text": [
      "573\n"
     ]
    }
   ],
   "source": [
    "%%bash\n",
    "\n",
    "# find the highest rated species\n",
    "cd ~/PROJECTHH/Tools/kraken-test/reduced/\n",
    "column -s, -t < report.txt | awk '$4 == \"S\"'| head -n 1 | cut -f5\n",
    "#can this go wrong in other sample (e.g. if no species is called -> to test)\n",
    "#Problem in Nextflow with $!!\n"
   ]
  },
  {
   "cell_type": "markdown",
   "metadata": {},
   "source": [
    "## Assembly\n",
    "= refers to aligning and merging fragments from a longer DNA sequence in order to reconstruct the original sequence."
   ]
  },
  {
   "cell_type": "code",
   "execution_count": null,
   "metadata": {},
   "outputs": [],
   "source": [
    "%%bash\n",
    "\n",
    "#MEGAHIT: installation: https://github.com/voutcn/megahit\n",
    "\n",
    "#conda install or binaries: choose binaries\n",
    "cd /home/hannelore/Downloads/\n",
    "wget https://github.com/voutcn/megahit/releases/download/v1.2.9/MEGAHIT-1.2.9-Linux-x86_64-static.tar.gz\n",
    "tar zvxf MEGAHIT-1.2.9-Linux-x86_64-static.tar.gz\n",
    "sudo mv MEGAHIT-1.2.9-Linux-x86_64-static /opt/\n",
    "sudo ln -s /opt/MEGAHIT-1.2.9-Linux-x86_64-static/bin/megahit \\\n",
    "    /usr/local/bin/megahit\n"
   ]
  },
  {
   "cell_type": "code",
   "execution_count": null,
   "metadata": {},
   "outputs": [],
   "source": [
    "#test MEGAHIT\n",
    "cd /home/hannelore/PROJECTHH/Tools/Megahit\n",
    "#paired end ERR1795072 and single end ERR1795073-1\n",
    "megahit -1 /home/hannelore/PROJECTHH/Data/RawData-KP/ERR1795072_1.fastq.gz \\\n",
    "-2 /home/hannelore/PROJECTHH/Data/RawData-KP/ERR1795072_2.fastq.gz \\\n",
    "-r /home/hannelore/PROJECTHH/Data/RawData-KP/ERR1795073_1.fastq.gz \\\n",
    "-o out\n",
    "\n",
    "#took 10min (3 fastq files)\n",
    "#all output in 1 file?? -> make sure to split in nextflow"
   ]
  },
  {
   "cell_type": "code",
   "execution_count": null,
   "metadata": {},
   "outputs": [],
   "source": [
    "#Quast for quality control\n",
    "\n",
    "#install https://github.com/ablab/quast\n",
    "#install: pkg-config libfreetype6-dev libpng-dev python-matplotlib\n",
    "sudo yum pkgconfig #already done\n",
    "sudo yum install freetype* #OK, ook libpng-dev\n",
    "python -m pip install -U matplotlib #OK\n",
    "\n",
    "sudo cd /opt/\n",
    "wget https://downloads.sourceforge.net/project/quast/quast-5.0.2.tar.gz\n",
    "tar -xzf quast-5.0.2.tar.gz\n",
    "rm quast-5.0.2.tar.gz\n",
    "sudo ln -s /opt/quast-5.0.2/quast.py /usr/local/bin/quast.py\n",
    "\n",
    "#link for metaquast\n",
    "sudo ln -s /opt/quast-5.0.2/metaquast.py /usr/local/bin/metaquast.py\n"
   ]
  },
  {
   "cell_type": "code",
   "execution_count": null,
   "metadata": {},
   "outputs": [],
   "source": [
    "%%bash\n",
    "\n",
    "cd /home/hannelore/PROJECTHH/Tools/Quast/\n",
    "#Quast test : basic\n",
    "quast.py /home/hannelore/PROJECTHH/Tools/Megahit/out/final.contigs.fa\n",
    "\n",
    "#Metaquast test: basic\n",
    "metaquast.py ~/PROJECTHH/Tools/Quast/ERR1795072.contigs.fa ~/PROJECTHH/Tools/Quast/ERR1795073.contigs.fa\n",
    "#remark programme recquires reference, so downloads SILVA database because there's no reference: takes a long time!"
   ]
  },
  {
   "cell_type": "markdown",
   "metadata": {},
   "source": [
    "To improve speed, I will try to add the reference genome (can be extracted from kraken results) \n",
    "-> see notebook DATA-Getting assembled data"
   ]
  },
  {
   "cell_type": "code",
   "execution_count": null,
   "metadata": {},
   "outputs": [],
   "source": [
    "%%bash\n",
    "\n",
    "#Quast test: with reference\n",
    "quast.py /home/hannelore/PROJECTHH/Tools/Megahit/out/final.contigs.fa \\\n",
    "-r /home/hannelore/PROJECTHH/Data/refDB/refDB-573/GCF_000364385.3.fa.gz\n",
    "#randomly chosen ref\n",
    "#OK works\n"
   ]
  },
  {
   "cell_type": "markdown",
   "metadata": {},
   "source": [
    "took 11 secondes to do with reference <> 1s for analysis without a reference\n",
    "But might be due to saved log(?) -> remove log and try again\n"
   ]
  },
  {
   "cell_type": "code",
   "execution_count": null,
   "metadata": {},
   "outputs": [],
   "source": [
    "#retry (not logged)\n",
    "\n",
    "#without ref\n",
    "quast.py /home/hannelore/PROJECTHH/Tools/Megahit/ERR1795072.contigs.fa\n",
    "#1s\n",
    "\n",
    "#with ref\n",
    "quast.py /home/hannelore/PROJECTHH/Tools/Megahit/ERR1795073.contigs.fa \\\n",
    "-r /home/hannelore/PROJECTHH/Data/refDB/refDB-573/GCF_000364385.3.fa.gz\n",
    "#7s"
   ]
  },
  {
   "cell_type": "markdown",
   "metadata": {},
   "source": [
    "-> Decided NOT to use this in the pipeline because only 1 ref can be chosen and we don't know which one + takes a longer time"
   ]
  },
  {
   "cell_type": "markdown",
   "metadata": {},
   "source": [
    "## Scaffolding\n",
    "=Link together a non-contiguous series of genomic sequences into a scaffold, consisting of sequences separated by gaps of known length. The sequences that are linked are typically contiguous sequences corresponding to read overlaps.\n",
    "\n",
    "remark: some de novo assemblers already do scaffolding"
   ]
  },
  {
   "cell_type": "code",
   "execution_count": null,
   "metadata": {},
   "outputs": [],
   "source": [
    "%%bash\n",
    "#To do scaffolding of the contigs:  http://contiguator.sourceforge.net/ -> now medusa:https://github.com/combogenomics/medusa\n",
    "\n",
    "#dependancies:\n",
    "#1) Mummer\n",
    "#download on http://mummer.sourceforge.net/\n",
    "cd /home/hannelore/Downloads/\n",
    "tar -xvzf MUMmer3.23.tar.gz\n",
    "sudo mv MUMmer3.23 /opt/\n",
    "cd MUMmer3.23\n",
    "make check\n",
    "#gives ERROR: \"\"'csh' C-shell not found\"\n",
    "#fix:\n",
    "sudo yum install tcsh\n",
    "make check #complete\n",
    "#install\n",
    "make install\n",
    "#add MUMmer directory path to the system PATH\n",
    "#2)Biopython\n",
    "pip install biopython\n",
    "#3) python packages: networkx, numpy\n",
    "pip install networkx \n",
    "pip install numpy \n",
    "\n",
    "#install\n",
    "#download tar: https://github.com/combogenomics/medusa/releases/\n",
    "wget \"https://github.com/combogenomics/medusa/releases/download/medusa-1.6/medusa.tar.gz\"\n",
    "tar -xvzf medusa.tar.gz\n",
    "sudo mv medusa /opt/ \n"
   ]
  },
  {
   "cell_type": "code",
   "execution_count": null,
   "metadata": {},
   "outputs": [],
   "source": [
    "#use Medusa\n",
    "cd /opt/medusa #you have to be in the folder: problem! \n",
    "#output can be targeted with -o\n",
    "\n",
    "java -jar /opt/medusa/medusa.jar -f /home/hannelore/PROJECTHH/Data/refDB/refDB-573/G\\\n",
    "-i /home/hannelore/PROJECTHH/Tools/Megahit/out/final.contigs.fa -v -o output/\n",
    "\n"
   ]
  },
  {
   "cell_type": "markdown",
   "metadata": {},
   "source": [
    "Error:\n",
    "\n",
    "Building the network...Traceback (most recent call last): \n",
    "  File \"medusa_scripts/netcon_mummer.py\", line 6, in <module>     \n",
    "    from cPickle import dump                        \n",
    "ModuleNotFoundError: No module named 'cPickle'            \n",
    "Exception in thread \"main\" java.lang.RuntimeException: Error: Network\n",
    "construction failed.                                                  \n",
    "        at Scaffolder.scaffolder(Unknown Source)  \n",
    "        at Scaffolder.runOnTerminal(Unknown Source)  \n",
    "        at Scaffolder.<init>(Unknown Source) \n",
    "        at Scaffolder.main(Unknown Source)\n"
   ]
  },
  {
   "cell_type": "code",
   "execution_count": null,
   "metadata": {},
   "outputs": [],
   "source": [
    "#fix\n",
    "pip3 install cpickle #alternative: cPickle also tried\n",
    "#no matching distributions\n",
    "#there is no cpickle/it is automatically integrated in python3\n",
    "\n",
    "pip3 install pickle\n",
    "#no matching distributions\n",
    "\n",
    "#same error when running the test data:\n",
    "java -jar medusa.jar -f test/reference_genomes/ -i test/Rhodobacter_target.fna -v"
   ]
  },
  {
   "cell_type": "code",
   "execution_count": null,
   "metadata": {},
   "outputs": [],
   "source": [
    "#New method for scaffolding: AB%ySS\n",
    "#remark is  also an assembler\n",
    "\n",
    "#1) install homebrew\n",
    "/bin/bash -c \"$(curl -fsSL https://raw.githubusercontent.com/Homebrew/install/master/install.sh)\"\n",
    "\n",
    "#2) install AByss\n",
    "brew install abyss\n"
   ]
  }
 ],
 "metadata": {
  "kernelspec": {
   "display_name": "Python 3",
   "language": "python",
   "name": "python3"
  },
  "language_info": {
   "codemirror_mode": {
    "name": "ipython",
    "version": 3
   },
   "file_extension": ".py",
   "mimetype": "text/x-python",
   "name": "python",
   "nbconvert_exporter": "python",
   "pygments_lexer": "ipython3",
   "version": "3.6.8"
  }
 },
 "nbformat": 4,
 "nbformat_minor": 2
}
