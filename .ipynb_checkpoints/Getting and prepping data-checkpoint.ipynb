{
 "cells": [
  {
   "cell_type": "markdown",
   "metadata": {},
   "source": [
    "# 15/11/2019 Getting data\n",
    "## Complete assembled genomes Klebsiella Pneumoniae from NCBI genome"
   ]
  },
  {
   "cell_type": "markdown",
   "metadata": {},
   "source": [
    "1) Get genomes with NCBI eutils : FAIL"
   ]
  },
  {
   "cell_type": "markdown",
   "metadata": {},
   "source": [
    "IN TERMINAL:\n",
    "\n",
    "#install eutils\n",
    "python3 --version\n",
    "\n",
    "#first get miniconda:\n",
    "#download from https://conda.io/miniconda.html  \n",
    "cd ~/Downloads/\n",
    "bash Miniconda3-latest...\n",
    "#add channels\n",
    "conda config --add channels defaults\n",
    "conda config --add channels bioconda\n",
    "conda config --add channels conda-forge\n",
    "\n",
    "\n",
    "pip3 install eutils\n",
    "#does not work\n",
    "conda install -c bioconda eutils #looking for package eutils in channel bioconda\n",
    "#no packages found\n",
    "\n",
    "sudo pip3 install eutils\n",
    "#worked :)"
   ]
  },
  {
   "cell_type": "code",
   "execution_count": 2,
   "metadata": {},
   "outputs": [],
   "source": [
    "#!/usr/bin/python\n",
    "from eutils import Client\n",
    "\n",
    "#set API\n",
    "eclient = Client(api_key=\"bccfde389fa10feecea94b5b64ef7028f309\")\n",
    "#search genomes\n",
    "genome_esearch = eclient.esearch(db='genome',term='Klebsiella pneumoniae')"
   ]
  },
  {
   "cell_type": "code",
   "execution_count": 13,
   "metadata": {},
   "outputs": [
    {
     "name": "stdout",
     "output_type": "stream",
     "text": [
      "\n",
      "\n",
      "Results of gene esearch:\n",
      "<eutils._internal.xmlfacades.esearchresult.ESearchResult object at 0x7fc7f5b1fd50>\n",
      "['__class__', '__delattr__', '__dict__', '__dir__', '__doc__', '__eq__', '__format__', '__ge__', '__getattribute__', '__gt__', '__hash__', '__init__', '__init_subclass__', '__le__', '__lt__', '__module__', '__ne__', '__new__', '__reduce__', '__reduce_ex__', '__repr__', '__setattr__', '__sizeof__', '__str__', '__subclasshook__', '__weakref__', '_root_tag', '_xml_root', 'count', 'ids', 'retmax', 'retstart', 'webenv']\n",
      "total list= [24383, 815]\n"
     ]
    }
   ],
   "source": [
    "print(\"\\n\\nResults of gene esearch:\\n{}\".format(genome_esearch))\n",
    "obj_summary_list = dir(genome_esearch)\n",
    "print(obj_summary_list)\n",
    "\n",
    "print(\"total list=\",genome_esearch.ids)\n",
    "#genome 815"
   ]
  },
  {
   "cell_type": "code",
   "execution_count": 18,
   "metadata": {},
   "outputs": [
    {
     "ename": "EutilsError",
     "evalue": "database genome is not currently supported by eutils",
     "output_type": "error",
     "traceback": [
      "\u001b[0;31m---------------------------------------------------------------------------\u001b[0m",
      "\u001b[0;31mEutilsError\u001b[0m                               Traceback (most recent call last)",
      "\u001b[0;32m<ipython-input-18-a16f3f10f64a>\u001b[0m in \u001b[0;36m<module>\u001b[0;34m\u001b[0m\n\u001b[0;32m----> 1\u001b[0;31m \u001b[0mgenome_efetch\u001b[0m \u001b[0;34m=\u001b[0m \u001b[0meclient\u001b[0m\u001b[0;34m.\u001b[0m\u001b[0mefetch\u001b[0m\u001b[0;34m(\u001b[0m\u001b[0mdb\u001b[0m\u001b[0;34m=\u001b[0m\u001b[0;34m'genome'\u001b[0m\u001b[0;34m,\u001b[0m \u001b[0mid\u001b[0m\u001b[0;34m=\u001b[0m\u001b[0mgenome_esearch\u001b[0m\u001b[0;34m.\u001b[0m\u001b[0mids\u001b[0m\u001b[0;34m[\u001b[0m\u001b[0;36m1\u001b[0m\u001b[0;34m]\u001b[0m\u001b[0;34m)\u001b[0m\u001b[0;34m\u001b[0m\u001b[0;34m\u001b[0m\u001b[0m\n\u001b[0m\u001b[1;32m      2\u001b[0m \u001b[0mprint\u001b[0m\u001b[0;34m(\u001b[0m\u001b[0mgenome_efetch\u001b[0m\u001b[0;34m)\u001b[0m\u001b[0;34m\u001b[0m\u001b[0;34m\u001b[0m\u001b[0m\n",
      "\u001b[0;32m/usr/local/lib/python3.7/site-packages/eutils/_internal/client.py\u001b[0m in \u001b[0;36mefetch\u001b[0;34m(self, db, id)\u001b[0m\n\u001b[1;32m     94\u001b[0m         \u001b[0;32mif\u001b[0m \u001b[0mdb\u001b[0m \u001b[0;32min\u001b[0m \u001b[0;34m[\u001b[0m\u001b[0;34m'pmc'\u001b[0m\u001b[0;34m]\u001b[0m\u001b[0;34m:\u001b[0m\u001b[0;34m\u001b[0m\u001b[0;34m\u001b[0m\u001b[0m\n\u001b[1;32m     95\u001b[0m             \u001b[0;32mreturn\u001b[0m \u001b[0mPubmedCentralArticleSet\u001b[0m\u001b[0;34m(\u001b[0m\u001b[0mdoc\u001b[0m\u001b[0;34m)\u001b[0m\u001b[0;34m\u001b[0m\u001b[0;34m\u001b[0m\u001b[0m\n\u001b[0;32m---> 96\u001b[0;31m         \u001b[0;32mraise\u001b[0m \u001b[0mEutilsError\u001b[0m\u001b[0;34m(\u001b[0m\u001b[0;34m'database {db} is not currently supported by eutils'\u001b[0m\u001b[0;34m.\u001b[0m\u001b[0mformat\u001b[0m\u001b[0;34m(\u001b[0m\u001b[0mdb\u001b[0m\u001b[0;34m=\u001b[0m\u001b[0mdb\u001b[0m\u001b[0;34m)\u001b[0m\u001b[0;34m)\u001b[0m\u001b[0;34m\u001b[0m\u001b[0;34m\u001b[0m\u001b[0m\n\u001b[0m\u001b[1;32m     97\u001b[0m \u001b[0;34m\u001b[0m\u001b[0m\n\u001b[1;32m     98\u001b[0m \u001b[0;34m\u001b[0m\u001b[0m\n",
      "\u001b[0;31mEutilsError\u001b[0m: database genome is not currently supported by eutils"
     ]
    }
   ],
   "source": [
    "genome_efetch = eclient.efetch(db='genome', id=genome_esearch.ids[1])\n",
    "print(genome_efetch)\n",
    "#database genome is not supported by eutils -> search new method"
   ]
  },
  {
   "cell_type": "markdown",
   "metadata": {},
   "source": [
    "\n",
    "\n",
    "2) Get genomes: https://github.com/kblin/ncbi-genome-download  \n",
    "\n"
   ]
  },
  {
   "cell_type": "code",
   "execution_count": null,
   "metadata": {},
   "outputs": [],
   "source": [
    "#uitvoeren in terminal zef: successfully installed\n",
    "sudo pip3 install ncbi-genome-download"
   ]
  },
  {
   "cell_type": "code",
   "execution_count": null,
   "metadata": {},
   "outputs": [],
   "source": [
    "#in terminal\n",
    "ncbi-genome-download --assembly-level complete --format fasta --genus \"Klebsiella pneumoniae\" bacteria\n",
    "#1172 complete genomen"
   ]
  },
  {
   "cell_type": "code",
   "execution_count": 25,
   "metadata": {},
   "outputs": [
    {
     "ename": "SyntaxError",
     "evalue": "invalid syntax (<ipython-input-25-3626b8efeb6f>, line 2)",
     "output_type": "error",
     "traceback": [
      "\u001b[0;36m  File \u001b[0;32m\"<ipython-input-25-3626b8efeb6f>\"\u001b[0;36m, line \u001b[0;32m2\u001b[0m\n\u001b[0;31m    mv refseq/ dataKP/\u001b[0m\n\u001b[0m            ^\u001b[0m\n\u001b[0;31mSyntaxError\u001b[0m\u001b[0;31m:\u001b[0m invalid syntax\n"
     ]
    }
   ],
   "source": [
    "#in terminal\n",
    "ls\n",
    "mv refseq dataKP-assembly"
   ]
  },
  {
   "cell_type": "markdown",
   "metadata": {},
   "source": [
    "# later uit te zoeken hoe al deze files gebruiken: TO DO"
   ]
  },
  {
   "cell_type": "code",
   "execution_count": null,
   "metadata": {},
   "outputs": [],
   "source": []
  }
 ],
 "metadata": {
  "kernelspec": {
   "display_name": "Python 3",
   "language": "python",
   "name": "python3"
  },
  "language_info": {
   "codemirror_mode": {
    "name": "ipython",
    "version": 3
   },
   "file_extension": ".py",
   "mimetype": "text/x-python",
   "name": "python",
   "nbconvert_exporter": "python",
   "pygments_lexer": "ipython3",
   "version": "3.7.5"
  }
 },
 "nbformat": 4,
 "nbformat_minor": 2
}
