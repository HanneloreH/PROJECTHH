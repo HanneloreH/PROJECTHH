{
 "cells": [
  {
   "cell_type": "markdown",
   "metadata": {},
   "source": [
    "# MLST ANALYSIS\n",
    "## 15/11/2019 & 22/11/2019 & 15/1/2020\n",
    "\n",
    "### 1) Checking Chewbbaca to do MLST analysis"
   ]
  },
  {
   "cell_type": "markdown",
   "metadata": {},
   "source": [
    "####  TUTORIAL\n",
    "Ref: https://github.com/B-UMMI/chewBBACA_tutorial"
   ]
  },
  {
   "cell_type": "markdown",
   "metadata": {},
   "source": [
    "##### 1.1 Installing tool + prepping data"
   ]
  },
  {
   "cell_type": "code",
   "execution_count": null,
   "metadata": {},
   "outputs": [],
   "source": [
    "#BASH: sudo pip3 install chewbacca\n",
    "#BASH: git clone https://github.com/B-UMMI/chewBBACA_tutorial #get all the files to do the tutorial"
   ]
  },
  {
   "cell_type": "code",
   "execution_count": 5,
   "metadata": {},
   "outputs": [
    {
     "name": "stdout",
     "output_type": "stream",
     "text": [
      " \u001b[0m\u001b[38;5;33mchewBBACA_tutorial\u001b[0m                'GIT - projectHH.ipynb'          readme.txt\n",
      " \u001b[38;5;33mdataKP-assembly\u001b[0m                   'MLST-analysis (bash).ipynb'\n",
      "'Getting and prepping data.ipynb'  'MLST analysis (python).ipynb'\n",
      "\u001b[0m\u001b[38;5;33manalysis_all\u001b[0m  \u001b[38;5;33mgenes\u001b[0m    info.tsv   \u001b[38;5;33mresults_all\u001b[0m  Streptococcus_agalactiae.trn\n",
      "\u001b[38;5;33manalysis_cg\u001b[0m   \u001b[38;5;33mgenomes\u001b[0m  README.md  \u001b[38;5;33mresults_cg\u001b[0m\n"
     ]
    }
   ],
   "source": [
    "ls\n",
    "cd chewBBACA_tutorial\n",
    "ls"
   ]
  },
  {
   "cell_type": "code",
   "execution_count": 6,
   "metadata": {},
   "outputs": [
    {
     "name": "stdout",
     "output_type": "stream",
     "text": [
      "Archive:  genomes/complete_genomes.zip\n",
      "   creating: complete_genomes/\n",
      "  inflating: complete_genomes/GCA_000007265.1_ASM726v1_genomic.fna  \n",
      "  inflating: complete_genomes/GCA_000012705.1_ASM1270v1_genomic.fna  \n",
      "  inflating: complete_genomes/GCA_000196055.1_ASM19605v1_genomic.fna  \n",
      "  inflating: complete_genomes/GCA_000299135.1_ASM29913v1_genomic.fna  \n",
      "  inflating: complete_genomes/GCA_000302475.2_ASM30247v2_genomic.fna  \n",
      "  inflating: complete_genomes/GCA_000427035.1_09mas018883_genomic.fna  \n",
      "  inflating: complete_genomes/GCA_000427055.1_ILRI112_genomic.fna  \n",
      "  inflating: complete_genomes/GCA_000427075.1_ILRI005_genomic.fna  \n",
      "  inflating: complete_genomes/GCA_000599965.1_ASM59996v1_genomic.fna  \n",
      "  inflating: complete_genomes/GCA_000636115.1_ASM63611v1_genomic.fna  \n",
      "  inflating: complete_genomes/GCA_000689235.1_GBCO_p1_genomic.fna  \n",
      "  inflating: complete_genomes/GCA_000730215.2_ASM73021v2_genomic.fna  \n",
      "  inflating: complete_genomes/GCA_000730255.1_ASM73025v1_genomic.fna  \n",
      "  inflating: complete_genomes/GCA_000782855.1_ASM78285v1_genomic.fna  \n",
      "  inflating: complete_genomes/GCA_000831105.1_ASM83110v1_genomic.fna  \n",
      "  inflating: complete_genomes/GCA_000831125.1_ASM83112v1_genomic.fna  \n",
      "  inflating: complete_genomes/GCA_000831145.1_ASM83114v1_genomic.fna  \n",
      "  inflating: complete_genomes/GCA_000967445.1_ASM96744v1_genomic.fna  \n",
      "  inflating: complete_genomes/GCA_001026925.1_ASM102692v1_genomic.fna  \n",
      "  inflating: complete_genomes/GCA_001190805.1_ASM119080v1_genomic.fna  \n",
      "  inflating: complete_genomes/GCA_001190825.1_ASM119082v1_genomic.fna  \n",
      "  inflating: complete_genomes/GCA_001190845.1_ASM119084v1_genomic.fna  \n",
      "  inflating: complete_genomes/GCA_001190865.1_ASM119086v1_genomic.fna  \n",
      "  inflating: complete_genomes/GCA_001190885.1_ASM119088v1_genomic.fna  \n",
      "  inflating: complete_genomes/GCA_001266635.1_ASM126663v1_genomic.fna  \n",
      "  inflating: complete_genomes/GCA_001275545.2_ASM127554v2_genomic.fna  \n",
      "  inflating: complete_genomes/GCA_001448985.1_ASM144898v1_genomic.fna  \n",
      "  inflating: complete_genomes/GCA_001552035.1_ASM155203v1_genomic.fna  \n",
      "  inflating: complete_genomes/GCA_001592385.1_ASM159238v1_genomic.fna  \n",
      "  inflating: complete_genomes/GCA_001592425.1_ASM159242v1_genomic.fna  \n",
      "  inflating: complete_genomes/GCA_001655175.1_ASM165517v1_genomic.fna  \n",
      "  inflating: complete_genomes/GCA_001683515.1_ASM168351v1_genomic.fna  \n"
     ]
    }
   ],
   "source": [
    "unzip genomes/complete_genomes.zip"
   ]
  },
  {
   "cell_type": "markdown",
   "metadata": {},
   "source": [
    "##### 1.2 Schema creation\n",
    "Create scheme based on complete genomes (available at NCBI)"
   ]
  },
  {
   "cell_type": "code",
   "execution_count": null,
   "metadata": {},
   "outputs": [],
   "source": [
    "#BASH: chewBBACA.py CreateSchema -i complete_genomes/ --cpu 4 -o schema_seed --ptf Streptococcus_agalactiae.trn \n",
    "\n",
    "#ERROR: missing prodigal files\n",
    "\n",
    "#Check if is prodigal installed? No -> install it:\n",
    "#BASH: sudo pip3 install prodigal #does not work\n",
    "#BASH: sudo dnf install prodigal #does not work\n",
    "#BASH: conda install -c bioconda prodigal #found package: installing"
   ]
  },
  {
   "cell_type": "code",
   "execution_count": null,
   "metadata": {},
   "outputs": [],
   "source": [
    "#RETRY-1\n",
    "# BASH: chewBBACA.py CreateSchema -i complete_genomes/ --cpu 4 -o schema_seed --ptf Streptococcus_agalactiae.trn\n",
    "\n",
    "#ERROR: missing file: temp/protogenome30/proteins.xml\n",
    "#prodigal files are created: succes\n",
    "#blast is done: goes wrong\n",
    "# file can't be found, how to fix this?, the file is made during analysis..."
   ]
  },
  {
   "cell_type": "markdown",
   "metadata": {},
   "source": [
    "###### BASH-output:\n",
    "(base) [hannelore@localhost chewBBACA_tutorial]$ chewBBACA.py CreateSchema -i complete_genomes/ --cpu 4 -o schema_seed --ptf Streptococcus_agalactiae.trn\n",
    "chewBBACA version 2.0.17.2 by Mickael Silva at https://github.com/B-UMMI/chewBBACA\n",
    "email contact: mickaelsilva@medicina.ulisboa.pt\n",
    "\n",
    "\n",
    "Warning, you are close to use all your cpus, if you are using a laptop you may be uncapable to perform any action\n",
    "will use this training file : /home/hannelore/PROJECTHH/chewBBACA_tutorial/Streptococcus_agalactiae.trn\n",
    "Will use this number of cpus: 4\n",
    "Checking all programs are installed\n",
    "Checking Prodigal installed... True\n",
    "\n",
    "Starting Script at : 16:59:34-22/11/2019\n",
    "\n",
    "Starting Prodigal at : 16:59:34-22/11/2019\n",
    "chosen taxon :/home/hannelore/PROJECTHH/chewBBACA_tutorial/Streptococcus_agalactiae.trn\n",
    "done prodigal run on:GCA_000012705.1_ASM1270v1_genomic.fna\n",
    "done prodigal run on:GCA_000007265.1_ASM726v1_genomic.fna\n",
    "done prodigal run on:GCA_000299135.1_ASM29913v1_genomic.fna\n",
    "done prodigal run on:GCA_000196055.1_ASM19605v1_genomic.fna\n",
    "done prodigal run on:GCA_000302475.2_ASM30247v2_genomic.fna\n",
    "done prodigal run on:GCA_000427055.1_ILRI112_genomic.fna\n",
    "done prodigal run on:GCA_000427035.1_09mas018883_genomic.fna\n",
    "done prodigal run on:GCA_000427075.1_ILRI005_genomic.fna\n",
    "done prodigal run on:GCA_000599965.1_ASM59996v1_genomic.fna\n",
    "done prodigal run on:GCA_000636115.1_ASM63611v1_genomic.fna\n",
    "done prodigal run on:GCA_000689235.1_GBCO_p1_genomic.fna\n",
    "done prodigal run on:GCA_000730215.2_ASM73021v2_genomic.fna\n",
    "done prodigal run on:GCA_000730255.1_ASM73025v1_genomic.fna\n",
    "done prodigal run on:GCA_000782855.1_ASM78285v1_genomic.fna\n",
    "done prodigal run on:GCA_000831105.1_ASM83110v1_genomic.fna\n",
    "done prodigal run on:GCA_000831145.1_ASM83114v1_genomic.fna\n",
    "done prodigal run on:GCA_000967445.1_ASM96744v1_genomic.fna\n",
    "done prodigal run on:GCA_000831125.1_ASM83112v1_genomic.fna\n",
    "done prodigal run on:GCA_001190805.1_ASM119080v1_genomic.fna\n",
    "done prodigal run on:GCA_001026925.1_ASM102692v1_genomic.fna\n",
    "done prodigal run on:GCA_001190825.1_ASM119082v1_genomic.fna\n",
    "done prodigal run on:GCA_001190845.1_ASM119084v1_genomic.fna\n",
    "done prodigal run on:GCA_001190865.1_ASM119086v1_genomic.fna\n",
    "done prodigal run on:GCA_001266635.1_ASM126663v1_genomic.fna\n",
    "done prodigal run on:GCA_001190885.1_ASM119088v1_genomic.fna\n",
    "done prodigal run on:GCA_001275545.2_ASM127554v2_genomic.fna\n",
    "done prodigal run on:GCA_001448985.1_ASM144898v1_genomic.fna\n",
    "done prodigal run on:GCA_001552035.1_ASM155203v1_genomic.fna\n",
    "done prodigal run on:GCA_001592425.1_ASM159242v1_genomic.fna\n",
    "done prodigal run on:GCA_001655175.1_ASM165517v1_genomic.fna\n",
    "done prodigal run on:GCA_001592385.1_ASM159238v1_genomic.fna\n",
    "done prodigal run on:GCA_001683515.1_ASM168351v1_genomic.fna\n",
    "\n",
    "Checking all prodigal processes created the necessary files...\n",
    "All prodigal files necessary were created\n",
    "\n",
    "Finishing Prodigal at : 16:59:49-22/11/2019\n",
    "running analysis for pair : /home/hannelore/PROJECTHH/chewBBACA_tutorial/complete_genomes/GCA_000007265.1_ASM726v1_genomic.fna /home/hannelore/PROJECTHH/chewBBACA_tutorial/complete_genomes/GCA_000012705.1_ASM1270v1_genomic.fna\n",
    "\n",
    "... (CUT)\n",
    "\n",
    "running analysis for pair : temp/protogenome24/protogenome24.fasta temp/protogenome25/protogenome25.fasta\n",
    "running analysis for pair : temp/protogenome26/protogenome26.fasta temp/protogenome27/protogenome27.fasta\n",
    "sh: makeblastdb: opdracht niet gevonden\n",
    "sh: blastp: opdracht niet gevonden\n",
    "sh: makeblastdb: opdracht niet gevonden\n",
    "sh: blastp: opdracht niet gevonden\n",
    "running analysis for pair : temp/protogenome28/protogenome28.fasta temp/protogenome29/protogenome29.fasta\n",
    "sh: makeblastdb: opdracht niet gevonden\n",
    "sh: blastp: opdracht niet gevonden\n",
    "sh: makeblastdb: opdracht niet gevonden\n",
    "sh: blastp: opdracht niet gevonden\n",
    "###### [Errno 2] No such file or directory: '/home/hannelore/PROJECTHH/chewBBACA_tutorial/temp/protogenome30/proteins.xml'\n",
    "\n",
    "\tUSAGE : chewBBACA.py [module] -h \n",
    "\n",
    "Select one of the following functions :\n",
    "\n",
    "... (CUT)"
   ]
  },
  {
   "cell_type": "code",
   "execution_count": null,
   "metadata": {},
   "outputs": [],
   "source": [
    "#RETRY-2\n",
    "#without \"-pff-file\"-file\n",
    "\n",
    "#BASH: chewBBACA.py CreateSchema -i FilesTutorial/complete_genomes/ -o wgMLSTscheme --cpu 3\n",
    "\n",
    "#Exact same error\n",
    "#re-try with own data "
   ]
  },
  {
   "cell_type": "markdown",
   "metadata": {},
   "source": [
    "REMARK:\n",
    "\"-ptf\" (e.g. Streptococcus_agalactiae.trn) Path to file of prodigal training file to us. Optional but recommended, contact for new species.\n",
    "\n",
    "RESULT:\n",
    "Did not solve the problem, Looked at output in more datail and the problem may be due to no installation of \"blastp\" and \"makeblastdb\" functions -> solution: install ncbi-blast+"
   ]
  },
  {
   "cell_type": "code",
   "execution_count": null,
   "metadata": {},
   "outputs": [],
   "source": [
    "#Install ncbi-blast+ \n",
    "\n",
    "#BASH:ver=\"2.10.0\"\n",
    "#BASH:cd /opt/\n",
    "#BASH:sudo wget -N ftp://ftp.ncbi.nlm.nih.gov/blast/executables/blast+/$ver/ncbi-blast-${ver}+-4.x86_64.rpm\n",
    "#BASH:sudo yum install ncbi-blast+.x86_64  #versie 2.2.31\n",
    "#OF\n",
    "#BASH: sudo rpm -Uhv ncbi-blast-2.10.0+-4.x86_64.rpm #versie: 2.10.0\n",
    "\n",
    "#conflict with two different versions -> chosen one!"
   ]
  },
  {
   "cell_type": "code",
   "execution_count": null,
   "metadata": {},
   "outputs": [],
   "source": [
    "#RETRY-3\n",
    "# BASH: chewBBACA.py CreateSchema -i FilesTutorial/complete_genomes/ -o wgMLSTscheme --cpu 3 --ptf FilesTutorial/Streptococcus_agalactiae.trn"
   ]
  },
  {
   "cell_type": "markdown",
   "metadata": {},
   "source": [
    "Succes :)\n",
    "\n",
    "###### output-text:\n",
    "\n",
    "\"\n",
    "Total of 3128 loci that constitute the schema\n",
    "\n",
    "Starting Script at : 10:52:34-15/01/2020\n",
    "Finished Script at : 11:10:19-15/01/2020\n",
    "\"\n",
    "\n",
    "###### output-files:\n",
    "3128 fasta files (one for every locus)  + 3128 short fasta files (subfolder short) = same content"
   ]
  },
  {
   "cell_type": "markdown",
   "metadata": {},
   "source": [
    "\n",
    "\n",
    "\n",
    "##### 1.3 Allele calling\n",
    "remark: update blast to version 2.5 or higher!"
   ]
  },
  {
   "cell_type": "code",
   "execution_count": null,
   "metadata": {},
   "outputs": [],
   "source": [
    "#remove old version ncbi-blast+\n",
    "#BASH: sudo yum remove ncbi-blast+.x86_64\n",
    "\n",
    "#install new version\n",
    "#BASH: sudo rpm -Uhv ncbi-blast-2.10.0+-4.x86_64.rpm \n",
    "#failed dependencies:... libnsl.so.1 and perl, installed via Yum\n",
    "#BASH: sudo yum install perl\n",
    "#BASH: sudo yum install perl-List-MoreUtils\n",
    "#BASH: sudo yum install libnsl\n",
    "#second try:\n",
    "#BASH: sudo rpm -Uhv ncbi-blast-2.10.0+-4.x86_64.rpm "
   ]
  },
  {
   "cell_type": "code",
   "execution_count": null,
   "metadata": {},
   "outputs": [],
   "source": [
    "\n",
    "#BASH: chewBBACA.py AlleleCall -i FilesTutorial/complete_genomes/ -g wgMLSTscheme/ -o results_cg --cpu 3 --ptf FilesTutorial/Streptococcus_agalactiae.trn \n"
   ]
  },
  {
   "cell_type": "markdown",
   "metadata": {},
   "source": [
    "###### output:\n",
    "chewBBACA version 2.0.17.2 by Mickael Silva at https://github.com/B-UMMI/chewBBACA\n",
    "email contact: mickaelsilva@medicina.ulisboa.pt\n",
    "\n",
    "\n",
    "Warning, you are close to use all your cpus, if you are using a laptop you may be uncapable to perform any action\n",
    "will use this training file : /home/hannelore/PROJECTHH/chewBBACA_tutorial/FilesTutorial/Streptococcus_agalactiae.trn\n",
    "blastp\n",
    "Will use this number of cpus: 3\n",
    "Checking all programs are installed\n",
    "Checking Blast installed... True\n",
    "Checking Prodigal installed... True\n",
    "Something went wrong. Your blast version is blastp: 2.10.0+\n",
    " Package: blast 2.10.0, build Dec  3 2019 20:40:11\n",
    "\n",
    "update your blast to 2.5.0 or above, will exit program\n",
    "\n",
    "Starting Script at : 11:43:59-15/01/2020\n",
    "checking if genome files exist..\n",
    "checking if gene files exist..\n",
    "We found files belonging to a previous run not finished, If they are yours and want to continue were it stopped type Y or yesy\n",
    "You chose to continue the allele call\n",
    "Starting Allele Calling at : 11:44:08-15/01/2020\n",
    "Processing GCA-001683515-protein3881.fasta. Start 12:01:22-15/01/2020 Locus 2958 of 3128. Done 94%.Finished Allele Calling at : 12:01:23-15/01/2020\n",
    "Wrapping up the results\n",
    "##################################################\n",
    " 32 genomes used for 3128loci\n",
    "\n",
    " used a bsr of : 0.6\n",
    "\n",
    "41654 exact matches found out of 100096\n",
    "\n",
    "41.61405051150895 percent of exact matches \n",
    "##################################################\n",
    "\n",
    "Writing output files\n",
    "\n",
    "Genome\tEXC\tINF\tLNF\tPLOT\tNIPH\tALM\tASM\n",
    "GCA_000007265.1_ASM726v1_genomic.fna\t744\t1132\t1212\t0\t20\t2\t18\n",
    "GCA_000012705.1_ASM1270v1_genomic.fna\t1113\t729\t1249\t0\t14\t3\t20\n",
    "GCA_000196055.1_ASM19605v1_genomic.fna\t880\t949\t1226\t0\t58\t4\t11\n",
    "GCA_000299135.1_ASM29913v1_genomic.fna\t1639\t130\t1329\t0\t10\t2\t18\n",
    "GCA_000302475.2_ASM30247v2_genomic.fna\t223\t1328\t1512\t0\t7\t2\t56\n",
    "GCA_000427035.1_09mas018883_genomic.fna\t1193\t678\t1227\t0\t14\t4\t12\n",
    "GCA_000427055.1_ILRI112_genomic.fna\t300\t1361\t1393\t0\t11\t1\t62\n",
    "GCA_000427075.1_ILRI005_genomic.fna\t444\t1367\t1278\t0\t16\t1\t22\n",
    "GCA_000599965.1_ASM59996v1_genomic.fna\t509\t1009\t1543\t0\t5\t1\t61\n",
    "GCA_000636115.1_ASM63611v1_genomic.fna\t1515\t0\t1546\t0\t5\t1\t61\n",
    "GCA_000689235.1_GBCO_p1_genomic.fna\t679\t1085\t1331\t0\t12\t2\t19\n",
    "GCA_000730215.2_ASM73021v2_genomic.fna\t1487\t463\t1147\t0\t11\t3\t17\n",
    "GCA_000730255.1_ASM73025v1_genomic.fna\t1424\t377\t1294\t0\t10\t2\t21\n",
    "GCA_000782855.1_ASM78285v1_genomic.fna\t714\t1088\t1302\t0\t9\t3\t12\n",
    "GCA_000831105.1_ASM83110v1_genomic.fna\t1049\t788\t1248\t0\t20\t8\t15\n",
    "GCA_000831125.1_ASM83112v1_genomic.fna\t1754\t87\t1246\t0\t22\t7\t12\n",
    "GCA_000831145.1_ASM83114v1_genomic.fna\t1804\t52\t1231\t0\t21\t7\t13\n",
    "GCA_000967445.1_ASM96744v1_genomic.fna\t1506\t18\t1539\t0\t5\t1\t59\n",
    "GCA_001026925.1_ASM102692v1_genomic.fna\t1771\t59\t1268\t0\t11\t3\t16\n",
    "GCA_001190805.1_ASM119080v1_genomic.fna\t1769\t6\t1324\t0\t9\t2\t18\n",
    "GCA_001190825.1_ASM119082v1_genomic.fna\t1735\t28\t1335\t0\t9\t2\t19\n",
    "GCA_001190845.1_ASM119084v1_genomic.fna\t1764\t7\t1328\t0\t9\t2\t18\n",
    "GCA_001190865.1_ASM119086v1_genomic.fna\t1483\t38\t1541\t0\t6\t1\t59\n",
    "GCA_001190885.1_ASM119088v1_genomic.fna\t1556\t282\t1253\t0\t12\t3\t22\n",
    "GCA_001266635.1_ASM126663v1_genomic.fna\t513\t1273\t1315\t0\t10\t3\t14\n",
    "GCA_001275545.2_ASM127554v2_genomic.fna\t1697\t148\t1245\t0\t19\t4\t15\n",
    "GCA_001448985.1_ASM144898v1_genomic.fna\t1809\t76\t1210\t0\t15\t4\t14\n",
    "GCA_001552035.1_ASM155203v1_genomic.fna\t1688\t59\t1345\t0\t11\t2\t23\n",
    "GCA_001592385.1_ASM159238v1_genomic.fna\t1828\t19\t1257\t0\t6\t4\t14\n",
    "GCA_001592425.1_ASM159242v1_genomic.fna\t1785\t4\t1316\t0\t6\t4\t13\n",
    "GCA_001655175.1_ASM165517v1_genomic.fna\t1444\t88\t1527\t0\t6\t2\t61\n",
    "GCA_001683515.1_ASM168351v1_genomic.fna\t1835\t10\t1259\t0\t6\t4\t14\n",
    "checking the existance of paralog genes...\n",
    "Detected number of paralog loci: 35\n",
    "\n",
    "Starting Script at : 11:43:59-15/01/2020\n",
    "Finished Script at : 12:01:23-15/01/2020\n",
    "\n",
    "\n",
    "\n",
    "###################################################################\n",
    "Explanation : https://github.com/B-UMMI/chewBBACA/wiki/2.-Allele-Calling\n",
    "(CDS = coding sequence)\n",
    "\n",
    "EXC - alleles which have exact matches (100% DNA identity) with previously identified alleles\n",
    "\n",
    "INF - inferred new alleles using Prodigal CDS predictions\n",
    "\n",
    "LNF - loci not found. No alleles were found for the number of loci in the schema shown. This means that, for those loci, there were no BLAST hits or they were not within the BSR threshold for allele assignment.\n",
    "\n",
    "PLOT - possible loci on the tip of the query genome contigs. A locus is classified as PLOT when the CDS of the query genome has a BLAST hit with a known larger allele that covers the CDS sequence entirely and the unaligned regions of the larger allele exceeds one of the query genome contigs ends. This could be an artifact caused by genome fragmentation resulting in a shorter CDS prediction by Prodigal. To avoid locus misclassification, loci in such situations are classified as PLOT.\n",
    "\n",
    "NIPH - non-informative paralogous hit. When ≥ 2 CDSs in the query genome match one locus in the schema with a BSR > 0.6, that locus is classified as NIPH.\n",
    "\n",
    "ALM - alleles 20% larger than length mode of the distribution of the matched loci (CDS length > (locus length mode + locus length mode * 0.2)) \n",
    "\n",
    "ASM - similar to ALM but for alleles 20% smaller than length mode distribution of the matched loci (CDS length < (locus length mode - locus length mode * 0.2)). "
   ]
  },
  {
   "cell_type": "markdown",
   "metadata": {},
   "source": [
    "##### 4) Paralog detection + Genome quality\n",
    "The next step in the analysis is to determine if some of the loci can be considered paralogs, based on the result of the wgMLST allele calling. "
   ]
  },
  {
   "cell_type": "code",
   "execution_count": null,
   "metadata": {},
   "outputs": [],
   "source": [
    "#BASH: chewBBACA.py RemoveGenes -i results_alleles.tsv -g RepeatedLoci.txt -o ~/PROJECTHH/chewBBACA_tutorial/alleleCallMatrix_cg\n",
    "#output: alleleCallMatrix_cg.tsv"
   ]
  },
  {
   "cell_type": "markdown",
   "metadata": {},
   "source": [
    "Test genome quality"
   ]
  },
  {
   "cell_type": "code",
   "execution_count": null,
   "metadata": {},
   "outputs": [],
   "source": [
    "#BASH: chewBBACA.py TestGenomeQuality -i alleleCallMatrix_cg.tsv -n 13 -t 200 -s 5"
   ]
  },
  {
   "cell_type": "markdown",
   "metadata": {},
   "source": [
    "Result:\n",
    "Plot of genome quality (see genomeQualityPlot.html)\n",
    "-> most loci (1264/1409) were present in at least 95% of the genomes used (use genes_95%.txt)\n",
    "-> 1133 loci were present in ALL genomes used"
   ]
  },
  {
   "cell_type": "raw",
   "metadata": {},
   "source": [
    "##### 5) Allel call for assemblies\n",
    "682 assemblies of Streptococcus agalactiae available on NCBI \n",
    "were downloaded  and analyzed \n",
    "with MLST in order to exclude possibly mislabeled samples as Streptococcus agalactiae."
   ]
  },
  {
   "cell_type": "code",
   "execution_count": null,
   "metadata": {},
   "outputs": [],
   "source": [
    "#First Do MLST analysis\n",
    "#install (via https://github.com/tseemann/mlst)\n",
    "#BASH: conda install -c conda-forge -c bioconda -c defaults mlst\n",
    "\n",
    "#Do MLST for one\n",
    "#BASH: mlst GCA_000167715.1_ASM16771v1_genomic.fna \n",
    "\n",
    "#Do MLST for entire folder\n",
    "#BASH: mlst small\\ testgroup/* > mlst.csv\n",
    "# ok all are s. agalactiae"
   ]
  },
  {
   "cell_type": "markdown",
   "metadata": {},
   "source": [
    "###### output\n",
    "GCA_000167715.1_ASM16771v1_genomic.fna\tsagalactiae\t-\tadhP(1)\tpheS(1)\tatr(174?)\tglnA(2)\tsdhA(2)glcK(2)\ttkt(2)\n"
   ]
  },
  {
   "cell_type": "markdown",
   "metadata": {},
   "source": [
    "Create listgenes_core.txt:\n",
    "\n",
    "remark for cgMLST: you need to provide -g \"Folder containing the reference genes of the schema\"  -> created during genome quality (here with 1265 loci) = \"Genes_95%.txt\"\n",
    "BUT you need to adjust this file to fit to the path where the files are situated (\"wgMLSTscheme\") \n",
    "\n",
    "PROBLEMS: difficult to make this work!!!!\n",
    "-> you need to have both the fasta file as the matching \"short\" fasta file in the folder. \n",
    "I tried to add full paths for a test-group of loci in the listgenes file but this did not work. only a direct reference to the correct folder (with the short files)"
   ]
  },
  {
   "cell_type": "code",
   "execution_count": null,
   "metadata": {},
   "outputs": [],
   "source": []
  },
  {
   "cell_type": "code",
   "execution_count": null,
   "metadata": {},
   "outputs": [],
   "source": [
    "#for whole wgMLST\n",
    "#BASH: chewBBACA.py AlleleCall -i xxx -g wgMLSTscheme/ -o results --cpu 3 --ptf FilesTutorial/Streptococcus_agalactiae.trn \n",
    "\n",
    "#for cgMLST\n",
    "#BASH : "
   ]
  }
 ],
 "metadata": {
  "kernelspec": {
   "display_name": "Bash",
   "language": "bash",
   "name": "bash"
  },
  "language_info": {
   "codemirror_mode": "shell",
   "file_extension": ".sh",
   "mimetype": "text/x-sh",
   "name": "bash"
  }
 },
 "nbformat": 4,
 "nbformat_minor": 2
}
