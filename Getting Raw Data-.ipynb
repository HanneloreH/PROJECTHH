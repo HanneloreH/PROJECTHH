{
 "cells": [
  {
   "cell_type": "markdown",
   "metadata": {},
   "source": [
    "# Getting raw data\n",
    "## 22/11/2019 \n",
    "\n",
    "### To use as test-set for the different tools I'll download raw WGS data of bacterial isolates via SRA. "
   ]
  },
  {
   "cell_type": "markdown",
   "metadata": {},
   "source": [
    "## DATA1: Illumina - MiSeq Data\n",
    "\n",
    "#### Selected DATA\n",
    "\n",
    "DAta Groningen: KPC9 clustering in Greece - 16 samples\n",
    "https://trace.ncbi.nlm.nih.gov/Traces/sra/sra.cgi?study=ERP020687\n",
    "\n",
    "Paper: https://www.clinicalmicrobiologyandinfection.com/article/S1198-743X(17)30680-8/pdf\n",
    "\n",
    "REMARK: numbers are ERR in stead of SRR (because submitted to European Archive EBI)\n",
    "\n",
    "Numbers:\n",
    "- ERR1795072 until ERR1795087\n",
    "https://trace.ncbi.nlm.nih.gov/Traces/sra/?run=ERR1795072\n"
   ]
  },
  {
   "cell_type": "markdown",
   "metadata": {},
   "source": [
    "#### in BASH/WEBBROWSER\n",
    "\n",
    "I wanted to install sratoolkit as described in BIT09 BUT it can not be installed in fedora -> need CentOS / Ubuntu...\n",
    "\n",
    "I can do the download with SRA explorer (https://ewels.github.io/sra-explorer/), do a search:\n",
    " * \"ERR179507* \"  -> select samples -> add to collection\n",
    " * \"ERR179508*\"  -> select samples -> add to collection\n",
    " \n",
    "In the saved datasets I can copy:\" BASH SCRIPT for downloading fastQ files\". \n",
    "- I save this file as \"rawData_ERP020687.sh\"\n",
    "- make the file executable : chmod u+x rawData_ERP020687.sh\n",
    "- Go to correct folder: cd ~/PROJECTHH/dataKP-raw\n",
    "- execute script bash ~/PROJECTHH/Scripts/rawData_ERP020687.sh\n",
    "\n",
    "\n",
    "#### REMARK: \n",
    "- The script was added to the directory Scripts\n",
    "- Directory Scripts was added to PATH in .bashrc:\n",
    "        #PATH = \"~/PROJECTHH/Scripts:$PATH\""
   ]
  },
  {
   "cell_type": "markdown",
   "metadata": {},
   "source": [
    "problems with server connection: some samples are not downloaded:\n",
    "#### OUTPUT = \n",
    "(base) [hannelore@localhost dataKP-raw]$ bash ~/PROJECTHH/Scripts/rawData_ERP020687.sh \n",
    "  % Total    % Received % Xferd  Average Speed   Time    Time     Time  Current\n",
    "                                 Dload  Upload   Total   Spent    Left  Speed\n",
    "100  142M  100  142M    0     0  5155k      0  0:00:28  0:00:28 --:--:-- 6627k\n",
    "  % Total    % Received % Xferd  Average Speed   Time    Time     Time  Current\n",
    "                                 Dload  Upload   Total   Spent    Left  Speed\n",
    "100  168M  100  168M    0     0  4789k      0  0:00:36  0:00:36 --:--:-- 6079k\n",
    "  % Total    % Received % Xferd  Average Speed   Time    Time     Time  Current\n",
    "                                 Dload  Upload   Total   Spent    Left  Speed\n",
    "  0     0    0     0    0     0      0      0 --:--:--  0:02:00 --:--:--     0\n",
    "curl: (28) server response timeout\n",
    "  % Total    % Received % Xferd  Average Speed   Time    Time     Time  Current\n",
    "                                 Dload  Upload   Total   Spent    Left  Speed\n",
    "  0     0    0     0    0     0      0      0 --:--:--  0:02:01 --:--:--     0\n",
    "curl: (28) server response timeout\n",
    "  % Total    % Received % Xferd  Average Speed   Time    Time     Time  Current\n",
    "                                 Dload  Upload   Total   Spent    Left  Speed\n",
    "100  210M  100  210M    0     0  4765k      0  0:00:45  0:00:45 --:--:-- 5078k\n",
    "  % Total    % Received % Xferd  Average Speed   Time    Time     Time  Current\n",
    "                                 Dload  Upload   Total   Spent    Left  Speed\n",
    "  0     0    0     0    0     0      0      0 --:--:--  0:02:00 --:--:--     0\n",
    "curl: (28) server response timeout\n",
    "  % Total    % Received % Xferd  Average Speed   Time    Time     Time  Current\n",
    "                                 Dload  Upload   Total   Spent    Left  Speed\n",
    "100  140M  100  140M    0     0  5412k      0  0:00:26  0:00:26 --:--:-- 9224k\n",
    "  % Total    % Received % Xferd  Average Speed   Time    Time     Time  Current\n",
    "                                 Dload  Upload   Total   Spent    Left  Speed\n",
    "100  159M  100  159M    0     0  4429k      0  0:00:36  0:00:36 --:--:-- 5292k\n",
    "  % Total    % Received % Xferd  Average Speed   Time    Time     Time  Current\n",
    "                                 Dload  Upload   Total   Spent    Left  Speed\n",
    "100  182M  100  182M    0     0  4127k      0  0:00:45  0:00:45 --:--:-- 5639k\n",
    "  % Total    % Received % Xferd  Average Speed   Time    Time     Time  Current\n",
    "                                 Dload  Upload   Total   Spent    Left  Speed\n",
    "100  201M  100  201M    0     0  3559k      0  0:00:58  0:00:58 --:--:-- 3674k\n",
    "  % Total    % Received % Xferd  Average Speed   Time    Time     Time  Current\n",
    "                                 Dload  Upload   Total   Spent    Left  Speed\n",
    "  0     0    0     0    0     0      0      0 --:--:--  0:02:01 --:--:--     0\n",
    "curl: (28) server response timeout\n",
    "  % Total    % Received % Xferd  Average Speed   Time    Time     Time  Current\n",
    "                                 Dload  Upload   Total   Spent    Left  Speed\n",
    "100  248M  100  248M    0     0  6898k      0  0:00:36  0:00:36 --:--:-- 8942k\n",
    "  % Total    % Received % Xferd  Average Speed   Time    Time     Time  Current\n",
    "                                 Dload  Upload   Total   Spent    Left  Speed\n",
    "100  169M  100  169M    0     0  6979k      0  0:00:24  0:00:24 --:--:-- 7709k\n",
    "  % Total    % Received % Xferd  Average Speed   Time    Time     Time  Current\n",
    "                                 Dload  Upload   Total   Spent    Left  Speed\n",
    "  0     0    0     0    0     0      0      0 --:--:--  0:02:00 --:--:--     0\n",
    "curl: (28) server response timeout\n",
    "  % Total    % Received % Xferd  Average Speed   Time    Time     Time  Current\n",
    "                                 Dload  Upload   Total   Spent    Left  Speed\n",
    "100  155M  100  155M    0     0  5112k      0  0:00:31  0:00:31 --:--:-- 8454k\n",
    "  % Total    % Received % Xferd  Average Speed   Time    Time     Time  Current\n",
    "                                 Dload  Upload   Total   Spent    Left  Speed\n",
    "100  179M  100  179M    0     0  6117k      0  0:00:30  0:00:30 --:--:-- 9555k\n",
    "  % Total    % Received % Xferd  Average Speed   Time    Time     Time  Current\n",
    "                                 Dload  Upload   Total   Spent    Left  Speed\n",
    "100  160M  100  160M    0     0  1248k      0  0:02:11  0:02:11 --:--:-- 4646k\n",
    "  % Total    % Received % Xferd  Average Speed   Time    Time     Time  Current\n",
    "                                 Dload  Upload   Total   Spent    Left  Speed\n",
    "100  190M  100  190M    0     0  6480k      0  0:00:30  0:00:30 --:--:-- 7545k\n",
    "  % Total    % Received % Xferd  Average Speed   Time    Time     Time  Current\n",
    "                                 Dload  Upload   Total   Spent    Left  Speed\n",
    "100  181M  100  181M    0     0  4472k      0  0:00:41  0:00:41 --:--:-- 9209k\n",
    "  % Total    % Received % Xferd  Average Speed   Time    Time     Time  Current\n",
    "                                 Dload  Upload   Total   Spent    Left  Speed\n",
    "  0     0    0     0    0     0      0      0 --:--:--  0:02:01 --:--:--     0\n",
    "curl: (28) server response timeout\n",
    "  % Total    % Received % Xferd  Average Speed   Time    Time     Time  Current\n",
    "                                 Dload  Upload   Total   Spent    Left  Speed\n",
    "  0     0    0     0    0     0      0      0 --:--:--  0:02:00 --:--:--     0\n",
    "curl: (28) server response timeout\n",
    "  % Total    % Received % Xferd  Average Speed   Time    Time     Time  Current\n",
    "                                 Dload  Upload   Total   Spent    Left  Speed\n",
    "100  151M  100  151M    0     0  4657k      0  0:00:33  0:00:33 --:--:-- 4757k\n",
    "  % Total    % Received % Xferd  Average Speed   Time    Time     Time  Current\n",
    "                                 Dload  Upload   Total   Spent    Left  Speed\n",
    "100  137M  100  137M    0     0  7161k      0  0:00:19  0:00:19 --:--:-- 8731k\n",
    "  % Total    % Received % Xferd  Average Speed   Time    Time     Time  Current\n",
    "                                 Dload  Upload   Total   Spent    Left  Speed\n",
    "100  156M  100  156M    0     0  7146k      0  0:00:22  0:00:22 --:--:-- 8444k\n",
    "  % Total    % Received % Xferd  Average Speed   Time    Time     Time  Current\n",
    "                                 Dload  Upload   Total   Spent    Left  Speed\n",
    "  0     0    0     0    0     0      0      0 --:--:--  0:02:00 --:--:--     0\n",
    "curl: (28) server response timeout\n",
    "  % Total    % Received % Xferd  Average Speed   Time    Time     Time  Current\n",
    "                                 Dload  Upload   Total   Spent    Left  Speed\n",
    "  0     0    0     0    0     0      0      0 --:--:--  0:02:00 --:--:--     0\n",
    "curl: (28) server response timeout\n",
    "  % Total    % Received % Xferd  Average Speed   Time    Time     Time  Current\n",
    "                                 Dload  Upload   Total   Spent    Left  Speed\n",
    "100  140M  100  140M    0     0  3144k      0  0:00:45  0:00:45 --:--:-- 3155k\n",
    "  % Total    % Received % Xferd  Average Speed   Time    Time     Time  Current\n",
    "                                 Dload  Upload   Total   Spent    Left  Speed\n",
    "100  161M  100  161M    0     0  3282k      0  0:00:50  0:00:50 --:--:-- 8254k\n",
    "  % Total    % Received % Xferd  Average Speed   Time    Time     Time  Current\n",
    "                                 Dload  Upload   Total   Spent    Left  Speed\n",
    "100  170M  100  170M    0     0  3205k      0  0:00:54  0:00:54 --:--:-- 6802k\n",
    "  % Total    % Received % Xferd  Average Speed   Time    Time     Time  Current\n",
    "                                 Dload  Upload   Total   Spent    Left  Speed\n",
    "100  197M  100  197M    0     0  1731k      0  0:01:57  0:01:57 --:--:-- 1304k\n",
    "  % Total    % Received % Xferd  Average Speed   Time    Time     Time  Current\n",
    "                                 Dload  Upload   Total   Spent    Left  Speed\n",
    "  0     0    0     0    0     0      0      0 --:--:--  0:02:00 --:--:--     0\n",
    "curl: (28) server response timeout\n",
    "  % Total    % Received % Xferd  Average Speed   Time    Time     Time  Current\n",
    "                                 Dload  Upload   Total   Spent    Left  Speed\n",
    "100  183M  100  183M    0     0  6137k      0  0:00:30  0:00:30 --:--:-- 8801k"
   ]
  },
  {
   "cell_type": "code",
   "execution_count": 1,
   "metadata": {},
   "outputs": [
    {
     "name": "stdout",
     "output_type": "stream",
     "text": [
      "\u001b[0m\u001b[38;5;9mERR1795072_Illumina_MiSeq_paired_end_sequencing_EXP-0-1-2017-01-13_14-47-56_1.fastq.gz\u001b[0m\u001b[K\n",
      "\u001b[38;5;9mERR1795073_Illumina_MiSeq_paired_end_sequencing_EXP-1-1-2017-01-13_14-47-56_1.fastq.gz\u001b[0m\u001b[K\n",
      "\u001b[38;5;9mERR1795073_Illumina_MiSeq_paired_end_sequencing_EXP-1-1-2017-01-13_14-47-56_2.fastq.gz\u001b[0m\u001b[K\n",
      "\u001b[38;5;9mERR1795075_Illumina_MiSeq_paired_end_sequencing_EXP-3-1-2017-01-13_14-47-56_1.fastq.gz\u001b[0m\u001b[K\n",
      "\u001b[38;5;9mERR1795075_Illumina_MiSeq_paired_end_sequencing_EXP-3-1-2017-01-13_14-47-56_2.fastq.gz\u001b[0m\u001b[K\n",
      "\u001b[38;5;9mERR1795076_Illumina_MiSeq_paired_end_sequencing_EXP-4-1-2017-01-13_14-47-56_1.fastq.gz\u001b[0m\u001b[K\n",
      "\u001b[38;5;9mERR1795076_Illumina_MiSeq_paired_end_sequencing_EXP-4-1-2017-01-13_14-47-56_2.fastq.gz\u001b[0m\u001b[K\n",
      "\u001b[38;5;9mERR1795077_Illumina_MiSeq_paired_end_sequencing_EXP-5-1-2017-01-13_14-47-56_2.fastq.gz\u001b[0m\u001b[K\n",
      "\u001b[38;5;9mERR1795078_Illumina_MiSeq_paired_end_sequencing_EXP-6-1-2017-01-13_14-47-56_1.fastq.gz\u001b[0m\u001b[K\n",
      "\u001b[38;5;9mERR1795079_Illumina_MiSeq_paired_end_sequencing_EXP-7-1-2017-01-13_14-47-56_2.fastq.gz\u001b[0m\u001b[K\n",
      "\u001b[38;5;9mERR1795080_Illumina_MiSeq_paired_end_sequencing_EXP-8-1-2017-01-13_14-47-56_1.fastq.gz\u001b[0m\u001b[K\n",
      "\u001b[38;5;9mERR1795081_Illumina_MiSeq_paired_end_sequencing_EXP-9-1-2017-01-13_14-47-56_1.fastq.gz\u001b[0m\u001b[K\n",
      "\u001b[38;5;9mERR1795081_Illumina_MiSeq_paired_end_sequencing_EXP-9-1-2017-01-13_14-47-56_2.fastq.gz\u001b[0m\u001b[K\n",
      "\u001b[38;5;9mERR1795082_Illumina_MiSeq_paired_end_sequencing_EXP-10-1-2017-01-13_14-47-56_1.fastq.gz\u001b[0m\u001b[K\n",
      "\u001b[38;5;9mERR1795082_Illumina_MiSeq_paired_end_sequencing_EXP-10-1-2017-01-13_14-47-56_2.fastq.gz\u001b[0m\u001b[K\n",
      "\u001b[38;5;9mERR1795083_Illumina_MiSeq_paired_end_sequencing_EXP-11-1-2017-01-13_14-47-56_1.fastq.gz\u001b[0m\u001b[K\n",
      "\u001b[38;5;9mERR1795083_Illumina_MiSeq_paired_end_sequencing_EXP-11-1-2017-01-13_14-47-56_2.fastq.gz\u001b[0m\u001b[K\n",
      "\u001b[38;5;9mERR1795085_Illumina_MiSeq_paired_end_sequencing_EXP-13-1-2017-01-13_14-47-56_1.fastq.gz\u001b[0m\u001b[K\n",
      "\u001b[38;5;9mERR1795085_Illumina_MiSeq_paired_end_sequencing_EXP-13-1-2017-01-13_14-47-56_2.fastq.gz\u001b[0m\u001b[K\n",
      "\u001b[38;5;9mERR1795086_Illumina_MiSeq_paired_end_sequencing_EXP-14-1-2017-01-13_14-47-56_1.fastq.gz\u001b[0m\u001b[K\n",
      "\u001b[38;5;9mERR1795086_Illumina_MiSeq_paired_end_sequencing_EXP-14-1-2017-01-13_14-47-56_2.fastq.gz\u001b[0m\u001b[K\n",
      "\u001b[38;5;9mERR1795087_Illumina_MiSeq_paired_end_sequencing_EXP-15-1-2017-01-13_14-47-56_2.fastq.gz\u001b[0m\u001b[K\n"
     ]
    }
   ],
   "source": [
    "#showing the downloaded data\n",
    "ls ~/PROJECTHH/dataKP-raw\n",
    "#only 22/32 samples (2*16) -> 10 missing"
   ]
  },
  {
   "cell_type": "code",
   "execution_count": 3,
   "metadata": {},
   "outputs": [
    {
     "name": "stdout",
     "output_type": "stream",
     "text": [
      "  % Total    % Received % Xferd  Average Speed   Time    Time     Time  Current\n",
      "                                 Dload  Upload   Total   Spent    Left  Speed\n",
      "100  163M  100  163M    0     0  2487k      0  0:01:07  0:01:07 --:--:-- 2798k\n",
      "  % Total    % Received % Xferd  Average Speed   Time    Time     Time  Current\n",
      "                                 Dload  Upload   Total   Spent    Left  Speed\n",
      "100  181M  100  181M    0     0  1522k      0  0:02:01  0:02:01 --:--:--  986k\n"
     ]
    }
   ],
   "source": [
    "#downloading missing  3/10\n",
    "#BASH: curl -L ftp://ftp.sra.ebi.ac.uk/vol1/fastq/ERR179/002/ERR1795072/ERR1795072_2.fastq.gz -o ERR1795072_Illumina_MiSeq_paired_end_sequencing_EXP-0-1-2017-01-13_14-47-56_2.fastq.gz\n",
    "cd ~/PROJECTHH/dataKP-raw\n",
    "curl -L ftp://ftp.sra.ebi.ac.uk/vol1/fastq/ERR179/004/ERR1795074/ERR1795074_1.fastq.gz -o ERR1795074_Illumina_MiSeq_paired_end_sequencing_EXP-2-1-2017-01-13_14-47-56_1.fastq.gz\n",
    "curl -L ftp://ftp.sra.ebi.ac.uk/vol1/fastq/ERR179/004/ERR1795074/ERR1795074_2.fastq.gz -o ERR1795074_Illumina_MiSeq_paired_end_sequencing_EXP-2-1-2017-01-13_14-47-56_2.fastq.gz\n",
    "\n"
   ]
  },
  {
   "cell_type": "code",
   "execution_count": 4,
   "metadata": {},
   "outputs": [
    {
     "name": "stdout",
     "output_type": "stream",
     "text": [
      "  % Total    % Received % Xferd  Average Speed   Time    Time     Time  Current\n",
      "                                 Dload  Upload   Total   Spent    Left  Speed\n",
      "100  218M  100  218M    0     0   655k      0  0:05:40  0:05:40 --:--:-- 2223k\n",
      "  % Total    % Received % Xferd  Average Speed   Time    Time     Time  Current\n",
      "                                 Dload  Upload   Total   Spent    Left  Speed\n",
      "100  213M  100  213M    0     0   843k      0  0:04:18  0:04:18 --:--:--  981k\n",
      "  % Total    % Received % Xferd  Average Speed   Time    Time     Time  Current\n",
      "                                 Dload  Upload   Total   Spent    Left  Speed\n",
      "100  131M  100  131M    0     0  1159k      0  0:01:56  0:01:56 --:--:-- 1231k\n",
      "  % Total    % Received % Xferd  Average Speed   Time    Time     Time  Current\n",
      "                                 Dload  Upload   Total   Spent    Left  Speed\n",
      "100  203M  100  203M    0     0   991k      0  0:03:30  0:03:30 --:--:--  782k\n",
      "  % Total    % Received % Xferd  Average Speed   Time    Time     Time  Current\n",
      "                                 Dload  Upload   Total   Spent    Left  Speed\n",
      "  0     0    0     0    0     0      0      0 --:--:--  0:02:01 --:--:--     0\n",
      "curl: (28) server response timeout\n",
      "  % Total    % Received % Xferd  Average Speed   Time    Time     Time  Current\n",
      "                                 Dload  Upload   Total   Spent    Left  Speed\n",
      "100  141M  100  141M    0     0  1223k      0  0:01:58  0:01:58 --:--:-- 1116k\n",
      "  % Total    % Received % Xferd  Average Speed   Time    Time     Time  Current\n",
      "                                 Dload  Upload   Total   Spent    Left  Speed\n",
      "100  159M  100  159M    0     0  1442k      0  0:01:53  0:01:53 --:--:-- 2352k\n"
     ]
    }
   ],
   "source": [
    "#downloading the rest 7/10\n",
    "curl -L ftp://ftp.sra.ebi.ac.uk/vol1/fastq/ERR179/007/ERR1795077/ERR1795077_1.fastq.gz -o ERR1795077_Illumina_MiSeq_paired_end_sequencing_EXP-5-1-2017-01-13_14-47-56_1.fastq.gz\n",
    "curl -L ftp://ftp.sra.ebi.ac.uk/vol1/fastq/ERR179/008/ERR1795078/ERR1795078_2.fastq.gz -o ERR1795078_Illumina_MiSeq_paired_end_sequencing_EXP-6-1-2017-01-13_14-47-56_2.fastq.gz\n",
    "curl -L ftp://ftp.sra.ebi.ac.uk/vol1/fastq/ERR179/009/ERR1795079/ERR1795079_1.fastq.gz -o ERR1795079_Illumina_MiSeq_paired_end_sequencing_EXP-7-1-2017-01-13_14-47-56_1.fastq.gz\n",
    "curl -L ftp://ftp.sra.ebi.ac.uk/vol1/fastq/ERR179/000/ERR1795080/ERR1795080_2.fastq.gz -o ERR1795080_Illumina_MiSeq_paired_end_sequencing_EXP-8-1-2017-01-13_14-47-56_2.fastq.gz\n",
    "curl -L ftp://ftp.sra.ebi.ac.uk/vol1/fastq/ERR179/004/ERR1795084/ERR1795084_1.fastq.gz -o ERR1795084_Illumina_MiSeq_paired_end_sequencing_EXP-12-1-2017-01-13_14-47-56_1.fastq.gz\n",
    "curl -L ftp://ftp.sra.ebi.ac.uk/vol1/fastq/ERR179/004/ERR1795084/ERR1795084_2.fastq.gz -o ERR1795084_Illumina_MiSeq_paired_end_sequencing_EXP-12-1-2017-01-13_14-47-56_2.fastq.gz\n",
    "curl -L ftp://ftp.sra.ebi.ac.uk/vol1/fastq/ERR179/007/ERR1795087/ERR1795087_1.fastq.gz -o ERR1795087_Illumina_MiSeq_paired_end_sequencing_EXP-15-1-2017-01-13_14-47-56_1.fastq.gz\n"
   ]
  },
  {
   "cell_type": "code",
   "execution_count": 5,
   "metadata": {},
   "outputs": [
    {
     "name": "stdout",
     "output_type": "stream",
     "text": [
      "  % Total    % Received % Xferd  Average Speed   Time    Time     Time  Current\n",
      "                                 Dload  Upload   Total   Spent    Left  Speed\n",
      "100  123M  100  123M    0     0  3010k      0  0:00:42  0:00:42 --:--:-- 3405k\n"
     ]
    }
   ],
   "source": [
    "#retry 2\n",
    "curl -L ftp://ftp.sra.ebi.ac.uk/vol1/fastq/ERR179/004/ERR1795084/ERR1795084_1.fastq.gz -o ERR1795084_Illumina_MiSeq_paired_end_sequencing_EXP-12-1-2017-01-13_14-47-56_1.fastq.gz"
   ]
  },
  {
   "cell_type": "code",
   "execution_count": 6,
   "metadata": {},
   "outputs": [
    {
     "name": "stdout",
     "output_type": "stream",
     "text": [
      "\u001b[0m\u001b[38;5;9mERR1795072_Illumina_MiSeq_paired_end_sequencing_EXP-0-1-2017-01-13_14-47-56_1.fastq.gz\u001b[0m\u001b[K\n",
      "\u001b[38;5;9mERR1795072_Illumina_MiSeq_paired_end_sequencing_EXP-0-1-2017-01-13_14-47-56_2.fastq.gz\u001b[0m\u001b[K\n",
      "\u001b[38;5;9mERR1795073_Illumina_MiSeq_paired_end_sequencing_EXP-1-1-2017-01-13_14-47-56_1.fastq.gz\u001b[0m\u001b[K\n",
      "\u001b[38;5;9mERR1795073_Illumina_MiSeq_paired_end_sequencing_EXP-1-1-2017-01-13_14-47-56_2.fastq.gz\u001b[0m\u001b[K\n",
      "\u001b[38;5;9mERR1795074_Illumina_MiSeq_paired_end_sequencing_EXP-2-1-2017-01-13_14-47-56_1.fastq.gz\u001b[0m\u001b[K\n",
      "\u001b[38;5;9mERR1795074_Illumina_MiSeq_paired_end_sequencing_EXP-2-1-2017-01-13_14-47-56_2.fastq.gz\u001b[0m\u001b[K\n",
      "\u001b[38;5;9mERR1795075_Illumina_MiSeq_paired_end_sequencing_EXP-3-1-2017-01-13_14-47-56_1.fastq.gz\u001b[0m\u001b[K\n",
      "\u001b[38;5;9mERR1795075_Illumina_MiSeq_paired_end_sequencing_EXP-3-1-2017-01-13_14-47-56_2.fastq.gz\u001b[0m\u001b[K\n",
      "\u001b[38;5;9mERR1795076_Illumina_MiSeq_paired_end_sequencing_EXP-4-1-2017-01-13_14-47-56_1.fastq.gz\u001b[0m\u001b[K\n",
      "\u001b[38;5;9mERR1795076_Illumina_MiSeq_paired_end_sequencing_EXP-4-1-2017-01-13_14-47-56_2.fastq.gz\u001b[0m\u001b[K\n",
      "\u001b[38;5;9mERR1795077_Illumina_MiSeq_paired_end_sequencing_EXP-5-1-2017-01-13_14-47-56_1.fastq.gz\u001b[0m\u001b[K\n",
      "\u001b[38;5;9mERR1795077_Illumina_MiSeq_paired_end_sequencing_EXP-5-1-2017-01-13_14-47-56_2.fastq.gz\u001b[0m\u001b[K\n",
      "\u001b[38;5;9mERR1795078_Illumina_MiSeq_paired_end_sequencing_EXP-6-1-2017-01-13_14-47-56_1.fastq.gz\u001b[0m\u001b[K\n",
      "\u001b[38;5;9mERR1795078_Illumina_MiSeq_paired_end_sequencing_EXP-6-1-2017-01-13_14-47-56_2.fastq.gz\u001b[0m\u001b[K\n",
      "\u001b[38;5;9mERR1795079_Illumina_MiSeq_paired_end_sequencing_EXP-7-1-2017-01-13_14-47-56_1.fastq.gz\u001b[0m\u001b[K\n",
      "\u001b[38;5;9mERR1795079_Illumina_MiSeq_paired_end_sequencing_EXP-7-1-2017-01-13_14-47-56_2.fastq.gz\u001b[0m\u001b[K\n",
      "\u001b[38;5;9mERR1795080_Illumina_MiSeq_paired_end_sequencing_EXP-8-1-2017-01-13_14-47-56_1.fastq.gz\u001b[0m\u001b[K\n",
      "\u001b[38;5;9mERR1795080_Illumina_MiSeq_paired_end_sequencing_EXP-8-1-2017-01-13_14-47-56_2.fastq.gz\u001b[0m\u001b[K\n",
      "\u001b[38;5;9mERR1795081_Illumina_MiSeq_paired_end_sequencing_EXP-9-1-2017-01-13_14-47-56_1.fastq.gz\u001b[0m\u001b[K\n",
      "\u001b[38;5;9mERR1795081_Illumina_MiSeq_paired_end_sequencing_EXP-9-1-2017-01-13_14-47-56_2.fastq.gz\u001b[0m\u001b[K\n",
      "\u001b[38;5;9mERR1795082_Illumina_MiSeq_paired_end_sequencing_EXP-10-1-2017-01-13_14-47-56_1.fastq.gz\u001b[0m\u001b[K\n",
      "\u001b[38;5;9mERR1795082_Illumina_MiSeq_paired_end_sequencing_EXP-10-1-2017-01-13_14-47-56_2.fastq.gz\u001b[0m\u001b[K\n",
      "\u001b[38;5;9mERR1795083_Illumina_MiSeq_paired_end_sequencing_EXP-11-1-2017-01-13_14-47-56_1.fastq.gz\u001b[0m\u001b[K\n",
      "\u001b[38;5;9mERR1795083_Illumina_MiSeq_paired_end_sequencing_EXP-11-1-2017-01-13_14-47-56_2.fastq.gz\u001b[0m\u001b[K\n",
      "\u001b[38;5;9mERR1795084_Illumina_MiSeq_paired_end_sequencing_EXP-12-1-2017-01-13_14-47-56_1.fastq.gz\u001b[0m\u001b[K\n",
      "\u001b[38;5;9mERR1795084_Illumina_MiSeq_paired_end_sequencing_EXP-12-1-2017-01-13_14-47-56_2.fastq.gz\u001b[0m\u001b[K\n",
      "\u001b[38;5;9mERR1795085_Illumina_MiSeq_paired_end_sequencing_EXP-13-1-2017-01-13_14-47-56_1.fastq.gz\u001b[0m\u001b[K\n",
      "\u001b[38;5;9mERR1795085_Illumina_MiSeq_paired_end_sequencing_EXP-13-1-2017-01-13_14-47-56_2.fastq.gz\u001b[0m\u001b[K\n",
      "\u001b[38;5;9mERR1795086_Illumina_MiSeq_paired_end_sequencing_EXP-14-1-2017-01-13_14-47-56_1.fastq.gz\u001b[0m\u001b[K\n",
      "\u001b[38;5;9mERR1795086_Illumina_MiSeq_paired_end_sequencing_EXP-14-1-2017-01-13_14-47-56_2.fastq.gz\u001b[0m\u001b[K\n",
      "\u001b[38;5;9mERR1795087_Illumina_MiSeq_paired_end_sequencing_EXP-15-1-2017-01-13_14-47-56_1.fastq.gz\u001b[0m\u001b[K\n",
      "\u001b[38;5;9mERR1795087_Illumina_MiSeq_paired_end_sequencing_EXP-15-1-2017-01-13_14-47-56_2.fastq.gz\u001b[0m\u001b[K\n"
     ]
    }
   ],
   "source": [
    "ls"
   ]
  },
  {
   "cell_type": "markdown",
   "metadata": {},
   "source": [
    "-> all data are downloaded and ready for use"
   ]
  }
 ],
 "metadata": {
  "kernelspec": {
   "display_name": "Bash",
   "language": "bash",
   "name": "bash"
  },
  "language_info": {
   "codemirror_mode": "shell",
   "file_extension": ".sh",
   "mimetype": "text/x-sh",
   "name": "bash"
  }
 },
 "nbformat": 4,
 "nbformat_minor": 2
}
