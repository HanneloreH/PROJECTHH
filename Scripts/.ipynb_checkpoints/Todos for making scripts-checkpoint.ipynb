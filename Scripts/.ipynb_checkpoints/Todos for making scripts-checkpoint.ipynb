{
 "cells": [
  {
   "cell_type": "markdown",
   "metadata": {},
   "source": [
    "# Todos for making scripts\n",
    "\n",
    "## 11/03/2020\n",
    "\n",
    "### Installing visual studio code"
   ]
  },
  {
   "cell_type": "code",
   "execution_count": null,
   "metadata": {},
   "outputs": [],
   "source": [
    "#download https://code.visualstudio.com/download: .rpm\n",
    "#BASH: sudo yum localinstall code-1.43.0-1583783294.el7.x86_64.rpm \n"
   ]
  }
 ],
 "metadata": {
  "kernelspec": {
   "display_name": "Bash",
   "language": "bash",
   "name": "bash"
  },
  "language_info": {
   "codemirror_mode": "shell",
   "file_extension": ".sh",
   "mimetype": "text/x-sh",
   "name": "bash"
  }
 },
 "nbformat": 4,
 "nbformat_minor": 2
}
