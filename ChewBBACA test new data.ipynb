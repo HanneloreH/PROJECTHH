{
 "cells": [
  {
   "cell_type": "markdown",
   "metadata": {},
   "source": [
    "# ChewBBACA test on new data\n",
    "## 11/03/2020\n",
    "\n",
    "Uitvoeren van ChewBBACA op test-data (niet- tutorial)\n",
    "\n",
    "\n",
    "### 1) Make sure everything is installed correctly"
   ]
  },
  {
   "cell_type": "code",
   "execution_count": null,
   "metadata": {},
   "outputs": [],
   "source": [
    "#INSTALLING (only once) python modules\n",
    "python -m pip install numpy\n",
    "python -m pip install scipy\n",
    "python -m pip install biopython\n",
    "python -m pip install plotly\n",
    "ython -m pip install SPARQLWrapper"
   ]
  },
  {
   "cell_type": "code",
   "execution_count": 13,
   "metadata": {},
   "outputs": [
    {
     "name": "stdout",
     "output_type": "stream",
     "text": [
      "2.0.17.2\n",
      "\n",
      "Prodigal V2.6.3: February, 2016\n",
      "\n",
      "blastp: 2.9.0+\n",
      " Package: blast 2.9.0, build Sep 28 2019 00:38:34\n",
      "Python 3.7.4\n",
      "1.18.1\n",
      "1.4.1\n",
      "1.76\n",
      "4.5.3\n",
      "1.8.5\n"
     ]
    }
   ],
   "source": [
    "#chewBBACA \n",
    "chewBBACA.py --version\n",
    "#prodigal >=2.6.0\n",
    "prodigal -v\n",
    "#blast+\n",
    "blastp -version\n",
    "#python\n",
    "python --version\n",
    "\n",
    "#numpy >=1.14.0\n",
    "python -c \"import numpy; print(numpy.__version__)\"\n",
    "#scipy >=0.13.3\n",
    "python -c \"import scipy; print(scipy.__version__)\"\n",
    "#biopython >=1.7\n",
    "python -c \"import Bio; print(Bio.__version__)\"\n",
    "#plotly >=1.12.9\n",
    "python -c \"import plotly; print(plotly.__version__)\"\n",
    "#SPARQLWrapper >=1.8.0\n",
    "python -c \"import SPARQLWrapper; print(SPARQLWrapper.__version__)\"\n"
   ]
  },
  {
   "cell_type": "markdown",
   "metadata": {},
   "source": [
    "-> Ok, all installations complete"
   ]
  },
  {
   "cell_type": "markdown",
   "metadata": {},
   "source": [
    "## 2) Get species specific training files for prodigal\n",
    "\n",
    "First look if the files are available for the species your looking at"
   ]
  },
  {
   "cell_type": "code",
   "execution_count": 15,
   "metadata": {},
   "outputs": [
    {
     "name": "stdout",
     "output_type": "stream",
     "text": [
      "Cloning into 'prodigal_training_files'...\n",
      "remote: Enumerating objects: 27, done.\u001b[K\n",
      "remote: Total 27 (delta 0), reused 0 (delta 0), pack-reused 27\u001b[K\n",
      "Unpacking objects: 100% (27/27), done.\n"
     ]
    }
   ],
   "source": [
    "cd ~/PROJECTHH\n",
    "#git clone https://github.com/mickaelsilva/prodigal_training_files\n",
    "#folder created in PROJECTHH \"prodigal_training_files\"\n",
    "cd prodigal_training_files\n",
    "mkdir mickaelsilva_training_files\n",
    "mv *.trn README.md mickaelsilva_training_files"
   ]
  },
  {
   "cell_type": "markdown",
   "metadata": {},
   "source": [
    "\n",
    "OR create a new training file"
   ]
  },
  {
   "cell_type": "code",
   "execution_count": null,
   "metadata": {},
   "outputs": [],
   "source": [
    "#get a reference genome\n",
    "mkdir referenceGenomes\n",
    "#BASH: pip install ncbi-genome-download\n",
    "#get all bacteria refseq genomes:\n",
    "ncbi-genome-download bacteria"
   ]
  },
  {
   "cell_type": "code",
   "execution_count": null,
   "metadata": {},
   "outputs": [],
   "source": [
    "# create your own training file based on the refseq genome you want\n",
    "# possibility: script to search for this RefSEq number (?)\n",
    "#e.g. K. pneumoniae = https://www.genome.jp/dbget-bin/www_bget?refseq+NC_009653 = GCF_000016305.1\n",
    "#BASH: prodigal -i /mydata/reference_genome.fasta -t Klebsiella_pneumoniae.trn -p single"
   ]
  },
  {
   "cell_type": "markdown",
   "metadata": {},
   "source": [
    "### 3) Set up folder\n"
   ]
  },
  {
   "cell_type": "code",
   "execution_count": null,
   "metadata": {},
   "outputs": [],
   "source": [
    "cd ~/PROJECTHH\n",
    "mkdir chewBBACA_run1\n",
    "cd chewBBACA_run1\n",
    "mkdir Genomes\n",
    "mkdir schema"
   ]
  },
  {
   "cell_type": "markdown",
   "metadata": {},
   "source": [
    "### 4) Check if fasta-files are in unix format\n",
    "how??"
   ]
  },
  {
   "cell_type": "code",
   "execution_count": null,
   "metadata": {},
   "outputs": [],
   "source": []
  },
  {
   "cell_type": "markdown",
   "metadata": {},
   "source": [
    "### 5) IF external schema"
   ]
  },
  {
   "cell_type": "code",
   "execution_count": null,
   "metadata": {},
   "outputs": [],
   "source": [
    "#convert the external schema \n",
    "#BASH: chewBBACA.py PrepExternalSchema -i <external_schema> -o <adapted_schema>"
   ]
  }
 ],
 "metadata": {
  "kernelspec": {
   "display_name": "Bash",
   "language": "bash",
   "name": "bash"
  },
  "language_info": {
   "codemirror_mode": "shell",
   "file_extension": ".sh",
   "mimetype": "text/x-sh",
   "name": "bash"
  }
 },
 "nbformat": 4,
 "nbformat_minor": 2
}
