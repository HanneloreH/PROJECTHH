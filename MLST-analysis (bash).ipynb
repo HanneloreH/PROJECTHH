{
 "cells": [
  {
   "cell_type": "markdown",
   "metadata": {},
   "source": [
    "# 15/11/2019 Checking Chewbbaca to do MLST analysis"
   ]
  },
  {
   "cell_type": "code",
   "execution_count": 1,
   "metadata": {},
   "outputs": [
    {
     "name": "stdout",
     "output_type": "stream",
     "text": [
      "bash: https://github.com/B-UMMI/chewBBACA_tutorial: No such file or directory\n"
     ]
    },
    {
     "ename": "",
     "evalue": "127",
     "output_type": "error",
     "traceback": []
    }
   ],
   "source": [
    "## Doing the tutorial\n",
    "https://github.com/B-UMMI/chewBBACA_tutorial"
   ]
  },
  {
   "cell_type": "code",
   "execution_count": null,
   "metadata": {},
   "outputs": [],
   "source": [
    "#in terminal\n",
    "\n",
    "#sudo pip3 install chewbacca\n",
    "#git clone https://github.com/B-UMMI/chewBBACA_tutorial #get all the files to do the tutorial"
   ]
  },
  {
   "cell_type": "code",
   "execution_count": 5,
   "metadata": {},
   "outputs": [
    {
     "name": "stdout",
     "output_type": "stream",
     "text": [
      " \u001b[0m\u001b[38;5;33mchewBBACA_tutorial\u001b[0m                'GIT - projectHH.ipynb'          readme.txt\n",
      " \u001b[38;5;33mdataKP-assembly\u001b[0m                   'MLST-analysis (bash).ipynb'\n",
      "'Getting and prepping data.ipynb'  'MLST analysis (python).ipynb'\n",
      "\u001b[0m\u001b[38;5;33manalysis_all\u001b[0m  \u001b[38;5;33mgenes\u001b[0m    info.tsv   \u001b[38;5;33mresults_all\u001b[0m  Streptococcus_agalactiae.trn\n",
      "\u001b[38;5;33manalysis_cg\u001b[0m   \u001b[38;5;33mgenomes\u001b[0m  README.md  \u001b[38;5;33mresults_cg\u001b[0m\n"
     ]
    }
   ],
   "source": [
    "ls\n",
    "cd chewBBACA_tutorial\n",
    "ls"
   ]
  },
  {
   "cell_type": "code",
   "execution_count": 6,
   "metadata": {},
   "outputs": [
    {
     "name": "stdout",
     "output_type": "stream",
     "text": [
      "Archive:  genomes/complete_genomes.zip\n",
      "   creating: complete_genomes/\n",
      "  inflating: complete_genomes/GCA_000007265.1_ASM726v1_genomic.fna  \n",
      "  inflating: complete_genomes/GCA_000012705.1_ASM1270v1_genomic.fna  \n",
      "  inflating: complete_genomes/GCA_000196055.1_ASM19605v1_genomic.fna  \n",
      "  inflating: complete_genomes/GCA_000299135.1_ASM29913v1_genomic.fna  \n",
      "  inflating: complete_genomes/GCA_000302475.2_ASM30247v2_genomic.fna  \n",
      "  inflating: complete_genomes/GCA_000427035.1_09mas018883_genomic.fna  \n",
      "  inflating: complete_genomes/GCA_000427055.1_ILRI112_genomic.fna  \n",
      "  inflating: complete_genomes/GCA_000427075.1_ILRI005_genomic.fna  \n",
      "  inflating: complete_genomes/GCA_000599965.1_ASM59996v1_genomic.fna  \n",
      "  inflating: complete_genomes/GCA_000636115.1_ASM63611v1_genomic.fna  \n",
      "  inflating: complete_genomes/GCA_000689235.1_GBCO_p1_genomic.fna  \n",
      "  inflating: complete_genomes/GCA_000730215.2_ASM73021v2_genomic.fna  \n",
      "  inflating: complete_genomes/GCA_000730255.1_ASM73025v1_genomic.fna  \n",
      "  inflating: complete_genomes/GCA_000782855.1_ASM78285v1_genomic.fna  \n",
      "  inflating: complete_genomes/GCA_000831105.1_ASM83110v1_genomic.fna  \n",
      "  inflating: complete_genomes/GCA_000831125.1_ASM83112v1_genomic.fna  \n",
      "  inflating: complete_genomes/GCA_000831145.1_ASM83114v1_genomic.fna  \n",
      "  inflating: complete_genomes/GCA_000967445.1_ASM96744v1_genomic.fna  \n",
      "  inflating: complete_genomes/GCA_001026925.1_ASM102692v1_genomic.fna  \n",
      "  inflating: complete_genomes/GCA_001190805.1_ASM119080v1_genomic.fna  \n",
      "  inflating: complete_genomes/GCA_001190825.1_ASM119082v1_genomic.fna  \n",
      "  inflating: complete_genomes/GCA_001190845.1_ASM119084v1_genomic.fna  \n",
      "  inflating: complete_genomes/GCA_001190865.1_ASM119086v1_genomic.fna  \n",
      "  inflating: complete_genomes/GCA_001190885.1_ASM119088v1_genomic.fna  \n",
      "  inflating: complete_genomes/GCA_001266635.1_ASM126663v1_genomic.fna  \n",
      "  inflating: complete_genomes/GCA_001275545.2_ASM127554v2_genomic.fna  \n",
      "  inflating: complete_genomes/GCA_001448985.1_ASM144898v1_genomic.fna  \n",
      "  inflating: complete_genomes/GCA_001552035.1_ASM155203v1_genomic.fna  \n",
      "  inflating: complete_genomes/GCA_001592385.1_ASM159238v1_genomic.fna  \n",
      "  inflating: complete_genomes/GCA_001592425.1_ASM159242v1_genomic.fna  \n",
      "  inflating: complete_genomes/GCA_001655175.1_ASM165517v1_genomic.fna  \n",
      "  inflating: complete_genomes/GCA_001683515.1_ASM168351v1_genomic.fna  \n"
     ]
    }
   ],
   "source": [
    "unzip genomes/complete_genomes.zip"
   ]
  },
  {
   "cell_type": "code",
   "execution_count": null,
   "metadata": {},
   "outputs": [],
   "source": [
    "#in terminal\n",
    "chewBBACA.py CreateSchema -i complete_genomes/ --cpu 4 -o schema_seed --ptf Streptococcus_agalactiae.trn #error missing prodigal files\n",
    "\n",
    "#is prodigal installed?\n",
    "sudo pip3 install prodigal #does not work\n",
    "sudo dnf install prodigal #does not work\n",
    "conda install -c bioconda prodigal #found package: installing\n",
    "\n",
    "#retry: succes!\n",
    "chewBBACA.py CreateSchema -i complete_genomes/ --cpu 4 -o schema_seed --ptf Streptococcus_agalactiae.trn"
   ]
  }
 ],
 "metadata": {
  "kernelspec": {
   "display_name": "Bash",
   "language": "bash",
   "name": "bash"
  },
  "language_info": {
   "codemirror_mode": "shell",
   "file_extension": ".sh",
   "mimetype": "text/x-sh",
   "name": "bash"
  }
 },
 "nbformat": 4,
 "nbformat_minor": 2
}
