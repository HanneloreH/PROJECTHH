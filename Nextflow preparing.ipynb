{
 "cells": [
  {
   "cell_type": "markdown",
   "metadata": {},
   "source": [
    "# Nextflow preparing\n",
    "\n",
    "## 12/03/2020\n",
    "\n",
    "### Installing \n",
    "Instructions from PPT BIT09-10-workflow-managers-cloud\n"
   ]
  },
  {
   "cell_type": "code",
   "execution_count": null,
   "metadata": {},
   "outputs": [],
   "source": [
    "#BASH: cd /opt/\n",
    "#BASH: wget -qO- https://get.nextflow.io | bash\n"
   ]
  },
  {
   "cell_type": "markdown",
   "metadata": {},
   "source": [
    "ERROR: Cannot download nextflow required file -- make sure you can connect to the internet\n",
    "\n",
    "Alternatively you can try to download this file:\n",
    "    https://www.nextflow.io/releases/v20.01.0/nextflow?a=install\n",
    "\n",
    "and save it as:\n",
    "    /opt/nextflow"
   ]
  },
  {
   "cell_type": "code",
   "execution_count": null,
   "metadata": {},
   "outputs": [],
   "source": [
    "# Move nextflow file to directory accessible by $PATH variable or symbolic link (optional) \n",
    "#BASH: cd /usr/local/bin\n",
    "#BASH: sudo ln -s /opt/nextflow nextflow\n"
   ]
  }
 ],
 "metadata": {
  "kernelspec": {
   "display_name": "Bash",
   "language": "bash",
   "name": "bash"
  },
  "language_info": {
   "codemirror_mode": "shell",
   "file_extension": ".sh",
   "mimetype": "text/x-sh",
   "name": "bash"
  }
 },
 "nbformat": 4,
 "nbformat_minor": 2
}
